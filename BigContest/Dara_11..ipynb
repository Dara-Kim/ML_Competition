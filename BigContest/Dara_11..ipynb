{
 "cells": [
  {
   "cell_type": "code",
   "execution_count": 1,
   "metadata": {
    "ExecuteTime": {
     "end_time": "2022-10-14T00:41:28.887638Z",
     "start_time": "2022-10-14T00:41:24.286948Z"
    }
   },
   "outputs": [],
   "source": [
    "from sklearn.cluster import KMeans \n",
    "from sklearn import preprocessing\n",
    "from sklearn.ensemble import RandomForestClassifier\n",
    "from sklearn.model_selection import train_test_split\n",
    "from sklearn.metrics import f1_score, confusion_matrix, ConfusionMatrixDisplay\n",
    "import pandas as pd\n",
    "import numpy as np\n",
    "import math\n",
    "import scipy as sp\n",
    "import seaborn as sns\n",
    "import matplotlib.pyplot as plt"
   ]
  },
  {
   "cell_type": "code",
   "execution_count": 2,
   "metadata": {
    "ExecuteTime": {
     "end_time": "2022-10-14T00:41:44.158757Z",
     "start_time": "2022-10-14T00:41:28.892044Z"
    }
   },
   "outputs": [
    {
     "name": "stderr",
     "output_type": "stream",
     "text": [
      "C:\\Anaconda\\lib\\site-packages\\numpy\\lib\\arraysetops.py:569: FutureWarning: elementwise comparison failed; returning scalar instead, but in the future will perform elementwise comparison\n",
      "  mask |= (ar1 == a)\n"
     ]
    }
   ],
   "source": [
    "ver = pd.read_csv('./data/merged_ver1_0.csv',index_col=0)"
   ]
  },
  {
   "cell_type": "code",
   "execution_count": 3,
   "metadata": {
    "ExecuteTime": {
     "end_time": "2022-10-14T00:41:46.326135Z",
     "start_time": "2022-10-14T00:41:44.158757Z"
    }
   },
   "outputs": [],
   "source": [
    "log = pd.read_csv('./data/hj_log_data.csv')"
   ]
  },
  {
   "cell_type": "code",
   "execution_count": 4,
   "metadata": {
    "ExecuteTime": {
     "end_time": "2022-10-14T00:41:47.068205Z",
     "start_time": "2022-10-14T00:41:46.326135Z"
    }
   },
   "outputs": [],
   "source": [
    "ver['loanapply_insert_time']=ver['loanapply_insert_time'].str[:10]"
   ]
  },
  {
   "cell_type": "code",
   "execution_count": 5,
   "metadata": {
    "ExecuteTime": {
     "end_time": "2022-10-14T00:41:48.543771Z",
     "start_time": "2022-10-14T00:41:47.068205Z"
    }
   },
   "outputs": [],
   "source": [
    "ver['a']=ver['user_id'].astype(str)+ver['loanapply_insert_time']"
   ]
  },
  {
   "cell_type": "code",
   "execution_count": 6,
   "metadata": {
    "ExecuteTime": {
     "end_time": "2022-10-14T00:41:50.305015Z",
     "start_time": "2022-10-14T00:41:48.543771Z"
    }
   },
   "outputs": [],
   "source": [
    "log['a']=log['user_id'].astype(str)+log['date_cd']"
   ]
  },
  {
   "cell_type": "code",
   "execution_count": 7,
   "metadata": {
    "ExecuteTime": {
     "end_time": "2022-10-14T00:41:55.943011Z",
     "start_time": "2022-10-14T00:41:50.305015Z"
    }
   },
   "outputs": [
    {
     "data": {
      "text/plain": [
       "(2399712, 40)"
      ]
     },
     "execution_count": 7,
     "metadata": {},
     "output_type": "execute_result"
    }
   ],
   "source": [
    "pd.merge(ver,log,on='a').shape"
   ]
  },
  {
   "cell_type": "code",
   "execution_count": 8,
   "metadata": {
    "ExecuteTime": {
     "end_time": "2022-10-14T00:41:57.158634Z",
     "start_time": "2022-10-14T00:41:55.945011Z"
    }
   },
   "outputs": [
    {
     "data": {
      "text/plain": [
       "index                                       0\n",
       "application_id                              0\n",
       "user_id                                     0\n",
       "birth_year                              20771\n",
       "gender                                  20771\n",
       "insert_time                                 0\n",
       "credit_score                           249504\n",
       "yearly_income                               0\n",
       "income_type                                 0\n",
       "company_enter_month                     58008\n",
       "employment_type                             0\n",
       "houseown_type                               0\n",
       "desired_amount                              0\n",
       "purpose                                     0\n",
       "personal_rehabilitation_yn             562201\n",
       "personal_rehabilitation_complete_yn    562201\n",
       "existing_loan_cnt                      514053\n",
       "existing_loan_amt                      744017\n",
       "loanapply_insert_time                       0\n",
       "bank_id                                     0\n",
       "product_id                                  0\n",
       "loan_limit                                  0\n",
       "loan_rate                                   0\n",
       "is_applied                             619682\n",
       "a                                           0\n",
       "dtype: int64"
      ]
     },
     "execution_count": 8,
     "metadata": {},
     "output_type": "execute_result"
    }
   ],
   "source": [
    "ver.isnull().sum()"
   ]
  },
  {
   "cell_type": "code",
   "execution_count": 9,
   "metadata": {
    "ExecuteTime": {
     "end_time": "2022-10-14T00:42:04.368689Z",
     "start_time": "2022-10-14T00:41:57.161596Z"
    }
   },
   "outputs": [
    {
     "data": {
      "text/plain": [
       "index                                       0\n",
       "application_id                              0\n",
       "user_id_x                                   0\n",
       "birth_year                              19257\n",
       "gender                                  19257\n",
       "insert_time                                 0\n",
       "credit_score                           147900\n",
       "yearly_income                               0\n",
       "income_type                                 0\n",
       "company_enter_month                     51046\n",
       "employment_type                             0\n",
       "houseown_type                               0\n",
       "desired_amount                              0\n",
       "purpose                                     0\n",
       "personal_rehabilitation_yn             486644\n",
       "personal_rehabilitation_complete_yn    486644\n",
       "existing_loan_cnt                      400162\n",
       "existing_loan_amt                      623421\n",
       "loanapply_insert_time                       0\n",
       "bank_id                                     0\n",
       "product_id                                  0\n",
       "loan_limit                                  0\n",
       "loan_rate                                   0\n",
       "is_applied                             588507\n",
       "a                                           0\n",
       "Unnamed: 0                                  0\n",
       "user_id_y                                   0\n",
       "date_cd                                     0\n",
       "n_events                                    0\n",
       "event_SignUp                                0\n",
       "event_OpenApp                               0\n",
       "event_Login                                 0\n",
       "event_ViewLoanApplyIntro                    0\n",
       "event_StartLoanApply                        0\n",
       "event_CompleteIDCertification               0\n",
       "event_EndLoanApply                          0\n",
       "event_UseLoanManage                         0\n",
       "event_UsePrepayCalc                         0\n",
       "event_UseDSRCalc                            0\n",
       "event_GetCreditInfo                         0\n",
       "dtype: int64"
      ]
     },
     "execution_count": 9,
     "metadata": {},
     "output_type": "execute_result"
    }
   ],
   "source": [
    "pd.merge(ver,log,on='a').isnull().sum()"
   ]
  },
  {
   "cell_type": "code",
   "execution_count": 10,
   "metadata": {
    "ExecuteTime": {
     "end_time": "2022-10-14T00:42:05.840547Z",
     "start_time": "2022-10-14T00:42:04.368689Z"
    }
   },
   "outputs": [],
   "source": [
    "ver['b']=ver['user_id'].astype(str)+ver['insert_time']"
   ]
  },
  {
   "cell_type": "code",
   "execution_count": 11,
   "metadata": {
    "ExecuteTime": {
     "end_time": "2022-10-14T00:42:05.857458Z",
     "start_time": "2022-10-14T00:42:05.842352Z"
    }
   },
   "outputs": [
    {
     "data": {
      "text/plain": [
       "(2728153, 16)"
      ]
     },
     "execution_count": 11,
     "metadata": {},
     "output_type": "execute_result"
    }
   ],
   "source": [
    "log.shape"
   ]
  },
  {
   "cell_type": "code",
   "execution_count": 12,
   "metadata": {
    "ExecuteTime": {
     "end_time": "2022-10-14T00:42:05.873454Z",
     "start_time": "2022-10-14T00:42:05.860414Z"
    }
   },
   "outputs": [
    {
     "data": {
      "text/plain": [
       "(2586455, 26)"
      ]
     },
     "execution_count": 12,
     "metadata": {},
     "output_type": "execute_result"
    }
   ],
   "source": [
    "ver.shape"
   ]
  },
  {
   "cell_type": "code",
   "execution_count": 13,
   "metadata": {
    "ExecuteTime": {
     "end_time": "2022-10-14T00:42:12.260491Z",
     "start_time": "2022-10-14T00:42:05.876412Z"
    }
   },
   "outputs": [],
   "source": [
    "a_set=set(pd.merge(ver,log,on='a')['a'])"
   ]
  },
  {
   "cell_type": "code",
   "execution_count": 14,
   "metadata": {
    "ExecuteTime": {
     "end_time": "2022-10-14T00:42:13.015130Z",
     "start_time": "2022-10-14T00:42:12.260491Z"
    }
   },
   "outputs": [
    {
     "data": {
      "text/plain": [
       "True"
      ]
     },
     "execution_count": 14,
     "metadata": {},
     "output_type": "execute_result"
    }
   ],
   "source": [
    "a_set.issubset(set(log['a']))"
   ]
  },
  {
   "cell_type": "code",
   "execution_count": 15,
   "metadata": {
    "ExecuteTime": {
     "end_time": "2022-10-14T00:42:13.907428Z",
     "start_time": "2022-10-14T00:42:13.015130Z"
    }
   },
   "outputs": [
    {
     "data": {
      "text/plain": [
       "False"
      ]
     },
     "execution_count": 15,
     "metadata": {},
     "output_type": "execute_result"
    }
   ],
   "source": [
    "set(log['a']).issubset(set(ver['a']))"
   ]
  },
  {
   "cell_type": "code",
   "execution_count": 16,
   "metadata": {
    "ExecuteTime": {
     "end_time": "2022-10-14T00:42:14.845924Z",
     "start_time": "2022-10-14T00:42:13.909857Z"
    }
   },
   "outputs": [
    {
     "data": {
      "text/plain": [
       "False"
      ]
     },
     "execution_count": 16,
     "metadata": {},
     "output_type": "execute_result"
    }
   ],
   "source": [
    "set(log['a']).issubset(set(ver['b']))"
   ]
  },
  {
   "cell_type": "code",
   "execution_count": 17,
   "metadata": {
    "ExecuteTime": {
     "end_time": "2022-10-14T00:42:15.932917Z",
     "start_time": "2022-10-14T00:42:14.848436Z"
    }
   },
   "outputs": [
    {
     "data": {
      "text/plain": [
       "2739721"
      ]
     },
     "execution_count": 17,
     "metadata": {},
     "output_type": "execute_result"
    }
   ],
   "source": [
    "len(set(log['a']) | (set(ver['a'])))"
   ]
  },
  {
   "cell_type": "code",
   "execution_count": 18,
   "metadata": {
    "ExecuteTime": {
     "end_time": "2022-10-14T00:42:16.039032Z",
     "start_time": "2022-10-14T00:42:15.945714Z"
    }
   },
   "outputs": [],
   "source": [
    "users=list(ver['user_id'].value_counts())"
   ]
  },
  {
   "cell_type": "code",
   "execution_count": 19,
   "metadata": {
    "ExecuteTime": {
     "end_time": "2022-10-14T00:43:13.754192Z",
     "start_time": "2022-10-14T00:42:16.040926Z"
    }
   },
   "outputs": [],
   "source": [
    "df_INNER_JOIN = pd.merge(log, ver, on='user_id', how='inner')"
   ]
  },
  {
   "cell_type": "code",
   "execution_count": 20,
   "metadata": {
    "ExecuteTime": {
     "end_time": "2022-10-14T00:45:06.638136Z",
     "start_time": "2022-10-14T00:43:13.785404Z"
    }
   },
   "outputs": [
    {
     "data": {
      "text/html": [
       "<div>\n",
       "<style scoped>\n",
       "    .dataframe tbody tr th:only-of-type {\n",
       "        vertical-align: middle;\n",
       "    }\n",
       "\n",
       "    .dataframe tbody tr th {\n",
       "        vertical-align: top;\n",
       "    }\n",
       "\n",
       "    .dataframe thead th {\n",
       "        text-align: right;\n",
       "    }\n",
       "</style>\n",
       "<table border=\"1\" class=\"dataframe\">\n",
       "  <thead>\n",
       "    <tr style=\"text-align: right;\">\n",
       "      <th></th>\n",
       "      <th>Unnamed: 0</th>\n",
       "      <th>user_id</th>\n",
       "      <th>date_cd</th>\n",
       "      <th>n_events</th>\n",
       "      <th>event_SignUp</th>\n",
       "      <th>event_OpenApp</th>\n",
       "      <th>event_Login</th>\n",
       "      <th>event_ViewLoanApplyIntro</th>\n",
       "      <th>event_StartLoanApply</th>\n",
       "      <th>event_CompleteIDCertification</th>\n",
       "      <th>...</th>\n",
       "      <th>existing_loan_cnt</th>\n",
       "      <th>existing_loan_amt</th>\n",
       "      <th>loanapply_insert_time</th>\n",
       "      <th>bank_id</th>\n",
       "      <th>product_id</th>\n",
       "      <th>loan_limit</th>\n",
       "      <th>loan_rate</th>\n",
       "      <th>is_applied</th>\n",
       "      <th>a_y</th>\n",
       "      <th>b</th>\n",
       "    </tr>\n",
       "  </thead>\n",
       "  <tbody>\n",
       "    <tr>\n",
       "      <th>0</th>\n",
       "      <td>3</td>\n",
       "      <td>9</td>\n",
       "      <td>2022-05-21</td>\n",
       "      <td>3</td>\n",
       "      <td>0</td>\n",
       "      <td>0</td>\n",
       "      <td>0</td>\n",
       "      <td>0</td>\n",
       "      <td>0</td>\n",
       "      <td>0</td>\n",
       "      <td>...</td>\n",
       "      <td>1.0</td>\n",
       "      <td>NaN</td>\n",
       "      <td>2022-05-21</td>\n",
       "      <td>38</td>\n",
       "      <td>134</td>\n",
       "      <td>16000000.0</td>\n",
       "      <td>7.5</td>\n",
       "      <td>0.0</td>\n",
       "      <td>92022-05-21</td>\n",
       "      <td>92022-05-21 23:41:09</td>\n",
       "    </tr>\n",
       "    <tr>\n",
       "      <th>1</th>\n",
       "      <td>3</td>\n",
       "      <td>9</td>\n",
       "      <td>2022-05-21</td>\n",
       "      <td>3</td>\n",
       "      <td>0</td>\n",
       "      <td>0</td>\n",
       "      <td>0</td>\n",
       "      <td>0</td>\n",
       "      <td>0</td>\n",
       "      <td>0</td>\n",
       "      <td>...</td>\n",
       "      <td>1.0</td>\n",
       "      <td>NaN</td>\n",
       "      <td>2022-05-21</td>\n",
       "      <td>59</td>\n",
       "      <td>150</td>\n",
       "      <td>20000000.0</td>\n",
       "      <td>15.0</td>\n",
       "      <td>0.0</td>\n",
       "      <td>92022-05-21</td>\n",
       "      <td>92022-05-21 23:41:09</td>\n",
       "    </tr>\n",
       "    <tr>\n",
       "      <th>2</th>\n",
       "      <td>3</td>\n",
       "      <td>9</td>\n",
       "      <td>2022-05-21</td>\n",
       "      <td>3</td>\n",
       "      <td>0</td>\n",
       "      <td>0</td>\n",
       "      <td>0</td>\n",
       "      <td>0</td>\n",
       "      <td>0</td>\n",
       "      <td>0</td>\n",
       "      <td>...</td>\n",
       "      <td>1.0</td>\n",
       "      <td>NaN</td>\n",
       "      <td>2022-05-21</td>\n",
       "      <td>59</td>\n",
       "      <td>251</td>\n",
       "      <td>16000000.0</td>\n",
       "      <td>6.5</td>\n",
       "      <td>0.0</td>\n",
       "      <td>92022-05-21</td>\n",
       "      <td>92022-05-21 23:41:09</td>\n",
       "    </tr>\n",
       "    <tr>\n",
       "      <th>3</th>\n",
       "      <td>3</td>\n",
       "      <td>9</td>\n",
       "      <td>2022-05-21</td>\n",
       "      <td>3</td>\n",
       "      <td>0</td>\n",
       "      <td>0</td>\n",
       "      <td>0</td>\n",
       "      <td>0</td>\n",
       "      <td>0</td>\n",
       "      <td>0</td>\n",
       "      <td>...</td>\n",
       "      <td>1.0</td>\n",
       "      <td>NaN</td>\n",
       "      <td>2022-05-21</td>\n",
       "      <td>27</td>\n",
       "      <td>148</td>\n",
       "      <td>16000000.0</td>\n",
       "      <td>7.0</td>\n",
       "      <td>0.0</td>\n",
       "      <td>92022-05-21</td>\n",
       "      <td>92022-05-21 23:41:09</td>\n",
       "    </tr>\n",
       "    <tr>\n",
       "      <th>4</th>\n",
       "      <td>3</td>\n",
       "      <td>9</td>\n",
       "      <td>2022-05-21</td>\n",
       "      <td>3</td>\n",
       "      <td>0</td>\n",
       "      <td>0</td>\n",
       "      <td>0</td>\n",
       "      <td>0</td>\n",
       "      <td>0</td>\n",
       "      <td>0</td>\n",
       "      <td>...</td>\n",
       "      <td>1.0</td>\n",
       "      <td>NaN</td>\n",
       "      <td>2022-05-21</td>\n",
       "      <td>35</td>\n",
       "      <td>168</td>\n",
       "      <td>28000000.0</td>\n",
       "      <td>16.8</td>\n",
       "      <td>0.0</td>\n",
       "      <td>92022-05-21</td>\n",
       "      <td>92022-05-21 23:41:09</td>\n",
       "    </tr>\n",
       "    <tr>\n",
       "      <th>...</th>\n",
       "      <td>...</td>\n",
       "      <td>...</td>\n",
       "      <td>...</td>\n",
       "      <td>...</td>\n",
       "      <td>...</td>\n",
       "      <td>...</td>\n",
       "      <td>...</td>\n",
       "      <td>...</td>\n",
       "      <td>...</td>\n",
       "      <td>...</td>\n",
       "      <td>...</td>\n",
       "      <td>...</td>\n",
       "      <td>...</td>\n",
       "      <td>...</td>\n",
       "      <td>...</td>\n",
       "      <td>...</td>\n",
       "      <td>...</td>\n",
       "      <td>...</td>\n",
       "      <td>...</td>\n",
       "      <td>...</td>\n",
       "      <td>...</td>\n",
       "    </tr>\n",
       "    <tr>\n",
       "      <th>29009800</th>\n",
       "      <td>524194</td>\n",
       "      <td>169190</td>\n",
       "      <td>2022-03-30</td>\n",
       "      <td>2</td>\n",
       "      <td>0</td>\n",
       "      <td>0</td>\n",
       "      <td>0</td>\n",
       "      <td>0</td>\n",
       "      <td>0</td>\n",
       "      <td>0</td>\n",
       "      <td>...</td>\n",
       "      <td>1.0</td>\n",
       "      <td>5000000.0</td>\n",
       "      <td>2022-03-30</td>\n",
       "      <td>63</td>\n",
       "      <td>226</td>\n",
       "      <td>10000000.0</td>\n",
       "      <td>18.7</td>\n",
       "      <td>0.0</td>\n",
       "      <td>1691902022-03-30</td>\n",
       "      <td>1691902022-03-30 08:04:55</td>\n",
       "    </tr>\n",
       "    <tr>\n",
       "      <th>29009801</th>\n",
       "      <td>524194</td>\n",
       "      <td>169190</td>\n",
       "      <td>2022-03-30</td>\n",
       "      <td>2</td>\n",
       "      <td>0</td>\n",
       "      <td>0</td>\n",
       "      <td>0</td>\n",
       "      <td>0</td>\n",
       "      <td>0</td>\n",
       "      <td>0</td>\n",
       "      <td>...</td>\n",
       "      <td>1.0</td>\n",
       "      <td>5000000.0</td>\n",
       "      <td>2022-03-30</td>\n",
       "      <td>36</td>\n",
       "      <td>103</td>\n",
       "      <td>12000000.0</td>\n",
       "      <td>8.9</td>\n",
       "      <td>0.0</td>\n",
       "      <td>1691902022-03-30</td>\n",
       "      <td>1691902022-03-30 08:04:55</td>\n",
       "    </tr>\n",
       "    <tr>\n",
       "      <th>29009802</th>\n",
       "      <td>524194</td>\n",
       "      <td>169190</td>\n",
       "      <td>2022-03-30</td>\n",
       "      <td>2</td>\n",
       "      <td>0</td>\n",
       "      <td>0</td>\n",
       "      <td>0</td>\n",
       "      <td>0</td>\n",
       "      <td>0</td>\n",
       "      <td>0</td>\n",
       "      <td>...</td>\n",
       "      <td>1.0</td>\n",
       "      <td>5000000.0</td>\n",
       "      <td>2022-03-30</td>\n",
       "      <td>19</td>\n",
       "      <td>127</td>\n",
       "      <td>12000000.0</td>\n",
       "      <td>9.4</td>\n",
       "      <td>0.0</td>\n",
       "      <td>1691902022-03-30</td>\n",
       "      <td>1691902022-03-30 08:04:55</td>\n",
       "    </tr>\n",
       "    <tr>\n",
       "      <th>29009803</th>\n",
       "      <td>524194</td>\n",
       "      <td>169190</td>\n",
       "      <td>2022-03-30</td>\n",
       "      <td>2</td>\n",
       "      <td>0</td>\n",
       "      <td>0</td>\n",
       "      <td>0</td>\n",
       "      <td>0</td>\n",
       "      <td>0</td>\n",
       "      <td>0</td>\n",
       "      <td>...</td>\n",
       "      <td>1.0</td>\n",
       "      <td>5000000.0</td>\n",
       "      <td>2022-03-30</td>\n",
       "      <td>49</td>\n",
       "      <td>136</td>\n",
       "      <td>12000000.0</td>\n",
       "      <td>6.5</td>\n",
       "      <td>0.0</td>\n",
       "      <td>1691902022-03-30</td>\n",
       "      <td>1691902022-03-30 08:04:55</td>\n",
       "    </tr>\n",
       "    <tr>\n",
       "      <th>29009804</th>\n",
       "      <td>524194</td>\n",
       "      <td>169190</td>\n",
       "      <td>2022-03-30</td>\n",
       "      <td>2</td>\n",
       "      <td>0</td>\n",
       "      <td>0</td>\n",
       "      <td>0</td>\n",
       "      <td>0</td>\n",
       "      <td>0</td>\n",
       "      <td>0</td>\n",
       "      <td>...</td>\n",
       "      <td>1.0</td>\n",
       "      <td>5000000.0</td>\n",
       "      <td>2022-03-30</td>\n",
       "      <td>63</td>\n",
       "      <td>184</td>\n",
       "      <td>12000000.0</td>\n",
       "      <td>6.9</td>\n",
       "      <td>0.0</td>\n",
       "      <td>1691902022-03-30</td>\n",
       "      <td>1691902022-03-30 08:04:55</td>\n",
       "    </tr>\n",
       "  </tbody>\n",
       "</table>\n",
       "<p>29009805 rows × 41 columns</p>\n",
       "</div>"
      ],
      "text/plain": [
       "          Unnamed: 0  user_id     date_cd  n_events  event_SignUp  \\\n",
       "0                  3        9  2022-05-21         3             0   \n",
       "1                  3        9  2022-05-21         3             0   \n",
       "2                  3        9  2022-05-21         3             0   \n",
       "3                  3        9  2022-05-21         3             0   \n",
       "4                  3        9  2022-05-21         3             0   \n",
       "...              ...      ...         ...       ...           ...   \n",
       "29009800      524194   169190  2022-03-30         2             0   \n",
       "29009801      524194   169190  2022-03-30         2             0   \n",
       "29009802      524194   169190  2022-03-30         2             0   \n",
       "29009803      524194   169190  2022-03-30         2             0   \n",
       "29009804      524194   169190  2022-03-30         2             0   \n",
       "\n",
       "          event_OpenApp  event_Login  event_ViewLoanApplyIntro  \\\n",
       "0                     0            0                         0   \n",
       "1                     0            0                         0   \n",
       "2                     0            0                         0   \n",
       "3                     0            0                         0   \n",
       "4                     0            0                         0   \n",
       "...                 ...          ...                       ...   \n",
       "29009800              0            0                         0   \n",
       "29009801              0            0                         0   \n",
       "29009802              0            0                         0   \n",
       "29009803              0            0                         0   \n",
       "29009804              0            0                         0   \n",
       "\n",
       "          event_StartLoanApply  event_CompleteIDCertification  ...  \\\n",
       "0                            0                              0  ...   \n",
       "1                            0                              0  ...   \n",
       "2                            0                              0  ...   \n",
       "3                            0                              0  ...   \n",
       "4                            0                              0  ...   \n",
       "...                        ...                            ...  ...   \n",
       "29009800                     0                              0  ...   \n",
       "29009801                     0                              0  ...   \n",
       "29009802                     0                              0  ...   \n",
       "29009803                     0                              0  ...   \n",
       "29009804                     0                              0  ...   \n",
       "\n",
       "          existing_loan_cnt  existing_loan_amt  loanapply_insert_time  \\\n",
       "0                       1.0                NaN             2022-05-21   \n",
       "1                       1.0                NaN             2022-05-21   \n",
       "2                       1.0                NaN             2022-05-21   \n",
       "3                       1.0                NaN             2022-05-21   \n",
       "4                       1.0                NaN             2022-05-21   \n",
       "...                     ...                ...                    ...   \n",
       "29009800                1.0          5000000.0             2022-03-30   \n",
       "29009801                1.0          5000000.0             2022-03-30   \n",
       "29009802                1.0          5000000.0             2022-03-30   \n",
       "29009803                1.0          5000000.0             2022-03-30   \n",
       "29009804                1.0          5000000.0             2022-03-30   \n",
       "\n",
       "          bank_id  product_id  loan_limit  loan_rate  is_applied  \\\n",
       "0              38         134  16000000.0        7.5         0.0   \n",
       "1              59         150  20000000.0       15.0         0.0   \n",
       "2              59         251  16000000.0        6.5         0.0   \n",
       "3              27         148  16000000.0        7.0         0.0   \n",
       "4              35         168  28000000.0       16.8         0.0   \n",
       "...           ...         ...         ...        ...         ...   \n",
       "29009800       63         226  10000000.0       18.7         0.0   \n",
       "29009801       36         103  12000000.0        8.9         0.0   \n",
       "29009802       19         127  12000000.0        9.4         0.0   \n",
       "29009803       49         136  12000000.0        6.5         0.0   \n",
       "29009804       63         184  12000000.0        6.9         0.0   \n",
       "\n",
       "                       a_y                          b  \n",
       "0              92022-05-21       92022-05-21 23:41:09  \n",
       "1              92022-05-21       92022-05-21 23:41:09  \n",
       "2              92022-05-21       92022-05-21 23:41:09  \n",
       "3              92022-05-21       92022-05-21 23:41:09  \n",
       "4              92022-05-21       92022-05-21 23:41:09  \n",
       "...                    ...                        ...  \n",
       "29009800  1691902022-03-30  1691902022-03-30 08:04:55  \n",
       "29009801  1691902022-03-30  1691902022-03-30 08:04:55  \n",
       "29009802  1691902022-03-30  1691902022-03-30 08:04:55  \n",
       "29009803  1691902022-03-30  1691902022-03-30 08:04:55  \n",
       "29009804  1691902022-03-30  1691902022-03-30 08:04:55  \n",
       "\n",
       "[29009805 rows x 41 columns]"
      ]
     },
     "execution_count": 20,
     "metadata": {},
     "output_type": "execute_result"
    }
   ],
   "source": [
    "df_INNER_JOIN"
   ]
  },
  {
   "cell_type": "code",
   "execution_count": 21,
   "metadata": {
    "ExecuteTime": {
     "end_time": "2022-10-14T00:47:00.430399Z",
     "start_time": "2022-10-14T00:45:06.653762Z"
    }
   },
   "outputs": [
    {
     "data": {
      "text/plain": [
       "Unnamed: 0                                   0\n",
       "user_id                                      0\n",
       "date_cd                                      0\n",
       "n_events                                     0\n",
       "event_SignUp                                 0\n",
       "event_OpenApp                                0\n",
       "event_Login                                  0\n",
       "event_ViewLoanApplyIntro                     0\n",
       "event_StartLoanApply                         0\n",
       "event_CompleteIDCertification                0\n",
       "event_EndLoanApply                           0\n",
       "event_UseLoanManage                          0\n",
       "event_UsePrepayCalc                          0\n",
       "event_UseDSRCalc                             0\n",
       "event_GetCreditInfo                          0\n",
       "a_x                                          0\n",
       "index                                        0\n",
       "application_id                               0\n",
       "birth_year                               43066\n",
       "gender                                   43066\n",
       "insert_time                                  0\n",
       "credit_score                            458961\n",
       "yearly_income                                0\n",
       "income_type                                  0\n",
       "company_enter_month                     410638\n",
       "employment_type                              0\n",
       "houseown_type                                0\n",
       "desired_amount                               0\n",
       "purpose                                      0\n",
       "personal_rehabilitation_yn             2862709\n",
       "personal_rehabilitation_complete_yn    2862709\n",
       "existing_loan_cnt                      1726627\n",
       "existing_loan_amt                      4994410\n",
       "loanapply_insert_time                        0\n",
       "bank_id                                      0\n",
       "product_id                                   0\n",
       "loan_limit                                   0\n",
       "loan_rate                                    0\n",
       "is_applied                             6347379\n",
       "a_y                                          0\n",
       "b                                            0\n",
       "dtype: int64"
      ]
     },
     "execution_count": 21,
     "metadata": {},
     "output_type": "execute_result"
    }
   ],
   "source": [
    "df_INNER_JOIN.isnull().sum()"
   ]
  },
  {
   "cell_type": "code",
   "execution_count": 22,
   "metadata": {
    "ExecuteTime": {
     "end_time": "2022-10-14T00:47:02.034357Z",
     "start_time": "2022-10-14T00:47:02.007396Z"
    },
    "scrolled": true
   },
   "outputs": [
    {
     "data": {
      "text/plain": [
       "Index(['Unnamed: 0', 'user_id', 'date_cd', 'n_events', 'event_SignUp',\n",
       "       'event_OpenApp', 'event_Login', 'event_ViewLoanApplyIntro',\n",
       "       'event_StartLoanApply', 'event_CompleteIDCertification',\n",
       "       'event_EndLoanApply', 'event_UseLoanManage', 'event_UsePrepayCalc',\n",
       "       'event_UseDSRCalc', 'event_GetCreditInfo', 'a_x', 'index',\n",
       "       'application_id', 'birth_year', 'gender', 'insert_time', 'credit_score',\n",
       "       'yearly_income', 'income_type', 'company_enter_month',\n",
       "       'employment_type', 'houseown_type', 'desired_amount', 'purpose',\n",
       "       'personal_rehabilitation_yn', 'personal_rehabilitation_complete_yn',\n",
       "       'existing_loan_cnt', 'existing_loan_amt', 'loanapply_insert_time',\n",
       "       'bank_id', 'product_id', 'loan_limit', 'loan_rate', 'is_applied', 'a_y',\n",
       "       'b'],\n",
       "      dtype='object')"
      ]
     },
     "execution_count": 22,
     "metadata": {},
     "output_type": "execute_result"
    }
   ],
   "source": [
    "df_INNER_JOIN.columns"
   ]
  },
  {
   "cell_type": "code",
   "execution_count": 23,
   "metadata": {
    "ExecuteTime": {
     "end_time": "2022-10-14T00:55:49.173007Z",
     "start_time": "2022-10-14T00:55:18.343699Z"
    }
   },
   "outputs": [],
   "source": [
    "points = df_INNER_JOIN[['date_cd', 'n_events', 'event_ViewLoanApplyIntro',\\\n",
    "        'event_StartLoanApply', 'event_CompleteIDCertification','event_EndLoanApply',\\\n",
    "        'event_UseLoanManage','event_UseLoanManage','event_UsePrepayCalc',\\\n",
    "        'event_UseDSRCalc','event_GetCreditInfo','a_x','birth_year','gender',\\\n",
    "        'credit_score','yearly_income','income_type','company_enter_month',\\\n",
    "        'employment_type','houseown_type','desired_amount','purpose','personal_rehabilitation_yn',\\\n",
    "        'personal_rehabilitation_complete_yn','existing_loan_cnt','existing_loan_amt',\\\n",
    "        'bank_id','product_id','loan_limit','loan_rate', 'is_applied','a_y']]"
   ]
  },
  {
   "cell_type": "code",
   "execution_count": 24,
   "metadata": {
    "ExecuteTime": {
     "end_time": "2022-10-14T00:57:53.324514Z",
     "start_time": "2022-10-14T00:57:49.053626Z"
    }
   },
   "outputs": [],
   "source": [
    "idx = points[(points['existing_loan_amt'].isnull() == True) & (points['existing_loan_cnt'] == 1)].index"
   ]
  },
  {
   "cell_type": "code",
   "execution_count": 25,
   "metadata": {
    "ExecuteTime": {
     "end_time": "2022-10-14T00:58:04.253714Z",
     "start_time": "2022-10-14T00:57:53.324514Z"
    }
   },
   "outputs": [
    {
     "name": "stderr",
     "output_type": "stream",
     "text": [
      "C:\\Anaconda\\lib\\site-packages\\pandas\\core\\indexing.py:965: SettingWithCopyWarning: \n",
      "A value is trying to be set on a copy of a slice from a DataFrame.\n",
      "Try using .loc[row_indexer,col_indexer] = value instead\n",
      "\n",
      "See the caveats in the documentation: https://pandas.pydata.org/pandas-docs/stable/user_guide/indexing.html#returning-a-view-versus-a-copy\n",
      "  self.obj[item] = s\n"
     ]
    }
   ],
   "source": [
    "idx = points[(points['existing_loan_cnt'].isnull() == True)].index\n",
    "points.loc[idx, ['existing_loan_cnt', 'existing_loan_amt']] = 0"
   ]
  },
  {
   "cell_type": "code",
   "execution_count": 26,
   "metadata": {
    "ExecuteTime": {
     "end_time": "2022-10-14T00:59:03.525121Z",
     "start_time": "2022-10-14T00:58:04.289760Z"
    }
   },
   "outputs": [
    {
     "name": "stderr",
     "output_type": "stream",
     "text": [
      "C:\\Anaconda\\lib\\site-packages\\ipykernel_launcher.py:1: SettingWithCopyWarning: \n",
      "A value is trying to be set on a copy of a slice from a DataFrame\n",
      "\n",
      "See the caveats in the documentation: https://pandas.pydata.org/pandas-docs/stable/user_guide/indexing.html#returning-a-view-versus-a-copy\n",
      "  \"\"\"Entry point for launching an IPython kernel.\n"
     ]
    }
   ],
   "source": [
    "points.dropna(inplace=True)"
   ]
  },
  {
   "cell_type": "code",
   "execution_count": 27,
   "metadata": {
    "ExecuteTime": {
     "end_time": "2022-10-14T00:59:06.161905Z",
     "start_time": "2022-10-14T00:59:03.525121Z"
    }
   },
   "outputs": [],
   "source": [
    "processed_data = points[points['is_applied'] == 1].copy()\n",
    "feature = processed_data[['credit_score', 'loan_rate']]"
   ]
  },
  {
   "cell_type": "code",
   "execution_count": 28,
   "metadata": {
    "ExecuteTime": {
     "end_time": "2022-10-14T00:59:11.932726Z",
     "start_time": "2022-10-14T00:59:06.161905Z"
    }
   },
   "outputs": [],
   "source": [
    "model = KMeans(n_clusters = 3)\n",
    "ids = model.fit_predict(feature)\n",
    "predict = pd.DataFrame(model.predict(feature))\n",
    "predict.columns=['predict']"
   ]
  },
  {
   "cell_type": "code",
   "execution_count": 30,
   "metadata": {
    "ExecuteTime": {
     "end_time": "2022-10-14T00:59:42.863651Z",
     "start_time": "2022-10-14T00:59:12.380493Z"
    }
   },
   "outputs": [
    {
     "data": {
      "image/png": "[encoded data removed]",
      "text/plain": [
       "<Figure size 432x288 with 1 Axes>"
      ]
     },
     "metadata": {
      "needs_background": "light"
     },
     "output_type": "display_data"
    }
   ],
   "source": [
    "plt.title(\"K value = {}\".format(3))\n",
    "plt.xlabel('credit_score')\n",
    "plt.ylabel('loan_rate')\n",
    "plt.scatter(processed_data['credit_score'], processed_data['loan_rate'], c=ids)  \n",
    "plt.show()"
   ]
  },
  {
   "cell_type": "code",
   "execution_count": 31,
   "metadata": {
    "ExecuteTime": {
     "end_time": "2022-10-14T01:05:12.014168Z",
     "start_time": "2022-10-14T01:05:11.999202Z"
    }
   },
   "outputs": [],
   "source": [
    "def clustering(app, name, f1, f2):\n",
    "    feature = points[points['is_applied'] == app].copy()[['credit_score', 'loan_rate']]\n",
    "    model = KMeans(n_clusters = 3)\n",
    "    ids = model.fit_predict(feature)\n",
    "    predict = pd.DataFrame(model.predict(feature))\n",
    "    predict.columns=['predict']\n",
    "    plt.title(f\"K value = {name}\")\n",
    "    plt.xlabel(f1)\n",
    "    plt.ylabel(f2)\n",
    "    plt.scatter(points[points['is_applied'] == app].copy()[f1], points[points['is_applied'] == app].copy()[f2], c=ids)\n",
    "    plt.savefig(f'./visual2/{name}.jpg')\n",
    "    plt.show()"
   ]
  },
  {
   "cell_type": "code",
   "execution_count": null,
   "metadata": {
    "ExecuteTime": {
     "start_time": "2022-10-14T01:07:43.658Z"
    }
   },
   "outputs": [],
   "source": [
    "for p1 in points:\n",
    "    for p2 in points:\n",
    "        name = p1 +'+'+ p2\n",
    "        clustering(0, name, p1,p2)\n",
    "        clustering(1, name, p1,p2)"
   ]
  },
  {
   "cell_type": "code",
   "execution_count": null,
   "metadata": {},
   "outputs": [],
   "source": []
  }
 ],
 "metadata": {
  "kernelspec": {
   "display_name": "Python 3",
   "language": "python",
   "name": "python3"
  },
  "language_info": {
   "codemirror_mode": {
    "name": "ipython",
    "version": 3
   },
   "file_extension": ".py",
   "mimetype": "text/x-python",
   "name": "python",
   "nbconvert_exporter": "python",
   "pygments_lexer": "ipython3",
   "version": "3.7.6"
  },
  "toc": {
   "base_numbering": 1,
   "nav_menu": {},
   "number_sections": true,
   "sideBar": true,
   "skip_h1_title": false,
   "title_cell": "Table of Contents",
   "title_sidebar": "Contents",
   "toc_cell": false,
   "toc_position": {},
   "toc_section_display": true,
   "toc_window_display": false
  }
 },
 "nbformat": 4,
 "nbformat_minor": 4
}
