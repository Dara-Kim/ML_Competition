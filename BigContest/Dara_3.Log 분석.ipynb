{
 "cells": [
  {
   "cell_type": "code",
   "execution_count": null,
   "metadata": {},
   "outputs": [],
   "source": [
    "1. log 이벤트가 동시에 여러번 일어난 경우가 있다는 사실을 확인했다\n",
    "2. 부족한 점: 한 유저가 다른 유저와 같은 시기에 같은 이벤트를 발생시켰다면 이벤트 수가 합산되어 측정되었음.\n",
    "    유저, 시간 순으로 그룹바이 한뒤에 적용시켜봐야함."
   ]
  },
  {
   "cell_type": "code",
   "execution_count": 3,
   "metadata": {
    "ExecuteTime": {
     "end_time": "2022-10-11T04:46:06.558866Z",
     "start_time": "2022-10-11T04:46:06.551097Z"
    }
   },
   "outputs": [],
   "source": [
    "import pandas as pd\n",
    "import matplotlib.pyplot as plt\n",
    "import seaborn as sns\n",
    "import os\n",
    "\n",
    "from collections import Counter\n",
    "from matplotlib import rc\n",
    "import matplotlib.font_manager as fm"
   ]
  },
  {
   "cell_type": "code",
   "execution_count": 4,
   "metadata": {
    "ExecuteTime": {
     "end_time": "2022-10-11T04:46:26.713243Z",
     "start_time": "2022-10-11T04:46:06.563732Z"
    }
   },
   "outputs": [],
   "source": [
    "log = pd.read_csv('./data/log_data.csv')"
   ]
  },
  {
   "cell_type": "code",
   "execution_count": 5,
   "metadata": {
    "ExecuteTime": {
     "end_time": "2022-10-11T04:46:29.586359Z",
     "start_time": "2022-10-11T04:46:26.718878Z"
    }
   },
   "outputs": [
    {
     "data": {
      "text/plain": [
       "[(1, 1033141),\n",
       " (2, 310103),\n",
       " (3, 162916),\n",
       " (4, 45031),\n",
       " (5, 20110),\n",
       " (6, 17303),\n",
       " (7, 7369),\n",
       " (8, 3867),\n",
       " (9, 3592),\n",
       " (10, 1951),\n",
       " (11, 980),\n",
       " (12, 1011),\n",
       " (13, 581),\n",
       " (14, 332),\n",
       " (15, 288),\n",
       " (16, 204),\n",
       " (17, 127),\n",
       " (18, 107),\n",
       " (19, 95),\n",
       " (20, 39),\n",
       " (21, 51),\n",
       " (22, 31),\n",
       " (23, 21),\n",
       " (24, 16),\n",
       " (25, 15),\n",
       " (26, 8),\n",
       " (27, 10),\n",
       " (28, 9),\n",
       " (29, 8),\n",
       " (30, 9),\n",
       " (31, 3),\n",
       " (32, 3),\n",
       " (33, 3),\n",
       " (34, 1),\n",
       " (35, 3),\n",
       " (36, 3),\n",
       " (38, 1),\n",
       " (40, 1),\n",
       " (47, 1),\n",
       " (55, 1)]"
      ]
     },
     "execution_count": 5,
     "metadata": {},
     "output_type": "execute_result"
    }
   ],
   "source": [
    "End = log['user_id'][log['event'] == 'EndLoanApply']\n",
    "l = []\n",
    "count = 0\n",
    "num = End[2]\n",
    "for j in End:\n",
    "    if j != num:\n",
    "        l.append(count)\n",
    "        num = j\n",
    "        count = 0\n",
    "    count += 1\n",
    "l.append(count)\n",
    "\n",
    "cnt = Counter(l)\n",
    "sorted(cnt.most_common())"
   ]
  },
  {
   "cell_type": "code",
   "execution_count": 236,
   "metadata": {
    "ExecuteTime": {
     "end_time": "2022-10-10T11:28:31.513716Z",
     "start_time": "2022-10-10T11:28:30.183718Z"
    }
   },
   "outputs": [
    {
     "data": {
      "text/plain": [
       "[(1, 1001214),\n",
       " (2, 149334),\n",
       " (3, 43483),\n",
       " (4, 12277),\n",
       " (5, 5887),\n",
       " (6, 2269),\n",
       " (7, 1356),\n",
       " (8, 727),\n",
       " (9, 468),\n",
       " (10, 323),\n",
       " (11, 202),\n",
       " (12, 156),\n",
       " (13, 108),\n",
       " (14, 91),\n",
       " (15, 51),\n",
       " (16, 56),\n",
       " (17, 37),\n",
       " (18, 26),\n",
       " (19, 16),\n",
       " (20, 22),\n",
       " (21, 21),\n",
       " (22, 18),\n",
       " (23, 11),\n",
       " (24, 8),\n",
       " (25, 7),\n",
       " (26, 9),\n",
       " (27, 8),\n",
       " (28, 3),\n",
       " (29, 2),\n",
       " (30, 2),\n",
       " (31, 2),\n",
       " (32, 4),\n",
       " (33, 3),\n",
       " (34, 3),\n",
       " (35, 2),\n",
       " (36, 4),\n",
       " (37, 1),\n",
       " (39, 1),\n",
       " (40, 1),\n",
       " (42, 1),\n",
       " (51, 1),\n",
       " (53, 1),\n",
       " (54, 2),\n",
       " (58, 2),\n",
       " (84, 1),\n",
       " (110, 1)]"
      ]
     },
     "execution_count": 236,
     "metadata": {},
     "output_type": "execute_result"
    }
   ],
   "source": [
    "End = log['user_id'][log['event'] == 'UseLoanManage']\n",
    "l = []\n",
    "count = 0\n",
    "num = End[4]\n",
    "for j in End:\n",
    "    if j != num:\n",
    "        l.append(count)\n",
    "        num = j\n",
    "        count = 0\n",
    "    count += 1\n",
    "l.append(count)\n",
    "\n",
    "cnt = Counter(l)\n",
    "sorted(cnt.most_common())"
   ]
  },
  {
   "cell_type": "code",
   "execution_count": 237,
   "metadata": {
    "ExecuteTime": {
     "end_time": "2022-10-10T11:28:57.616391Z",
     "start_time": "2022-10-10T11:28:56.840408Z"
    }
   },
   "outputs": [
    {
     "data": {
      "text/plain": [
       "[(1, 4089),\n",
       " (2, 906),\n",
       " (3, 243),\n",
       " (4, 72),\n",
       " (5, 33),\n",
       " (6, 21),\n",
       " (7, 5),\n",
       " (8, 7),\n",
       " (9, 1),\n",
       " (11, 1),\n",
       " (13, 2),\n",
       " (14, 1)]"
      ]
     },
     "execution_count": 237,
     "metadata": {},
     "output_type": "execute_result"
    }
   ],
   "source": [
    "End = log['user_id'][log['event'] == 'UsePrepayCalc']\n",
    "l = []\n",
    "count = 0\n",
    "num = End[7]\n",
    "for j in End:\n",
    "    if j != num:\n",
    "        l.append(count)\n",
    "        num = j\n",
    "        count = 0\n",
    "    count += 1\n",
    "l.append(count)\n",
    "\n",
    "cnt = Counter(l)\n",
    "sorted(cnt.most_common())"
   ]
  },
  {
   "cell_type": "code",
   "execution_count": 238,
   "metadata": {
    "ExecuteTime": {
     "end_time": "2022-10-10T11:29:07.563622Z",
     "start_time": "2022-10-10T11:29:06.810395Z"
    }
   },
   "outputs": [
    {
     "data": {
      "text/plain": [
       "[(1, 3811), (2, 341), (3, 36), (4, 7), (6, 1), (7, 1), (11, 1), (12, 1)]"
      ]
     },
     "execution_count": 238,
     "metadata": {},
     "output_type": "execute_result"
    }
   ],
   "source": [
    "End = log['user_id'][log['event'] == 'UseDSRCalc']\n",
    "l = []\n",
    "count = 0\n",
    "num = End[201]\n",
    "for j in End:\n",
    "    if j != num:\n",
    "        l.append(count)\n",
    "        num = j\n",
    "        count = 0\n",
    "    count += 1\n",
    "l.append(count)\n",
    "\n",
    "cnt = Counter(l)\n",
    "sorted(cnt.most_common())"
   ]
  },
  {
   "cell_type": "code",
   "execution_count": 239,
   "metadata": {
    "ExecuteTime": {
     "end_time": "2022-10-10T11:29:42.174587Z",
     "start_time": "2022-10-10T11:29:40.506587Z"
    }
   },
   "outputs": [
    {
     "data": {
      "text/plain": [
       "[(1, 2432613),\n",
       " (2, 88676),\n",
       " (3, 10076),\n",
       " (4, 4274),\n",
       " (5, 393),\n",
       " (6, 167),\n",
       " (7, 69),\n",
       " (8, 42),\n",
       " (9, 22),\n",
       " (10, 19),\n",
       " (11, 10),\n",
       " (12, 9),\n",
       " (13, 2),\n",
       " (14, 2),\n",
       " (15, 3),\n",
       " (16, 3),\n",
       " (17, 1),\n",
       " (18, 1),\n",
       " (20, 1),\n",
       " (21, 1),\n",
       " (23, 3),\n",
       " (24, 1)]"
      ]
     },
     "execution_count": 239,
     "metadata": {},
     "output_type": "execute_result"
    }
   ],
   "source": [
    "End = log['user_id'][log['event'] == 'GetCreditInfo']\n",
    "l = []\n",
    "count = 0\n",
    "num = End[209900]\n",
    "for j in End:\n",
    "    if j != num:\n",
    "        l.append(count)\n",
    "        num = j\n",
    "        count = 0\n",
    "    count += 1\n",
    "l.append(count)\n",
    "\n",
    "cnt = Counter(l)\n",
    "sorted(cnt.most_common())"
   ]
  }
 ],
 "metadata": {
  "kernelspec": {
   "display_name": "Python 3",
   "language": "python",
   "name": "python3"
  },
  "language_info": {
   "codemirror_mode": {
    "name": "ipython",
    "version": 3
   },
   "file_extension": ".py",
   "mimetype": "text/x-python",
   "name": "python",
   "nbconvert_exporter": "python",
   "pygments_lexer": "ipython3",
   "version": "3.7.6"
  },
  "toc": {
   "base_numbering": 1,
   "nav_menu": {},
   "number_sections": true,
   "sideBar": true,
   "skip_h1_title": false,
   "title_cell": "Table of Contents",
   "title_sidebar": "Contents",
   "toc_cell": false,
   "toc_position": {},
   "toc_section_display": true,
   "toc_window_display": false
  }
 },
 "nbformat": 4,
 "nbformat_minor": 4
}
