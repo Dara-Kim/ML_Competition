{
 "cells": [
  {
   "cell_type": "code",
   "execution_count": 1,
   "metadata": {
    "ExecuteTime": {
     "end_time": "2022-10-12T19:17:00.216403Z",
     "start_time": "2022-10-12T19:16:57.793010Z"
    }
   },
   "outputs": [],
   "source": [
    "import pandas as pd\n",
    "import matplotlib.pyplot as plt\n",
    "import seaborn as sns\n",
    "import os\n",
    "\n",
    "from matplotlib import rc\n",
    "import matplotlib.font_manager as fm"
   ]
  },
  {
   "cell_type": "code",
   "execution_count": 3,
   "metadata": {
    "ExecuteTime": {
     "end_time": "2022-10-12T17:12:43.269276Z",
     "start_time": "2022-10-12T17:12:40.416284Z"
    }
   },
   "outputs": [],
   "source": [
    "fm._rebuild()\n",
    "fm.get_fontconfig_fonts()\n",
    "\n",
    "font_location = './ttf/GmarketSansTTFLight.ttf'\n",
    "\n",
    "font_name = fm.FontProperties(fname=font_location).get_name()\n",
    "rc('font', family=font_name)"
   ]
  },
  {
   "cell_type": "code",
   "execution_count": 2,
   "metadata": {
    "ExecuteTime": {
     "end_time": "2022-10-12T19:17:53.804907Z",
     "start_time": "2022-10-12T19:17:01.091063Z"
    }
   },
   "outputs": [],
   "source": [
    "user_loan = pd.read_csv('C:/Users/김다은/Desktop/2022빅콘테스트_데이터분석리그_데이터분석분야_퓨처스부문_데이터셋_220908/user_loan.csv')"
   ]
  },
  {
   "cell_type": "code",
   "execution_count": 3,
   "metadata": {
    "ExecuteTime": {
     "end_time": "2022-10-12T19:18:13.833991Z",
     "start_time": "2022-10-12T19:17:53.828700Z"
    }
   },
   "outputs": [],
   "source": [
    "appliedNan = pd.isna(user_loan['is_applied'])\n",
    "\n",
    "both = user_loan[appliedNan == False]\n",
    "yes = user_loan[user_loan['is_applied'] == 1]\n",
    "no = user_loan[user_loan['is_applied'] == 0]\n",
    "nan = user_loan[appliedNan]"
   ]
  },
  {
   "cell_type": "code",
   "execution_count": 28,
   "metadata": {
    "ExecuteTime": {
     "end_time": "2022-10-12T11:29:33.168460Z",
     "start_time": "2022-10-12T11:29:33.160418Z"
    }
   },
   "outputs": [],
   "source": [
    "columnlist = [\n",
    "    'birth_year',\n",
    "    'credit_score',\n",
    "    'yearly_income',\n",
    "    'company_enter_month',\n",
    "    'desired_amount',\n",
    "    'existing_loan_cnt',\n",
    "    'existing_loan_amt',\n",
    "    'loan_limit',\n",
    "    'loan_rate'\n",
    "             ]"
   ]
  },
  {
   "cell_type": "code",
   "execution_count": 4,
   "metadata": {
    "ExecuteTime": {
     "end_time": "2022-10-12T19:18:13.906903Z",
     "start_time": "2022-10-12T19:18:13.863178Z"
    }
   },
   "outputs": [],
   "source": [
    "def BYN(name):\n",
    "    plt.boxplot(both[f'{name}'].dropna())\n",
    "    plt.title(f'{name}')\n",
    "    plt.show()"
   ]
  },
  {
   "cell_type": "code",
   "execution_count": 5,
   "metadata": {
    "ExecuteTime": {
     "end_time": "2022-10-12T19:18:14.947714Z",
     "start_time": "2022-10-12T19:18:13.913901Z"
    },
    "scrolled": true
   },
   "outputs": [
    {
     "ename": "NameError",
     "evalue": "name 'columnlist' is not defined",
     "output_type": "error",
     "traceback": [
      "\u001b[1;31m---------------------------------------------------------------------------\u001b[0m",
      "\u001b[1;31mNameError\u001b[0m                                 Traceback (most recent call last)",
      "\u001b[1;32m<ipython-input-5-63eea2fbcadc>\u001b[0m in \u001b[0;36m<module>\u001b[1;34m\u001b[0m\n\u001b[1;32m----> 1\u001b[1;33m \u001b[1;32mfor\u001b[0m \u001b[0mname\u001b[0m \u001b[1;32min\u001b[0m \u001b[0mcolumnlist\u001b[0m\u001b[1;33m:\u001b[0m\u001b[1;33m\u001b[0m\u001b[1;33m\u001b[0m\u001b[0m\n\u001b[0m\u001b[0;32m      2\u001b[0m     \u001b[0mBYN\u001b[0m\u001b[1;33m(\u001b[0m\u001b[0mname\u001b[0m\u001b[1;33m)\u001b[0m\u001b[1;33m\u001b[0m\u001b[1;33m\u001b[0m\u001b[0m\n",
      "\u001b[1;31mNameError\u001b[0m: name 'columnlist' is not defined"
     ]
    }
   ],
   "source": [
    "for name in columnlist:\n",
    "    BYN(name)"
   ]
  },
  {
   "cell_type": "code",
   "execution_count": 7,
   "metadata": {
    "ExecuteTime": {
     "end_time": "2022-10-12T19:18:29.154274Z",
     "start_time": "2022-10-12T19:18:25.803835Z"
    }
   },
   "outputs": [
    {
     "data": {
      "image/png": "[encoded data removed]",
      "text/plain": [
       "<Figure size 432x288 with 1 Axes>"
      ]
     },
     "metadata": {
      "needs_background": "light"
     },
     "output_type": "display_data"
    }
   ],
   "source": [
    "box = plt.boxplot(both['company_enter_month'].dropna())"
   ]
  },
  {
   "cell_type": "code",
   "execution_count": 64,
   "metadata": {
    "ExecuteTime": {
     "end_time": "2022-10-12T15:08:05.842868Z",
     "start_time": "2022-10-12T15:08:05.832265Z"
    }
   },
   "outputs": [
    {
     "data": {
      "text/plain": [
       "'loan_rate'"
      ]
     },
     "execution_count": 64,
     "metadata": {},
     "output_type": "execute_result"
    }
   ],
   "source": [
    "name"
   ]
  },
  {
   "cell_type": "code",
   "execution_count": 8,
   "metadata": {
    "ExecuteTime": {
     "end_time": "2022-10-12T19:18:29.169520Z",
     "start_time": "2022-10-12T19:18:29.156940Z"
    }
   },
   "outputs": [
    {
     "data": {
      "text/plain": [
       "(array([201701., 201101.]), array([202107., 202211.]))"
      ]
     },
     "execution_count": 8,
     "metadata": {},
     "output_type": "execute_result"
    }
   ],
   "source": [
    "box['whiskers'][0].get_ydata(), box['whiskers'][1].get_ydata()"
   ]
  },
  {
   "cell_type": "code",
   "execution_count": null,
   "metadata": {},
   "outputs": [],
   "source": [
    "[].sort(a)"
   ]
  },
  {
   "cell_type": "code",
   "execution_count": 9,
   "metadata": {
    "ExecuteTime": {
     "end_time": "2022-10-12T19:18:32.685354Z",
     "start_time": "2022-10-12T19:18:32.667779Z"
    }
   },
   "outputs": [
    {
     "data": {
      "text/plain": [
       "array([200804., 200804., 200804., ..., 200908., 200908., 200908.])"
      ]
     },
     "execution_count": 9,
     "metadata": {},
     "output_type": "execute_result"
    }
   ],
   "source": [
    "box['fliers'][0].get_ydata()"
   ]
  },
  {
   "cell_type": "code",
   "execution_count": 57,
   "metadata": {
    "ExecuteTime": {
     "end_time": "2022-10-12T11:57:56.057929Z",
     "start_time": "2022-10-12T11:57:55.939816Z"
    },
    "scrolled": false
   },
   "outputs": [
    {
     "data": {
      "text/html": [
       "<div>\n",
       "<style scoped>\n",
       "    .dataframe tbody tr th:only-of-type {\n",
       "        vertical-align: middle;\n",
       "    }\n",
       "\n",
       "    .dataframe tbody tr th {\n",
       "        vertical-align: top;\n",
       "    }\n",
       "\n",
       "    .dataframe thead th {\n",
       "        text-align: right;\n",
       "    }\n",
       "</style>\n",
       "<table border=\"1\" class=\"dataframe\">\n",
       "  <thead>\n",
       "    <tr style=\"text-align: right;\">\n",
       "      <th></th>\n",
       "      <th>application_id</th>\n",
       "      <th>user_id</th>\n",
       "      <th>birth_year</th>\n",
       "      <th>gender</th>\n",
       "      <th>insert_time</th>\n",
       "      <th>credit_score</th>\n",
       "      <th>yearly_income</th>\n",
       "      <th>income_type</th>\n",
       "      <th>company_enter_month</th>\n",
       "      <th>employment_type</th>\n",
       "      <th>...</th>\n",
       "      <th>personal_rehabilitation_yn</th>\n",
       "      <th>personal_rehabilitation_complete_yn</th>\n",
       "      <th>existing_loan_cnt</th>\n",
       "      <th>existing_loan_amt</th>\n",
       "      <th>loanapply_insert_time</th>\n",
       "      <th>bank_id</th>\n",
       "      <th>product_id</th>\n",
       "      <th>loan_limit</th>\n",
       "      <th>loan_rate</th>\n",
       "      <th>is_applied</th>\n",
       "    </tr>\n",
       "  </thead>\n",
       "  <tbody>\n",
       "    <tr>\n",
       "      <th>310117</th>\n",
       "      <td>2003838</td>\n",
       "      <td>273036</td>\n",
       "      <td>1989.0</td>\n",
       "      <td>0.0</td>\n",
       "      <td>2022-04-10 09:09:22</td>\n",
       "      <td>690.0</td>\n",
       "      <td>60000000.0</td>\n",
       "      <td>EARNEDINCOME</td>\n",
       "      <td>198912.0</td>\n",
       "      <td>정규직</td>\n",
       "      <td>...</td>\n",
       "      <td>NaN</td>\n",
       "      <td>NaN</td>\n",
       "      <td>3.0</td>\n",
       "      <td>24000000.0</td>\n",
       "      <td>2022-04-10 09:09:23</td>\n",
       "      <td>29</td>\n",
       "      <td>265</td>\n",
       "      <td>20000000.0</td>\n",
       "      <td>11.1</td>\n",
       "      <td>0.0</td>\n",
       "    </tr>\n",
       "    <tr>\n",
       "      <th>310118</th>\n",
       "      <td>2003838</td>\n",
       "      <td>273036</td>\n",
       "      <td>1989.0</td>\n",
       "      <td>0.0</td>\n",
       "      <td>2022-04-10 09:09:22</td>\n",
       "      <td>690.0</td>\n",
       "      <td>60000000.0</td>\n",
       "      <td>EARNEDINCOME</td>\n",
       "      <td>198912.0</td>\n",
       "      <td>정규직</td>\n",
       "      <td>...</td>\n",
       "      <td>NaN</td>\n",
       "      <td>NaN</td>\n",
       "      <td>3.0</td>\n",
       "      <td>24000000.0</td>\n",
       "      <td>2022-04-10 09:09:27</td>\n",
       "      <td>18</td>\n",
       "      <td>78</td>\n",
       "      <td>34000000.0</td>\n",
       "      <td>8.7</td>\n",
       "      <td>0.0</td>\n",
       "    </tr>\n",
       "    <tr>\n",
       "      <th>310119</th>\n",
       "      <td>2003838</td>\n",
       "      <td>273036</td>\n",
       "      <td>1989.0</td>\n",
       "      <td>0.0</td>\n",
       "      <td>2022-04-10 09:09:22</td>\n",
       "      <td>690.0</td>\n",
       "      <td>60000000.0</td>\n",
       "      <td>EARNEDINCOME</td>\n",
       "      <td>198912.0</td>\n",
       "      <td>정규직</td>\n",
       "      <td>...</td>\n",
       "      <td>NaN</td>\n",
       "      <td>NaN</td>\n",
       "      <td>3.0</td>\n",
       "      <td>24000000.0</td>\n",
       "      <td>2022-04-10 09:09:24</td>\n",
       "      <td>56</td>\n",
       "      <td>5</td>\n",
       "      <td>10000000.0</td>\n",
       "      <td>19.9</td>\n",
       "      <td>0.0</td>\n",
       "    </tr>\n",
       "    <tr>\n",
       "      <th>310120</th>\n",
       "      <td>2003838</td>\n",
       "      <td>273036</td>\n",
       "      <td>1989.0</td>\n",
       "      <td>0.0</td>\n",
       "      <td>2022-04-10 09:09:22</td>\n",
       "      <td>690.0</td>\n",
       "      <td>60000000.0</td>\n",
       "      <td>EARNEDINCOME</td>\n",
       "      <td>198912.0</td>\n",
       "      <td>정규직</td>\n",
       "      <td>...</td>\n",
       "      <td>NaN</td>\n",
       "      <td>NaN</td>\n",
       "      <td>3.0</td>\n",
       "      <td>24000000.0</td>\n",
       "      <td>2022-04-10 09:09:23</td>\n",
       "      <td>52</td>\n",
       "      <td>234</td>\n",
       "      <td>14000000.0</td>\n",
       "      <td>5.1</td>\n",
       "      <td>0.0</td>\n",
       "    </tr>\n",
       "    <tr>\n",
       "      <th>310121</th>\n",
       "      <td>2003838</td>\n",
       "      <td>273036</td>\n",
       "      <td>1989.0</td>\n",
       "      <td>0.0</td>\n",
       "      <td>2022-04-10 09:09:22</td>\n",
       "      <td>690.0</td>\n",
       "      <td>60000000.0</td>\n",
       "      <td>EARNEDINCOME</td>\n",
       "      <td>198912.0</td>\n",
       "      <td>정규직</td>\n",
       "      <td>...</td>\n",
       "      <td>NaN</td>\n",
       "      <td>NaN</td>\n",
       "      <td>3.0</td>\n",
       "      <td>24000000.0</td>\n",
       "      <td>2022-04-10 09:09:24</td>\n",
       "      <td>46</td>\n",
       "      <td>49</td>\n",
       "      <td>30000000.0</td>\n",
       "      <td>15.3</td>\n",
       "      <td>0.0</td>\n",
       "    </tr>\n",
       "  </tbody>\n",
       "</table>\n",
       "<p>5 rows × 23 columns</p>\n",
       "</div>"
      ],
      "text/plain": [
       "        application_id  user_id  birth_year  gender          insert_time  \\\n",
       "310117         2003838   273036      1989.0     0.0  2022-04-10 09:09:22   \n",
       "310118         2003838   273036      1989.0     0.0  2022-04-10 09:09:22   \n",
       "310119         2003838   273036      1989.0     0.0  2022-04-10 09:09:22   \n",
       "310120         2003838   273036      1989.0     0.0  2022-04-10 09:09:22   \n",
       "310121         2003838   273036      1989.0     0.0  2022-04-10 09:09:22   \n",
       "\n",
       "        credit_score  yearly_income   income_type  company_enter_month  \\\n",
       "310117         690.0     60000000.0  EARNEDINCOME             198912.0   \n",
       "310118         690.0     60000000.0  EARNEDINCOME             198912.0   \n",
       "310119         690.0     60000000.0  EARNEDINCOME             198912.0   \n",
       "310120         690.0     60000000.0  EARNEDINCOME             198912.0   \n",
       "310121         690.0     60000000.0  EARNEDINCOME             198912.0   \n",
       "\n",
       "       employment_type  ... personal_rehabilitation_yn  \\\n",
       "310117             정규직  ...                        NaN   \n",
       "310118             정규직  ...                        NaN   \n",
       "310119             정규직  ...                        NaN   \n",
       "310120             정규직  ...                        NaN   \n",
       "310121             정규직  ...                        NaN   \n",
       "\n",
       "        personal_rehabilitation_complete_yn existing_loan_cnt  \\\n",
       "310117                                  NaN               3.0   \n",
       "310118                                  NaN               3.0   \n",
       "310119                                  NaN               3.0   \n",
       "310120                                  NaN               3.0   \n",
       "310121                                  NaN               3.0   \n",
       "\n",
       "        existing_loan_amt  loanapply_insert_time  bank_id  product_id  \\\n",
       "310117         24000000.0    2022-04-10 09:09:23       29         265   \n",
       "310118         24000000.0    2022-04-10 09:09:27       18          78   \n",
       "310119         24000000.0    2022-04-10 09:09:24       56           5   \n",
       "310120         24000000.0    2022-04-10 09:09:23       52         234   \n",
       "310121         24000000.0    2022-04-10 09:09:24       46          49   \n",
       "\n",
       "        loan_limit  loan_rate  is_applied  \n",
       "310117  20000000.0       11.1         0.0  \n",
       "310118  34000000.0        8.7         0.0  \n",
       "310119  10000000.0       19.9         0.0  \n",
       "310120  14000000.0        5.1         0.0  \n",
       "310121  30000000.0       15.3         0.0  \n",
       "\n",
       "[5 rows x 23 columns]"
      ]
     },
     "execution_count": 57,
     "metadata": {},
     "output_type": "execute_result"
    }
   ],
   "source": [
    "both[both['company_enter_month'] < (both['birth_year']+15)*100].head()"
   ]
  },
  {
   "cell_type": "code",
   "execution_count": 61,
   "metadata": {
    "ExecuteTime": {
     "end_time": "2022-10-12T14:53:41.384977Z",
     "start_time": "2022-10-12T14:53:40.507246Z"
    }
   },
   "outputs": [
    {
     "data": {
      "text/html": [
       "<div>\n",
       "<style scoped>\n",
       "    .dataframe tbody tr th:only-of-type {\n",
       "        vertical-align: middle;\n",
       "    }\n",
       "\n",
       "    .dataframe tbody tr th {\n",
       "        vertical-align: top;\n",
       "    }\n",
       "\n",
       "    .dataframe thead th {\n",
       "        text-align: right;\n",
       "    }\n",
       "</style>\n",
       "<table border=\"1\" class=\"dataframe\">\n",
       "  <thead>\n",
       "    <tr style=\"text-align: right;\">\n",
       "      <th></th>\n",
       "      <th>application_id</th>\n",
       "      <th>user_id</th>\n",
       "      <th>birth_year</th>\n",
       "      <th>gender</th>\n",
       "      <th>insert_time</th>\n",
       "      <th>credit_score</th>\n",
       "      <th>yearly_income</th>\n",
       "      <th>income_type</th>\n",
       "      <th>company_enter_month</th>\n",
       "      <th>employment_type</th>\n",
       "      <th>...</th>\n",
       "      <th>personal_rehabilitation_yn</th>\n",
       "      <th>personal_rehabilitation_complete_yn</th>\n",
       "      <th>existing_loan_cnt</th>\n",
       "      <th>existing_loan_amt</th>\n",
       "      <th>loanapply_insert_time</th>\n",
       "      <th>bank_id</th>\n",
       "      <th>product_id</th>\n",
       "      <th>loan_limit</th>\n",
       "      <th>loan_rate</th>\n",
       "      <th>is_applied</th>\n",
       "    </tr>\n",
       "  </thead>\n",
       "  <tbody>\n",
       "    <tr>\n",
       "      <th>13229522</th>\n",
       "      <td>119874</td>\n",
       "      <td>247716</td>\n",
       "      <td>1957.0</td>\n",
       "      <td>0.0</td>\n",
       "      <td>2022-03-28 10:48:58</td>\n",
       "      <td>NaN</td>\n",
       "      <td>50000000.0</td>\n",
       "      <td>FREELANCER</td>\n",
       "      <td>197003.0</td>\n",
       "      <td>기타</td>\n",
       "      <td>...</td>\n",
       "      <td>NaN</td>\n",
       "      <td>NaN</td>\n",
       "      <td>3.0</td>\n",
       "      <td>83000000.0</td>\n",
       "      <td>2022-03-28 10:49:00</td>\n",
       "      <td>21</td>\n",
       "      <td>196</td>\n",
       "      <td>3000000.0</td>\n",
       "      <td>10.9</td>\n",
       "      <td>0.0</td>\n",
       "    </tr>\n",
       "    <tr>\n",
       "      <th>13229523</th>\n",
       "      <td>119874</td>\n",
       "      <td>247716</td>\n",
       "      <td>1957.0</td>\n",
       "      <td>0.0</td>\n",
       "      <td>2022-03-28 10:48:58</td>\n",
       "      <td>NaN</td>\n",
       "      <td>50000000.0</td>\n",
       "      <td>FREELANCER</td>\n",
       "      <td>197003.0</td>\n",
       "      <td>기타</td>\n",
       "      <td>...</td>\n",
       "      <td>NaN</td>\n",
       "      <td>NaN</td>\n",
       "      <td>3.0</td>\n",
       "      <td>83000000.0</td>\n",
       "      <td>2022-03-28 10:49:00</td>\n",
       "      <td>6</td>\n",
       "      <td>36</td>\n",
       "      <td>19000000.0</td>\n",
       "      <td>14.2</td>\n",
       "      <td>0.0</td>\n",
       "    </tr>\n",
       "    <tr>\n",
       "      <th>13229524</th>\n",
       "      <td>119874</td>\n",
       "      <td>247716</td>\n",
       "      <td>1957.0</td>\n",
       "      <td>0.0</td>\n",
       "      <td>2022-03-28 10:48:58</td>\n",
       "      <td>NaN</td>\n",
       "      <td>50000000.0</td>\n",
       "      <td>FREELANCER</td>\n",
       "      <td>197003.0</td>\n",
       "      <td>기타</td>\n",
       "      <td>...</td>\n",
       "      <td>NaN</td>\n",
       "      <td>NaN</td>\n",
       "      <td>3.0</td>\n",
       "      <td>83000000.0</td>\n",
       "      <td>2022-03-28 10:48:59</td>\n",
       "      <td>14</td>\n",
       "      <td>197</td>\n",
       "      <td>5000000.0</td>\n",
       "      <td>11.9</td>\n",
       "      <td>0.0</td>\n",
       "    </tr>\n",
       "    <tr>\n",
       "      <th>13373171</th>\n",
       "      <td>1817863</td>\n",
       "      <td>858138</td>\n",
       "      <td>1985.0</td>\n",
       "      <td>1.0</td>\n",
       "      <td>2022-04-15 15:50:38</td>\n",
       "      <td>640.0</td>\n",
       "      <td>80000000.0</td>\n",
       "      <td>EARNEDINCOME</td>\n",
       "      <td>199602.0</td>\n",
       "      <td>정규직</td>\n",
       "      <td>...</td>\n",
       "      <td>NaN</td>\n",
       "      <td>NaN</td>\n",
       "      <td>3.0</td>\n",
       "      <td>99000000.0</td>\n",
       "      <td>2022-04-15 15:50:39</td>\n",
       "      <td>46</td>\n",
       "      <td>49</td>\n",
       "      <td>3000000.0</td>\n",
       "      <td>15.5</td>\n",
       "      <td>0.0</td>\n",
       "    </tr>\n",
       "    <tr>\n",
       "      <th>13414099</th>\n",
       "      <td>433341</td>\n",
       "      <td>858138</td>\n",
       "      <td>1985.0</td>\n",
       "      <td>1.0</td>\n",
       "      <td>2022-03-25 17:40:08</td>\n",
       "      <td>700.0</td>\n",
       "      <td>90000000.0</td>\n",
       "      <td>EARNEDINCOME</td>\n",
       "      <td>199602.0</td>\n",
       "      <td>정규직</td>\n",
       "      <td>...</td>\n",
       "      <td>NaN</td>\n",
       "      <td>NaN</td>\n",
       "      <td>3.0</td>\n",
       "      <td>99000000.0</td>\n",
       "      <td>2022-03-25 17:40:09</td>\n",
       "      <td>46</td>\n",
       "      <td>49</td>\n",
       "      <td>7000000.0</td>\n",
       "      <td>15.1</td>\n",
       "      <td>0.0</td>\n",
       "    </tr>\n",
       "  </tbody>\n",
       "</table>\n",
       "<p>5 rows × 23 columns</p>\n",
       "</div>"
      ],
      "text/plain": [
       "          application_id  user_id  birth_year  gender          insert_time  \\\n",
       "13229522          119874   247716      1957.0     0.0  2022-03-28 10:48:58   \n",
       "13229523          119874   247716      1957.0     0.0  2022-03-28 10:48:58   \n",
       "13229524          119874   247716      1957.0     0.0  2022-03-28 10:48:58   \n",
       "13373171         1817863   858138      1985.0     1.0  2022-04-15 15:50:38   \n",
       "13414099          433341   858138      1985.0     1.0  2022-03-25 17:40:08   \n",
       "\n",
       "          credit_score  yearly_income   income_type  company_enter_month  \\\n",
       "13229522           NaN     50000000.0    FREELANCER             197003.0   \n",
       "13229523           NaN     50000000.0    FREELANCER             197003.0   \n",
       "13229524           NaN     50000000.0    FREELANCER             197003.0   \n",
       "13373171         640.0     80000000.0  EARNEDINCOME             199602.0   \n",
       "13414099         700.0     90000000.0  EARNEDINCOME             199602.0   \n",
       "\n",
       "         employment_type  ... personal_rehabilitation_yn  \\\n",
       "13229522              기타  ...                        NaN   \n",
       "13229523              기타  ...                        NaN   \n",
       "13229524              기타  ...                        NaN   \n",
       "13373171             정규직  ...                        NaN   \n",
       "13414099             정규직  ...                        NaN   \n",
       "\n",
       "          personal_rehabilitation_complete_yn existing_loan_cnt  \\\n",
       "13229522                                  NaN               3.0   \n",
       "13229523                                  NaN               3.0   \n",
       "13229524                                  NaN               3.0   \n",
       "13373171                                  NaN               3.0   \n",
       "13414099                                  NaN               3.0   \n",
       "\n",
       "          existing_loan_amt  loanapply_insert_time  bank_id  product_id  \\\n",
       "13229522         83000000.0    2022-03-28 10:49:00       21         196   \n",
       "13229523         83000000.0    2022-03-28 10:49:00        6          36   \n",
       "13229524         83000000.0    2022-03-28 10:48:59       14         197   \n",
       "13373171         99000000.0    2022-04-15 15:50:39       46          49   \n",
       "13414099         99000000.0    2022-03-25 17:40:09       46          49   \n",
       "\n",
       "          loan_limit  loan_rate  is_applied  \n",
       "13229522   3000000.0       10.9         0.0  \n",
       "13229523  19000000.0       14.2         0.0  \n",
       "13229524   5000000.0       11.9         0.0  \n",
       "13373171   3000000.0       15.5         0.0  \n",
       "13414099   7000000.0       15.1         0.0  \n",
       "\n",
       "[5 rows x 23 columns]"
      ]
     },
     "execution_count": 61,
     "metadata": {},
     "output_type": "execute_result"
    }
   ],
   "source": [
    "both[both['company_enter_month'] < (both['birth_year']+15)*100].tail()"
   ]
  },
  {
   "cell_type": "code",
   "execution_count": 55,
   "metadata": {
    "ExecuteTime": {
     "end_time": "2022-10-12T11:56:50.203327Z",
     "start_time": "2022-10-12T11:56:50.179095Z"
    },
    "scrolled": true
   },
   "outputs": [
    {
     "data": {
      "text/plain": [
       "Index(['application_id', 'user_id', 'birth_year', 'gender', 'insert_time',\n",
       "       'credit_score', 'yearly_income', 'income_type', 'company_enter_month',\n",
       "       'employment_type', 'houseown_type', 'desired_amount', 'purpose',\n",
       "       'personal_rehabilitation_yn', 'personal_rehabilitation_complete_yn',\n",
       "       'existing_loan_cnt', 'existing_loan_amt', 'loanapply_insert_time',\n",
       "       'bank_id', 'product_id', 'loan_limit', 'loan_rate', 'is_applied'],\n",
       "      dtype='object')"
      ]
     },
     "execution_count": 55,
     "metadata": {},
     "output_type": "execute_result"
    }
   ],
   "source": [
    "both.columns"
   ]
  },
  {
   "cell_type": "code",
   "execution_count": 7,
   "metadata": {
    "ExecuteTime": {
     "end_time": "2022-10-12T17:20:37.779387Z",
     "start_time": "2022-10-12T17:20:28.768777Z"
    }
   },
   "outputs": [],
   "source": [
    "both.sample(10000).to_csv(\"both_sample.csv\", index = False)"
   ]
  }
 ],
 "metadata": {
  "kernelspec": {
   "display_name": "Python 3",
   "language": "python",
   "name": "python3"
  },
  "language_info": {
   "codemirror_mode": {
    "name": "ipython",
    "version": 3
   },
   "file_extension": ".py",
   "mimetype": "text/x-python",
   "name": "python",
   "nbconvert_exporter": "python",
   "pygments_lexer": "ipython3",
   "version": "3.7.6"
  },
  "toc": {
   "base_numbering": 1,
   "nav_menu": {},
   "number_sections": true,
   "sideBar": true,
   "skip_h1_title": false,
   "title_cell": "Table of Contents",
   "title_sidebar": "Contents",
   "toc_cell": false,
   "toc_position": {},
   "toc_section_display": true,
   "toc_window_display": false
  }
 },
 "nbformat": 4,
 "nbformat_minor": 4
}
