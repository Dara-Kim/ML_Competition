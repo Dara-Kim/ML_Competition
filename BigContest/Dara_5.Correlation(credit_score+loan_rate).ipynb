{
 "cells": [
  {
   "cell_type": "code",
   "execution_count": 1,
   "metadata": {
    "ExecuteTime": {
     "end_time": "2022-10-12T12:01:31.642424Z",
     "start_time": "2022-10-12T12:01:28.764044Z"
    }
   },
   "outputs": [],
   "source": [
    "import pandas as pd\n",
    "import matplotlib.pyplot as plt\n",
    "import seaborn as sns\n",
    "import os\n",
    "\n",
    "from matplotlib import rc\n",
    "import matplotlib.font_manager as fm"
   ]
  },
  {
   "cell_type": "code",
   "execution_count": 2,
   "metadata": {
    "ExecuteTime": {
     "end_time": "2022-10-12T12:02:27.868546Z",
     "start_time": "2022-10-12T12:01:39.058628Z"
    }
   },
   "outputs": [],
   "source": [
    "user_loan = pd.read_csv('C:/Users/김다은/Desktop/2022빅콘테스트_데이터분석리그_데이터분석분야_퓨처스부문_데이터셋_220908/user_loan.csv')"
   ]
  },
  {
   "cell_type": "code",
   "execution_count": 3,
   "metadata": {
    "ExecuteTime": {
     "end_time": "2022-10-12T12:02:45.664545Z",
     "start_time": "2022-10-12T12:02:27.903556Z"
    }
   },
   "outputs": [],
   "source": [
    "appliedNan = pd.isna(user_loan['is_applied'])\n",
    "\n",
    "both = user_loan[appliedNan == False]\n",
    "yes = user_loan[user_loan['is_applied'] == 1]\n",
    "no = user_loan[user_loan['is_applied'] == 0]\n",
    "nan = user_loan[appliedNan]"
   ]
  },
  {
   "cell_type": "code",
   "execution_count": 59,
   "metadata": {
    "ExecuteTime": {
     "end_time": "2022-10-12T13:17:52.798604Z",
     "start_time": "2022-10-12T13:17:49.559368Z"
    }
   },
   "outputs": [],
   "source": [
    "df = both[['user_id', 'birth_year', 'company_enter_month', 'credit_score', 'yearly_income', 'desired_amount', 'houseown_type', 'existing_loan_amt', 'personal_rehabilitation_yn', 'bank_id', 'product_id', 'loan_limit', 'loan_rate', 'is_applied']]"
   ]
  },
  {
   "cell_type": "code",
   "execution_count": 6,
   "metadata": {
    "ExecuteTime": {
     "end_time": "2022-10-12T12:02:49.050564Z",
     "start_time": "2022-10-12T12:02:49.027417Z"
    }
   },
   "outputs": [
    {
     "data": {
      "text/plain": [
       "Index(['application_id', 'user_id', 'birth_year', 'gender', 'insert_time',\n",
       "       'credit_score', 'yearly_income', 'income_type', 'company_enter_month',\n",
       "       'employment_type', 'houseown_type', 'desired_amount', 'purpose',\n",
       "       'personal_rehabilitation_yn', 'personal_rehabilitation_complete_yn',\n",
       "       'existing_loan_cnt', 'existing_loan_amt', 'loanapply_insert_time',\n",
       "       'bank_id', 'product_id', 'loan_limit', 'loan_rate', 'is_applied'],\n",
       "      dtype='object')"
      ]
     },
     "execution_count": 6,
     "metadata": {},
     "output_type": "execute_result"
    }
   ],
   "source": [
    "both.columns"
   ]
  },
  {
   "cell_type": "code",
   "execution_count": 60,
   "metadata": {
    "ExecuteTime": {
     "end_time": "2022-10-12T13:17:53.690016Z",
     "start_time": "2022-10-12T13:17:52.801832Z"
    }
   },
   "outputs": [],
   "source": [
    "DF = df[(df['yearly_income']==0) & (df['houseown_type'] == '기타가족소유') & (df['personal_rehabilitation_yn'] != 1)]"
   ]
  },
  {
   "cell_type": "code",
   "execution_count": 61,
   "metadata": {
    "ExecuteTime": {
     "end_time": "2022-10-12T13:17:54.616821Z",
     "start_time": "2022-10-12T13:17:54.594547Z"
    },
    "scrolled": true
   },
   "outputs": [
    {
     "name": "stderr",
     "output_type": "stream",
     "text": [
      "C:\\Anaconda\\lib\\site-packages\\ipykernel_launcher.py:1: SettingWithCopyWarning: \n",
      "A value is trying to be set on a copy of a slice from a DataFrame\n",
      "\n",
      "See the caveats in the documentation: https://pandas.pydata.org/pandas-docs/stable/user_guide/indexing.html#returning-a-view-versus-a-copy\n",
      "  \"\"\"Entry point for launching an IPython kernel.\n"
     ]
    }
   ],
   "source": [
    "DF.dropna(subset = ['credit_score'], inplace=True)"
   ]
  },
  {
   "cell_type": "code",
   "execution_count": 67,
   "metadata": {
    "ExecuteTime": {
     "end_time": "2022-10-12T13:20:00.605983Z",
     "start_time": "2022-10-12T13:20:00.569157Z"
    },
    "scrolled": false
   },
   "outputs": [
    {
     "data": {
      "text/html": [
       "<div>\n",
       "<style scoped>\n",
       "    .dataframe tbody tr th:only-of-type {\n",
       "        vertical-align: middle;\n",
       "    }\n",
       "\n",
       "    .dataframe tbody tr th {\n",
       "        vertical-align: top;\n",
       "    }\n",
       "\n",
       "    .dataframe thead th {\n",
       "        text-align: right;\n",
       "    }\n",
       "</style>\n",
       "<table border=\"1\" class=\"dataframe\">\n",
       "  <thead>\n",
       "    <tr style=\"text-align: right;\">\n",
       "      <th></th>\n",
       "      <th>user_id</th>\n",
       "      <th>birth_year</th>\n",
       "      <th>company_enter_month</th>\n",
       "      <th>credit_score</th>\n",
       "      <th>yearly_income</th>\n",
       "      <th>desired_amount</th>\n",
       "      <th>houseown_type</th>\n",
       "      <th>existing_loan_amt</th>\n",
       "      <th>personal_rehabilitation_yn</th>\n",
       "      <th>bank_id</th>\n",
       "      <th>product_id</th>\n",
       "      <th>loan_limit</th>\n",
       "      <th>loan_rate</th>\n",
       "      <th>is_applied</th>\n",
       "    </tr>\n",
       "  </thead>\n",
       "  <tbody>\n",
       "    <tr>\n",
       "      <th>1472294</th>\n",
       "      <td>790175</td>\n",
       "      <td>1982.0</td>\n",
       "      <td>NaN</td>\n",
       "      <td>250.0</td>\n",
       "      <td>0.0</td>\n",
       "      <td>100000000.0</td>\n",
       "      <td>기타가족소유</td>\n",
       "      <td>134000000.0</td>\n",
       "      <td>NaN</td>\n",
       "      <td>29</td>\n",
       "      <td>265</td>\n",
       "      <td>10000000.0</td>\n",
       "      <td>8.4</td>\n",
       "      <td>0.0</td>\n",
       "    </tr>\n",
       "    <tr>\n",
       "      <th>1472292</th>\n",
       "      <td>790175</td>\n",
       "      <td>1982.0</td>\n",
       "      <td>NaN</td>\n",
       "      <td>250.0</td>\n",
       "      <td>0.0</td>\n",
       "      <td>100000000.0</td>\n",
       "      <td>기타가족소유</td>\n",
       "      <td>134000000.0</td>\n",
       "      <td>NaN</td>\n",
       "      <td>13</td>\n",
       "      <td>123</td>\n",
       "      <td>6000000.0</td>\n",
       "      <td>17.6</td>\n",
       "      <td>0.0</td>\n",
       "    </tr>\n",
       "    <tr>\n",
       "      <th>1472291</th>\n",
       "      <td>790175</td>\n",
       "      <td>1982.0</td>\n",
       "      <td>NaN</td>\n",
       "      <td>250.0</td>\n",
       "      <td>0.0</td>\n",
       "      <td>100000000.0</td>\n",
       "      <td>기타가족소유</td>\n",
       "      <td>134000000.0</td>\n",
       "      <td>NaN</td>\n",
       "      <td>42</td>\n",
       "      <td>249</td>\n",
       "      <td>7000000.0</td>\n",
       "      <td>11.9</td>\n",
       "      <td>0.0</td>\n",
       "    </tr>\n",
       "    <tr>\n",
       "      <th>1472290</th>\n",
       "      <td>790175</td>\n",
       "      <td>1982.0</td>\n",
       "      <td>NaN</td>\n",
       "      <td>250.0</td>\n",
       "      <td>0.0</td>\n",
       "      <td>100000000.0</td>\n",
       "      <td>기타가족소유</td>\n",
       "      <td>134000000.0</td>\n",
       "      <td>NaN</td>\n",
       "      <td>55</td>\n",
       "      <td>25</td>\n",
       "      <td>18000000.0</td>\n",
       "      <td>13.1</td>\n",
       "      <td>0.0</td>\n",
       "    </tr>\n",
       "    <tr>\n",
       "      <th>1472289</th>\n",
       "      <td>790175</td>\n",
       "      <td>1982.0</td>\n",
       "      <td>NaN</td>\n",
       "      <td>250.0</td>\n",
       "      <td>0.0</td>\n",
       "      <td>100000000.0</td>\n",
       "      <td>기타가족소유</td>\n",
       "      <td>134000000.0</td>\n",
       "      <td>NaN</td>\n",
       "      <td>21</td>\n",
       "      <td>196</td>\n",
       "      <td>10000000.0</td>\n",
       "      <td>10.0</td>\n",
       "      <td>0.0</td>\n",
       "    </tr>\n",
       "    <tr>\n",
       "      <th>...</th>\n",
       "      <td>...</td>\n",
       "      <td>...</td>\n",
       "      <td>...</td>\n",
       "      <td>...</td>\n",
       "      <td>...</td>\n",
       "      <td>...</td>\n",
       "      <td>...</td>\n",
       "      <td>...</td>\n",
       "      <td>...</td>\n",
       "      <td>...</td>\n",
       "      <td>...</td>\n",
       "      <td>...</td>\n",
       "      <td>...</td>\n",
       "      <td>...</td>\n",
       "    </tr>\n",
       "    <tr>\n",
       "      <th>10304453</th>\n",
       "      <td>505633</td>\n",
       "      <td>1988.0</td>\n",
       "      <td>202003.0</td>\n",
       "      <td>1000.0</td>\n",
       "      <td>0.0</td>\n",
       "      <td>30000000.0</td>\n",
       "      <td>기타가족소유</td>\n",
       "      <td>NaN</td>\n",
       "      <td>0.0</td>\n",
       "      <td>19</td>\n",
       "      <td>231</td>\n",
       "      <td>17000000.0</td>\n",
       "      <td>14.8</td>\n",
       "      <td>0.0</td>\n",
       "    </tr>\n",
       "    <tr>\n",
       "      <th>10304452</th>\n",
       "      <td>505633</td>\n",
       "      <td>1988.0</td>\n",
       "      <td>202003.0</td>\n",
       "      <td>1000.0</td>\n",
       "      <td>0.0</td>\n",
       "      <td>30000000.0</td>\n",
       "      <td>기타가족소유</td>\n",
       "      <td>NaN</td>\n",
       "      <td>0.0</td>\n",
       "      <td>34</td>\n",
       "      <td>215</td>\n",
       "      <td>5000000.0</td>\n",
       "      <td>14.9</td>\n",
       "      <td>0.0</td>\n",
       "    </tr>\n",
       "    <tr>\n",
       "      <th>4900971</th>\n",
       "      <td>505633</td>\n",
       "      <td>1988.0</td>\n",
       "      <td>202003.0</td>\n",
       "      <td>1000.0</td>\n",
       "      <td>0.0</td>\n",
       "      <td>30000000.0</td>\n",
       "      <td>기타가족소유</td>\n",
       "      <td>NaN</td>\n",
       "      <td>0.0</td>\n",
       "      <td>13</td>\n",
       "      <td>262</td>\n",
       "      <td>43000000.0</td>\n",
       "      <td>15.5</td>\n",
       "      <td>0.0</td>\n",
       "    </tr>\n",
       "    <tr>\n",
       "      <th>9862631</th>\n",
       "      <td>505633</td>\n",
       "      <td>1988.0</td>\n",
       "      <td>202003.0</td>\n",
       "      <td>1000.0</td>\n",
       "      <td>0.0</td>\n",
       "      <td>30000000.0</td>\n",
       "      <td>기타가족소유</td>\n",
       "      <td>NaN</td>\n",
       "      <td>0.0</td>\n",
       "      <td>3</td>\n",
       "      <td>152</td>\n",
       "      <td>30000000.0</td>\n",
       "      <td>9.9</td>\n",
       "      <td>1.0</td>\n",
       "    </tr>\n",
       "    <tr>\n",
       "      <th>7097704</th>\n",
       "      <td>565482</td>\n",
       "      <td>1984.0</td>\n",
       "      <td>202101.0</td>\n",
       "      <td>1000.0</td>\n",
       "      <td>0.0</td>\n",
       "      <td>30000000.0</td>\n",
       "      <td>기타가족소유</td>\n",
       "      <td>8000000.0</td>\n",
       "      <td>0.0</td>\n",
       "      <td>19</td>\n",
       "      <td>26</td>\n",
       "      <td>50000000.0</td>\n",
       "      <td>12.1</td>\n",
       "      <td>0.0</td>\n",
       "    </tr>\n",
       "  </tbody>\n",
       "</table>\n",
       "<p>8248 rows × 14 columns</p>\n",
       "</div>"
      ],
      "text/plain": [
       "          user_id  birth_year  company_enter_month  credit_score  \\\n",
       "1472294    790175      1982.0                  NaN         250.0   \n",
       "1472292    790175      1982.0                  NaN         250.0   \n",
       "1472291    790175      1982.0                  NaN         250.0   \n",
       "1472290    790175      1982.0                  NaN         250.0   \n",
       "1472289    790175      1982.0                  NaN         250.0   \n",
       "...           ...         ...                  ...           ...   \n",
       "10304453   505633      1988.0             202003.0        1000.0   \n",
       "10304452   505633      1988.0             202003.0        1000.0   \n",
       "4900971    505633      1988.0             202003.0        1000.0   \n",
       "9862631    505633      1988.0             202003.0        1000.0   \n",
       "7097704    565482      1984.0             202101.0        1000.0   \n",
       "\n",
       "          yearly_income  desired_amount houseown_type  existing_loan_amt  \\\n",
       "1472294             0.0     100000000.0        기타가족소유        134000000.0   \n",
       "1472292             0.0     100000000.0        기타가족소유        134000000.0   \n",
       "1472291             0.0     100000000.0        기타가족소유        134000000.0   \n",
       "1472290             0.0     100000000.0        기타가족소유        134000000.0   \n",
       "1472289             0.0     100000000.0        기타가족소유        134000000.0   \n",
       "...                 ...             ...           ...                ...   \n",
       "10304453            0.0      30000000.0        기타가족소유                NaN   \n",
       "10304452            0.0      30000000.0        기타가족소유                NaN   \n",
       "4900971             0.0      30000000.0        기타가족소유                NaN   \n",
       "9862631             0.0      30000000.0        기타가족소유                NaN   \n",
       "7097704             0.0      30000000.0        기타가족소유          8000000.0   \n",
       "\n",
       "          personal_rehabilitation_yn  bank_id  product_id  loan_limit  \\\n",
       "1472294                          NaN       29         265  10000000.0   \n",
       "1472292                          NaN       13         123   6000000.0   \n",
       "1472291                          NaN       42         249   7000000.0   \n",
       "1472290                          NaN       55          25  18000000.0   \n",
       "1472289                          NaN       21         196  10000000.0   \n",
       "...                              ...      ...         ...         ...   \n",
       "10304453                         0.0       19         231  17000000.0   \n",
       "10304452                         0.0       34         215   5000000.0   \n",
       "4900971                          0.0       13         262  43000000.0   \n",
       "9862631                          0.0        3         152  30000000.0   \n",
       "7097704                          0.0       19          26  50000000.0   \n",
       "\n",
       "          loan_rate  is_applied  \n",
       "1472294         8.4         0.0  \n",
       "1472292        17.6         0.0  \n",
       "1472291        11.9         0.0  \n",
       "1472290        13.1         0.0  \n",
       "1472289        10.0         0.0  \n",
       "...             ...         ...  \n",
       "10304453       14.8         0.0  \n",
       "10304452       14.9         0.0  \n",
       "4900971        15.5         0.0  \n",
       "9862631         9.9         1.0  \n",
       "7097704        12.1         0.0  \n",
       "\n",
       "[8248 rows x 14 columns]"
      ]
     },
     "execution_count": 67,
     "metadata": {},
     "output_type": "execute_result"
    }
   ],
   "source": [
    "DF = DF.sort_values('credit_score')\n",
    "DF"
   ]
  },
  {
   "cell_type": "code",
   "execution_count": 106,
   "metadata": {
    "ExecuteTime": {
     "end_time": "2022-10-12T14:18:23.149805Z",
     "start_time": "2022-10-12T14:18:23.112638Z"
    },
    "scrolled": true
   },
   "outputs": [],
   "source": [
    "tmp = pd.concat([DF[DF['is_applied'] == 0].groupby('user_id').count()['is_applied'], DF[DF['is_applied'] == 1].groupby('user_id').count()['is_applied']], axis=1).fillna(0)"
   ]
  },
  {
   "cell_type": "code",
   "execution_count": 107,
   "metadata": {
    "ExecuteTime": {
     "end_time": "2022-10-12T14:18:34.865863Z",
     "start_time": "2022-10-12T14:18:34.844767Z"
    }
   },
   "outputs": [],
   "source": [
    "tmp.columns=[1, 0]\n",
    "tmp['rate'] = tmp[0]/(tmp[1]+tmp[0])"
   ]
  },
  {
   "cell_type": "code",
   "execution_count": 108,
   "metadata": {
    "ExecuteTime": {
     "end_time": "2022-10-12T14:18:46.324061Z",
     "start_time": "2022-10-12T14:18:46.299397Z"
    }
   },
   "outputs": [
    {
     "data": {
      "text/html": [
       "<div>\n",
       "<style scoped>\n",
       "    .dataframe tbody tr th:only-of-type {\n",
       "        vertical-align: middle;\n",
       "    }\n",
       "\n",
       "    .dataframe tbody tr th {\n",
       "        vertical-align: top;\n",
       "    }\n",
       "\n",
       "    .dataframe thead th {\n",
       "        text-align: right;\n",
       "    }\n",
       "</style>\n",
       "<table border=\"1\" class=\"dataframe\">\n",
       "  <thead>\n",
       "    <tr style=\"text-align: right;\">\n",
       "      <th></th>\n",
       "      <th>1</th>\n",
       "      <th>0</th>\n",
       "      <th>rate</th>\n",
       "    </tr>\n",
       "    <tr>\n",
       "      <th>user_id</th>\n",
       "      <th></th>\n",
       "      <th></th>\n",
       "      <th></th>\n",
       "    </tr>\n",
       "  </thead>\n",
       "  <tbody>\n",
       "    <tr>\n",
       "      <th>454</th>\n",
       "      <td>9.0</td>\n",
       "      <td>3.0</td>\n",
       "      <td>0.250000</td>\n",
       "    </tr>\n",
       "    <tr>\n",
       "      <th>1216</th>\n",
       "      <td>22.0</td>\n",
       "      <td>0.0</td>\n",
       "      <td>0.000000</td>\n",
       "    </tr>\n",
       "    <tr>\n",
       "      <th>1525</th>\n",
       "      <td>7.0</td>\n",
       "      <td>0.0</td>\n",
       "      <td>0.000000</td>\n",
       "    </tr>\n",
       "    <tr>\n",
       "      <th>3511</th>\n",
       "      <td>1.0</td>\n",
       "      <td>0.0</td>\n",
       "      <td>0.000000</td>\n",
       "    </tr>\n",
       "    <tr>\n",
       "      <th>3698</th>\n",
       "      <td>22.0</td>\n",
       "      <td>0.0</td>\n",
       "      <td>0.000000</td>\n",
       "    </tr>\n",
       "    <tr>\n",
       "      <th>...</th>\n",
       "      <td>...</td>\n",
       "      <td>...</td>\n",
       "      <td>...</td>\n",
       "    </tr>\n",
       "    <tr>\n",
       "      <th>875159</th>\n",
       "      <td>24.0</td>\n",
       "      <td>3.0</td>\n",
       "      <td>0.111111</td>\n",
       "    </tr>\n",
       "    <tr>\n",
       "      <th>876683</th>\n",
       "      <td>3.0</td>\n",
       "      <td>0.0</td>\n",
       "      <td>0.000000</td>\n",
       "    </tr>\n",
       "    <tr>\n",
       "      <th>876990</th>\n",
       "      <td>0.0</td>\n",
       "      <td>1.0</td>\n",
       "      <td>1.000000</td>\n",
       "    </tr>\n",
       "    <tr>\n",
       "      <th>877378</th>\n",
       "      <td>14.0</td>\n",
       "      <td>0.0</td>\n",
       "      <td>0.000000</td>\n",
       "    </tr>\n",
       "    <tr>\n",
       "      <th>878380</th>\n",
       "      <td>13.0</td>\n",
       "      <td>0.0</td>\n",
       "      <td>0.000000</td>\n",
       "    </tr>\n",
       "  </tbody>\n",
       "</table>\n",
       "<p>952 rows × 3 columns</p>\n",
       "</div>"
      ],
      "text/plain": [
       "            1    0      rate\n",
       "user_id                     \n",
       "454       9.0  3.0  0.250000\n",
       "1216     22.0  0.0  0.000000\n",
       "1525      7.0  0.0  0.000000\n",
       "3511      1.0  0.0  0.000000\n",
       "3698     22.0  0.0  0.000000\n",
       "...       ...  ...       ...\n",
       "875159   24.0  3.0  0.111111\n",
       "876683    3.0  0.0  0.000000\n",
       "876990    0.0  1.0  1.000000\n",
       "877378   14.0  0.0  0.000000\n",
       "878380   13.0  0.0  0.000000\n",
       "\n",
       "[952 rows x 3 columns]"
      ]
     },
     "execution_count": 108,
     "metadata": {},
     "output_type": "execute_result"
    }
   ],
   "source": [
    "tmp"
   ]
  },
  {
   "cell_type": "code",
   "execution_count": 95,
   "metadata": {
    "ExecuteTime": {
     "end_time": "2022-10-12T14:13:33.186148Z",
     "start_time": "2022-10-12T14:13:33.150089Z"
    }
   },
   "outputs": [
    {
     "data": {
      "text/plain": [
       "user_id\n",
       "454       3\n",
       "7760      1\n",
       "9030      1\n",
       "9973      1\n",
       "10044     2\n",
       "         ..\n",
       "870965    3\n",
       "872721    2\n",
       "874470    1\n",
       "875159    3\n",
       "876990    1\n",
       "Name: is_applied, Length: 588, dtype: int64"
      ]
     },
     "execution_count": 95,
     "metadata": {},
     "output_type": "execute_result"
    }
   ],
   "source": [
    "DF[DF['is_applied'] == 1].groupby('user_id').count()['is_applied']"
   ]
  },
  {
   "cell_type": "code",
   "execution_count": 89,
   "metadata": {
    "ExecuteTime": {
     "end_time": "2022-10-12T14:09:04.555925Z",
     "start_time": "2022-10-12T14:09:02.355103Z"
    }
   },
   "outputs": [],
   "source": [
    "res = pd.DataFrame()\n",
    "for user in set(tmp['user_id']):\n",
    "    res= pd.concat([res,tmp[tmp['user_id'] == user]['is_applied'].value_counts()])    "
   ]
  },
  {
   "cell_type": "code",
   "execution_count": 90,
   "metadata": {
    "ExecuteTime": {
     "end_time": "2022-10-12T14:09:06.919990Z",
     "start_time": "2022-10-12T14:09:06.897870Z"
    }
   },
   "outputs": [
    {
     "data": {
      "text/html": [
       "<div>\n",
       "<style scoped>\n",
       "    .dataframe tbody tr th:only-of-type {\n",
       "        vertical-align: middle;\n",
       "    }\n",
       "\n",
       "    .dataframe tbody tr th {\n",
       "        vertical-align: top;\n",
       "    }\n",
       "\n",
       "    .dataframe thead th {\n",
       "        text-align: right;\n",
       "    }\n",
       "</style>\n",
       "<table border=\"1\" class=\"dataframe\">\n",
       "  <thead>\n",
       "    <tr style=\"text-align: right;\">\n",
       "      <th></th>\n",
       "      <th>0</th>\n",
       "    </tr>\n",
       "  </thead>\n",
       "  <tbody>\n",
       "    <tr>\n",
       "      <th>0.0</th>\n",
       "      <td>3.0</td>\n",
       "    </tr>\n",
       "    <tr>\n",
       "      <th>0.0</th>\n",
       "      <td>18.0</td>\n",
       "    </tr>\n",
       "    <tr>\n",
       "      <th>1.0</th>\n",
       "      <td>4.0</td>\n",
       "    </tr>\n",
       "    <tr>\n",
       "      <th>0.0</th>\n",
       "      <td>1.0</td>\n",
       "    </tr>\n",
       "    <tr>\n",
       "      <th>0.0</th>\n",
       "      <td>7.0</td>\n",
       "    </tr>\n",
       "    <tr>\n",
       "      <th>...</th>\n",
       "      <td>...</td>\n",
       "    </tr>\n",
       "    <tr>\n",
       "      <th>0.0</th>\n",
       "      <td>7.0</td>\n",
       "    </tr>\n",
       "    <tr>\n",
       "      <th>0.0</th>\n",
       "      <td>2.0</td>\n",
       "    </tr>\n",
       "    <tr>\n",
       "      <th>1.0</th>\n",
       "      <td>1.0</td>\n",
       "    </tr>\n",
       "    <tr>\n",
       "      <th>0.0</th>\n",
       "      <td>33.0</td>\n",
       "    </tr>\n",
       "    <tr>\n",
       "      <th>1.0</th>\n",
       "      <td>1.0</td>\n",
       "    </tr>\n",
       "  </tbody>\n",
       "</table>\n",
       "<p>1402 rows × 1 columns</p>\n",
       "</div>"
      ],
      "text/plain": [
       "        0\n",
       "0.0   3.0\n",
       "0.0  18.0\n",
       "1.0   4.0\n",
       "0.0   1.0\n",
       "0.0   7.0\n",
       "..    ...\n",
       "0.0   7.0\n",
       "0.0   2.0\n",
       "1.0   1.0\n",
       "0.0  33.0\n",
       "1.0   1.0\n",
       "\n",
       "[1402 rows x 1 columns]"
      ]
     },
     "execution_count": 90,
     "metadata": {},
     "output_type": "execute_result"
    }
   ],
   "source": [
    "res"
   ]
  }
 ],
 "metadata": {
  "kernelspec": {
   "display_name": "Python 3",
   "language": "python",
   "name": "python3"
  },
  "language_info": {
   "codemirror_mode": {
    "name": "ipython",
    "version": 3
   },
   "file_extension": ".py",
   "mimetype": "text/x-python",
   "name": "python",
   "nbconvert_exporter": "python",
   "pygments_lexer": "ipython3",
   "version": "3.7.6"
  },
  "toc": {
   "base_numbering": 1,
   "nav_menu": {},
   "number_sections": true,
   "sideBar": true,
   "skip_h1_title": false,
   "title_cell": "Table of Contents",
   "title_sidebar": "Contents",
   "toc_cell": false,
   "toc_position": {},
   "toc_section_display": true,
   "toc_window_display": false
  }
 },
 "nbformat": 4,
 "nbformat_minor": 4
}
