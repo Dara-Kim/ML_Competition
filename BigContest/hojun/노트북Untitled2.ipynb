{
 "cells": [
  {
   "cell_type": "code",
   "execution_count": 1,
   "id": "64395748",
   "metadata": {
    "ExecuteTime": {
     "end_time": "2022-10-12T20:11:13.195363Z",
     "start_time": "2022-10-12T20:11:11.716211Z"
    }
   },
   "outputs": [],
   "source": [
    "import pandas as pd\n",
    "import numpy as np\n",
    "import os\n",
    "import random\n",
    "from copy import deepcopy\n",
    "import math\n",
    "from itertools import product\n",
    "import pickle\n",
    "import joblib\n",
    "\n",
    "import matplotlib.pyplot as plt\n",
    "import seaborn as sb\n",
    "\n",
    "from sklearn.ensemble import RandomForestClassifier\n",
    "from sklearn.model_selection import train_test_split\n",
    "from sklearn.metrics import f1_score, confusion_matrix, ConfusionMatrixDisplay"
   ]
  },
  {
   "cell_type": "code",
   "execution_count": 2,
   "id": "ba490122",
   "metadata": {
    "ExecuteTime": {
     "end_time": "2022-10-12T20:12:21.503514Z",
     "start_time": "2022-10-12T20:11:59.839590Z"
    }
   },
   "outputs": [],
   "source": [
    "log_data = pd.read_csv('./data/log_data.csv')"
   ]
  },
  {
   "cell_type": "code",
   "execution_count": 4,
   "id": "ddbc86ce",
   "metadata": {
    "ExecuteTime": {
     "end_time": "2022-10-12T20:14:16.843613Z",
     "start_time": "2022-10-12T20:13:00.533576Z"
    }
   },
   "outputs": [],
   "source": [
    "merged_data = pd.read_csv('./customData/merged_user_loan.csv',index_col=0)"
   ]
  },
  {
   "cell_type": "code",
   "execution_count": null,
   "id": "82dd920d",
   "metadata": {},
   "outputs": [],
   "source": [
    "merged_data"
   ]
  }
 ],
 "metadata": {
  "kernelspec": {
   "display_name": "Python 3 (ipykernel)",
   "language": "python",
   "name": "python3"
  },
  "language_info": {
   "codemirror_mode": {
    "name": "ipython",
    "version": 3
   },
   "file_extension": ".py",
   "mimetype": "text/x-python",
   "name": "python",
   "nbconvert_exporter": "python",
   "pygments_lexer": "ipython3",
   "version": "3.8.10"
  },
  "toc": {
   "base_numbering": 1,
   "nav_menu": {},
   "number_sections": true,
   "sideBar": true,
   "skip_h1_title": false,
   "title_cell": "Table of Contents",
   "title_sidebar": "Contents",
   "toc_cell": false,
   "toc_position": {},
   "toc_section_display": true,
   "toc_window_display": false
  }
 },
 "nbformat": 4,
 "nbformat_minor": 5
}
