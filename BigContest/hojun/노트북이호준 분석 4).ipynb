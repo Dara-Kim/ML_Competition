{
 "cells": [
  {
   "cell_type": "code",
   "execution_count": 46,
   "id": "ce124353",
   "metadata": {
    "ExecuteTime": {
     "end_time": "2022-10-08T13:00:24.794017Z",
     "start_time": "2022-10-08T13:00:24.787173Z"
    }
   },
   "outputs": [],
   "source": [
    "import pandas as pd\n",
    "import numpy as np\n",
    "import os\n",
    "import random\n",
    "\n",
    "import matplotlib.pyplot as plt\n",
    "import seaborn as sb\n",
    "\n",
    "from sklearn.ensemble import RandomForestClassifier\n",
    "from sklearn.model_selection import train_test_split\n",
    "from sklearn.metrics import f1_score\n",
    "\n",
    "import pickle\n",
    "import joblib"
   ]
  },
  {
   "cell_type": "code",
   "execution_count": 2,
   "id": "1cc9e444",
   "metadata": {
    "ExecuteTime": {
     "end_time": "2022-10-08T12:04:04.726270Z",
     "start_time": "2022-10-08T12:03:29.595418Z"
    }
   },
   "outputs": [],
   "source": [
    "user_df = pd.read_csv('./data/user_spec.csv')\n",
    "loan_df = pd.read_csv('./data/loan_result.csv')\n",
    "log_df = pd.read_csv('./data/log_data.csv' )"
   ]
  },
  {
   "cell_type": "code",
   "execution_count": 4,
   "id": "3e4b311d",
   "metadata": {
    "ExecuteTime": {
     "end_time": "2022-10-08T12:25:36.809881Z",
     "start_time": "2022-10-08T12:25:36.132591Z"
    }
   },
   "outputs": [
    {
     "data": {
      "text/plain": [
       "application_id                 0\n",
       "loanapply_insert_time          0\n",
       "bank_id                        0\n",
       "product_id                     0\n",
       "loan_limit                  7495\n",
       "loan_rate                   7495\n",
       "is_applied               3257239\n",
       "dtype: int64"
      ]
     },
     "execution_count": 4,
     "metadata": {},
     "output_type": "execute_result"
    }
   ],
   "source": [
    "loan_df.isnull().sum()"
   ]
  },
  {
   "cell_type": "code",
   "execution_count": null,
   "id": "4822507a",
   "metadata": {},
   "outputs": [],
   "source": []
  },
  {
   "cell_type": "code",
   "execution_count": 6,
   "id": "c4e97017",
   "metadata": {
    "ExecuteTime": {
     "end_time": "2022-10-08T12:27:16.575977Z",
     "start_time": "2022-10-08T12:27:13.875804Z"
    }
   },
   "outputs": [],
   "source": [
    "data = loan_df.dropna(axis=0)"
   ]
  },
  {
   "cell_type": "code",
   "execution_count": 7,
   "id": "a1bc975e",
   "metadata": {
    "ExecuteTime": {
     "end_time": "2022-10-08T12:27:23.316194Z",
     "start_time": "2022-10-08T12:27:23.310185Z"
    }
   },
   "outputs": [
    {
     "data": {
      "text/plain": [
       "(10264386, 7)"
      ]
     },
     "execution_count": 7,
     "metadata": {},
     "output_type": "execute_result"
    }
   ],
   "source": [
    "data.shape"
   ]
  },
  {
   "cell_type": "code",
   "execution_count": 23,
   "id": "3543ce51",
   "metadata": {
    "ExecuteTime": {
     "end_time": "2022-10-08T12:36:56.448007Z",
     "start_time": "2022-10-08T12:36:55.836178Z"
    }
   },
   "outputs": [],
   "source": [
    "set1 = data.sample(n=100_000)\n",
    "set1 =set1.drop(['loanapply_insert_time'], axis=1)"
   ]
  },
  {
   "cell_type": "code",
   "execution_count": 24,
   "id": "e7887ded",
   "metadata": {
    "ExecuteTime": {
     "end_time": "2022-10-08T12:37:00.478703Z",
     "start_time": "2022-10-08T12:37:00.432013Z"
    }
   },
   "outputs": [],
   "source": [
    "with open('./mydata/set1.txt', 'w') as f:\n",
    "    f.write('\\n'.join(map(str, set1.index)))"
   ]
  },
  {
   "cell_type": "code",
   "execution_count": 25,
   "id": "a91dc5b9",
   "metadata": {
    "ExecuteTime": {
     "end_time": "2022-10-08T12:37:01.081564Z",
     "start_time": "2022-10-08T12:37:01.061122Z"
    }
   },
   "outputs": [],
   "source": [
    "X,y= set1.loc[:, set1.columns !='is_applied'] ,set1['is_applied']\n",
    "X_train, X_test, y_train, y_test= train_test_split(X,y, test_size=0.2, random_state=42)"
   ]
  },
  {
   "cell_type": "code",
   "execution_count": 26,
   "id": "82d838d2",
   "metadata": {
    "ExecuteTime": {
     "end_time": "2022-10-08T12:37:01.672415Z",
     "start_time": "2022-10-08T12:37:01.668981Z"
    }
   },
   "outputs": [],
   "source": [
    "model_1=RandomForestClassifier(random_state=42)"
   ]
  },
  {
   "cell_type": "code",
   "execution_count": 27,
   "id": "ac5e07a3",
   "metadata": {
    "ExecuteTime": {
     "end_time": "2022-10-08T12:37:12.811983Z",
     "start_time": "2022-10-08T12:37:02.854476Z"
    }
   },
   "outputs": [
    {
     "data": {
      "text/plain": [
       "RandomForestClassifier(random_state=42)"
      ]
     },
     "execution_count": 27,
     "metadata": {},
     "output_type": "execute_result"
    }
   ],
   "source": [
    "model_1.fit(X_train,y_train)"
   ]
  },
  {
   "cell_type": "code",
   "execution_count": 28,
   "id": "7b0d99d3",
   "metadata": {
    "ExecuteTime": {
     "end_time": "2022-10-08T12:37:13.256426Z",
     "start_time": "2022-10-08T12:37:12.815628Z"
    }
   },
   "outputs": [
    {
     "data": {
      "text/plain": [
       "0.93625"
      ]
     },
     "execution_count": 28,
     "metadata": {},
     "output_type": "execute_result"
    }
   ],
   "source": [
    "model_1.score(X_test,y_test)"
   ]
  },
  {
   "cell_type": "code",
   "execution_count": 29,
   "id": "5c946efc",
   "metadata": {
    "ExecuteTime": {
     "end_time": "2022-10-08T12:40:17.629286Z",
     "start_time": "2022-10-08T12:40:17.623592Z"
    }
   },
   "outputs": [
    {
     "name": "stdout",
     "output_type": "stream",
     "text": [
      "RandomForestClassifier(random_state=42)\n"
     ]
    }
   ],
   "source": [
    "print(model_1)"
   ]
  },
  {
   "cell_type": "code",
   "execution_count": 33,
   "id": "35703861",
   "metadata": {
    "ExecuteTime": {
     "end_time": "2022-10-08T12:41:27.920524Z",
     "start_time": "2022-10-08T12:41:27.634600Z"
    }
   },
   "outputs": [],
   "source": [
    "saved_model = pickle.dumps(model_1)"
   ]
  },
  {
   "cell_type": "code",
   "execution_count": 34,
   "id": "e6e10033",
   "metadata": {
    "ExecuteTime": {
     "end_time": "2022-10-08T12:41:48.169461Z",
     "start_time": "2022-10-08T12:41:48.164874Z"
    }
   },
   "outputs": [],
   "source": [
    "os.mkdir('./model')"
   ]
  },
  {
   "cell_type": "code",
   "execution_count": 45,
   "id": "9d7e8906",
   "metadata": {
    "ExecuteTime": {
     "end_time": "2022-10-08T12:47:21.389395Z",
     "start_time": "2022-10-08T12:47:21.357903Z"
    }
   },
   "outputs": [
    {
     "data": {
      "text/plain": [
       "['./model/set1.pkl']"
      ]
     },
     "execution_count": 45,
     "metadata": {},
     "output_type": "execute_result"
    }
   ],
   "source": [
    "joblib.dump(set1, './model/set1.pkl') "
   ]
  },
  {
   "cell_type": "code",
   "execution_count": 47,
   "id": "db7385df",
   "metadata": {
    "ExecuteTime": {
     "end_time": "2022-10-08T13:30:19.206769Z",
     "start_time": "2022-10-08T13:30:19.202554Z"
    }
   },
   "outputs": [],
   "source": [
    "result =dict()"
   ]
  },
  {
   "cell_type": "code",
   "execution_count": 48,
   "id": "c391c2d9",
   "metadata": {
    "ExecuteTime": {
     "end_time": "2022-10-08T13:30:43.955304Z",
     "start_time": "2022-10-08T13:30:43.949738Z"
    }
   },
   "outputs": [],
   "source": [
    "with open('./a.json','w') as f:\n",
    "    json.dump(result, f)"
   ]
  }
 ],
 "metadata": {
  "kernelspec": {
   "display_name": "Python 3 (ipykernel)",
   "language": "python",
   "name": "python3"
  },
  "language_info": {
   "codemirror_mode": {
    "name": "ipython",
    "version": 3
   },
   "file_extension": ".py",
   "mimetype": "text/x-python",
   "name": "python",
   "nbconvert_exporter": "python",
   "pygments_lexer": "ipython3",
   "version": "3.8.10"
  },
  "toc": {
   "base_numbering": 1,
   "nav_menu": {},
   "number_sections": true,
   "sideBar": true,
   "skip_h1_title": false,
   "title_cell": "Table of Contents",
   "title_sidebar": "Contents",
   "toc_cell": false,
   "toc_position": {},
   "toc_section_display": true,
   "toc_window_display": false
  }
 },
 "nbformat": 4,
 "nbformat_minor": 5
}
