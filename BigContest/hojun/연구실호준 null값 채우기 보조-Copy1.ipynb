{
 "cells": [
  {
   "cell_type": "code",
   "execution_count": 1,
   "id": "6c8381e5",
   "metadata": {
    "ExecuteTime": {
     "end_time": "2022-10-13T05:43:13.138481Z",
     "start_time": "2022-10-13T05:43:11.885187Z"
    }
   },
   "outputs": [],
   "source": [
    "import pandas as pd\n",
    "import numpy as np\n",
    "import os\n",
    "import random\n",
    "from copy import deepcopy\n",
    "import math\n",
    "from itertools import product\n",
    "import pickle\n",
    "import joblib\n",
    "from tqdm import tqdm\n",
    "\n",
    "import matplotlib.pyplot as plt\n",
    "import seaborn as sb\n",
    "\n",
    "from sklearn.ensemble import RandomForestClassifier\n",
    "from sklearn.model_selection import train_test_split\n",
    "from sklearn.metrics import f1_score, confusion_matrix, ConfusionMatrixDisplay"
   ]
  },
  {
   "cell_type": "code",
   "execution_count": 2,
   "id": "1f001d22",
   "metadata": {
    "ExecuteTime": {
     "end_time": "2022-10-13T05:43:13.261841Z",
     "start_time": "2022-10-13T05:43:13.151191Z"
    }
   },
   "outputs": [],
   "source": [
    "idx_df=pd.read_csv('./customData/idx.csv',index_col=0)\n",
    "idx_df.columns=['idx','user_id']"
   ]
  },
  {
   "cell_type": "code",
   "execution_count": 3,
   "id": "30768860",
   "metadata": {
    "ExecuteTime": {
     "end_time": "2022-10-13T05:44:12.273638Z",
     "start_time": "2022-10-13T05:43:17.712414Z"
    }
   },
   "outputs": [],
   "source": [
    "merged_df=pd.read_csv('./customData/work_target.csv',index_col=0)"
   ]
  },
  {
   "cell_type": "code",
   "execution_count": 4,
   "id": "66313157",
   "metadata": {
    "ExecuteTime": {
     "end_time": "2022-10-13T05:44:42.928767Z",
     "start_time": "2022-10-13T05:44:42.925354Z"
    }
   },
   "outputs": [],
   "source": [
    "start = 20_0000"
   ]
  },
  {
   "cell_type": "code",
   "execution_count": 5,
   "id": "af46a53c",
   "metadata": {
    "ExecuteTime": {
     "end_time": "2022-10-13T06:45:16.105895Z",
     "start_time": "2022-10-13T05:45:20.460633Z"
    }
   },
   "outputs": [
    {
     "name": "stderr",
     "output_type": "stream",
     "text": [
      "100%|█████████████████████████████████████████████████████████████████████████████| 50000/50000 [59:55<00:00, 13.91it/s]\n"
     ]
    }
   ],
   "source": [
    "result = pd.DataFrame()\n",
    "for i in tqdm(range(start, start+5_0000)):\n",
    "    idx=idx_df.loc[i][0]\n",
    "    result= pd.concat([result, merged_df.iloc[idx:idx_df.loc[i+1][0]].fillna(method='ffill').fillna(method='bfill')])"
   ]
  },
  {
   "cell_type": "code",
   "execution_count": 6,
   "id": "5aad3489",
   "metadata": {
    "ExecuteTime": {
     "end_time": "2022-10-13T06:45:45.274530Z",
     "start_time": "2022-10-13T06:45:45.195751Z"
    }
   },
   "outputs": [
    {
     "data": {
      "text/html": [
       "<div>\n",
       "<style scoped>\n",
       "    .dataframe tbody tr th:only-of-type {\n",
       "        vertical-align: middle;\n",
       "    }\n",
       "\n",
       "    .dataframe tbody tr th {\n",
       "        vertical-align: top;\n",
       "    }\n",
       "\n",
       "    .dataframe thead th {\n",
       "        text-align: right;\n",
       "    }\n",
       "</style>\n",
       "<table border=\"1\" class=\"dataframe\">\n",
       "  <thead>\n",
       "    <tr style=\"text-align: right;\">\n",
       "      <th></th>\n",
       "      <th>index</th>\n",
       "      <th>application_id</th>\n",
       "      <th>user_id</th>\n",
       "      <th>birth_year</th>\n",
       "      <th>gender</th>\n",
       "      <th>insert_time</th>\n",
       "      <th>credit_score</th>\n",
       "      <th>yearly_income</th>\n",
       "      <th>income_type</th>\n",
       "      <th>company_enter_month</th>\n",
       "      <th>...</th>\n",
       "      <th>personal_rehabilitation_yn</th>\n",
       "      <th>personal_rehabilitation_complete_yn</th>\n",
       "      <th>existing_loan_cnt</th>\n",
       "      <th>existing_loan_amt</th>\n",
       "      <th>loanapply_insert_time</th>\n",
       "      <th>bank_id</th>\n",
       "      <th>product_id</th>\n",
       "      <th>loan_limit</th>\n",
       "      <th>loan_rate</th>\n",
       "      <th>is_applied</th>\n",
       "    </tr>\n",
       "  </thead>\n",
       "  <tbody>\n",
       "    <tr>\n",
       "      <th>8514136</th>\n",
       "      <td>9581769</td>\n",
       "      <td>1828809</td>\n",
       "      <td>553693</td>\n",
       "      <td>1970.0</td>\n",
       "      <td>0.0</td>\n",
       "      <td>2022-06-20 12:34:21</td>\n",
       "      <td>700.0</td>\n",
       "      <td>40000000.0</td>\n",
       "      <td>EARNEDINCOME</td>\n",
       "      <td>20200701.0</td>\n",
       "      <td>...</td>\n",
       "      <td>0.0</td>\n",
       "      <td>NaN</td>\n",
       "      <td>5.0</td>\n",
       "      <td>56000000.0</td>\n",
       "      <td>2022-06-20 12:34:22</td>\n",
       "      <td>55</td>\n",
       "      <td>25</td>\n",
       "      <td>19000000.0</td>\n",
       "      <td>17.4</td>\n",
       "      <td>NaN</td>\n",
       "    </tr>\n",
       "    <tr>\n",
       "      <th>8514137</th>\n",
       "      <td>9581776</td>\n",
       "      <td>1828809</td>\n",
       "      <td>553693</td>\n",
       "      <td>1970.0</td>\n",
       "      <td>0.0</td>\n",
       "      <td>2022-06-20 12:34:21</td>\n",
       "      <td>700.0</td>\n",
       "      <td>40000000.0</td>\n",
       "      <td>EARNEDINCOME</td>\n",
       "      <td>20200701.0</td>\n",
       "      <td>...</td>\n",
       "      <td>0.0</td>\n",
       "      <td>NaN</td>\n",
       "      <td>5.0</td>\n",
       "      <td>56000000.0</td>\n",
       "      <td>2022-06-20 12:34:22</td>\n",
       "      <td>42</td>\n",
       "      <td>216</td>\n",
       "      <td>10000000.0</td>\n",
       "      <td>13.9</td>\n",
       "      <td>NaN</td>\n",
       "    </tr>\n",
       "    <tr>\n",
       "      <th>8514138</th>\n",
       "      <td>9581779</td>\n",
       "      <td>1828809</td>\n",
       "      <td>553693</td>\n",
       "      <td>1970.0</td>\n",
       "      <td>0.0</td>\n",
       "      <td>2022-06-20 12:34:21</td>\n",
       "      <td>700.0</td>\n",
       "      <td>40000000.0</td>\n",
       "      <td>EARNEDINCOME</td>\n",
       "      <td>20200701.0</td>\n",
       "      <td>...</td>\n",
       "      <td>0.0</td>\n",
       "      <td>NaN</td>\n",
       "      <td>5.0</td>\n",
       "      <td>56000000.0</td>\n",
       "      <td>2022-06-20 12:34:22</td>\n",
       "      <td>38</td>\n",
       "      <td>223</td>\n",
       "      <td>21000000.0</td>\n",
       "      <td>10.8</td>\n",
       "      <td>NaN</td>\n",
       "    </tr>\n",
       "    <tr>\n",
       "      <th>8514139</th>\n",
       "      <td>9581781</td>\n",
       "      <td>1828809</td>\n",
       "      <td>553693</td>\n",
       "      <td>1970.0</td>\n",
       "      <td>0.0</td>\n",
       "      <td>2022-06-20 12:34:21</td>\n",
       "      <td>700.0</td>\n",
       "      <td>40000000.0</td>\n",
       "      <td>EARNEDINCOME</td>\n",
       "      <td>20200701.0</td>\n",
       "      <td>...</td>\n",
       "      <td>0.0</td>\n",
       "      <td>NaN</td>\n",
       "      <td>5.0</td>\n",
       "      <td>56000000.0</td>\n",
       "      <td>2022-06-20 12:34:22</td>\n",
       "      <td>13</td>\n",
       "      <td>262</td>\n",
       "      <td>25000000.0</td>\n",
       "      <td>15.0</td>\n",
       "      <td>NaN</td>\n",
       "    </tr>\n",
       "    <tr>\n",
       "      <th>8514140</th>\n",
       "      <td>9581786</td>\n",
       "      <td>1828809</td>\n",
       "      <td>553693</td>\n",
       "      <td>1970.0</td>\n",
       "      <td>0.0</td>\n",
       "      <td>2022-06-20 12:34:21</td>\n",
       "      <td>700.0</td>\n",
       "      <td>40000000.0</td>\n",
       "      <td>EARNEDINCOME</td>\n",
       "      <td>20200701.0</td>\n",
       "      <td>...</td>\n",
       "      <td>0.0</td>\n",
       "      <td>NaN</td>\n",
       "      <td>5.0</td>\n",
       "      <td>56000000.0</td>\n",
       "      <td>2022-06-20 12:34:22</td>\n",
       "      <td>50</td>\n",
       "      <td>142</td>\n",
       "      <td>45000000.0</td>\n",
       "      <td>10.1</td>\n",
       "      <td>NaN</td>\n",
       "    </tr>\n",
       "  </tbody>\n",
       "</table>\n",
       "<p>5 rows × 24 columns</p>\n",
       "</div>"
      ],
      "text/plain": [
       "           index  application_id  user_id  birth_year  gender  \\\n",
       "8514136  9581769         1828809   553693      1970.0     0.0   \n",
       "8514137  9581776         1828809   553693      1970.0     0.0   \n",
       "8514138  9581779         1828809   553693      1970.0     0.0   \n",
       "8514139  9581781         1828809   553693      1970.0     0.0   \n",
       "8514140  9581786         1828809   553693      1970.0     0.0   \n",
       "\n",
       "                 insert_time  credit_score  yearly_income   income_type  \\\n",
       "8514136  2022-06-20 12:34:21         700.0     40000000.0  EARNEDINCOME   \n",
       "8514137  2022-06-20 12:34:21         700.0     40000000.0  EARNEDINCOME   \n",
       "8514138  2022-06-20 12:34:21         700.0     40000000.0  EARNEDINCOME   \n",
       "8514139  2022-06-20 12:34:21         700.0     40000000.0  EARNEDINCOME   \n",
       "8514140  2022-06-20 12:34:21         700.0     40000000.0  EARNEDINCOME   \n",
       "\n",
       "         company_enter_month  ... personal_rehabilitation_yn  \\\n",
       "8514136           20200701.0  ...                        0.0   \n",
       "8514137           20200701.0  ...                        0.0   \n",
       "8514138           20200701.0  ...                        0.0   \n",
       "8514139           20200701.0  ...                        0.0   \n",
       "8514140           20200701.0  ...                        0.0   \n",
       "\n",
       "        personal_rehabilitation_complete_yn  existing_loan_cnt  \\\n",
       "8514136                                 NaN                5.0   \n",
       "8514137                                 NaN                5.0   \n",
       "8514138                                 NaN                5.0   \n",
       "8514139                                 NaN                5.0   \n",
       "8514140                                 NaN                5.0   \n",
       "\n",
       "        existing_loan_amt  loanapply_insert_time  bank_id  product_id  \\\n",
       "8514136        56000000.0    2022-06-20 12:34:22       55          25   \n",
       "8514137        56000000.0    2022-06-20 12:34:22       42         216   \n",
       "8514138        56000000.0    2022-06-20 12:34:22       38         223   \n",
       "8514139        56000000.0    2022-06-20 12:34:22       13         262   \n",
       "8514140        56000000.0    2022-06-20 12:34:22       50         142   \n",
       "\n",
       "         loan_limit loan_rate  is_applied  \n",
       "8514136  19000000.0      17.4         NaN  \n",
       "8514137  10000000.0      13.9         NaN  \n",
       "8514138  21000000.0      10.8         NaN  \n",
       "8514139  25000000.0      15.0         NaN  \n",
       "8514140  45000000.0      10.1         NaN  \n",
       "\n",
       "[5 rows x 24 columns]"
      ]
     },
     "execution_count": 6,
     "metadata": {},
     "output_type": "execute_result"
    }
   ],
   "source": [
    "result.head()"
   ]
  },
  {
   "cell_type": "code",
   "execution_count": 7,
   "id": "5f0ff04f",
   "metadata": {
    "ExecuteTime": {
     "end_time": "2022-10-13T06:46:10.825221Z",
     "start_time": "2022-10-13T06:45:54.210840Z"
    }
   },
   "outputs": [],
   "source": [
    "result.to_csv('./customData/result2.csv')"
   ]
  }
 ],
 "metadata": {
  "kernelspec": {
   "display_name": "Python 3 (ipykernel)",
   "language": "python",
   "name": "python3"
  },
  "language_info": {
   "codemirror_mode": {
    "name": "ipython",
    "version": 3
   },
   "file_extension": ".py",
   "mimetype": "text/x-python",
   "name": "python",
   "nbconvert_exporter": "python",
   "pygments_lexer": "ipython3",
   "version": "3.8.10"
  },
  "toc": {
   "base_numbering": 1,
   "nav_menu": {},
   "number_sections": true,
   "sideBar": true,
   "skip_h1_title": false,
   "title_cell": "Table of Contents",
   "title_sidebar": "Contents",
   "toc_cell": false,
   "toc_position": {},
   "toc_section_display": true,
   "toc_window_display": false
  },
  "varInspector": {
   "cols": {
    "lenName": 16,
    "lenType": 16,
    "lenVar": 40
   },
   "kernels_config": {
    "python": {
     "delete_cmd_postfix": "",
     "delete_cmd_prefix": "del ",
     "library": "var_list.py",
     "varRefreshCmd": "print(var_dic_list())"
    },
    "r": {
     "delete_cmd_postfix": ") ",
     "delete_cmd_prefix": "rm(",
     "library": "var_list.r",
     "varRefreshCmd": "cat(var_dic_list()) "
    }
   },
   "types_to_exclude": [
    "module",
    "function",
    "builtin_function_or_method",
    "instance",
    "_Feature"
   ],
   "window_display": false
  }
 },
 "nbformat": 4,
 "nbformat_minor": 5
}
