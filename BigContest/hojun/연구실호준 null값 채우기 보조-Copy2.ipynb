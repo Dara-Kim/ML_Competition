{
 "cells": [
  {
   "cell_type": "code",
   "execution_count": 4,
   "id": "6c8381e5",
   "metadata": {
    "ExecuteTime": {
     "end_time": "2022-10-13T05:48:57.655206Z",
     "start_time": "2022-10-13T05:48:57.650852Z"
    }
   },
   "outputs": [],
   "source": [
    "import pandas as pd\n",
    "import numpy as np\n",
    "import os\n",
    "import random\n",
    "from copy import deepcopy\n",
    "import math\n",
    "from itertools import product\n",
    "import pickle\n",
    "import joblib\n",
    "from tqdm import tqdm\n",
    "\n",
    "import matplotlib.pyplot as plt\n",
    "import seaborn as sb\n",
    "\n",
    "from sklearn.ensemble import RandomForestClassifier\n",
    "from sklearn.model_selection import train_test_split\n",
    "from sklearn.metrics import f1_score, confusion_matrix, ConfusionMatrixDisplay"
   ]
  },
  {
   "cell_type": "code",
   "execution_count": 5,
   "id": "1f001d22",
   "metadata": {
    "ExecuteTime": {
     "end_time": "2022-10-13T05:49:07.883980Z",
     "start_time": "2022-10-13T05:49:07.805180Z"
    }
   },
   "outputs": [],
   "source": [
    "idx_df=pd.read_csv('./customData/idx.csv',index_col=0)\n",
    "idx_df.columns=['idx','user_id']"
   ]
  },
  {
   "cell_type": "code",
   "execution_count": 6,
   "id": "30768860",
   "metadata": {
    "ExecuteTime": {
     "end_time": "2022-10-13T05:50:21.781329Z",
     "start_time": "2022-10-13T05:49:18.046630Z"
    }
   },
   "outputs": [],
   "source": [
    "merged_df=pd.read_csv('./customData/work_target.csv',index_col=0)"
   ]
  },
  {
   "cell_type": "code",
   "execution_count": 7,
   "id": "66313157",
   "metadata": {
    "ExecuteTime": {
     "end_time": "2022-10-13T05:50:32.599656Z",
     "start_time": "2022-10-13T05:50:32.596656Z"
    }
   },
   "outputs": [],
   "source": [
    "start = 25_0000"
   ]
  },
  {
   "cell_type": "code",
   "execution_count": 8,
   "id": "af46a53c",
   "metadata": {
    "ExecuteTime": {
     "end_time": "2022-10-13T06:49:39.906991Z",
     "start_time": "2022-10-13T05:50:43.507714Z"
    }
   },
   "outputs": [
    {
     "name": "stderr",
     "output_type": "stream",
     "text": [
      "100%|█████████████████████████████████████████████████████████████████████████████| 50000/50000 [58:56<00:00, 14.14it/s]\n"
     ]
    }
   ],
   "source": [
    "result = pd.DataFrame()\n",
    "for i in tqdm(range(start, start+5_0000)):\n",
    "    idx=idx_df.loc[i][0]\n",
    "    result= pd.concat([result, merged_df.iloc[idx:idx_df.loc[i+1][0]].fillna(method='ffill').fillna(method='bfill')])"
   ]
  },
  {
   "cell_type": "code",
   "execution_count": 9,
   "id": "bb35eab4",
   "metadata": {
    "ExecuteTime": {
     "end_time": "2022-10-13T06:49:53.188393Z",
     "start_time": "2022-10-13T06:49:53.136687Z"
    }
   },
   "outputs": [
    {
     "data": {
      "text/html": [
       "<div>\n",
       "<style scoped>\n",
       "    .dataframe tbody tr th:only-of-type {\n",
       "        vertical-align: middle;\n",
       "    }\n",
       "\n",
       "    .dataframe tbody tr th {\n",
       "        vertical-align: top;\n",
       "    }\n",
       "\n",
       "    .dataframe thead th {\n",
       "        text-align: right;\n",
       "    }\n",
       "</style>\n",
       "<table border=\"1\" class=\"dataframe\">\n",
       "  <thead>\n",
       "    <tr style=\"text-align: right;\">\n",
       "      <th></th>\n",
       "      <th>index</th>\n",
       "      <th>application_id</th>\n",
       "      <th>user_id</th>\n",
       "      <th>birth_year</th>\n",
       "      <th>gender</th>\n",
       "      <th>insert_time</th>\n",
       "      <th>credit_score</th>\n",
       "      <th>yearly_income</th>\n",
       "      <th>income_type</th>\n",
       "      <th>company_enter_month</th>\n",
       "      <th>...</th>\n",
       "      <th>personal_rehabilitation_yn</th>\n",
       "      <th>personal_rehabilitation_complete_yn</th>\n",
       "      <th>existing_loan_cnt</th>\n",
       "      <th>existing_loan_amt</th>\n",
       "      <th>loanapply_insert_time</th>\n",
       "      <th>bank_id</th>\n",
       "      <th>product_id</th>\n",
       "      <th>loan_limit</th>\n",
       "      <th>loan_rate</th>\n",
       "      <th>is_applied</th>\n",
       "    </tr>\n",
       "  </thead>\n",
       "  <tbody>\n",
       "    <tr>\n",
       "      <th>10638518</th>\n",
       "      <td>2293266</td>\n",
       "      <td>1431305</td>\n",
       "      <td>692557</td>\n",
       "      <td>1988.0</td>\n",
       "      <td>1.0</td>\n",
       "      <td>2022-05-14 21:46:19</td>\n",
       "      <td>NaN</td>\n",
       "      <td>50000000.0</td>\n",
       "      <td>EARNEDINCOME</td>\n",
       "      <td>202108.0</td>\n",
       "      <td>...</td>\n",
       "      <td>NaN</td>\n",
       "      <td>NaN</td>\n",
       "      <td>NaN</td>\n",
       "      <td>NaN</td>\n",
       "      <td>2022-05-14 21:46:20</td>\n",
       "      <td>52</td>\n",
       "      <td>234</td>\n",
       "      <td>40000000.0</td>\n",
       "      <td>4.3</td>\n",
       "      <td>0.0</td>\n",
       "    </tr>\n",
       "    <tr>\n",
       "      <th>10638519</th>\n",
       "      <td>2293270</td>\n",
       "      <td>1431305</td>\n",
       "      <td>692557</td>\n",
       "      <td>1988.0</td>\n",
       "      <td>1.0</td>\n",
       "      <td>2022-05-14 21:46:19</td>\n",
       "      <td>NaN</td>\n",
       "      <td>50000000.0</td>\n",
       "      <td>EARNEDINCOME</td>\n",
       "      <td>202108.0</td>\n",
       "      <td>...</td>\n",
       "      <td>NaN</td>\n",
       "      <td>NaN</td>\n",
       "      <td>NaN</td>\n",
       "      <td>NaN</td>\n",
       "      <td>2022-05-14 21:46:20</td>\n",
       "      <td>10</td>\n",
       "      <td>65</td>\n",
       "      <td>50000000.0</td>\n",
       "      <td>13.9</td>\n",
       "      <td>0.0</td>\n",
       "    </tr>\n",
       "    <tr>\n",
       "      <th>10638520</th>\n",
       "      <td>2293273</td>\n",
       "      <td>1431305</td>\n",
       "      <td>692557</td>\n",
       "      <td>1988.0</td>\n",
       "      <td>1.0</td>\n",
       "      <td>2022-05-14 21:46:19</td>\n",
       "      <td>NaN</td>\n",
       "      <td>50000000.0</td>\n",
       "      <td>EARNEDINCOME</td>\n",
       "      <td>202108.0</td>\n",
       "      <td>...</td>\n",
       "      <td>NaN</td>\n",
       "      <td>NaN</td>\n",
       "      <td>NaN</td>\n",
       "      <td>NaN</td>\n",
       "      <td>2022-05-14 21:46:20</td>\n",
       "      <td>8</td>\n",
       "      <td>270</td>\n",
       "      <td>41000000.0</td>\n",
       "      <td>5.7</td>\n",
       "      <td>0.0</td>\n",
       "    </tr>\n",
       "    <tr>\n",
       "      <th>10638521</th>\n",
       "      <td>2293274</td>\n",
       "      <td>1431305</td>\n",
       "      <td>692557</td>\n",
       "      <td>1988.0</td>\n",
       "      <td>1.0</td>\n",
       "      <td>2022-05-14 21:46:19</td>\n",
       "      <td>NaN</td>\n",
       "      <td>50000000.0</td>\n",
       "      <td>EARNEDINCOME</td>\n",
       "      <td>202108.0</td>\n",
       "      <td>...</td>\n",
       "      <td>NaN</td>\n",
       "      <td>NaN</td>\n",
       "      <td>NaN</td>\n",
       "      <td>NaN</td>\n",
       "      <td>2022-05-14 21:46:20</td>\n",
       "      <td>61</td>\n",
       "      <td>92</td>\n",
       "      <td>26000000.0</td>\n",
       "      <td>11.4</td>\n",
       "      <td>0.0</td>\n",
       "    </tr>\n",
       "    <tr>\n",
       "      <th>10638522</th>\n",
       "      <td>2293276</td>\n",
       "      <td>1431305</td>\n",
       "      <td>692557</td>\n",
       "      <td>1988.0</td>\n",
       "      <td>1.0</td>\n",
       "      <td>2022-05-14 21:46:19</td>\n",
       "      <td>NaN</td>\n",
       "      <td>50000000.0</td>\n",
       "      <td>EARNEDINCOME</td>\n",
       "      <td>202108.0</td>\n",
       "      <td>...</td>\n",
       "      <td>NaN</td>\n",
       "      <td>NaN</td>\n",
       "      <td>NaN</td>\n",
       "      <td>NaN</td>\n",
       "      <td>2022-05-14 21:46:20</td>\n",
       "      <td>59</td>\n",
       "      <td>150</td>\n",
       "      <td>28000000.0</td>\n",
       "      <td>13.4</td>\n",
       "      <td>0.0</td>\n",
       "    </tr>\n",
       "  </tbody>\n",
       "</table>\n",
       "<p>5 rows × 24 columns</p>\n",
       "</div>"
      ],
      "text/plain": [
       "            index  application_id  user_id  birth_year  gender  \\\n",
       "10638518  2293266         1431305   692557      1988.0     1.0   \n",
       "10638519  2293270         1431305   692557      1988.0     1.0   \n",
       "10638520  2293273         1431305   692557      1988.0     1.0   \n",
       "10638521  2293274         1431305   692557      1988.0     1.0   \n",
       "10638522  2293276         1431305   692557      1988.0     1.0   \n",
       "\n",
       "                  insert_time  credit_score  yearly_income   income_type  \\\n",
       "10638518  2022-05-14 21:46:19           NaN     50000000.0  EARNEDINCOME   \n",
       "10638519  2022-05-14 21:46:19           NaN     50000000.0  EARNEDINCOME   \n",
       "10638520  2022-05-14 21:46:19           NaN     50000000.0  EARNEDINCOME   \n",
       "10638521  2022-05-14 21:46:19           NaN     50000000.0  EARNEDINCOME   \n",
       "10638522  2022-05-14 21:46:19           NaN     50000000.0  EARNEDINCOME   \n",
       "\n",
       "          company_enter_month  ... personal_rehabilitation_yn  \\\n",
       "10638518             202108.0  ...                        NaN   \n",
       "10638519             202108.0  ...                        NaN   \n",
       "10638520             202108.0  ...                        NaN   \n",
       "10638521             202108.0  ...                        NaN   \n",
       "10638522             202108.0  ...                        NaN   \n",
       "\n",
       "         personal_rehabilitation_complete_yn  existing_loan_cnt  \\\n",
       "10638518                                 NaN                NaN   \n",
       "10638519                                 NaN                NaN   \n",
       "10638520                                 NaN                NaN   \n",
       "10638521                                 NaN                NaN   \n",
       "10638522                                 NaN                NaN   \n",
       "\n",
       "         existing_loan_amt  loanapply_insert_time  bank_id  product_id  \\\n",
       "10638518               NaN    2022-05-14 21:46:20       52         234   \n",
       "10638519               NaN    2022-05-14 21:46:20       10          65   \n",
       "10638520               NaN    2022-05-14 21:46:20        8         270   \n",
       "10638521               NaN    2022-05-14 21:46:20       61          92   \n",
       "10638522               NaN    2022-05-14 21:46:20       59         150   \n",
       "\n",
       "          loan_limit loan_rate  is_applied  \n",
       "10638518  40000000.0       4.3         0.0  \n",
       "10638519  50000000.0      13.9         0.0  \n",
       "10638520  41000000.0       5.7         0.0  \n",
       "10638521  26000000.0      11.4         0.0  \n",
       "10638522  28000000.0      13.4         0.0  \n",
       "\n",
       "[5 rows x 24 columns]"
      ]
     },
     "execution_count": 9,
     "metadata": {},
     "output_type": "execute_result"
    }
   ],
   "source": [
    "result.head()"
   ]
  },
  {
   "cell_type": "code",
   "execution_count": 10,
   "id": "f5e38c26",
   "metadata": {
    "ExecuteTime": {
     "end_time": "2022-10-13T06:50:17.132294Z",
     "start_time": "2022-10-13T06:50:01.758525Z"
    }
   },
   "outputs": [],
   "source": [
    "result.to_csv('./customData/result3.csv')"
   ]
  },
  {
   "cell_type": "code",
   "execution_count": null,
   "id": "a846d642",
   "metadata": {},
   "outputs": [],
   "source": []
  }
 ],
 "metadata": {
  "kernelspec": {
   "display_name": "Python 3 (ipykernel)",
   "language": "python",
   "name": "python3"
  },
  "language_info": {
   "codemirror_mode": {
    "name": "ipython",
    "version": 3
   },
   "file_extension": ".py",
   "mimetype": "text/x-python",
   "name": "python",
   "nbconvert_exporter": "python",
   "pygments_lexer": "ipython3",
   "version": "3.8.10"
  },
  "toc": {
   "base_numbering": 1,
   "nav_menu": {},
   "number_sections": true,
   "sideBar": true,
   "skip_h1_title": false,
   "title_cell": "Table of Contents",
   "title_sidebar": "Contents",
   "toc_cell": false,
   "toc_position": {},
   "toc_section_display": true,
   "toc_window_display": false
  },
  "varInspector": {
   "cols": {
    "lenName": 16,
    "lenType": 16,
    "lenVar": 40
   },
   "kernels_config": {
    "python": {
     "delete_cmd_postfix": "",
     "delete_cmd_prefix": "del ",
     "library": "var_list.py",
     "varRefreshCmd": "print(var_dic_list())"
    },
    "r": {
     "delete_cmd_postfix": ") ",
     "delete_cmd_prefix": "rm(",
     "library": "var_list.r",
     "varRefreshCmd": "cat(var_dic_list()) "
    }
   },
   "types_to_exclude": [
    "module",
    "function",
    "builtin_function_or_method",
    "instance",
    "_Feature"
   ],
   "window_display": false
  }
 },
 "nbformat": 4,
 "nbformat_minor": 5
}
