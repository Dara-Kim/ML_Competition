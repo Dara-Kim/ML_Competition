{
 "cells": [
  {
   "cell_type": "code",
   "execution_count": 1,
   "id": "8642129d",
   "metadata": {
    "ExecuteTime": {
     "end_time": "2022-10-12T12:36:22.933213Z",
     "start_time": "2022-10-12T12:36:21.712571Z"
    }
   },
   "outputs": [],
   "source": [
    "import pandas as pd\n",
    "import numpy as np\n",
    "import os\n",
    "import random\n",
    "from copy import deepcopy\n",
    "import math\n",
    "from itertools import product\n",
    "import pickle\n",
    "import joblib\n",
    "from tqdm import tqdm\n",
    "\n",
    "import matplotlib.pyplot as plt\n",
    "import seaborn as sb\n",
    "\n",
    "from sklearn.ensemble import RandomForestClassifier\n",
    "from sklearn.model_selection import train_test_split\n",
    "from sklearn.metrics import f1_score, confusion_matrix, ConfusionMatrixDisplay"
   ]
  },
  {
   "cell_type": "markdown",
   "id": "5f9003ac",
   "metadata": {},
   "source": [
    "# 전후 값 기반 null 대체"
   ]
  },
  {
   "cell_type": "markdown",
   "id": "e726512e",
   "metadata": {},
   "source": [
    "초기 null 상태"
   ]
  },
  {
   "cell_type": "code",
   "execution_count": null,
   "id": "5c3f9c11",
   "metadata": {},
   "outputs": [],
   "source": []
  },
  {
   "cell_type": "markdown",
   "id": "d15f5156",
   "metadata": {},
   "source": [
    "## 준비"
   ]
  },
  {
   "cell_type": "code",
   "execution_count": 2,
   "id": "341d05e4",
   "metadata": {
    "ExecuteTime": {
     "end_time": "2022-10-12T12:37:12.444765Z",
     "start_time": "2022-10-12T12:36:30.213239Z"
    }
   },
   "outputs": [],
   "source": [
    "merged_df = pd.read_csv('./customData/merged_user_loan.csv', index_col=0)"
   ]
  },
  {
   "cell_type": "code",
   "execution_count": 3,
   "id": "1b1c2b80",
   "metadata": {
    "ExecuteTime": {
     "end_time": "2022-10-12T12:37:29.246677Z",
     "start_time": "2022-10-12T12:37:29.237710Z"
    }
   },
   "outputs": [
    {
     "data": {
      "text/plain": [
       "Index(['application_id', 'user_id', 'birth_year', 'gender', 'insert_time',\n",
       "       'credit_score', 'yearly_income', 'income_type', 'company_enter_month',\n",
       "       'employment_type', 'houseown_type', 'desired_amount', 'purpose',\n",
       "       'personal_rehabilitation_yn', 'personal_rehabilitation_complete_yn',\n",
       "       'existing_loan_cnt', 'existing_loan_amt', 'loanapply_insert_time',\n",
       "       'bank_id', 'product_id', 'loan_limit', 'loan_rate', 'is_applied'],\n",
       "      dtype='object')"
      ]
     },
     "execution_count": 3,
     "metadata": {},
     "output_type": "execute_result"
    }
   ],
   "source": [
    "merged_df.columns"
   ]
  },
  {
   "cell_type": "code",
   "execution_count": null,
   "id": "35b1fbdc",
   "metadata": {
    "ExecuteTime": {
     "start_time": "2022-10-12T12:40:06.757Z"
    }
   },
   "outputs": [],
   "source": [
    "(merged_df.isnull().sum())[merged_df.isnull().sum()!=0]"
   ]
  },
  {
   "cell_type": "code",
   "execution_count": 4,
   "id": "7c174ee5",
   "metadata": {
    "ExecuteTime": {
     "end_time": "2022-10-12T12:37:55.996091Z",
     "start_time": "2022-10-12T12:37:45.929043Z"
    }
   },
   "outputs": [],
   "source": [
    "merged_df=merged_df.sort_values(by=['user_id', 'loanapply_insert_time'])"
   ]
  },
  {
   "cell_type": "code",
   "execution_count": 5,
   "id": "30ba4758",
   "metadata": {
    "ExecuteTime": {
     "end_time": "2022-10-12T12:38:16.879555Z",
     "start_time": "2022-10-12T12:38:15.894963Z"
    }
   },
   "outputs": [],
   "source": [
    "user_id_list = list(merged_df['user_id'])"
   ]
  },
  {
   "cell_type": "code",
   "execution_count": null,
   "id": "1b9d5355",
   "metadata": {
    "ExecuteTime": {
     "start_time": "2022-10-12T12:38:06.088Z"
    }
   },
   "outputs": [
    {
     "name": "stderr",
     "output_type": "stream",
     "text": [
      "  8%|██████▎                                                                    | 26929/317467 [01:27<31:19, 154.60it/s]"
     ]
    }
   ],
   "source": [
    "idx_uid_list=[]\n",
    "for uid in tqdm(set(user_id_list)):\n",
    "    idx_uid_list.append((user_id_list.index(uid),uid))"
   ]
  },
  {
   "cell_type": "code",
   "execution_count": null,
   "id": "cef2242d",
   "metadata": {
    "ExecuteTime": {
     "start_time": "2022-10-12T12:38:11.734Z"
    }
   },
   "outputs": [],
   "source": [
    "idx_uid_list.sort()"
   ]
  },
  {
   "cell_type": "code",
   "execution_count": null,
   "id": "2fd4733b",
   "metadata": {
    "ExecuteTime": {
     "start_time": "2022-10-12T12:38:13.158Z"
    }
   },
   "outputs": [],
   "source": [
    "# idx_uid_list"
   ]
  },
  {
   "cell_type": "code",
   "execution_count": null,
   "id": "78a3c7df",
   "metadata": {
    "ExecuteTime": {
     "start_time": "2022-10-12T12:38:16.557Z"
    }
   },
   "outputs": [],
   "source": [
    "merged_df.reset_index(inplace=True)"
   ]
  },
  {
   "cell_type": "markdown",
   "id": "c9e7251f",
   "metadata": {},
   "source": [
    "실습"
   ]
  },
  {
   "cell_type": "code",
   "execution_count": 28,
   "id": "a652818a",
   "metadata": {
    "ExecuteTime": {
     "end_time": "2022-10-12T08:06:50.653941Z",
     "start_time": "2022-10-12T08:06:50.651053Z"
    }
   },
   "outputs": [],
   "source": [
    "a=pd.DataFrame([\n",
    "    list(range(1,10)),\n",
    "    list(range(8,17)),\n",
    "    [0]*9,\n",
    "    list(range(31, 13, -2))\n",
    "])"
   ]
  },
  {
   "cell_type": "code",
   "execution_count": 37,
   "id": "66a3608d",
   "metadata": {
    "ExecuteTime": {
     "end_time": "2022-10-12T09:07:14.189549Z",
     "start_time": "2022-10-12T09:07:14.186410Z"
    }
   },
   "outputs": [],
   "source": [
    "a.iloc[:,0]=np.NaN"
   ]
  },
  {
   "cell_type": "code",
   "execution_count": 35,
   "id": "0d8a4c6f",
   "metadata": {
    "ExecuteTime": {
     "end_time": "2022-10-12T09:04:55.842677Z",
     "start_time": "2022-10-12T09:04:55.828283Z"
    }
   },
   "outputs": [],
   "source": [
    "a.iloc[0,0] = 1\n",
    "a.iloc[0,3] = 2"
   ]
  },
  {
   "cell_type": "code",
   "execution_count": 46,
   "id": "953ec00f",
   "metadata": {
    "ExecuteTime": {
     "end_time": "2022-10-12T09:22:38.223430Z",
     "start_time": "2022-10-12T09:22:38.212924Z"
    }
   },
   "outputs": [
    {
     "data": {
      "text/html": [
       "<div>\n",
       "<style scoped>\n",
       "    .dataframe tbody tr th:only-of-type {\n",
       "        vertical-align: middle;\n",
       "    }\n",
       "\n",
       "    .dataframe tbody tr th {\n",
       "        vertical-align: top;\n",
       "    }\n",
       "\n",
       "    .dataframe thead th {\n",
       "        text-align: right;\n",
       "    }\n",
       "</style>\n",
       "<table border=\"1\" class=\"dataframe\">\n",
       "  <thead>\n",
       "    <tr style=\"text-align: right;\">\n",
       "      <th></th>\n",
       "      <th>0</th>\n",
       "      <th>1</th>\n",
       "      <th>2</th>\n",
       "      <th>3</th>\n",
       "      <th>4</th>\n",
       "      <th>5</th>\n",
       "      <th>6</th>\n",
       "      <th>7</th>\n",
       "      <th>8</th>\n",
       "    </tr>\n",
       "  </thead>\n",
       "  <tbody>\n",
       "    <tr>\n",
       "      <th>0</th>\n",
       "      <td>NaN</td>\n",
       "      <td>9.0</td>\n",
       "      <td>10.0</td>\n",
       "      <td>2.0</td>\n",
       "      <td>12.0</td>\n",
       "      <td>13.0</td>\n",
       "      <td>14.0</td>\n",
       "      <td>15.0</td>\n",
       "      <td>16.0</td>\n",
       "    </tr>\n",
       "    <tr>\n",
       "      <th>1</th>\n",
       "      <td>NaN</td>\n",
       "      <td>9.0</td>\n",
       "      <td>10.0</td>\n",
       "      <td>11.0</td>\n",
       "      <td>12.0</td>\n",
       "      <td>13.0</td>\n",
       "      <td>14.0</td>\n",
       "      <td>15.0</td>\n",
       "      <td>16.0</td>\n",
       "    </tr>\n",
       "    <tr>\n",
       "      <th>2</th>\n",
       "      <td>NaN</td>\n",
       "      <td>0.0</td>\n",
       "      <td>0.0</td>\n",
       "      <td>0.0</td>\n",
       "      <td>0.0</td>\n",
       "      <td>0.0</td>\n",
       "      <td>0.0</td>\n",
       "      <td>0.0</td>\n",
       "      <td>0.0</td>\n",
       "    </tr>\n",
       "    <tr>\n",
       "      <th>3</th>\n",
       "      <td>NaN</td>\n",
       "      <td>29.0</td>\n",
       "      <td>27.0</td>\n",
       "      <td>25.0</td>\n",
       "      <td>23.0</td>\n",
       "      <td>21.0</td>\n",
       "      <td>19.0</td>\n",
       "      <td>17.0</td>\n",
       "      <td>15.0</td>\n",
       "    </tr>\n",
       "  </tbody>\n",
       "</table>\n",
       "</div>"
      ],
      "text/plain": [
       "    0     1     2     3     4     5     6     7     8\n",
       "0 NaN   9.0  10.0   2.0  12.0  13.0  14.0  15.0  16.0\n",
       "1 NaN   9.0  10.0  11.0  12.0  13.0  14.0  15.0  16.0\n",
       "2 NaN   0.0   0.0   0.0   0.0   0.0   0.0   0.0   0.0\n",
       "3 NaN  29.0  27.0  25.0  23.0  21.0  19.0  17.0  15.0"
      ]
     },
     "execution_count": 46,
     "metadata": {},
     "output_type": "execute_result"
    }
   ],
   "source": [
    "a.fillna(method='bfill')"
   ]
  },
  {
   "cell_type": "code",
   "execution_count": 42,
   "id": "0b638c85",
   "metadata": {
    "ExecuteTime": {
     "end_time": "2022-10-12T09:10:10.241699Z",
     "start_time": "2022-10-12T09:10:10.223279Z"
    }
   },
   "outputs": [
    {
     "data": {
      "text/plain": [
       "0    4\n",
       "1    1\n",
       "2    1\n",
       "3    0\n",
       "4    1\n",
       "5    1\n",
       "6    1\n",
       "7    1\n",
       "8    1\n",
       "dtype: int64"
      ]
     },
     "execution_count": 42,
     "metadata": {},
     "output_type": "execute_result"
    }
   ],
   "source": [
    "a.fillna(method='ffill').isnull().sum()"
   ]
  },
  {
   "cell_type": "markdown",
   "id": "7200fe17",
   "metadata": {},
   "source": [
    "## 앞뒤값으로 null 채우기"
   ]
  },
  {
   "cell_type": "code",
   "execution_count": null,
   "id": "7f1d6fea",
   "metadata": {
    "ExecuteTime": {
     "start_time": "2022-10-12T12:38:30.154Z"
    }
   },
   "outputs": [],
   "source": [
    "len(idx_uid_list) # 61148"
   ]
  },
  {
   "cell_type": "code",
   "execution_count": 63,
   "id": "7ae3f62f",
   "metadata": {
    "ExecuteTime": {
     "end_time": "2022-10-12T10:36:58.501067Z",
     "start_time": "2022-10-12T09:32:36.313673Z"
    }
   },
   "outputs": [
    {
     "name": "stderr",
     "output_type": "stream",
     "text": [
      "61147it [1:04:22, 15.83it/s]\n"
     ]
    }
   ],
   "source": [
    "result = pd.DataFrame()\n",
    "for i, v in tqdm(enumerate(idx_uid_list[:-1])):\n",
    "    idx=v[0]\n",
    "    result= pd.concat([result, merged_df.iloc[idx:idx_uid_list[i+1][0]].fillna(method='ffill').fillna(method='bfill')])"
   ]
  },
  {
   "cell_type": "code",
   "execution_count": 65,
   "id": "27feeb5f",
   "metadata": {
    "ExecuteTime": {
     "end_time": "2022-10-12T10:37:10.209608Z",
     "start_time": "2022-10-12T10:37:09.740032Z"
    }
   },
   "outputs": [
    {
     "data": {
      "text/plain": [
       "index                                       0\n",
       "application_id                              0\n",
       "user_id                                     0\n",
       "birth_year                              20771\n",
       "gender                                  20771\n",
       "insert_time                                 0\n",
       "credit_score                           249504\n",
       "yearly_income                               0\n",
       "income_type                                 0\n",
       "company_enter_month                     58008\n",
       "employment_type                             0\n",
       "houseown_type                               0\n",
       "desired_amount                              0\n",
       "purpose                                     0\n",
       "personal_rehabilitation_yn             562202\n",
       "personal_rehabilitation_complete_yn    562202\n",
       "existing_loan_cnt                      514053\n",
       "existing_loan_amt                      744018\n",
       "loanapply_insert_time                       0\n",
       "bank_id                                     0\n",
       "product_id                                  0\n",
       "loan_limit                                  4\n",
       "loan_rate                                   4\n",
       "is_applied                             278510\n",
       "dtype: int64"
      ]
     },
     "execution_count": 65,
     "metadata": {},
     "output_type": "execute_result"
    }
   ],
   "source": [
    "(result.isnull().sum())[result.isnull().sum()!=0]"
   ]
  },
  {
   "cell_type": "code",
   "execution_count": null,
   "id": "1cb2cbd2",
   "metadata": {},
   "outputs": [],
   "source": [
    "result.to_csv('./customData/merged_user_loan.csv')"
   ]
  },
  {
   "cell_type": "code",
   "execution_count": 71,
   "id": "01020398",
   "metadata": {
    "ExecuteTime": {
     "end_time": "2022-10-12T10:42:49.132966Z",
     "start_time": "2022-10-12T10:42:49.085763Z"
    }
   },
   "outputs": [],
   "source": [
    "result['is_applied']=merged_df['is_applied']"
   ]
  },
  {
   "cell_type": "code",
   "execution_count": 75,
   "id": "f277d8cb",
   "metadata": {
    "ExecuteTime": {
     "end_time": "2022-10-12T10:50:47.737042Z",
     "start_time": "2022-10-12T10:50:46.630562Z"
    }
   },
   "outputs": [
    {
     "data": {
      "text/plain": [
       "birth_year                              20771\n",
       "gender                                  20771\n",
       "credit_score                           249504\n",
       "company_enter_month                     58008\n",
       "personal_rehabilitation_yn             562202\n",
       "personal_rehabilitation_complete_yn    562202\n",
       "existing_loan_cnt                      514053\n",
       "existing_loan_amt                      744018\n",
       "loan_limit                                  4\n",
       "loan_rate                                   4\n",
       "is_applied                             619682\n",
       "dtype: int64"
      ]
     },
     "execution_count": 75,
     "metadata": {},
     "output_type": "execute_result"
    }
   ],
   "source": [
    "(result.isnull().sum())[result.isnull().sum()!=0]"
   ]
  },
  {
   "cell_type": "code",
   "execution_count": 76,
   "id": "7999cd9f",
   "metadata": {
    "ExecuteTime": {
     "end_time": "2022-10-12T10:50:56.432605Z",
     "start_time": "2022-10-12T10:50:56.083799Z"
    }
   },
   "outputs": [
    {
     "data": {
      "text/plain": [
       "birth_year                               5700\n",
       "gender                                   5700\n",
       "credit_score                            50139\n",
       "company_enter_month                     14269\n",
       "personal_rehabilitation_yn               3003\n",
       "personal_rehabilitation_complete_yn      3003\n",
       "existing_loan_cnt                      105637\n",
       "existing_loan_amt                      162452\n",
       "is_applied                             619682\n",
       "dtype: int64"
      ]
     },
     "execution_count": 76,
     "metadata": {},
     "output_type": "execute_result"
    }
   ],
   "source": [
    "(result[result['is_applied'].isnull()==True].isnull().sum())[result[result['is_applied'].isnull()==True].isnull().sum()!=0]"
   ]
  },
  {
   "cell_type": "code",
   "execution_count": null,
   "id": "560792aa",
   "metadata": {},
   "outputs": [],
   "source": [
    "result['index'] = result.index"
   ]
  },
  {
   "cell_type": "code",
   "execution_count": 73,
   "id": "5a13d1d4",
   "metadata": {
    "ExecuteTime": {
     "end_time": "2022-10-12T10:43:22.984574Z",
     "start_time": "2022-10-12T10:43:03.964079Z"
    }
   },
   "outputs": [],
   "source": [
    "result.to_csv('./customData/merged_ver1_0.csv')"
   ]
  },
  {
   "cell_type": "markdown",
   "id": "c08edb49",
   "metadata": {},
   "source": [
    "# 의미를 부여하여 결측치 처리하기"
   ]
  },
  {
   "cell_type": "markdown",
   "id": "d9db9937",
   "metadata": {},
   "source": [
    "## loan_limit & loan_rate"
   ]
  },
  {
   "cell_type": "code",
   "execution_count": 38,
   "id": "18d8badf",
   "metadata": {
    "ExecuteTime": {
     "end_time": "2022-10-12T11:41:35.704164Z",
     "start_time": "2022-10-12T11:41:27.360569Z"
    }
   },
   "outputs": [],
   "source": [
    "merged_df=pd.read_csv('./customData/merged_ver1_0.csv',index_col=0)"
   ]
  },
  {
   "cell_type": "code",
   "execution_count": 75,
   "id": "51549663",
   "metadata": {
    "ExecuteTime": {
     "end_time": "2022-10-12T10:50:47.737042Z",
     "start_time": "2022-10-12T10:50:46.630562Z"
    }
   },
   "outputs": [
    {
     "data": {
      "text/plain": [
       "birth_year                              20771\n",
       "gender                                  20771\n",
       "credit_score                           249504\n",
       "company_enter_month                     58008\n",
       "personal_rehabilitation_yn             562202\n",
       "personal_rehabilitation_complete_yn    562202\n",
       "existing_loan_cnt                      514053\n",
       "existing_loan_amt                      744018\n",
       "loan_limit                                  4\n",
       "loan_rate                                   4\n",
       "is_applied                             619682\n",
       "dtype: int64"
      ]
     },
     "execution_count": 75,
     "metadata": {},
     "output_type": "execute_result"
    }
   ],
   "source": [
    "(merged_df.isnull().sum())[merged_df.isnull().sum()!=0]"
   ]
  },
  {
   "cell_type": "code",
   "execution_count": 40,
   "id": "bad0e7bc",
   "metadata": {
    "ExecuteTime": {
     "end_time": "2022-10-12T11:41:39.450135Z",
     "start_time": "2022-10-12T11:41:38.938208Z"
    }
   },
   "outputs": [],
   "source": [
    "merged_df.drop(merged_df[merged_df['loan_limit'].isnull()==True].index, inplace=True)"
   ]
  },
  {
   "cell_type": "code",
   "execution_count": 41,
   "id": "d7eff530",
   "metadata": {
    "ExecuteTime": {
     "end_time": "2022-10-12T11:41:42.684561Z",
     "start_time": "2022-10-12T11:41:41.815471Z"
    }
   },
   "outputs": [
    {
     "data": {
      "text/plain": [
       "birth_year                              20771\n",
       "gender                                  20771\n",
       "credit_score                           249504\n",
       "company_enter_month                     58008\n",
       "personal_rehabilitation_yn             562201\n",
       "personal_rehabilitation_complete_yn    562201\n",
       "existing_loan_cnt                      514053\n",
       "existing_loan_amt                      744017\n",
       "is_applied                             619682\n",
       "dtype: int64"
      ]
     },
     "execution_count": 41,
     "metadata": {},
     "output_type": "execute_result"
    }
   ],
   "source": [
    "(merged_df.isnull().sum())[merged_df.isnull().sum()!=0]"
   ]
  },
  {
   "cell_type": "markdown",
   "id": "14de937c",
   "metadata": {},
   "source": [
    "## existing_loan_cnt & existing_loan_amt"
   ]
  },
  {
   "cell_type": "code",
   "execution_count": 59,
   "id": "88812bdf",
   "metadata": {
    "ExecuteTime": {
     "end_time": "2022-10-12T11:57:05.321320Z",
     "start_time": "2022-10-12T11:57:05.319189Z"
    }
   },
   "outputs": [],
   "source": [
    "# merged_df[(merged_df['existing_loan_amt'].isnull()==True) & merged_df['existing_loan_cnt']==1]"
   ]
  },
  {
   "cell_type": "code",
   "execution_count": 60,
   "id": "5f0ed449",
   "metadata": {
    "ExecuteTime": {
     "end_time": "2022-10-12T11:57:38.018426Z",
     "start_time": "2022-10-12T11:57:37.779224Z"
    }
   },
   "outputs": [],
   "source": [
    "merged_df.loc[merged_df[(merged_df['existing_loan_amt'].isnull()==True) & merged_df['existing_loan_cnt']==1].index, 'existing_loan_amt'] = -100"
   ]
  },
  {
   "cell_type": "code",
   "execution_count": 61,
   "id": "7a122138",
   "metadata": {
    "ExecuteTime": {
     "end_time": "2022-10-12T11:58:04.504445Z",
     "start_time": "2022-10-12T11:58:03.573332Z"
    }
   },
   "outputs": [
    {
     "data": {
      "text/plain": [
       "birth_year                              20771\n",
       "gender                                  20771\n",
       "credit_score                           249504\n",
       "company_enter_month                     58008\n",
       "personal_rehabilitation_yn             562201\n",
       "personal_rehabilitation_complete_yn    562201\n",
       "existing_loan_cnt                      514053\n",
       "existing_loan_amt                      514053\n",
       "is_applied                             619682\n",
       "dtype: int64"
      ]
     },
     "execution_count": 61,
     "metadata": {},
     "output_type": "execute_result"
    }
   ],
   "source": [
    "(merged_df.isnull().sum())[merged_df.isnull().sum()!=0]"
   ]
  },
  {
   "cell_type": "code",
   "execution_count": 63,
   "id": "a2436b4d",
   "metadata": {
    "ExecuteTime": {
     "end_time": "2022-10-12T11:59:01.118977Z",
     "start_time": "2022-10-12T11:59:00.765605Z"
    }
   },
   "outputs": [
    {
     "data": {
      "text/plain": [
       "True"
      ]
     },
     "execution_count": 63,
     "metadata": {},
     "output_type": "execute_result"
    }
   ],
   "source": [
    "set(merged_df[merged_df['existing_loan_amt'].isnull()==True].index) ==\\\n",
    "set(merged_df[merged_df['existing_loan_cnt'].isnull()==True].index)"
   ]
  },
  {
   "cell_type": "code",
   "execution_count": 67,
   "id": "19fece3f",
   "metadata": {
    "ExecuteTime": {
     "end_time": "2022-10-12T12:00:45.148199Z",
     "start_time": "2022-10-12T12:00:44.986833Z"
    }
   },
   "outputs": [],
   "source": [
    "merged_df.loc[merged_df[merged_df['existing_loan_amt'].isnull()==True].index, ['existing_loan_amt', 'existing_loan_cnt']]=0"
   ]
  },
  {
   "cell_type": "code",
   "execution_count": 69,
   "id": "d755bee3",
   "metadata": {
    "ExecuteTime": {
     "end_time": "2022-10-12T12:01:04.556954Z",
     "start_time": "2022-10-12T12:01:03.646393Z"
    }
   },
   "outputs": [
    {
     "data": {
      "text/plain": [
       "birth_year                              20771\n",
       "gender                                  20771\n",
       "credit_score                           249504\n",
       "company_enter_month                     58008\n",
       "personal_rehabilitation_yn             562201\n",
       "personal_rehabilitation_complete_yn    562201\n",
       "is_applied                             619682\n",
       "dtype: int64"
      ]
     },
     "execution_count": 69,
     "metadata": {},
     "output_type": "execute_result"
    }
   ],
   "source": [
    "(merged_df.isnull().sum())[merged_df.isnull().sum()!=0]"
   ]
  },
  {
   "cell_type": "markdown",
   "id": "554274f7",
   "metadata": {},
   "source": [
    "## personal_rehabilitation_yn & personal_rehabilitation_complete_yn"
   ]
  },
  {
   "cell_type": "code",
   "execution_count": 14,
   "id": "846d4357",
   "metadata": {
    "ExecuteTime": {
     "end_time": "2022-10-12T11:17:35.310665Z",
     "start_time": "2022-10-12T11:17:35.077144Z"
    }
   },
   "outputs": [
    {
     "data": {
      "text/plain": [
       "True"
      ]
     },
     "execution_count": 14,
     "metadata": {},
     "output_type": "execute_result"
    }
   ],
   "source": [
    "set(merged_df[merged_df['personal_rehabilitation_yn'].isnull()==True].index)\\\n",
    "== set(merged_df[merged_df['personal_rehabilitation_complete_yn'].isnull()==True].index)"
   ]
  },
  {
   "cell_type": "code",
   "execution_count": 70,
   "id": "5221f94b",
   "metadata": {
    "ExecuteTime": {
     "end_time": "2022-10-12T12:05:00.758877Z",
     "start_time": "2022-10-12T12:05:00.581903Z"
    }
   },
   "outputs": [],
   "source": [
    "merged_df.loc[merged_df[merged_df['personal_rehabilitation_yn'].isnull()==True].index, ['personal_rehabilitation_yn', 'personal_rehabilitation_complete_yn']]=0"
   ]
  },
  {
   "cell_type": "code",
   "execution_count": 71,
   "id": "a803e3a5",
   "metadata": {
    "ExecuteTime": {
     "end_time": "2022-10-12T12:05:17.915649Z",
     "start_time": "2022-10-12T12:05:17.004908Z"
    }
   },
   "outputs": [
    {
     "data": {
      "text/plain": [
       "birth_year              20771\n",
       "gender                  20771\n",
       "credit_score           249504\n",
       "company_enter_month     58008\n",
       "is_applied             619682\n",
       "dtype: int64"
      ]
     },
     "execution_count": 71,
     "metadata": {},
     "output_type": "execute_result"
    }
   ],
   "source": [
    "(merged_df.isnull().sum())[merged_df.isnull().sum()!=0]"
   ]
  },
  {
   "cell_type": "markdown",
   "id": "68194aac",
   "metadata": {},
   "source": [
    "## company_enter_month     "
   ]
  },
  {
   "cell_type": "code",
   "execution_count": 82,
   "id": "e1ca36fe",
   "metadata": {
    "ExecuteTime": {
     "end_time": "2022-10-12T12:13:06.178495Z",
     "start_time": "2022-10-12T12:13:06.173414Z"
    }
   },
   "outputs": [
    {
     "data": {
      "text/plain": [
       "0          202201.0\n",
       "1          202201.0\n",
       "2          202201.0\n",
       "3          202201.0\n",
       "4          202201.0\n",
       "             ...   \n",
       "2586454    201803.0\n",
       "2586455    201803.0\n",
       "2586456    201803.0\n",
       "2586457    201803.0\n",
       "2586458    201803.0\n",
       "Name: company_enter_month, Length: 2586455, dtype: float64"
      ]
     },
     "execution_count": 82,
     "metadata": {},
     "output_type": "execute_result"
    }
   ],
   "source": [
    "merged_df['company_enter_month']"
   ]
  },
  {
   "cell_type": "code",
   "execution_count": 85,
   "id": "80df7c64",
   "metadata": {
    "ExecuteTime": {
     "end_time": "2022-10-12T12:14:25.565640Z",
     "start_time": "2022-10-12T12:14:25.464173Z"
    }
   },
   "outputs": [
    {
     "data": {
      "text/plain": [
       "array(['EARNEDINCOME', 'OTHERINCOME', 'EARNEDINCOME2', 'FREELANCER',\n",
       "       'PRIVATEBUSINESS', 'PRACTITIONER'], dtype=object)"
      ]
     },
     "execution_count": 85,
     "metadata": {},
     "output_type": "execute_result"
    }
   ],
   "source": [
    "merged_df['income_type'].unique()"
   ]
  },
  {
   "cell_type": "code",
   "execution_count": 89,
   "id": "d52a77c1",
   "metadata": {
    "ExecuteTime": {
     "end_time": "2022-10-12T12:15:50.463133Z",
     "start_time": "2022-10-12T12:15:49.230004Z"
    }
   },
   "outputs": [
    {
     "name": "stdout",
     "output_type": "stream",
     "text": [
      "EARNEDINCOME 0\n",
      "OTHERINCOME 58008\n",
      "EARNEDINCOME2 0\n",
      "FREELANCER 0\n",
      "PRIVATEBUSINESS 0\n",
      "PRACTITIONER 0\n"
     ]
    }
   ],
   "source": [
    "for income_type in merged_df['income_type'].unique():\n",
    "    print(income_type, merged_df[merged_df['income_type']==income_type]['company_enter_month'].isnull().sum())"
   ]
  },
  {
   "cell_type": "code",
   "execution_count": 100,
   "id": "a7095913",
   "metadata": {
    "ExecuteTime": {
     "end_time": "2022-10-12T12:26:41.791602Z",
     "start_time": "2022-10-12T12:26:41.758283Z"
    }
   },
   "outputs": [],
   "source": [
    "merged_df.loc[merged_df[merged_df['company_enter_month'].isnull()==True].index, 'company_enter_month']=0"
   ]
  },
  {
   "cell_type": "code",
   "execution_count": 101,
   "id": "6a6e834f",
   "metadata": {
    "ExecuteTime": {
     "end_time": "2022-10-12T12:27:00.211931Z",
     "start_time": "2022-10-12T12:26:59.306341Z"
    }
   },
   "outputs": [
    {
     "data": {
      "text/plain": [
       "birth_year       20771\n",
       "gender           20771\n",
       "credit_score    249504\n",
       "is_applied      619682\n",
       "dtype: int64"
      ]
     },
     "execution_count": 101,
     "metadata": {},
     "output_type": "execute_result"
    }
   ],
   "source": [
    "(merged_df.isnull().sum())[merged_df.isnull().sum()!=0]"
   ]
  },
  {
   "cell_type": "code",
   "execution_count": 102,
   "id": "9ed243d6",
   "metadata": {
    "ExecuteTime": {
     "end_time": "2022-10-12T12:33:35.594872Z",
     "start_time": "2022-10-12T12:33:03.725259Z"
    }
   },
   "outputs": [],
   "source": [
    "tmp = pd.read_csv('./customData/merged_user_loan.csv')"
   ]
  },
  {
   "cell_type": "code",
   "execution_count": 103,
   "id": "d63e76ed",
   "metadata": {
    "ExecuteTime": {
     "end_time": "2022-10-12T12:33:45.392641Z",
     "start_time": "2022-10-12T12:33:45.370977Z"
    }
   },
   "outputs": [
    {
     "data": {
      "text/plain": [
       "3257239"
      ]
     },
     "execution_count": 103,
     "metadata": {},
     "output_type": "execute_result"
    }
   ],
   "source": [
    "tmp['is_applied'].isnull().sum()"
   ]
  },
  {
   "cell_type": "code",
   "execution_count": 104,
   "id": "15bb20c1",
   "metadata": {
    "ExecuteTime": {
     "end_time": "2022-10-12T12:35:06.958666Z",
     "start_time": "2022-10-12T12:35:06.955174Z"
    }
   },
   "outputs": [
    {
     "data": {
      "text/plain": [
       "(2586455, 24)"
      ]
     },
     "execution_count": 104,
     "metadata": {},
     "output_type": "execute_result"
    }
   ],
   "source": [
    "merged_df.shape"
   ]
  },
  {
   "cell_type": "code",
   "execution_count": null,
   "id": "009ffb31",
   "metadata": {},
   "outputs": [],
   "source": []
  },
  {
   "cell_type": "code",
   "execution_count": null,
   "id": "da3ec5d7",
   "metadata": {},
   "outputs": [],
   "source": []
  },
  {
   "cell_type": "code",
   "execution_count": null,
   "id": "daae75e7",
   "metadata": {},
   "outputs": [],
   "source": []
  },
  {
   "cell_type": "code",
   "execution_count": null,
   "id": "53a858e2",
   "metadata": {},
   "outputs": [],
   "source": []
  },
  {
   "cell_type": "code",
   "execution_count": null,
   "id": "9b506bb1",
   "metadata": {},
   "outputs": [],
   "source": []
  },
  {
   "cell_type": "code",
   "execution_count": null,
   "id": "fdf1241e",
   "metadata": {},
   "outputs": [],
   "source": []
  },
  {
   "cell_type": "code",
   "execution_count": 99,
   "id": "b638023f",
   "metadata": {
    "ExecuteTime": {
     "end_time": "2022-10-12T12:18:17.379367Z",
     "start_time": "2022-10-12T12:18:17.157813Z"
    }
   },
   "outputs": [
    {
     "data": {
      "text/plain": [
       "array(['2022-06', '2022-05'], dtype=object)"
      ]
     },
     "execution_count": 99,
     "metadata": {},
     "output_type": "execute_result"
    }
   ],
   "source": [
    "merged_df[merged_df['is_applied'].isnull()==True]['insert_time'].str[:7].unique()"
   ]
  },
  {
   "cell_type": "code",
   "execution_count": 84,
   "id": "941f5ac4",
   "metadata": {
    "ExecuteTime": {
     "end_time": "2022-10-12T12:14:02.946046Z",
     "start_time": "2022-10-12T12:14:02.895318Z"
    }
   },
   "outputs": [
    {
     "data": {
      "text/html": [
       "<div>\n",
       "<style scoped>\n",
       "    .dataframe tbody tr th:only-of-type {\n",
       "        vertical-align: middle;\n",
       "    }\n",
       "\n",
       "    .dataframe tbody tr th {\n",
       "        vertical-align: top;\n",
       "    }\n",
       "\n",
       "    .dataframe thead th {\n",
       "        text-align: right;\n",
       "    }\n",
       "</style>\n",
       "<table border=\"1\" class=\"dataframe\">\n",
       "  <thead>\n",
       "    <tr style=\"text-align: right;\">\n",
       "      <th></th>\n",
       "      <th>income_type</th>\n",
       "      <th>company_enter_month</th>\n",
       "    </tr>\n",
       "  </thead>\n",
       "  <tbody>\n",
       "    <tr>\n",
       "      <th>0</th>\n",
       "      <td>EARNEDINCOME</td>\n",
       "      <td>202201.0</td>\n",
       "    </tr>\n",
       "    <tr>\n",
       "      <th>1</th>\n",
       "      <td>EARNEDINCOME</td>\n",
       "      <td>202201.0</td>\n",
       "    </tr>\n",
       "    <tr>\n",
       "      <th>2</th>\n",
       "      <td>EARNEDINCOME</td>\n",
       "      <td>202201.0</td>\n",
       "    </tr>\n",
       "    <tr>\n",
       "      <th>3</th>\n",
       "      <td>EARNEDINCOME</td>\n",
       "      <td>202201.0</td>\n",
       "    </tr>\n",
       "    <tr>\n",
       "      <th>4</th>\n",
       "      <td>EARNEDINCOME</td>\n",
       "      <td>202201.0</td>\n",
       "    </tr>\n",
       "    <tr>\n",
       "      <th>...</th>\n",
       "      <td>...</td>\n",
       "      <td>...</td>\n",
       "    </tr>\n",
       "    <tr>\n",
       "      <th>2586454</th>\n",
       "      <td>PRACTITIONER</td>\n",
       "      <td>201803.0</td>\n",
       "    </tr>\n",
       "    <tr>\n",
       "      <th>2586455</th>\n",
       "      <td>PRACTITIONER</td>\n",
       "      <td>201803.0</td>\n",
       "    </tr>\n",
       "    <tr>\n",
       "      <th>2586456</th>\n",
       "      <td>PRACTITIONER</td>\n",
       "      <td>201803.0</td>\n",
       "    </tr>\n",
       "    <tr>\n",
       "      <th>2586457</th>\n",
       "      <td>PRACTITIONER</td>\n",
       "      <td>201803.0</td>\n",
       "    </tr>\n",
       "    <tr>\n",
       "      <th>2586458</th>\n",
       "      <td>PRACTITIONER</td>\n",
       "      <td>201803.0</td>\n",
       "    </tr>\n",
       "  </tbody>\n",
       "</table>\n",
       "<p>2586455 rows × 2 columns</p>\n",
       "</div>"
      ],
      "text/plain": [
       "          income_type  company_enter_month\n",
       "0        EARNEDINCOME             202201.0\n",
       "1        EARNEDINCOME             202201.0\n",
       "2        EARNEDINCOME             202201.0\n",
       "3        EARNEDINCOME             202201.0\n",
       "4        EARNEDINCOME             202201.0\n",
       "...               ...                  ...\n",
       "2586454  PRACTITIONER             201803.0\n",
       "2586455  PRACTITIONER             201803.0\n",
       "2586456  PRACTITIONER             201803.0\n",
       "2586457  PRACTITIONER             201803.0\n",
       "2586458  PRACTITIONER             201803.0\n",
       "\n",
       "[2586455 rows x 2 columns]"
      ]
     },
     "execution_count": 84,
     "metadata": {},
     "output_type": "execute_result"
    }
   ],
   "source": [
    "merged_df[['income_type','company_enter_month']]"
   ]
  },
  {
   "cell_type": "code",
   "execution_count": 79,
   "id": "5494c26c",
   "metadata": {
    "ExecuteTime": {
     "end_time": "2022-10-12T12:09:35.339387Z",
     "start_time": "2022-10-12T12:09:35.320296Z"
    }
   },
   "outputs": [],
   "source": [
    "df = merged_df[merged_df['company_enter_month'].isnull()==True]"
   ]
  },
  {
   "cell_type": "code",
   "execution_count": 80,
   "id": "479f8a1b",
   "metadata": {
    "ExecuteTime": {
     "end_time": "2022-10-12T12:09:43.042258Z",
     "start_time": "2022-10-12T12:09:42.981251Z"
    }
   },
   "outputs": [
    {
     "data": {
      "text/html": [
       "<div>\n",
       "<style scoped>\n",
       "    .dataframe tbody tr th:only-of-type {\n",
       "        vertical-align: middle;\n",
       "    }\n",
       "\n",
       "    .dataframe tbody tr th {\n",
       "        vertical-align: top;\n",
       "    }\n",
       "\n",
       "    .dataframe thead th {\n",
       "        text-align: right;\n",
       "    }\n",
       "</style>\n",
       "<table border=\"1\" class=\"dataframe\">\n",
       "  <thead>\n",
       "    <tr style=\"text-align: right;\">\n",
       "      <th></th>\n",
       "      <th>index</th>\n",
       "      <th>application_id</th>\n",
       "      <th>user_id</th>\n",
       "      <th>birth_year</th>\n",
       "      <th>gender</th>\n",
       "      <th>credit_score</th>\n",
       "      <th>yearly_income</th>\n",
       "      <th>company_enter_month</th>\n",
       "      <th>desired_amount</th>\n",
       "      <th>personal_rehabilitation_yn</th>\n",
       "      <th>personal_rehabilitation_complete_yn</th>\n",
       "      <th>existing_loan_cnt</th>\n",
       "      <th>existing_loan_amt</th>\n",
       "      <th>bank_id</th>\n",
       "      <th>product_id</th>\n",
       "      <th>loan_limit</th>\n",
       "      <th>loan_rate</th>\n",
       "      <th>is_applied</th>\n",
       "    </tr>\n",
       "  </thead>\n",
       "  <tbody>\n",
       "    <tr>\n",
       "      <th>count</th>\n",
       "      <td>5.800800e+04</td>\n",
       "      <td>5.800800e+04</td>\n",
       "      <td>58008.000000</td>\n",
       "      <td>56798.000000</td>\n",
       "      <td>56798.000000</td>\n",
       "      <td>49190.000000</td>\n",
       "      <td>5.800800e+04</td>\n",
       "      <td>0.0</td>\n",
       "      <td>5.800800e+04</td>\n",
       "      <td>58008.000000</td>\n",
       "      <td>58008.000000</td>\n",
       "      <td>58008.000000</td>\n",
       "      <td>5.800800e+04</td>\n",
       "      <td>58008.000000</td>\n",
       "      <td>58008.000000</td>\n",
       "      <td>5.800800e+04</td>\n",
       "      <td>58008.000000</td>\n",
       "      <td>43739.000000</td>\n",
       "    </tr>\n",
       "    <tr>\n",
       "      <th>mean</th>\n",
       "      <td>1.271071e+06</td>\n",
       "      <td>1.089368e+06</td>\n",
       "      <td>83087.060233</td>\n",
       "      <td>1978.565812</td>\n",
       "      <td>0.465192</td>\n",
       "      <td>753.692417</td>\n",
       "      <td>3.021876e+07</td>\n",
       "      <td>NaN</td>\n",
       "      <td>3.656842e+07</td>\n",
       "      <td>0.006206</td>\n",
       "      <td>0.000793</td>\n",
       "      <td>2.618104</td>\n",
       "      <td>3.150799e+07</td>\n",
       "      <td>27.789701</td>\n",
       "      <td>133.035685</td>\n",
       "      <td>1.574021e+07</td>\n",
       "      <td>14.355304</td>\n",
       "      <td>0.152244</td>\n",
       "    </tr>\n",
       "    <tr>\n",
       "      <th>std</th>\n",
       "      <td>7.507544e+05</td>\n",
       "      <td>6.230613e+05</td>\n",
       "      <td>49054.084103</td>\n",
       "      <td>12.111764</td>\n",
       "      <td>0.498791</td>\n",
       "      <td>118.077797</td>\n",
       "      <td>1.426775e+08</td>\n",
       "      <td>NaN</td>\n",
       "      <td>2.130780e+08</td>\n",
       "      <td>0.078534</td>\n",
       "      <td>0.028149</td>\n",
       "      <td>3.365334</td>\n",
       "      <td>6.137719e+07</td>\n",
       "      <td>17.243293</td>\n",
       "      <td>85.697828</td>\n",
       "      <td>1.560359e+07</td>\n",
       "      <td>3.577931</td>\n",
       "      <td>0.359261</td>\n",
       "    </tr>\n",
       "    <tr>\n",
       "      <th>min</th>\n",
       "      <td>1.620000e+02</td>\n",
       "      <td>1.240000e+02</td>\n",
       "      <td>19.000000</td>\n",
       "      <td>1933.000000</td>\n",
       "      <td>0.000000</td>\n",
       "      <td>300.000000</td>\n",
       "      <td>0.000000e+00</td>\n",
       "      <td>NaN</td>\n",
       "      <td>0.000000e+00</td>\n",
       "      <td>0.000000</td>\n",
       "      <td>0.000000</td>\n",
       "      <td>0.000000</td>\n",
       "      <td>-1.000000e+02</td>\n",
       "      <td>1.000000</td>\n",
       "      <td>1.000000</td>\n",
       "      <td>0.000000e+00</td>\n",
       "      <td>3.000000</td>\n",
       "      <td>0.000000</td>\n",
       "    </tr>\n",
       "    <tr>\n",
       "      <th>25%</th>\n",
       "      <td>5.999858e+05</td>\n",
       "      <td>5.488585e+05</td>\n",
       "      <td>39372.000000</td>\n",
       "      <td>1970.000000</td>\n",
       "      <td>0.000000</td>\n",
       "      <td>660.000000</td>\n",
       "      <td>1.000000e+07</td>\n",
       "      <td>NaN</td>\n",
       "      <td>5.000000e+06</td>\n",
       "      <td>0.000000</td>\n",
       "      <td>0.000000</td>\n",
       "      <td>0.000000</td>\n",
       "      <td>0.000000e+00</td>\n",
       "      <td>13.000000</td>\n",
       "      <td>56.000000</td>\n",
       "      <td>5.000000e+06</td>\n",
       "      <td>11.900000</td>\n",
       "      <td>0.000000</td>\n",
       "    </tr>\n",
       "    <tr>\n",
       "      <th>50%</th>\n",
       "      <td>1.234714e+06</td>\n",
       "      <td>1.097743e+06</td>\n",
       "      <td>80197.000000</td>\n",
       "      <td>1980.000000</td>\n",
       "      <td>0.000000</td>\n",
       "      <td>740.000000</td>\n",
       "      <td>2.300000e+07</td>\n",
       "      <td>NaN</td>\n",
       "      <td>1.300000e+07</td>\n",
       "      <td>0.000000</td>\n",
       "      <td>0.000000</td>\n",
       "      <td>2.000000</td>\n",
       "      <td>1.100000e+07</td>\n",
       "      <td>29.000000</td>\n",
       "      <td>123.000000</td>\n",
       "      <td>1.000000e+07</td>\n",
       "      <td>14.800000</td>\n",
       "      <td>0.000000</td>\n",
       "    </tr>\n",
       "    <tr>\n",
       "      <th>75%</th>\n",
       "      <td>1.918823e+06</td>\n",
       "      <td>1.625669e+06</td>\n",
       "      <td>125733.000000</td>\n",
       "      <td>1988.000000</td>\n",
       "      <td>1.000000</td>\n",
       "      <td>850.000000</td>\n",
       "      <td>3.500000e+07</td>\n",
       "      <td>NaN</td>\n",
       "      <td>3.000000e+07</td>\n",
       "      <td>0.000000</td>\n",
       "      <td>0.000000</td>\n",
       "      <td>4.000000</td>\n",
       "      <td>3.400000e+07</td>\n",
       "      <td>38.000000</td>\n",
       "      <td>205.000000</td>\n",
       "      <td>2.400000e+07</td>\n",
       "      <td>16.900000</td>\n",
       "      <td>0.000000</td>\n",
       "    </tr>\n",
       "    <tr>\n",
       "      <th>max</th>\n",
       "      <td>2.586231e+06</td>\n",
       "      <td>2.167709e+06</td>\n",
       "      <td>169182.000000</td>\n",
       "      <td>2002.000000</td>\n",
       "      <td>1.000000</td>\n",
       "      <td>1000.000000</td>\n",
       "      <td>8.000000e+09</td>\n",
       "      <td>NaN</td>\n",
       "      <td>1.000000e+10</td>\n",
       "      <td>1.000000</td>\n",
       "      <td>1.000000</td>\n",
       "      <td>76.000000</td>\n",
       "      <td>1.109000e+09</td>\n",
       "      <td>64.000000</td>\n",
       "      <td>270.000000</td>\n",
       "      <td>2.000000e+08</td>\n",
       "      <td>20.000000</td>\n",
       "      <td>1.000000</td>\n",
       "    </tr>\n",
       "  </tbody>\n",
       "</table>\n",
       "</div>"
      ],
      "text/plain": [
       "              index  application_id        user_id    birth_year  \\\n",
       "count  5.800800e+04    5.800800e+04   58008.000000  56798.000000   \n",
       "mean   1.271071e+06    1.089368e+06   83087.060233   1978.565812   \n",
       "std    7.507544e+05    6.230613e+05   49054.084103     12.111764   \n",
       "min    1.620000e+02    1.240000e+02      19.000000   1933.000000   \n",
       "25%    5.999858e+05    5.488585e+05   39372.000000   1970.000000   \n",
       "50%    1.234714e+06    1.097743e+06   80197.000000   1980.000000   \n",
       "75%    1.918823e+06    1.625669e+06  125733.000000   1988.000000   \n",
       "max    2.586231e+06    2.167709e+06  169182.000000   2002.000000   \n",
       "\n",
       "             gender  credit_score  yearly_income  company_enter_month  \\\n",
       "count  56798.000000  49190.000000   5.800800e+04                  0.0   \n",
       "mean       0.465192    753.692417   3.021876e+07                  NaN   \n",
       "std        0.498791    118.077797   1.426775e+08                  NaN   \n",
       "min        0.000000    300.000000   0.000000e+00                  NaN   \n",
       "25%        0.000000    660.000000   1.000000e+07                  NaN   \n",
       "50%        0.000000    740.000000   2.300000e+07                  NaN   \n",
       "75%        1.000000    850.000000   3.500000e+07                  NaN   \n",
       "max        1.000000   1000.000000   8.000000e+09                  NaN   \n",
       "\n",
       "       desired_amount  personal_rehabilitation_yn  \\\n",
       "count    5.800800e+04                58008.000000   \n",
       "mean     3.656842e+07                    0.006206   \n",
       "std      2.130780e+08                    0.078534   \n",
       "min      0.000000e+00                    0.000000   \n",
       "25%      5.000000e+06                    0.000000   \n",
       "50%      1.300000e+07                    0.000000   \n",
       "75%      3.000000e+07                    0.000000   \n",
       "max      1.000000e+10                    1.000000   \n",
       "\n",
       "       personal_rehabilitation_complete_yn  existing_loan_cnt  \\\n",
       "count                         58008.000000       58008.000000   \n",
       "mean                              0.000793           2.618104   \n",
       "std                               0.028149           3.365334   \n",
       "min                               0.000000           0.000000   \n",
       "25%                               0.000000           0.000000   \n",
       "50%                               0.000000           2.000000   \n",
       "75%                               0.000000           4.000000   \n",
       "max                               1.000000          76.000000   \n",
       "\n",
       "       existing_loan_amt       bank_id    product_id    loan_limit  \\\n",
       "count       5.800800e+04  58008.000000  58008.000000  5.800800e+04   \n",
       "mean        3.150799e+07     27.789701    133.035685  1.574021e+07   \n",
       "std         6.137719e+07     17.243293     85.697828  1.560359e+07   \n",
       "min        -1.000000e+02      1.000000      1.000000  0.000000e+00   \n",
       "25%         0.000000e+00     13.000000     56.000000  5.000000e+06   \n",
       "50%         1.100000e+07     29.000000    123.000000  1.000000e+07   \n",
       "75%         3.400000e+07     38.000000    205.000000  2.400000e+07   \n",
       "max         1.109000e+09     64.000000    270.000000  2.000000e+08   \n",
       "\n",
       "          loan_rate    is_applied  \n",
       "count  58008.000000  43739.000000  \n",
       "mean      14.355304      0.152244  \n",
       "std        3.577931      0.359261  \n",
       "min        3.000000      0.000000  \n",
       "25%       11.900000      0.000000  \n",
       "50%       14.800000      0.000000  \n",
       "75%       16.900000      0.000000  \n",
       "max       20.000000      1.000000  "
      ]
     },
     "execution_count": 80,
     "metadata": {},
     "output_type": "execute_result"
    }
   ],
   "source": [
    "df.describe()"
   ]
  },
  {
   "cell_type": "code",
   "execution_count": 81,
   "id": "be78ae38",
   "metadata": {
    "ExecuteTime": {
     "end_time": "2022-10-12T12:10:21.987666Z",
     "start_time": "2022-10-12T12:10:21.984311Z"
    }
   },
   "outputs": [
    {
     "data": {
      "text/plain": [
       "44"
      ]
     },
     "execution_count": 81,
     "metadata": {},
     "output_type": "execute_result"
    }
   ],
   "source": [
    "2022-1978"
   ]
  },
  {
   "cell_type": "code",
   "execution_count": null,
   "id": "9b609074",
   "metadata": {},
   "outputs": [],
   "source": []
  },
  {
   "cell_type": "code",
   "execution_count": 45,
   "id": "9ecdadb6",
   "metadata": {
    "ExecuteTime": {
     "end_time": "2022-10-12T11:49:15.762072Z",
     "start_time": "2022-10-12T11:49:15.700159Z"
    }
   },
   "outputs": [],
   "source": [
    "df = merged_df[merged_df['existing_loan_amt'].isnull()==True]"
   ]
  },
  {
   "cell_type": "code",
   "execution_count": 46,
   "id": "a1cfc9c2",
   "metadata": {
    "ExecuteTime": {
     "end_time": "2022-10-12T11:49:18.702061Z",
     "start_time": "2022-10-12T11:49:18.694323Z"
    }
   },
   "outputs": [
    {
     "data": {
      "text/plain": [
       "array([ 1., nan])"
      ]
     },
     "execution_count": 46,
     "metadata": {},
     "output_type": "execute_result"
    }
   ],
   "source": [
    "df['existing_loan_cnt'].unique()"
   ]
  },
  {
   "cell_type": "code",
   "execution_count": 50,
   "id": "95ad989f",
   "metadata": {
    "ExecuteTime": {
     "end_time": "2022-10-12T11:50:08.229592Z",
     "start_time": "2022-10-12T11:50:08.222665Z"
    }
   },
   "outputs": [
    {
     "data": {
      "text/plain": [
       "21372"
      ]
     },
     "execution_count": 50,
     "metadata": {},
     "output_type": "execute_result"
    }
   ],
   "source": [
    "len(df['user_id'].unique())"
   ]
  },
  {
   "cell_type": "code",
   "execution_count": 51,
   "id": "b8f8cb1c",
   "metadata": {
    "ExecuteTime": {
     "end_time": "2022-10-12T11:50:58.351969Z",
     "start_time": "2022-10-12T11:50:58.214914Z"
    }
   },
   "outputs": [],
   "source": [
    "x_test = merged_df[merged_df['is_applied'].isnull()==True]"
   ]
  },
  {
   "cell_type": "code",
   "execution_count": 55,
   "id": "741b75a4",
   "metadata": {
    "ExecuteTime": {
     "end_time": "2022-10-12T11:52:07.362039Z",
     "start_time": "2022-10-12T11:52:07.320867Z"
    }
   },
   "outputs": [],
   "source": [
    "df2 = x_test[x_test['existing_loan_amt'].isnull()==True]"
   ]
  },
  {
   "cell_type": "code",
   "execution_count": 56,
   "id": "1da9d4dc",
   "metadata": {
    "ExecuteTime": {
     "end_time": "2022-10-12T11:52:11.276859Z",
     "start_time": "2022-10-12T11:52:11.272361Z"
    }
   },
   "outputs": [
    {
     "data": {
      "text/plain": [
       "array([nan,  1.])"
      ]
     },
     "execution_count": 56,
     "metadata": {},
     "output_type": "execute_result"
    }
   ],
   "source": [
    "df2['existing_loan_cnt'].unique()"
   ]
  },
  {
   "cell_type": "code",
   "execution_count": 57,
   "id": "4be9aa42",
   "metadata": {
    "ExecuteTime": {
     "end_time": "2022-10-12T11:52:15.163805Z",
     "start_time": "2022-10-12T11:52:15.159662Z"
    }
   },
   "outputs": [
    {
     "data": {
      "text/plain": [
       "6137"
      ]
     },
     "execution_count": 57,
     "metadata": {},
     "output_type": "execute_result"
    }
   ],
   "source": [
    "len(df2['user_id'].unique())"
   ]
  },
  {
   "cell_type": "code",
   "execution_count": null,
   "id": "65dd081d",
   "metadata": {},
   "outputs": [],
   "source": []
  },
  {
   "cell_type": "code",
   "execution_count": 32,
   "id": "518a0ac4",
   "metadata": {
    "ExecuteTime": {
     "end_time": "2022-10-12T11:36:08.087051Z",
     "start_time": "2022-10-12T11:36:07.566940Z"
    }
   },
   "outputs": [
    {
     "data": {
      "image/png": "[encoded data removed]",
      "text/plain": [
       "<Figure size 432x288 with 1 Axes>"
      ]
     },
     "metadata": {
      "needs_background": "light"
     },
     "output_type": "display_data"
    }
   ],
   "source": [
    "box=plt.boxplot(merged_df[merged_df['existing_loan_amt'].isnull()==False]['existing_loan_amt'], )\n",
    "plt.ylim(0,2.05e+08)\n",
    "plt.show()"
   ]
  },
  {
   "cell_type": "code",
   "execution_count": 30,
   "id": "de533a5f",
   "metadata": {
    "ExecuteTime": {
     "end_time": "2022-10-12T11:35:48.439255Z",
     "start_time": "2022-10-12T11:35:48.435079Z"
    }
   },
   "outputs": [
    {
     "data": {
      "text/plain": [
       "array([9.70e+07, 2.05e+08])"
      ]
     },
     "execution_count": 30,
     "metadata": {},
     "output_type": "execute_result"
    }
   ],
   "source": [
    "box['whiskers'][1].get_ydata()"
   ]
  },
  {
   "cell_type": "code",
   "execution_count": 44,
   "id": "ea73b252",
   "metadata": {
    "ExecuteTime": {
     "end_time": "2022-10-12T11:46:14.370438Z",
     "start_time": "2022-10-12T11:46:14.367120Z"
    }
   },
   "outputs": [
    {
     "data": {
      "text/plain": [
       "(97000000.0, 205000000.0)"
      ]
     },
     "execution_count": 44,
     "metadata": {},
     "output_type": "execute_result"
    }
   ],
   "source": [
    "9.70e+07, 2.05e+08"
   ]
  },
  {
   "cell_type": "code",
   "execution_count": 27,
   "id": "f28f18b3",
   "metadata": {
    "ExecuteTime": {
     "end_time": "2022-10-12T11:29:13.355523Z",
     "start_time": "2022-10-12T11:29:13.351569Z"
    }
   },
   "outputs": [
    {
     "data": {
      "text/plain": [
       "array([49000000., 49000000.])"
      ]
     },
     "execution_count": 27,
     "metadata": {},
     "output_type": "execute_result"
    }
   ],
   "source": [
    "box['medians'][0].get_ydata()"
   ]
  },
  {
   "cell_type": "code",
   "execution_count": null,
   "id": "b70824e1",
   "metadata": {},
   "outputs": [],
   "source": [
    "old_id = user_id_list[0]\n",
    "cnt=0\n",
    "for uid in user_id_list:\n",
    "    if uid != old_id:\n",
    "        "
   ]
  },
  {
   "cell_type": "code",
   "execution_count": null,
   "id": "80b04512",
   "metadata": {},
   "outputs": [],
   "source": []
  }
 ],
 "metadata": {
  "kernelspec": {
   "display_name": "Python 3 (ipykernel)",
   "language": "python",
   "name": "python3"
  },
  "language_info": {
   "codemirror_mode": {
    "name": "ipython",
    "version": 3
   },
   "file_extension": ".py",
   "mimetype": "text/x-python",
   "name": "python",
   "nbconvert_exporter": "python",
   "pygments_lexer": "ipython3",
   "version": "3.8.10"
  },
  "toc": {
   "base_numbering": 1,
   "nav_menu": {},
   "number_sections": true,
   "sideBar": true,
   "skip_h1_title": false,
   "title_cell": "Table of Contents",
   "title_sidebar": "Contents",
   "toc_cell": false,
   "toc_position": {},
   "toc_section_display": true,
   "toc_window_display": true
  },
  "varInspector": {
   "cols": {
    "lenName": 16,
    "lenType": 16,
    "lenVar": 40
   },
   "kernels_config": {
    "python": {
     "delete_cmd_postfix": "",
     "delete_cmd_prefix": "del ",
     "library": "var_list.py",
     "varRefreshCmd": "print(var_dic_list())"
    },
    "r": {
     "delete_cmd_postfix": ") ",
     "delete_cmd_prefix": "rm(",
     "library": "var_list.r",
     "varRefreshCmd": "cat(var_dic_list()) "
    }
   },
   "types_to_exclude": [
    "module",
    "function",
    "builtin_function_or_method",
    "instance",
    "_Feature"
   ],
   "window_display": false
  }
 },
 "nbformat": 4,
 "nbformat_minor": 5
}
