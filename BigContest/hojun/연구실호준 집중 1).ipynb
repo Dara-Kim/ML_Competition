{
 "cells": [
  {
   "cell_type": "code",
   "execution_count": 1,
   "id": "01ba4799",
   "metadata": {
    "ExecuteTime": {
     "end_time": "2022-10-10T05:20:02.443893Z",
     "start_time": "2022-10-10T05:20:00.178449Z"
    }
   },
   "outputs": [],
   "source": [
    "import pandas as pd\n",
    "import numpy as np\n",
    "import os\n",
    "import random\n",
    "from copy import deepcopy\n",
    "import math\n",
    "from itertools import product\n",
    "import pickle\n",
    "import joblib\n",
    "\n",
    "import matplotlib.pyplot as plt\n",
    "import seaborn as sb\n",
    "\n",
    "from sklearn.ensemble import RandomForestClassifier\n",
    "from sklearn.model_selection import train_test_split\n",
    "from sklearn.metrics import f1_score, confusion_matrix, ConfusionMatrixDisplay"
   ]
  },
  {
   "cell_type": "code",
   "execution_count": 2,
   "id": "a8d37d06",
   "metadata": {
    "ExecuteTime": {
     "end_time": "2022-10-10T05:20:09.542162Z",
     "start_time": "2022-10-10T05:20:02.449109Z"
    }
   },
   "outputs": [],
   "source": [
    "# user_df = pd.read_csv('./data/user_spec.csv')\n",
    "loan_df = pd.read_csv('./data/loan_result.csv')\n",
    "# log_df = pd.read_csv('./data/log_data.csv' )"
   ]
  },
  {
   "cell_type": "code",
   "execution_count": 3,
   "id": "ca6217ee",
   "metadata": {
    "ExecuteTime": {
     "end_time": "2022-10-10T05:20:09.567273Z",
     "start_time": "2022-10-10T05:20:09.560185Z"
    }
   },
   "outputs": [
    {
     "data": {
      "text/plain": [
       "(13527363, 7)"
      ]
     },
     "execution_count": 3,
     "metadata": {},
     "output_type": "execute_result"
    }
   ],
   "source": [
    "loan_df.shape"
   ]
  },
  {
   "cell_type": "code",
   "execution_count": 4,
   "id": "aca9b7bb",
   "metadata": {
    "ExecuteTime": {
     "end_time": "2022-10-10T05:20:09.902653Z",
     "start_time": "2022-10-10T05:20:09.578545Z"
    }
   },
   "outputs": [
    {
     "data": {
      "text/plain": [
       "Int64Index([   13284,    13285,    13286,    13287,    13288,    13289,\n",
       "               13290,    13291,    13292,    13293,\n",
       "            ...\n",
       "            13519629, 13519630, 13519631, 13519632, 13519633, 13519634,\n",
       "            13519635, 13519636, 13519637, 13519638],\n",
       "           dtype='int64', length=10270124)"
      ]
     },
     "execution_count": 4,
     "metadata": {},
     "output_type": "execute_result"
    }
   ],
   "source": [
    "loan_df['is_applied'].dropna(axis=0).index"
   ]
  },
  {
   "cell_type": "code",
   "execution_count": 5,
   "id": "7880b9d8",
   "metadata": {
    "ExecuteTime": {
     "end_time": "2022-10-10T05:20:12.271731Z",
     "start_time": "2022-10-10T05:20:09.910839Z"
    }
   },
   "outputs": [],
   "source": [
    "loan_df = loan_df.loc[loan_df['is_applied'].dropna(axis=0).index]\n",
    "loan_df.drop(['loanapply_insert_time'], axis=1, inplace=True)"
   ]
  },
  {
   "cell_type": "code",
   "execution_count": 6,
   "id": "3777001c",
   "metadata": {
    "ExecuteTime": {
     "end_time": "2022-10-10T05:20:12.622981Z",
     "start_time": "2022-10-10T05:20:12.618889Z"
    }
   },
   "outputs": [
    {
     "data": {
      "text/plain": [
       "[317, 606]"
      ]
     },
     "execution_count": 6,
     "metadata": {},
     "output_type": "execute_result"
    }
   ],
   "source": [
    "random_list = [ random.randint(1,1000) for i in range(2)]\n",
    "random_list"
   ]
  },
  {
   "cell_type": "code",
   "execution_count": 7,
   "id": "52b15204",
   "metadata": {
    "ExecuteTime": {
     "end_time": "2022-10-10T05:20:16.497985Z",
     "start_time": "2022-10-10T05:20:16.495526Z"
    }
   },
   "outputs": [],
   "source": [
    "for mypath in ['./mydata','./model','./visual','./perf']:\n",
    "    if not os.path.isdir(mypath):\n",
    "        os.mkdir(mypath)"
   ]
  },
  {
   "cell_type": "code",
   "execution_count": 9,
   "id": "69e6e1fb",
   "metadata": {
    "ExecuteTime": {
     "end_time": "2022-10-10T05:40:06.131166Z",
     "start_time": "2022-10-10T05:33:17.284642Z"
    }
   },
   "outputs": [
    {
     "name": "stdout",
     "output_type": "stream",
     "text": [
      "1 done\n",
      "2 done\n"
     ]
    }
   ],
   "source": [
    "acc_list=[]\n",
    "f1_list=[]\n",
    "confusion_list=[]\n",
    "\n",
    "tmp = loan_df.fillna(0)\n",
    "for i, state in enumerate(random_list,1):\n",
    "    data_set = pd.concat([tmp[tmp['is_applied']==0].sample(560449, random_state=state), tmp[tmp['is_applied']==1]])\n",
    "    \n",
    "    X,y= data_set.loc[:, data_set.columns !='is_applied'] ,data_set['is_applied']\n",
    "    X_train, X_test, y_train, y_test= train_test_split(X,y, test_size=0.2, random_state=state)\n",
    "    model = RandomForestClassifier(random_state=state)\n",
    "    model.fit(X_train, y_train)\n",
    "    y_pred=model.predict(X_test)\n",
    "    \n",
    "    acc_list.append(model.score(X_test,y_test))\n",
    "    f1_list.append(f1_score(y_test,y_pred))\n",
    "    confusion_list.append(confusion_matrix(y_test,y_pred))\n",
    "    \n",
    "    with open(f'./mydata/zero_fill_index_{i}.txt','w') as f:\n",
    "        f.write('\\n'.join(map(str,data_set.index)))\n",
    "    saved_model = pickle.dumps(model)\n",
    "    \n",
    "    joblib.dump(model,f'./model/zero_fill_model_{i}.pkl')\n",
    "    print(i,'done')"
   ]
  },
  {
   "cell_type": "code",
   "execution_count": 10,
   "id": "011ba585",
   "metadata": {
    "ExecuteTime": {
     "end_time": "2022-10-10T05:40:28.307311Z",
     "start_time": "2022-10-10T05:40:27.990625Z"
    }
   },
   "outputs": [
    {
     "data": {
      "image/png": "[encoded data removed]",
      "text/plain": [
       "<Figure size 144x144 with 2 Axes>"
      ]
     },
     "metadata": {
      "needs_background": "light"
     },
     "output_type": "display_data"
    },
    {
     "data": {
      "image/png": "[encoded data removed]",
      "text/plain": [
       "<Figure size 144x144 with 2 Axes>"
      ]
     },
     "metadata": {
      "needs_background": "light"
     },
     "output_type": "display_data"
    }
   ],
   "source": [
    "for i, cm in enumerate(confusion_list):\n",
    "    d=ConfusionMatrixDisplay(cm,display_labels=[0,1])\n",
    "    fig,ax=plt.subplots(figsize=(2,2))\n",
    "    d.plot(cmap='Greys',ax=ax)\n",
    "    plt.title(f'Zero_fill_case_{i}')\n",
    "    plt.savefig(f'./visual/zero_fill_{i}.png')"
   ]
  },
  {
   "cell_type": "code",
   "execution_count": 11,
   "id": "ec19310c",
   "metadata": {
    "ExecuteTime": {
     "end_time": "2022-10-10T05:52:23.656366Z",
     "start_time": "2022-10-10T05:52:23.564293Z"
    }
   },
   "outputs": [
    {
     "data": {
      "text/plain": [
       "<sklearn.metrics._plot.confusion_matrix.ConfusionMatrixDisplay at 0x7f53079d8280>"
      ]
     },
     "execution_count": 11,
     "metadata": {},
     "output_type": "execute_result"
    },
    {
     "data": {
      "image/png": "[encoded data removed]",
      "text/plain": [
       "<Figure size 144x144 with 2 Axes>"
      ]
     },
     "metadata": {
      "needs_background": "light"
     },
     "output_type": "display_data"
    }
   ],
   "source": [
    "new_cm = np.array([cm[0]/sum(cm[0])*100, cm[1]/sum(cm[1])*100])\n",
    "d=ConfusionMatrixDisplay(new_cm,display_labels=[0,1])\n",
    "fig,ax=plt.subplots(figsize=(2,2))\n",
    "d.plot(cmap='Greys',ax=ax)\n"
   ]
  },
  {
   "cell_type": "code",
   "execution_count": null,
   "id": "6d70263f",
   "metadata": {},
   "outputs": [],
   "source": []
  },
  {
   "cell_type": "code",
   "execution_count": null,
   "id": "cc8b4b5b",
   "metadata": {},
   "outputs": [],
   "source": []
  },
  {
   "cell_type": "markdown",
   "id": "d1fae3ae",
   "metadata": {},
   "source": [
    "##"
   ]
  },
  {
   "cell_type": "code",
   "execution_count": 12,
   "id": "67362dd7",
   "metadata": {
    "ExecuteTime": {
     "end_time": "2022-10-10T07:05:07.882426Z",
     "start_time": "2022-10-10T07:05:07.880069Z"
    }
   },
   "outputs": [],
   "source": [
    "null_feature = ['loan_limit','loan_rate']\n",
    "options = [0, 'min', 'max', 'mean', 'median']"
   ]
  },
  {
   "cell_type": "code",
   "execution_count": 13,
   "id": "c3355606",
   "metadata": {
    "ExecuteTime": {
     "end_time": "2022-10-10T07:05:30.029818Z",
     "start_time": "2022-10-10T07:05:30.019697Z"
    }
   },
   "outputs": [
    {
     "name": "stdout",
     "output_type": "stream",
     "text": [
      "223 43 350 649 917 503 609 179 723 292 810 385 185 915 811 144 218 22 435 521 819 661 994 317 653\n"
     ]
    }
   ],
   "source": [
    "my_options = product(options, repeat=len(null_feature))\n",
    "random_list = [ random.randint(1,1000) for i in range(len(list(my_options)))]\n",
    "print(*random_list)"
   ]
  },
  {
   "cell_type": "code",
   "execution_count": 16,
   "id": "0a58c6cd",
   "metadata": {
    "ExecuteTime": {
     "end_time": "2022-10-10T07:17:21.521966Z",
     "start_time": "2022-10-10T07:08:11.941775Z"
    }
   },
   "outputs": [
    {
     "name": "stdout",
     "output_type": "stream",
     "text": [
      "0 (0, 0) done\n",
      "1 (0, 'min') done\n",
      "2 (0, 'max') done\n",
      "3 (0, 'mean') done\n",
      "4 (0, 'median') done\n",
      "5 ('min', 0) done\n",
      "6 ('min', 'min') done\n",
      "7 ('min', 'max') done\n",
      "8 ('min', 'mean') done\n",
      "9 ('min', 'median') done\n",
      "10 ('max', 0) done\n",
      "11 ('max', 'min') done\n",
      "12 ('max', 'max') done\n",
      "13 ('max', 'mean') done\n",
      "14 ('max', 'median') done\n",
      "15 ('mean', 0) done\n",
      "16 ('mean', 'min') done\n",
      "17 ('mean', 'max') done\n",
      "18 ('mean', 'mean') done\n",
      "19 ('mean', 'median') done\n",
      "20 ('median', 0) done\n",
      "21 ('median', 'min') done\n",
      "22 ('median', 'max') done\n",
      "23 ('median', 'mean') done\n",
      "24 ('median', 'median') done\n"
     ]
    }
   ],
   "source": [
    "model_list = []\n",
    "acc_list = []\n",
    "f1_list = []\n",
    "confusion_list = []\n",
    "for i, option_group in enumerate(product(options, repeat=len(null_feature))):\n",
    "    \n",
    "    tmp = deepcopy(loan_df)\n",
    "    data_set = pd.concat([tmp[tmp['is_applied']==0].sample(100_000, random_state=random_list[i]), tmp[tmp['is_applied']==1].sample(100_000, random_state=random_list[i])])\n",
    "    for column_name, option in zip(null_feature, list(product(options, repeat=len(null_feature)))[5]):\n",
    "        if option == 0:\n",
    "            data_set[column_name].fillna(0, inplace=True)\n",
    "        else:\n",
    "            eval(f'data_set[\"{column_name}\"].fillna(data_set[\"{column_name}\"].{option}(), inplace=True)')\n",
    "\n",
    "    X,y= data_set.loc[:, data_set.columns !='is_applied'] ,data_set['is_applied']\n",
    "    X_train, X_test, y_train, y_test= train_test_split(X,y, test_size=0.2, random_state=random_list[i])\n",
    "    model = RandomForestClassifier(random_state=random_list[i])\n",
    "    model.fit(X_train, y_train)\n",
    "    y_pred=model.predict(X_test)\n",
    "    \n",
    "    model_list.append(model)\n",
    "    acc_list.append(model.score(X_test,y_test))\n",
    "    f1_list.append(f1_score(y_test,y_pred))\n",
    "    confusion_list.append(confusion_matrix(y_test,y_pred))\n",
    "    \n",
    "    with open(f'./mydata/{option_group[0]}_{option_group[1]}.txt','w') as f:\n",
    "        f.write('\\n'.join(map(str,data_set.index)))\n",
    "    saved_model = pickle.dumps(model)\n",
    "    joblib.dump(model,f'./model/{option_group[0]}_{option_group[1]}.pkl')\n",
    "    print(i, option_group, 'done')"
   ]
  },
  {
   "cell_type": "code",
   "execution_count": 18,
   "id": "72302f78",
   "metadata": {
    "ExecuteTime": {
     "end_time": "2022-10-10T07:18:47.766274Z",
     "start_time": "2022-10-10T07:18:47.760134Z"
    }
   },
   "outputs": [
    {
     "name": "stdout",
     "output_type": "stream",
     "text": [
      "(0.65555, 0.6529471032745592)\n",
      "(0.65345, 0.6507960499798469)\n",
      "(0.65365, 0.6518745602573123)\n",
      "(0.6529, 0.6526394796097071)\n",
      "(0.649275, 0.6500536306717553)\n",
      "(0.65485, 0.6544353223868643)\n",
      "(0.657175, 0.654940741299917)\n",
      "(0.65555, 0.6551188986232792)\n",
      "(0.65175, 0.6504566897520827)\n",
      "(0.652, 0.6506199487977511)\n",
      "(0.656175, 0.6546641556811049)\n",
      "(0.6566, 0.655272800281082)\n",
      "(0.651025, 0.6473842423017658)\n",
      "(0.654575, 0.6533878533978877)\n",
      "(0.6543, 0.6524929634097306)\n",
      "(0.648275, 0.6481078512293339)\n",
      "(0.65565, 0.6549944895301072)\n",
      "(0.6475, 0.647164806566238)\n",
      "(0.65515, 0.6518952203098975)\n",
      "(0.650125, 0.6507100606484139)\n",
      "(0.654925, 0.6514481957526325)\n",
      "(0.650775, 0.6490112816904947)\n",
      "(0.655725, 0.6528348501273099)\n",
      "(0.655625, 0.6544761331426995)\n",
      "(0.653875, 0.6509517206605321)\n"
     ]
    }
   ],
   "source": [
    "print(*zip(acc_list,f1_list), sep='\\n')"
   ]
  },
  {
   "cell_type": "code",
   "execution_count": 24,
   "id": "2a6e8ffb",
   "metadata": {
    "ExecuteTime": {
     "end_time": "2022-10-10T07:28:12.885225Z",
     "start_time": "2022-10-10T07:28:12.877137Z"
    },
    "scrolled": true
   },
   "outputs": [
    {
     "name": "stdout",
     "output_type": "stream",
     "text": [
      "[[13261  6702]\n",
      " [ 7076 12961]],\n",
      "[[13221  6817]\n",
      " [ 7045 12917]],\n",
      "[[13175  6781]\n",
      " [ 7073 12971]],\n",
      "[[13073  6648]\n",
      " [ 7236 13043]],\n",
      "[[12941  6983]\n",
      " [ 7046 13030]],\n",
      "[[13121  6793]\n",
      " [ 7013 13073]],\n",
      "[[13273  6764]\n",
      " [ 6949 13014]],\n",
      "[[13136  6634]\n",
      " [ 7144 13086]],\n",
      "[[13109  6961]\n",
      " [ 6969 12961]],\n",
      "[[13119  6859]\n",
      " [ 7061 12961]],\n",
      "[[13211  6818]\n",
      " [ 6935 13036]],\n",
      "[[13209  6796]\n",
      " [ 6940 13055]],\n",
      "[[13227  6831]\n",
      " [ 7128 12814]],\n",
      "[[13160  6891]\n",
      " [ 6926 13023]],\n",
      "[[13190  6771]\n",
      " [ 7057 12982]],\n",
      "[[12975  6997]\n",
      " [ 7072 12956]],\n",
      "[[13151  6769]\n",
      " [ 7005 13075]],\n",
      "[[12969  6994]\n",
      " [ 7106 12931]],\n",
      "[[13290  6758]\n",
      " [ 7036 12916]],\n",
      "[[12969  6840]\n",
      " [ 7155 13036]],\n",
      "[[13298  6668]\n",
      " [ 7135 12899]],\n",
      "[[13116  6966]\n",
      " [ 7003 12915]],\n",
      "[[13281  6764]\n",
      " [ 7007 12948]],\n",
      "[[13179  6830]\n",
      " [ 6945 13046]],\n",
      "[[13245  6853]\n",
      " [ 6992 12910]]\n"
     ]
    }
   ],
   "source": [
    "print(*confusion_list, sep=',\\n')"
   ]
  },
  {
   "cell_type": "markdown",
   "id": "7ec41eaf",
   "metadata": {},
   "source": [
    "## get dummies"
   ]
  },
  {
   "cell_type": "code",
   "execution_count": 19,
   "id": "da5b7696",
   "metadata": {
    "ExecuteTime": {
     "end_time": "2022-10-10T07:19:40.678702Z",
     "start_time": "2022-10-10T07:19:40.676468Z"
    }
   },
   "outputs": [],
   "source": [
    "null_feature = ['loan_limit','loan_rate']\n",
    "options = [0, 'min', 'max', 'mean', 'median']"
   ]
  },
  {
   "cell_type": "code",
   "execution_count": 20,
   "id": "430e36ec",
   "metadata": {
    "ExecuteTime": {
     "end_time": "2022-10-10T07:20:00.284774Z",
     "start_time": "2022-10-10T07:20:00.279956Z"
    }
   },
   "outputs": [
    {
     "name": "stdout",
     "output_type": "stream",
     "text": [
      "875 950 947 158 548 989 714 906 556 973 166 755 922 172 937 546 280 173 641 188 330 655 54 939 74\n"
     ]
    }
   ],
   "source": [
    "my_options = product(options, repeat=len(null_feature))\n",
    "random_list = [ random.randint(1,1000) for i in range(len(list(my_options)))]\n",
    "print(*random_list)"
   ]
  },
  {
   "cell_type": "code",
   "execution_count": 25,
   "id": "3fcac736",
   "metadata": {
    "ExecuteTime": {
     "end_time": "2022-10-10T07:38:38.509750Z",
     "start_time": "2022-10-10T07:29:26.079612Z"
    }
   },
   "outputs": [
    {
     "name": "stdout",
     "output_type": "stream",
     "text": [
      "0 (0, 0) done\n",
      "1 (0, 'min') done\n",
      "2 (0, 'max') done\n",
      "3 (0, 'mean') done\n",
      "4 (0, 'median') done\n",
      "5 ('min', 0) done\n",
      "6 ('min', 'min') done\n",
      "7 ('min', 'max') done\n",
      "8 ('min', 'mean') done\n",
      "9 ('min', 'median') done\n",
      "10 ('max', 0) done\n",
      "11 ('max', 'min') done\n",
      "12 ('max', 'max') done\n",
      "13 ('max', 'mean') done\n",
      "14 ('max', 'median') done\n",
      "15 ('mean', 0) done\n",
      "16 ('mean', 'min') done\n",
      "17 ('mean', 'max') done\n",
      "18 ('mean', 'mean') done\n",
      "19 ('mean', 'median') done\n",
      "20 ('median', 0) done\n",
      "21 ('median', 'min') done\n",
      "22 ('median', 'max') done\n",
      "23 ('median', 'mean') done\n",
      "24 ('median', 'median') done\n"
     ]
    }
   ],
   "source": [
    "model_list = []\n",
    "acc_list = []\n",
    "f1_list = []\n",
    "confusion_list = []\n",
    "for i, option_group in enumerate(product(options, repeat=len(null_feature))):\n",
    "    \n",
    "    tmp = deepcopy(loan_df)\n",
    "    \n",
    "    data_set = pd.concat([tmp[tmp['is_applied']==0].sample(100_000, random_state=random_list[i]), tmp[tmp['is_applied']==1].sample(100_000, random_state=random_list[i])])\n",
    "    pd.get_dummies(data = data_set, columns=['bank_id'], prefix='bank')\n",
    "    pd.get_dummies(data = data_set, columns=['product_id'], prefix='product')\n",
    "    data_set.drop(['bank_id','product_id'], axis=1, inplace=True)\n",
    "    \n",
    "    for column_name, option in zip(null_feature, list(product(options, repeat=len(null_feature)))[5]):\n",
    "        if option == 0:\n",
    "            data_set[column_name].fillna(0, inplace=True)\n",
    "        else:\n",
    "            eval(f'data_set[\"{column_name}\"].fillna(data_set[\"{column_name}\"].{option}(), inplace=True)')\n",
    "\n",
    "    X,y= data_set.loc[:, data_set.columns !='is_applied'] ,data_set['is_applied']\n",
    "    X_train, X_test, y_train, y_test= train_test_split(X,y, test_size=0.2, random_state=random_list[i])\n",
    "    model = RandomForestClassifier(random_state=random_list[i])\n",
    "    model.fit(X_train, y_train)\n",
    "    y_pred=model.predict(X_test)\n",
    "    \n",
    "    model_list.append(model)\n",
    "    acc_list.append(model.score(X_test,y_test))\n",
    "    f1_list.append(f1_score(y_test,y_pred))\n",
    "    confusion_list.append(confusion_matrix(y_test,y_pred))\n",
    "    \n",
    "    with open(f'./mydata/g{option_group[0]}_{option_group[1]}.txt','w') as f:\n",
    "        f.write('\\n'.join(map(str,data_set.index)))\n",
    "    saved_model = pickle.dumps(model)\n",
    "    joblib.dump(model,f'./model/g{option_group[0]}_{option_group[1]}.pkl')\n",
    "    print(i, option_group, 'done')\n"
   ]
  },
  {
   "cell_type": "code",
   "execution_count": 26,
   "id": "92a11abb",
   "metadata": {
    "ExecuteTime": {
     "end_time": "2022-10-10T07:43:42.226557Z",
     "start_time": "2022-10-10T07:43:42.219916Z"
    }
   },
   "outputs": [
    {
     "name": "stdout",
     "output_type": "stream",
     "text": [
      "(0.580175, 0.5742463808533834)\n",
      "(0.582225, 0.5758521789893144)\n",
      "(0.580325, 0.5769938263827642)\n",
      "(0.57565, 0.571493486822175)\n",
      "(0.579275, 0.576234482411301)\n",
      "(0.573475, 0.5667927786100602)\n",
      "(0.579975, 0.5752926009252003)\n",
      "(0.576125, 0.5686957848948131)\n",
      "(0.58205, 0.5737813583520293)\n",
      "(0.5784, 0.5726954847210258)\n",
      "(0.582825, 0.5776619169345245)\n",
      "(0.582725, 0.5766606640119715)\n",
      "(0.580975, 0.5745399162330244)\n",
      "(0.5817, 0.5748767721937091)\n",
      "(0.5767, 0.5700137132408959)\n",
      "(0.577775, 0.5730680755327485)\n",
      "(0.579825, 0.5755486526757079)\n",
      "(0.5802, 0.575616659927214)\n",
      "(0.5838, 0.5794685258159038)\n",
      "(0.5825, 0.5747173270856677)\n",
      "(0.58335, 0.5782254390848813)\n",
      "(0.5754, 0.5695458231954582)\n",
      "(0.5793, 0.5710425694621464)\n",
      "(0.581675, 0.5772893772893773)\n",
      "(0.57865, 0.5752091944752497)\n"
     ]
    }
   ],
   "source": [
    "print(*zip(acc_list,f1_list), sep='\\n')"
   ]
  }
 ],
 "metadata": {
  "kernelspec": {
   "display_name": "Python 3 (ipykernel)",
   "language": "python",
   "name": "python3"
  },
  "language_info": {
   "codemirror_mode": {
    "name": "ipython",
    "version": 3
   },
   "file_extension": ".py",
   "mimetype": "text/x-python",
   "name": "python",
   "nbconvert_exporter": "python",
   "pygments_lexer": "ipython3",
   "version": "3.8.10"
  },
  "toc": {
   "base_numbering": 1,
   "nav_menu": {},
   "number_sections": true,
   "sideBar": true,
   "skip_h1_title": false,
   "title_cell": "Table of Contents",
   "title_sidebar": "Contents",
   "toc_cell": false,
   "toc_position": {},
   "toc_section_display": true,
   "toc_window_display": false
  },
  "varInspector": {
   "cols": {
    "lenName": 16,
    "lenType": 16,
    "lenVar": 40
   },
   "kernels_config": {
    "python": {
     "delete_cmd_postfix": "",
     "delete_cmd_prefix": "del ",
     "library": "var_list.py",
     "varRefreshCmd": "print(var_dic_list())"
    },
    "r": {
     "delete_cmd_postfix": ") ",
     "delete_cmd_prefix": "rm(",
     "library": "var_list.r",
     "varRefreshCmd": "cat(var_dic_list()) "
    }
   },
   "types_to_exclude": [
    "module",
    "function",
    "builtin_function_or_method",
    "instance",
    "_Feature"
   ],
   "window_display": false
  }
 },
 "nbformat": 4,
 "nbformat_minor": 5
}
