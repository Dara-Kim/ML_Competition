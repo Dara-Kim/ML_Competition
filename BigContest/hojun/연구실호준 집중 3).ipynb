{
 "cells": [
  {
   "cell_type": "code",
   "execution_count": 1,
   "id": "95bffe52",
   "metadata": {
    "ExecuteTime": {
     "end_time": "2022-10-10T17:40:48.902292Z",
     "start_time": "2022-10-10T17:40:46.960703Z"
    }
   },
   "outputs": [],
   "source": [
    "import pandas as pd\n",
    "import numpy as np\n",
    "import os\n",
    "import random\n",
    "from copy import deepcopy\n",
    "import math\n",
    "from itertools import product\n",
    "import pickle\n",
    "import joblib\n",
    "\n",
    "import matplotlib.pyplot as plt\n",
    "import seaborn as sb\n",
    "\n",
    "from sklearn.ensemble import RandomForestClassifier\n",
    "from sklearn.model_selection import train_test_split\n",
    "from sklearn.metrics import f1_score, confusion_matrix, ConfusionMatrixDisplay"
   ]
  },
  {
   "cell_type": "code",
   "execution_count": 29,
   "id": "6d28c072",
   "metadata": {
    "ExecuteTime": {
     "end_time": "2022-10-10T17:55:29.534265Z",
     "start_time": "2022-10-10T17:55:20.108284Z"
    }
   },
   "outputs": [],
   "source": [
    "user_df = pd.read_csv('./data/user_spec.csv')\n",
    "loan_df = pd.read_csv('./data/loan_result.csv')"
   ]
  },
  {
   "cell_type": "code",
   "execution_count": 30,
   "id": "20ed9798",
   "metadata": {
    "ExecuteTime": {
     "end_time": "2022-10-10T17:55:57.448487Z",
     "start_time": "2022-10-10T17:55:43.162180Z"
    }
   },
   "outputs": [],
   "source": [
    "merged_df=pd.merge(user_df, loan_df, on='application_id')"
   ]
  },
  {
   "cell_type": "code",
   "execution_count": 52,
   "id": "48851d98",
   "metadata": {
    "ExecuteTime": {
     "end_time": "2022-10-10T18:02:44.200344Z",
     "start_time": "2022-10-10T18:02:38.867651Z"
    }
   },
   "outputs": [
    {
     "data": {
      "text/plain": [
       "birth_year                               128096\n",
       "gender                                   128096\n",
       "credit_score                            1509276\n",
       "yearly_income                                 6\n",
       "company_enter_month                      400337\n",
       "personal_rehabilitation_yn              5888701\n",
       "personal_rehabilitation_complete_yn    11793977\n",
       "existing_loan_cnt                       2685709\n",
       "existing_loan_amt                       3890163\n",
       "loan_limit                                 7382\n",
       "loan_rate                                  7382\n",
       "is_applied                              3257239\n",
       "dtype: int64"
      ]
     },
     "execution_count": 52,
     "metadata": {},
     "output_type": "execute_result"
    }
   ],
   "source": [
    "merged_df.isnull().sum()[merged_df.isnull().sum()!=0]"
   ]
  },
  {
   "cell_type": "code",
   "execution_count": 34,
   "id": "5b1d8dd8",
   "metadata": {
    "ExecuteTime": {
     "end_time": "2022-10-10T17:57:05.528858Z",
     "start_time": "2022-10-10T17:56:57.718594Z"
    }
   },
   "outputs": [
    {
     "data": {
      "text/plain": [
       "11793977"
      ]
     },
     "execution_count": 34,
     "metadata": {},
     "output_type": "execute_result"
    }
   ],
   "source": [
    "df = merged_df[merged_df['personal_rehabilitation_complete_yn'].isnull()]['personal_rehabilitation_yn']\n",
    "len(df)"
   ]
  },
  {
   "cell_type": "code",
   "execution_count": 36,
   "id": "f4588346",
   "metadata": {
    "ExecuteTime": {
     "end_time": "2022-10-10T17:57:29.775800Z",
     "start_time": "2022-10-10T17:57:29.699106Z"
    }
   },
   "outputs": [
    {
     "data": {
      "text/plain": [
       "(5888701, 5905276, 0, True)"
      ]
     },
     "execution_count": 36,
     "metadata": {},
     "output_type": "execute_result"
    }
   ],
   "source": [
    "df.isnull().sum(), (df==0).sum(), (df==1).sum(), df.isnull().sum()+ (df==0).sum()==len(df)"
   ]
  },
  {
   "cell_type": "code",
   "execution_count": 37,
   "id": "5f8f6b96",
   "metadata": {
    "ExecuteTime": {
     "end_time": "2022-10-10T17:57:53.385612Z",
     "start_time": "2022-10-10T17:57:52.218548Z"
    }
   },
   "outputs": [
    {
     "data": {
      "text/plain": [
       "3890163"
      ]
     },
     "execution_count": 37,
     "metadata": {},
     "output_type": "execute_result"
    }
   ],
   "source": [
    "df = merged_df[merged_df['existing_loan_amt'].isnull()]['existing_loan_cnt']\n",
    "len(df)"
   ]
  },
  {
   "cell_type": "code",
   "execution_count": 38,
   "id": "76770d48",
   "metadata": {
    "ExecuteTime": {
     "end_time": "2022-10-10T17:58:02.084514Z",
     "start_time": "2022-10-10T17:58:02.048128Z"
    }
   },
   "outputs": [
    {
     "data": {
      "text/plain": [
       "(2685709, 0, 1204454, True)"
      ]
     },
     "execution_count": 38,
     "metadata": {},
     "output_type": "execute_result"
    }
   ],
   "source": [
    "df.isnull().sum(), (df==0).sum(), (df>0).sum(), df.isnull().sum()+(df>0).sum() == len(df)"
   ]
  },
  {
   "cell_type": "code",
   "execution_count": 40,
   "id": "54991eeb",
   "metadata": {
    "ExecuteTime": {
     "end_time": "2022-10-10T17:58:43.335744Z",
     "start_time": "2022-10-10T17:58:43.319103Z"
    }
   },
   "outputs": [
    {
     "data": {
      "text/plain": [
       "6"
      ]
     },
     "execution_count": 40,
     "metadata": {},
     "output_type": "execute_result"
    }
   ],
   "source": [
    "df = merged_df[merged_df['yearly_income'].isnull()]['income_type']\n",
    "len(df)"
   ]
  },
  {
   "cell_type": "code",
   "execution_count": 50,
   "id": "a47aa4c1",
   "metadata": {
    "ExecuteTime": {
     "end_time": "2022-10-10T18:00:23.028421Z",
     "start_time": "2022-10-10T18:00:23.024636Z"
    }
   },
   "outputs": [
    {
     "data": {
      "text/plain": [
       "5781948    OTHERINCOME\n",
       "5781949    OTHERINCOME\n",
       "5781950    OTHERINCOME\n",
       "5781951    OTHERINCOME\n",
       "5781952    OTHERINCOME\n",
       "5781953    OTHERINCOME\n",
       "Name: income_type, dtype: object"
      ]
     },
     "execution_count": 50,
     "metadata": {},
     "output_type": "execute_result"
    }
   ],
   "source": [
    "df"
   ]
  },
  {
   "cell_type": "code",
   "execution_count": 54,
   "id": "31925403",
   "metadata": {
    "ExecuteTime": {
     "end_time": "2022-10-10T18:06:43.829362Z",
     "start_time": "2022-10-10T18:06:43.799723Z"
    }
   },
   "outputs": [
    {
     "data": {
      "text/html": [
       "<div>\n",
       "<style scoped>\n",
       "    .dataframe tbody tr th:only-of-type {\n",
       "        vertical-align: middle;\n",
       "    }\n",
       "\n",
       "    .dataframe tbody tr th {\n",
       "        vertical-align: top;\n",
       "    }\n",
       "\n",
       "    .dataframe thead th {\n",
       "        text-align: right;\n",
       "    }\n",
       "</style>\n",
       "<table border=\"1\" class=\"dataframe\">\n",
       "  <thead>\n",
       "    <tr style=\"text-align: right;\">\n",
       "      <th></th>\n",
       "      <th>application_id</th>\n",
       "      <th>user_id</th>\n",
       "      <th>birth_year</th>\n",
       "      <th>gender</th>\n",
       "      <th>insert_time</th>\n",
       "      <th>credit_score</th>\n",
       "      <th>yearly_income</th>\n",
       "      <th>income_type</th>\n",
       "      <th>company_enter_month</th>\n",
       "      <th>employment_type</th>\n",
       "      <th>...</th>\n",
       "      <th>personal_rehabilitation_yn</th>\n",
       "      <th>personal_rehabilitation_complete_yn</th>\n",
       "      <th>existing_loan_cnt</th>\n",
       "      <th>existing_loan_amt</th>\n",
       "      <th>loanapply_insert_time</th>\n",
       "      <th>bank_id</th>\n",
       "      <th>product_id</th>\n",
       "      <th>loan_limit</th>\n",
       "      <th>loan_rate</th>\n",
       "      <th>is_applied</th>\n",
       "    </tr>\n",
       "  </thead>\n",
       "  <tbody>\n",
       "    <tr>\n",
       "      <th>5781948</th>\n",
       "      <td>341149</td>\n",
       "      <td>670502</td>\n",
       "      <td>1981.0</td>\n",
       "      <td>1.0</td>\n",
       "      <td>2022-06-30 21:32:18</td>\n",
       "      <td>930.0</td>\n",
       "      <td>NaN</td>\n",
       "      <td>OTHERINCOME</td>\n",
       "      <td>NaN</td>\n",
       "      <td>기타</td>\n",
       "      <td>...</td>\n",
       "      <td>0.0</td>\n",
       "      <td>0.0</td>\n",
       "      <td>1.0</td>\n",
       "      <td>3000000.0</td>\n",
       "      <td>2022-06-30 21:32:20</td>\n",
       "      <td>64</td>\n",
       "      <td>254</td>\n",
       "      <td>45000000.0</td>\n",
       "      <td>10.3</td>\n",
       "      <td>NaN</td>\n",
       "    </tr>\n",
       "    <tr>\n",
       "      <th>5781949</th>\n",
       "      <td>341149</td>\n",
       "      <td>670502</td>\n",
       "      <td>1981.0</td>\n",
       "      <td>1.0</td>\n",
       "      <td>2022-06-30 21:32:18</td>\n",
       "      <td>930.0</td>\n",
       "      <td>NaN</td>\n",
       "      <td>OTHERINCOME</td>\n",
       "      <td>NaN</td>\n",
       "      <td>기타</td>\n",
       "      <td>...</td>\n",
       "      <td>0.0</td>\n",
       "      <td>0.0</td>\n",
       "      <td>1.0</td>\n",
       "      <td>3000000.0</td>\n",
       "      <td>2022-06-30 21:32:19</td>\n",
       "      <td>13</td>\n",
       "      <td>262</td>\n",
       "      <td>35000000.0</td>\n",
       "      <td>16.4</td>\n",
       "      <td>NaN</td>\n",
       "    </tr>\n",
       "    <tr>\n",
       "      <th>5781950</th>\n",
       "      <td>341149</td>\n",
       "      <td>670502</td>\n",
       "      <td>1981.0</td>\n",
       "      <td>1.0</td>\n",
       "      <td>2022-06-30 21:32:18</td>\n",
       "      <td>930.0</td>\n",
       "      <td>NaN</td>\n",
       "      <td>OTHERINCOME</td>\n",
       "      <td>NaN</td>\n",
       "      <td>기타</td>\n",
       "      <td>...</td>\n",
       "      <td>0.0</td>\n",
       "      <td>0.0</td>\n",
       "      <td>1.0</td>\n",
       "      <td>3000000.0</td>\n",
       "      <td>2022-06-30 21:32:19</td>\n",
       "      <td>38</td>\n",
       "      <td>113</td>\n",
       "      <td>5000000.0</td>\n",
       "      <td>19.5</td>\n",
       "      <td>NaN</td>\n",
       "    </tr>\n",
       "    <tr>\n",
       "      <th>5781951</th>\n",
       "      <td>341149</td>\n",
       "      <td>670502</td>\n",
       "      <td>1981.0</td>\n",
       "      <td>1.0</td>\n",
       "      <td>2022-06-30 21:32:18</td>\n",
       "      <td>930.0</td>\n",
       "      <td>NaN</td>\n",
       "      <td>OTHERINCOME</td>\n",
       "      <td>NaN</td>\n",
       "      <td>기타</td>\n",
       "      <td>...</td>\n",
       "      <td>0.0</td>\n",
       "      <td>0.0</td>\n",
       "      <td>1.0</td>\n",
       "      <td>3000000.0</td>\n",
       "      <td>2022-06-30 21:32:19</td>\n",
       "      <td>14</td>\n",
       "      <td>128</td>\n",
       "      <td>15000000.0</td>\n",
       "      <td>12.5</td>\n",
       "      <td>NaN</td>\n",
       "    </tr>\n",
       "    <tr>\n",
       "      <th>5781952</th>\n",
       "      <td>341149</td>\n",
       "      <td>670502</td>\n",
       "      <td>1981.0</td>\n",
       "      <td>1.0</td>\n",
       "      <td>2022-06-30 21:32:18</td>\n",
       "      <td>930.0</td>\n",
       "      <td>NaN</td>\n",
       "      <td>OTHERINCOME</td>\n",
       "      <td>NaN</td>\n",
       "      <td>기타</td>\n",
       "      <td>...</td>\n",
       "      <td>0.0</td>\n",
       "      <td>0.0</td>\n",
       "      <td>1.0</td>\n",
       "      <td>3000000.0</td>\n",
       "      <td>2022-06-30 21:32:19</td>\n",
       "      <td>29</td>\n",
       "      <td>265</td>\n",
       "      <td>10000000.0</td>\n",
       "      <td>9.1</td>\n",
       "      <td>NaN</td>\n",
       "    </tr>\n",
       "    <tr>\n",
       "      <th>5781953</th>\n",
       "      <td>341149</td>\n",
       "      <td>670502</td>\n",
       "      <td>1981.0</td>\n",
       "      <td>1.0</td>\n",
       "      <td>2022-06-30 21:32:18</td>\n",
       "      <td>930.0</td>\n",
       "      <td>NaN</td>\n",
       "      <td>OTHERINCOME</td>\n",
       "      <td>NaN</td>\n",
       "      <td>기타</td>\n",
       "      <td>...</td>\n",
       "      <td>0.0</td>\n",
       "      <td>0.0</td>\n",
       "      <td>1.0</td>\n",
       "      <td>3000000.0</td>\n",
       "      <td>2022-06-30 21:32:19</td>\n",
       "      <td>57</td>\n",
       "      <td>71</td>\n",
       "      <td>23000000.0</td>\n",
       "      <td>15.4</td>\n",
       "      <td>NaN</td>\n",
       "    </tr>\n",
       "  </tbody>\n",
       "</table>\n",
       "<p>6 rows × 23 columns</p>\n",
       "</div>"
      ],
      "text/plain": [
       "         application_id  user_id  birth_year  gender          insert_time  \\\n",
       "5781948          341149   670502      1981.0     1.0  2022-06-30 21:32:18   \n",
       "5781949          341149   670502      1981.0     1.0  2022-06-30 21:32:18   \n",
       "5781950          341149   670502      1981.0     1.0  2022-06-30 21:32:18   \n",
       "5781951          341149   670502      1981.0     1.0  2022-06-30 21:32:18   \n",
       "5781952          341149   670502      1981.0     1.0  2022-06-30 21:32:18   \n",
       "5781953          341149   670502      1981.0     1.0  2022-06-30 21:32:18   \n",
       "\n",
       "         credit_score  yearly_income  income_type  company_enter_month  \\\n",
       "5781948         930.0            NaN  OTHERINCOME                  NaN   \n",
       "5781949         930.0            NaN  OTHERINCOME                  NaN   \n",
       "5781950         930.0            NaN  OTHERINCOME                  NaN   \n",
       "5781951         930.0            NaN  OTHERINCOME                  NaN   \n",
       "5781952         930.0            NaN  OTHERINCOME                  NaN   \n",
       "5781953         930.0            NaN  OTHERINCOME                  NaN   \n",
       "\n",
       "        employment_type  ... personal_rehabilitation_yn  \\\n",
       "5781948              기타  ...                        0.0   \n",
       "5781949              기타  ...                        0.0   \n",
       "5781950              기타  ...                        0.0   \n",
       "5781951              기타  ...                        0.0   \n",
       "5781952              기타  ...                        0.0   \n",
       "5781953              기타  ...                        0.0   \n",
       "\n",
       "         personal_rehabilitation_complete_yn existing_loan_cnt  \\\n",
       "5781948                                  0.0               1.0   \n",
       "5781949                                  0.0               1.0   \n",
       "5781950                                  0.0               1.0   \n",
       "5781951                                  0.0               1.0   \n",
       "5781952                                  0.0               1.0   \n",
       "5781953                                  0.0               1.0   \n",
       "\n",
       "         existing_loan_amt  loanapply_insert_time  bank_id  product_id  \\\n",
       "5781948          3000000.0    2022-06-30 21:32:20       64         254   \n",
       "5781949          3000000.0    2022-06-30 21:32:19       13         262   \n",
       "5781950          3000000.0    2022-06-30 21:32:19       38         113   \n",
       "5781951          3000000.0    2022-06-30 21:32:19       14         128   \n",
       "5781952          3000000.0    2022-06-30 21:32:19       29         265   \n",
       "5781953          3000000.0    2022-06-30 21:32:19       57          71   \n",
       "\n",
       "         loan_limit  loan_rate  is_applied  \n",
       "5781948  45000000.0       10.3         NaN  \n",
       "5781949  35000000.0       16.4         NaN  \n",
       "5781950   5000000.0       19.5         NaN  \n",
       "5781951  15000000.0       12.5         NaN  \n",
       "5781952  10000000.0        9.1         NaN  \n",
       "5781953  23000000.0       15.4         NaN  \n",
       "\n",
       "[6 rows x 23 columns]"
      ]
     },
     "execution_count": 54,
     "metadata": {},
     "output_type": "execute_result"
    }
   ],
   "source": [
    "merged_df[merged_df['yearly_income'].isnull()]"
   ]
  },
  {
   "cell_type": "code",
   "execution_count": 84,
   "id": "17c5b3fe",
   "metadata": {
    "ExecuteTime": {
     "end_time": "2022-10-11T03:25:27.082939Z",
     "start_time": "2022-10-11T03:25:27.046747Z"
    }
   },
   "outputs": [
    {
     "data": {
      "text/html": [
       "<div>\n",
       "<style scoped>\n",
       "    .dataframe tbody tr th:only-of-type {\n",
       "        vertical-align: middle;\n",
       "    }\n",
       "\n",
       "    .dataframe tbody tr th {\n",
       "        vertical-align: top;\n",
       "    }\n",
       "\n",
       "    .dataframe thead th {\n",
       "        text-align: right;\n",
       "    }\n",
       "</style>\n",
       "<table border=\"1\" class=\"dataframe\">\n",
       "  <thead>\n",
       "    <tr style=\"text-align: right;\">\n",
       "      <th></th>\n",
       "      <th>application_id</th>\n",
       "      <th>user_id</th>\n",
       "      <th>birth_year</th>\n",
       "      <th>gender</th>\n",
       "      <th>insert_time</th>\n",
       "      <th>credit_score</th>\n",
       "      <th>yearly_income</th>\n",
       "      <th>income_type</th>\n",
       "      <th>company_enter_month</th>\n",
       "      <th>employment_type</th>\n",
       "      <th>...</th>\n",
       "      <th>personal_rehabilitation_yn</th>\n",
       "      <th>personal_rehabilitation_complete_yn</th>\n",
       "      <th>existing_loan_cnt</th>\n",
       "      <th>existing_loan_amt</th>\n",
       "      <th>loanapply_insert_time</th>\n",
       "      <th>bank_id</th>\n",
       "      <th>product_id</th>\n",
       "      <th>loan_limit</th>\n",
       "      <th>loan_rate</th>\n",
       "      <th>is_applied</th>\n",
       "    </tr>\n",
       "  </thead>\n",
       "  <tbody>\n",
       "    <tr>\n",
       "      <th>5478320</th>\n",
       "      <td>1746224</td>\n",
       "      <td>670502</td>\n",
       "      <td>1981.0</td>\n",
       "      <td>1.0</td>\n",
       "      <td>2022-06-30 22:41:11</td>\n",
       "      <td>930.0</td>\n",
       "      <td>0.0</td>\n",
       "      <td>OTHERINCOME</td>\n",
       "      <td>NaN</td>\n",
       "      <td>기타</td>\n",
       "      <td>...</td>\n",
       "      <td>0.0</td>\n",
       "      <td>0.0</td>\n",
       "      <td>1.0</td>\n",
       "      <td>3000000.0</td>\n",
       "      <td>2022-06-30 22:41:13</td>\n",
       "      <td>15</td>\n",
       "      <td>204</td>\n",
       "      <td>16000000.0</td>\n",
       "      <td>14.6</td>\n",
       "      <td>NaN</td>\n",
       "    </tr>\n",
       "    <tr>\n",
       "      <th>5478321</th>\n",
       "      <td>1746224</td>\n",
       "      <td>670502</td>\n",
       "      <td>1981.0</td>\n",
       "      <td>1.0</td>\n",
       "      <td>2022-06-30 22:41:11</td>\n",
       "      <td>930.0</td>\n",
       "      <td>0.0</td>\n",
       "      <td>OTHERINCOME</td>\n",
       "      <td>NaN</td>\n",
       "      <td>기타</td>\n",
       "      <td>...</td>\n",
       "      <td>0.0</td>\n",
       "      <td>0.0</td>\n",
       "      <td>1.0</td>\n",
       "      <td>3000000.0</td>\n",
       "      <td>2022-06-30 22:41:12</td>\n",
       "      <td>55</td>\n",
       "      <td>25</td>\n",
       "      <td>31000000.0</td>\n",
       "      <td>13.9</td>\n",
       "      <td>NaN</td>\n",
       "    </tr>\n",
       "    <tr>\n",
       "      <th>5478322</th>\n",
       "      <td>1746224</td>\n",
       "      <td>670502</td>\n",
       "      <td>1981.0</td>\n",
       "      <td>1.0</td>\n",
       "      <td>2022-06-30 22:41:11</td>\n",
       "      <td>930.0</td>\n",
       "      <td>0.0</td>\n",
       "      <td>OTHERINCOME</td>\n",
       "      <td>NaN</td>\n",
       "      <td>기타</td>\n",
       "      <td>...</td>\n",
       "      <td>0.0</td>\n",
       "      <td>0.0</td>\n",
       "      <td>1.0</td>\n",
       "      <td>3000000.0</td>\n",
       "      <td>2022-06-30 22:41:12</td>\n",
       "      <td>24</td>\n",
       "      <td>70</td>\n",
       "      <td>3000000.0</td>\n",
       "      <td>13.0</td>\n",
       "      <td>NaN</td>\n",
       "    </tr>\n",
       "    <tr>\n",
       "      <th>5478323</th>\n",
       "      <td>1746224</td>\n",
       "      <td>670502</td>\n",
       "      <td>1981.0</td>\n",
       "      <td>1.0</td>\n",
       "      <td>2022-06-30 22:41:11</td>\n",
       "      <td>930.0</td>\n",
       "      <td>0.0</td>\n",
       "      <td>OTHERINCOME</td>\n",
       "      <td>NaN</td>\n",
       "      <td>기타</td>\n",
       "      <td>...</td>\n",
       "      <td>0.0</td>\n",
       "      <td>0.0</td>\n",
       "      <td>1.0</td>\n",
       "      <td>3000000.0</td>\n",
       "      <td>2022-06-30 22:41:12</td>\n",
       "      <td>13</td>\n",
       "      <td>262</td>\n",
       "      <td>35000000.0</td>\n",
       "      <td>16.4</td>\n",
       "      <td>NaN</td>\n",
       "    </tr>\n",
       "    <tr>\n",
       "      <th>5478324</th>\n",
       "      <td>1746224</td>\n",
       "      <td>670502</td>\n",
       "      <td>1981.0</td>\n",
       "      <td>1.0</td>\n",
       "      <td>2022-06-30 22:41:11</td>\n",
       "      <td>930.0</td>\n",
       "      <td>0.0</td>\n",
       "      <td>OTHERINCOME</td>\n",
       "      <td>NaN</td>\n",
       "      <td>기타</td>\n",
       "      <td>...</td>\n",
       "      <td>0.0</td>\n",
       "      <td>0.0</td>\n",
       "      <td>1.0</td>\n",
       "      <td>3000000.0</td>\n",
       "      <td>2022-06-30 22:41:13</td>\n",
       "      <td>64</td>\n",
       "      <td>254</td>\n",
       "      <td>45000000.0</td>\n",
       "      <td>10.3</td>\n",
       "      <td>NaN</td>\n",
       "    </tr>\n",
       "    <tr>\n",
       "      <th>5478325</th>\n",
       "      <td>1746224</td>\n",
       "      <td>670502</td>\n",
       "      <td>1981.0</td>\n",
       "      <td>1.0</td>\n",
       "      <td>2022-06-30 22:41:11</td>\n",
       "      <td>930.0</td>\n",
       "      <td>0.0</td>\n",
       "      <td>OTHERINCOME</td>\n",
       "      <td>NaN</td>\n",
       "      <td>기타</td>\n",
       "      <td>...</td>\n",
       "      <td>0.0</td>\n",
       "      <td>0.0</td>\n",
       "      <td>1.0</td>\n",
       "      <td>3000000.0</td>\n",
       "      <td>2022-06-30 22:41:12</td>\n",
       "      <td>57</td>\n",
       "      <td>71</td>\n",
       "      <td>23000000.0</td>\n",
       "      <td>15.4</td>\n",
       "      <td>NaN</td>\n",
       "    </tr>\n",
       "    <tr>\n",
       "      <th>5478326</th>\n",
       "      <td>1746224</td>\n",
       "      <td>670502</td>\n",
       "      <td>1981.0</td>\n",
       "      <td>1.0</td>\n",
       "      <td>2022-06-30 22:41:11</td>\n",
       "      <td>930.0</td>\n",
       "      <td>0.0</td>\n",
       "      <td>OTHERINCOME</td>\n",
       "      <td>NaN</td>\n",
       "      <td>기타</td>\n",
       "      <td>...</td>\n",
       "      <td>0.0</td>\n",
       "      <td>0.0</td>\n",
       "      <td>1.0</td>\n",
       "      <td>3000000.0</td>\n",
       "      <td>2022-06-30 22:41:25</td>\n",
       "      <td>20</td>\n",
       "      <td>111</td>\n",
       "      <td>25000000.0</td>\n",
       "      <td>9.8</td>\n",
       "      <td>NaN</td>\n",
       "    </tr>\n",
       "    <tr>\n",
       "      <th>5478327</th>\n",
       "      <td>1746224</td>\n",
       "      <td>670502</td>\n",
       "      <td>1981.0</td>\n",
       "      <td>1.0</td>\n",
       "      <td>2022-06-30 22:41:11</td>\n",
       "      <td>930.0</td>\n",
       "      <td>0.0</td>\n",
       "      <td>OTHERINCOME</td>\n",
       "      <td>NaN</td>\n",
       "      <td>기타</td>\n",
       "      <td>...</td>\n",
       "      <td>0.0</td>\n",
       "      <td>0.0</td>\n",
       "      <td>1.0</td>\n",
       "      <td>3000000.0</td>\n",
       "      <td>2022-06-30 22:41:12</td>\n",
       "      <td>35</td>\n",
       "      <td>29</td>\n",
       "      <td>5000000.0</td>\n",
       "      <td>11.8</td>\n",
       "      <td>NaN</td>\n",
       "    </tr>\n",
       "    <tr>\n",
       "      <th>5478328</th>\n",
       "      <td>1746224</td>\n",
       "      <td>670502</td>\n",
       "      <td>1981.0</td>\n",
       "      <td>1.0</td>\n",
       "      <td>2022-06-30 22:41:11</td>\n",
       "      <td>930.0</td>\n",
       "      <td>0.0</td>\n",
       "      <td>OTHERINCOME</td>\n",
       "      <td>NaN</td>\n",
       "      <td>기타</td>\n",
       "      <td>...</td>\n",
       "      <td>0.0</td>\n",
       "      <td>0.0</td>\n",
       "      <td>1.0</td>\n",
       "      <td>3000000.0</td>\n",
       "      <td>2022-06-30 22:41:26</td>\n",
       "      <td>52</td>\n",
       "      <td>187</td>\n",
       "      <td>3000000.0</td>\n",
       "      <td>6.0</td>\n",
       "      <td>NaN</td>\n",
       "    </tr>\n",
       "    <tr>\n",
       "      <th>5478329</th>\n",
       "      <td>1746224</td>\n",
       "      <td>670502</td>\n",
       "      <td>1981.0</td>\n",
       "      <td>1.0</td>\n",
       "      <td>2022-06-30 22:41:11</td>\n",
       "      <td>930.0</td>\n",
       "      <td>0.0</td>\n",
       "      <td>OTHERINCOME</td>\n",
       "      <td>NaN</td>\n",
       "      <td>기타</td>\n",
       "      <td>...</td>\n",
       "      <td>0.0</td>\n",
       "      <td>0.0</td>\n",
       "      <td>1.0</td>\n",
       "      <td>3000000.0</td>\n",
       "      <td>2022-06-30 22:41:13</td>\n",
       "      <td>3</td>\n",
       "      <td>205</td>\n",
       "      <td>10000000.0</td>\n",
       "      <td>9.9</td>\n",
       "      <td>NaN</td>\n",
       "    </tr>\n",
       "    <tr>\n",
       "      <th>5478330</th>\n",
       "      <td>1746224</td>\n",
       "      <td>670502</td>\n",
       "      <td>1981.0</td>\n",
       "      <td>1.0</td>\n",
       "      <td>2022-06-30 22:41:11</td>\n",
       "      <td>930.0</td>\n",
       "      <td>0.0</td>\n",
       "      <td>OTHERINCOME</td>\n",
       "      <td>NaN</td>\n",
       "      <td>기타</td>\n",
       "      <td>...</td>\n",
       "      <td>0.0</td>\n",
       "      <td>0.0</td>\n",
       "      <td>1.0</td>\n",
       "      <td>3000000.0</td>\n",
       "      <td>2022-06-30 22:41:12</td>\n",
       "      <td>14</td>\n",
       "      <td>128</td>\n",
       "      <td>15000000.0</td>\n",
       "      <td>12.5</td>\n",
       "      <td>NaN</td>\n",
       "    </tr>\n",
       "    <tr>\n",
       "      <th>5781948</th>\n",
       "      <td>341149</td>\n",
       "      <td>670502</td>\n",
       "      <td>1981.0</td>\n",
       "      <td>1.0</td>\n",
       "      <td>2022-06-30 21:32:18</td>\n",
       "      <td>930.0</td>\n",
       "      <td>NaN</td>\n",
       "      <td>OTHERINCOME</td>\n",
       "      <td>NaN</td>\n",
       "      <td>기타</td>\n",
       "      <td>...</td>\n",
       "      <td>0.0</td>\n",
       "      <td>0.0</td>\n",
       "      <td>1.0</td>\n",
       "      <td>3000000.0</td>\n",
       "      <td>2022-06-30 21:32:20</td>\n",
       "      <td>64</td>\n",
       "      <td>254</td>\n",
       "      <td>45000000.0</td>\n",
       "      <td>10.3</td>\n",
       "      <td>NaN</td>\n",
       "    </tr>\n",
       "    <tr>\n",
       "      <th>5781949</th>\n",
       "      <td>341149</td>\n",
       "      <td>670502</td>\n",
       "      <td>1981.0</td>\n",
       "      <td>1.0</td>\n",
       "      <td>2022-06-30 21:32:18</td>\n",
       "      <td>930.0</td>\n",
       "      <td>NaN</td>\n",
       "      <td>OTHERINCOME</td>\n",
       "      <td>NaN</td>\n",
       "      <td>기타</td>\n",
       "      <td>...</td>\n",
       "      <td>0.0</td>\n",
       "      <td>0.0</td>\n",
       "      <td>1.0</td>\n",
       "      <td>3000000.0</td>\n",
       "      <td>2022-06-30 21:32:19</td>\n",
       "      <td>13</td>\n",
       "      <td>262</td>\n",
       "      <td>35000000.0</td>\n",
       "      <td>16.4</td>\n",
       "      <td>NaN</td>\n",
       "    </tr>\n",
       "    <tr>\n",
       "      <th>5781950</th>\n",
       "      <td>341149</td>\n",
       "      <td>670502</td>\n",
       "      <td>1981.0</td>\n",
       "      <td>1.0</td>\n",
       "      <td>2022-06-30 21:32:18</td>\n",
       "      <td>930.0</td>\n",
       "      <td>NaN</td>\n",
       "      <td>OTHERINCOME</td>\n",
       "      <td>NaN</td>\n",
       "      <td>기타</td>\n",
       "      <td>...</td>\n",
       "      <td>0.0</td>\n",
       "      <td>0.0</td>\n",
       "      <td>1.0</td>\n",
       "      <td>3000000.0</td>\n",
       "      <td>2022-06-30 21:32:19</td>\n",
       "      <td>38</td>\n",
       "      <td>113</td>\n",
       "      <td>5000000.0</td>\n",
       "      <td>19.5</td>\n",
       "      <td>NaN</td>\n",
       "    </tr>\n",
       "    <tr>\n",
       "      <th>5781951</th>\n",
       "      <td>341149</td>\n",
       "      <td>670502</td>\n",
       "      <td>1981.0</td>\n",
       "      <td>1.0</td>\n",
       "      <td>2022-06-30 21:32:18</td>\n",
       "      <td>930.0</td>\n",
       "      <td>NaN</td>\n",
       "      <td>OTHERINCOME</td>\n",
       "      <td>NaN</td>\n",
       "      <td>기타</td>\n",
       "      <td>...</td>\n",
       "      <td>0.0</td>\n",
       "      <td>0.0</td>\n",
       "      <td>1.0</td>\n",
       "      <td>3000000.0</td>\n",
       "      <td>2022-06-30 21:32:19</td>\n",
       "      <td>14</td>\n",
       "      <td>128</td>\n",
       "      <td>15000000.0</td>\n",
       "      <td>12.5</td>\n",
       "      <td>NaN</td>\n",
       "    </tr>\n",
       "    <tr>\n",
       "      <th>5781952</th>\n",
       "      <td>341149</td>\n",
       "      <td>670502</td>\n",
       "      <td>1981.0</td>\n",
       "      <td>1.0</td>\n",
       "      <td>2022-06-30 21:32:18</td>\n",
       "      <td>930.0</td>\n",
       "      <td>NaN</td>\n",
       "      <td>OTHERINCOME</td>\n",
       "      <td>NaN</td>\n",
       "      <td>기타</td>\n",
       "      <td>...</td>\n",
       "      <td>0.0</td>\n",
       "      <td>0.0</td>\n",
       "      <td>1.0</td>\n",
       "      <td>3000000.0</td>\n",
       "      <td>2022-06-30 21:32:19</td>\n",
       "      <td>29</td>\n",
       "      <td>265</td>\n",
       "      <td>10000000.0</td>\n",
       "      <td>9.1</td>\n",
       "      <td>NaN</td>\n",
       "    </tr>\n",
       "    <tr>\n",
       "      <th>5781953</th>\n",
       "      <td>341149</td>\n",
       "      <td>670502</td>\n",
       "      <td>1981.0</td>\n",
       "      <td>1.0</td>\n",
       "      <td>2022-06-30 21:32:18</td>\n",
       "      <td>930.0</td>\n",
       "      <td>NaN</td>\n",
       "      <td>OTHERINCOME</td>\n",
       "      <td>NaN</td>\n",
       "      <td>기타</td>\n",
       "      <td>...</td>\n",
       "      <td>0.0</td>\n",
       "      <td>0.0</td>\n",
       "      <td>1.0</td>\n",
       "      <td>3000000.0</td>\n",
       "      <td>2022-06-30 21:32:19</td>\n",
       "      <td>57</td>\n",
       "      <td>71</td>\n",
       "      <td>23000000.0</td>\n",
       "      <td>15.4</td>\n",
       "      <td>NaN</td>\n",
       "    </tr>\n",
       "  </tbody>\n",
       "</table>\n",
       "<p>17 rows × 23 columns</p>\n",
       "</div>"
      ],
      "text/plain": [
       "         application_id  user_id  birth_year  gender          insert_time  \\\n",
       "5478320         1746224   670502      1981.0     1.0  2022-06-30 22:41:11   \n",
       "5478321         1746224   670502      1981.0     1.0  2022-06-30 22:41:11   \n",
       "5478322         1746224   670502      1981.0     1.0  2022-06-30 22:41:11   \n",
       "5478323         1746224   670502      1981.0     1.0  2022-06-30 22:41:11   \n",
       "5478324         1746224   670502      1981.0     1.0  2022-06-30 22:41:11   \n",
       "5478325         1746224   670502      1981.0     1.0  2022-06-30 22:41:11   \n",
       "5478326         1746224   670502      1981.0     1.0  2022-06-30 22:41:11   \n",
       "5478327         1746224   670502      1981.0     1.0  2022-06-30 22:41:11   \n",
       "5478328         1746224   670502      1981.0     1.0  2022-06-30 22:41:11   \n",
       "5478329         1746224   670502      1981.0     1.0  2022-06-30 22:41:11   \n",
       "5478330         1746224   670502      1981.0     1.0  2022-06-30 22:41:11   \n",
       "5781948          341149   670502      1981.0     1.0  2022-06-30 21:32:18   \n",
       "5781949          341149   670502      1981.0     1.0  2022-06-30 21:32:18   \n",
       "5781950          341149   670502      1981.0     1.0  2022-06-30 21:32:18   \n",
       "5781951          341149   670502      1981.0     1.0  2022-06-30 21:32:18   \n",
       "5781952          341149   670502      1981.0     1.0  2022-06-30 21:32:18   \n",
       "5781953          341149   670502      1981.0     1.0  2022-06-30 21:32:18   \n",
       "\n",
       "         credit_score  yearly_income  income_type  company_enter_month  \\\n",
       "5478320         930.0            0.0  OTHERINCOME                  NaN   \n",
       "5478321         930.0            0.0  OTHERINCOME                  NaN   \n",
       "5478322         930.0            0.0  OTHERINCOME                  NaN   \n",
       "5478323         930.0            0.0  OTHERINCOME                  NaN   \n",
       "5478324         930.0            0.0  OTHERINCOME                  NaN   \n",
       "5478325         930.0            0.0  OTHERINCOME                  NaN   \n",
       "5478326         930.0            0.0  OTHERINCOME                  NaN   \n",
       "5478327         930.0            0.0  OTHERINCOME                  NaN   \n",
       "5478328         930.0            0.0  OTHERINCOME                  NaN   \n",
       "5478329         930.0            0.0  OTHERINCOME                  NaN   \n",
       "5478330         930.0            0.0  OTHERINCOME                  NaN   \n",
       "5781948         930.0            NaN  OTHERINCOME                  NaN   \n",
       "5781949         930.0            NaN  OTHERINCOME                  NaN   \n",
       "5781950         930.0            NaN  OTHERINCOME                  NaN   \n",
       "5781951         930.0            NaN  OTHERINCOME                  NaN   \n",
       "5781952         930.0            NaN  OTHERINCOME                  NaN   \n",
       "5781953         930.0            NaN  OTHERINCOME                  NaN   \n",
       "\n",
       "        employment_type  ... personal_rehabilitation_yn  \\\n",
       "5478320              기타  ...                        0.0   \n",
       "5478321              기타  ...                        0.0   \n",
       "5478322              기타  ...                        0.0   \n",
       "5478323              기타  ...                        0.0   \n",
       "5478324              기타  ...                        0.0   \n",
       "5478325              기타  ...                        0.0   \n",
       "5478326              기타  ...                        0.0   \n",
       "5478327              기타  ...                        0.0   \n",
       "5478328              기타  ...                        0.0   \n",
       "5478329              기타  ...                        0.0   \n",
       "5478330              기타  ...                        0.0   \n",
       "5781948              기타  ...                        0.0   \n",
       "5781949              기타  ...                        0.0   \n",
       "5781950              기타  ...                        0.0   \n",
       "5781951              기타  ...                        0.0   \n",
       "5781952              기타  ...                        0.0   \n",
       "5781953              기타  ...                        0.0   \n",
       "\n",
       "         personal_rehabilitation_complete_yn existing_loan_cnt  \\\n",
       "5478320                                  0.0               1.0   \n",
       "5478321                                  0.0               1.0   \n",
       "5478322                                  0.0               1.0   \n",
       "5478323                                  0.0               1.0   \n",
       "5478324                                  0.0               1.0   \n",
       "5478325                                  0.0               1.0   \n",
       "5478326                                  0.0               1.0   \n",
       "5478327                                  0.0               1.0   \n",
       "5478328                                  0.0               1.0   \n",
       "5478329                                  0.0               1.0   \n",
       "5478330                                  0.0               1.0   \n",
       "5781948                                  0.0               1.0   \n",
       "5781949                                  0.0               1.0   \n",
       "5781950                                  0.0               1.0   \n",
       "5781951                                  0.0               1.0   \n",
       "5781952                                  0.0               1.0   \n",
       "5781953                                  0.0               1.0   \n",
       "\n",
       "         existing_loan_amt  loanapply_insert_time  bank_id  product_id  \\\n",
       "5478320          3000000.0    2022-06-30 22:41:13       15         204   \n",
       "5478321          3000000.0    2022-06-30 22:41:12       55          25   \n",
       "5478322          3000000.0    2022-06-30 22:41:12       24          70   \n",
       "5478323          3000000.0    2022-06-30 22:41:12       13         262   \n",
       "5478324          3000000.0    2022-06-30 22:41:13       64         254   \n",
       "5478325          3000000.0    2022-06-30 22:41:12       57          71   \n",
       "5478326          3000000.0    2022-06-30 22:41:25       20         111   \n",
       "5478327          3000000.0    2022-06-30 22:41:12       35          29   \n",
       "5478328          3000000.0    2022-06-30 22:41:26       52         187   \n",
       "5478329          3000000.0    2022-06-30 22:41:13        3         205   \n",
       "5478330          3000000.0    2022-06-30 22:41:12       14         128   \n",
       "5781948          3000000.0    2022-06-30 21:32:20       64         254   \n",
       "5781949          3000000.0    2022-06-30 21:32:19       13         262   \n",
       "5781950          3000000.0    2022-06-30 21:32:19       38         113   \n",
       "5781951          3000000.0    2022-06-30 21:32:19       14         128   \n",
       "5781952          3000000.0    2022-06-30 21:32:19       29         265   \n",
       "5781953          3000000.0    2022-06-30 21:32:19       57          71   \n",
       "\n",
       "         loan_limit  loan_rate  is_applied  \n",
       "5478320  16000000.0       14.6         NaN  \n",
       "5478321  31000000.0       13.9         NaN  \n",
       "5478322   3000000.0       13.0         NaN  \n",
       "5478323  35000000.0       16.4         NaN  \n",
       "5478324  45000000.0       10.3         NaN  \n",
       "5478325  23000000.0       15.4         NaN  \n",
       "5478326  25000000.0        9.8         NaN  \n",
       "5478327   5000000.0       11.8         NaN  \n",
       "5478328   3000000.0        6.0         NaN  \n",
       "5478329  10000000.0        9.9         NaN  \n",
       "5478330  15000000.0       12.5         NaN  \n",
       "5781948  45000000.0       10.3         NaN  \n",
       "5781949  35000000.0       16.4         NaN  \n",
       "5781950   5000000.0       19.5         NaN  \n",
       "5781951  15000000.0       12.5         NaN  \n",
       "5781952  10000000.0        9.1         NaN  \n",
       "5781953  23000000.0       15.4         NaN  \n",
       "\n",
       "[17 rows x 23 columns]"
      ]
     },
     "execution_count": 84,
     "metadata": {},
     "output_type": "execute_result"
    }
   ],
   "source": [
    "merged_df[merged_df['user_id'] == 670502]"
   ]
  },
  {
   "cell_type": "code",
   "execution_count": null,
   "id": "94a68331",
   "metadata": {},
   "outputs": [],
   "source": [
    "merged_df"
   ]
  },
  {
   "cell_type": "code",
   "execution_count": 53,
   "id": "55f7da4c",
   "metadata": {
    "ExecuteTime": {
     "end_time": "2022-10-10T18:05:31.877671Z",
     "start_time": "2022-10-10T18:05:30.962565Z"
    }
   },
   "outputs": [
    {
     "data": {
      "text/html": [
       "<div>\n",
       "<style scoped>\n",
       "    .dataframe tbody tr th:only-of-type {\n",
       "        vertical-align: middle;\n",
       "    }\n",
       "\n",
       "    .dataframe tbody tr th {\n",
       "        vertical-align: top;\n",
       "    }\n",
       "\n",
       "    .dataframe thead th {\n",
       "        text-align: right;\n",
       "    }\n",
       "</style>\n",
       "<table border=\"1\" class=\"dataframe\">\n",
       "  <thead>\n",
       "    <tr style=\"text-align: right;\">\n",
       "      <th></th>\n",
       "      <th>application_id</th>\n",
       "      <th>user_id</th>\n",
       "      <th>birth_year</th>\n",
       "      <th>gender</th>\n",
       "      <th>insert_time</th>\n",
       "      <th>credit_score</th>\n",
       "      <th>yearly_income</th>\n",
       "      <th>income_type</th>\n",
       "      <th>company_enter_month</th>\n",
       "      <th>employment_type</th>\n",
       "      <th>...</th>\n",
       "      <th>personal_rehabilitation_yn</th>\n",
       "      <th>personal_rehabilitation_complete_yn</th>\n",
       "      <th>existing_loan_cnt</th>\n",
       "      <th>existing_loan_amt</th>\n",
       "      <th>loanapply_insert_time</th>\n",
       "      <th>bank_id</th>\n",
       "      <th>product_id</th>\n",
       "      <th>loan_limit</th>\n",
       "      <th>loan_rate</th>\n",
       "      <th>is_applied</th>\n",
       "    </tr>\n",
       "  </thead>\n",
       "  <tbody>\n",
       "    <tr>\n",
       "      <th>50</th>\n",
       "      <td>1614045</td>\n",
       "      <td>860410</td>\n",
       "      <td>1976.0</td>\n",
       "      <td>1.0</td>\n",
       "      <td>2022-06-07 11:29:05</td>\n",
       "      <td>590.0</td>\n",
       "      <td>45000000.0</td>\n",
       "      <td>OTHERINCOME</td>\n",
       "      <td>NaN</td>\n",
       "      <td>기타</td>\n",
       "      <td>...</td>\n",
       "      <td>0.0</td>\n",
       "      <td>NaN</td>\n",
       "      <td>1.0</td>\n",
       "      <td>20000000.0</td>\n",
       "      <td>2022-06-07 11:29:07</td>\n",
       "      <td>42</td>\n",
       "      <td>258</td>\n",
       "      <td>3000000.0</td>\n",
       "      <td>16.7</td>\n",
       "      <td>NaN</td>\n",
       "    </tr>\n",
       "    <tr>\n",
       "      <th>292</th>\n",
       "      <td>696416</td>\n",
       "      <td>648540</td>\n",
       "      <td>1965.0</td>\n",
       "      <td>1.0</td>\n",
       "      <td>2022-06-07 11:38:46</td>\n",
       "      <td>750.0</td>\n",
       "      <td>30000000.0</td>\n",
       "      <td>OTHERINCOME</td>\n",
       "      <td>NaN</td>\n",
       "      <td>기타</td>\n",
       "      <td>...</td>\n",
       "      <td>0.0</td>\n",
       "      <td>NaN</td>\n",
       "      <td>1.0</td>\n",
       "      <td>NaN</td>\n",
       "      <td>2022-06-07 11:38:48</td>\n",
       "      <td>21</td>\n",
       "      <td>196</td>\n",
       "      <td>5000000.0</td>\n",
       "      <td>13.0</td>\n",
       "      <td>NaN</td>\n",
       "    </tr>\n",
       "    <tr>\n",
       "      <th>293</th>\n",
       "      <td>696416</td>\n",
       "      <td>648540</td>\n",
       "      <td>1965.0</td>\n",
       "      <td>1.0</td>\n",
       "      <td>2022-06-07 11:38:46</td>\n",
       "      <td>750.0</td>\n",
       "      <td>30000000.0</td>\n",
       "      <td>OTHERINCOME</td>\n",
       "      <td>NaN</td>\n",
       "      <td>기타</td>\n",
       "      <td>...</td>\n",
       "      <td>0.0</td>\n",
       "      <td>NaN</td>\n",
       "      <td>1.0</td>\n",
       "      <td>NaN</td>\n",
       "      <td>2022-06-07 11:38:47</td>\n",
       "      <td>29</td>\n",
       "      <td>265</td>\n",
       "      <td>34000000.0</td>\n",
       "      <td>9.0</td>\n",
       "      <td>NaN</td>\n",
       "    </tr>\n",
       "    <tr>\n",
       "      <th>294</th>\n",
       "      <td>696416</td>\n",
       "      <td>648540</td>\n",
       "      <td>1965.0</td>\n",
       "      <td>1.0</td>\n",
       "      <td>2022-06-07 11:38:46</td>\n",
       "      <td>750.0</td>\n",
       "      <td>30000000.0</td>\n",
       "      <td>OTHERINCOME</td>\n",
       "      <td>NaN</td>\n",
       "      <td>기타</td>\n",
       "      <td>...</td>\n",
       "      <td>0.0</td>\n",
       "      <td>NaN</td>\n",
       "      <td>1.0</td>\n",
       "      <td>NaN</td>\n",
       "      <td>2022-06-07 11:38:47</td>\n",
       "      <td>1</td>\n",
       "      <td>1</td>\n",
       "      <td>22000000.0</td>\n",
       "      <td>13.9</td>\n",
       "      <td>NaN</td>\n",
       "    </tr>\n",
       "    <tr>\n",
       "      <th>295</th>\n",
       "      <td>696416</td>\n",
       "      <td>648540</td>\n",
       "      <td>1965.0</td>\n",
       "      <td>1.0</td>\n",
       "      <td>2022-06-07 11:38:46</td>\n",
       "      <td>750.0</td>\n",
       "      <td>30000000.0</td>\n",
       "      <td>OTHERINCOME</td>\n",
       "      <td>NaN</td>\n",
       "      <td>기타</td>\n",
       "      <td>...</td>\n",
       "      <td>0.0</td>\n",
       "      <td>NaN</td>\n",
       "      <td>1.0</td>\n",
       "      <td>NaN</td>\n",
       "      <td>2022-06-07 11:38:47</td>\n",
       "      <td>35</td>\n",
       "      <td>29</td>\n",
       "      <td>5000000.0</td>\n",
       "      <td>17.6</td>\n",
       "      <td>NaN</td>\n",
       "    </tr>\n",
       "    <tr>\n",
       "      <th>...</th>\n",
       "      <td>...</td>\n",
       "      <td>...</td>\n",
       "      <td>...</td>\n",
       "      <td>...</td>\n",
       "      <td>...</td>\n",
       "      <td>...</td>\n",
       "      <td>...</td>\n",
       "      <td>...</td>\n",
       "      <td>...</td>\n",
       "      <td>...</td>\n",
       "      <td>...</td>\n",
       "      <td>...</td>\n",
       "      <td>...</td>\n",
       "      <td>...</td>\n",
       "      <td>...</td>\n",
       "      <td>...</td>\n",
       "      <td>...</td>\n",
       "      <td>...</td>\n",
       "      <td>...</td>\n",
       "      <td>...</td>\n",
       "      <td>...</td>\n",
       "    </tr>\n",
       "    <tr>\n",
       "      <th>13527214</th>\n",
       "      <td>1327066</td>\n",
       "      <td>151422</td>\n",
       "      <td>1955.0</td>\n",
       "      <td>1.0</td>\n",
       "      <td>2022-03-22 01:19:24</td>\n",
       "      <td>980.0</td>\n",
       "      <td>20000000.0</td>\n",
       "      <td>OTHERINCOME</td>\n",
       "      <td>NaN</td>\n",
       "      <td>기타</td>\n",
       "      <td>...</td>\n",
       "      <td>NaN</td>\n",
       "      <td>NaN</td>\n",
       "      <td>1.0</td>\n",
       "      <td>NaN</td>\n",
       "      <td>2022-03-22 01:19:26</td>\n",
       "      <td>64</td>\n",
       "      <td>254</td>\n",
       "      <td>3000000.0</td>\n",
       "      <td>6.7</td>\n",
       "      <td>0.0</td>\n",
       "    </tr>\n",
       "    <tr>\n",
       "      <th>13527215</th>\n",
       "      <td>1327066</td>\n",
       "      <td>151422</td>\n",
       "      <td>1955.0</td>\n",
       "      <td>1.0</td>\n",
       "      <td>2022-03-22 01:19:24</td>\n",
       "      <td>980.0</td>\n",
       "      <td>20000000.0</td>\n",
       "      <td>OTHERINCOME</td>\n",
       "      <td>NaN</td>\n",
       "      <td>기타</td>\n",
       "      <td>...</td>\n",
       "      <td>NaN</td>\n",
       "      <td>NaN</td>\n",
       "      <td>1.0</td>\n",
       "      <td>NaN</td>\n",
       "      <td>2022-03-22 01:19:26</td>\n",
       "      <td>6</td>\n",
       "      <td>36</td>\n",
       "      <td>30000000.0</td>\n",
       "      <td>13.1</td>\n",
       "      <td>0.0</td>\n",
       "    </tr>\n",
       "    <tr>\n",
       "      <th>13527216</th>\n",
       "      <td>1327066</td>\n",
       "      <td>151422</td>\n",
       "      <td>1955.0</td>\n",
       "      <td>1.0</td>\n",
       "      <td>2022-03-22 01:19:24</td>\n",
       "      <td>980.0</td>\n",
       "      <td>20000000.0</td>\n",
       "      <td>OTHERINCOME</td>\n",
       "      <td>NaN</td>\n",
       "      <td>기타</td>\n",
       "      <td>...</td>\n",
       "      <td>NaN</td>\n",
       "      <td>NaN</td>\n",
       "      <td>1.0</td>\n",
       "      <td>NaN</td>\n",
       "      <td>2022-03-22 01:19:25</td>\n",
       "      <td>42</td>\n",
       "      <td>258</td>\n",
       "      <td>51000000.0</td>\n",
       "      <td>8.9</td>\n",
       "      <td>0.0</td>\n",
       "    </tr>\n",
       "    <tr>\n",
       "      <th>13527217</th>\n",
       "      <td>1327066</td>\n",
       "      <td>151422</td>\n",
       "      <td>1955.0</td>\n",
       "      <td>1.0</td>\n",
       "      <td>2022-03-22 01:19:24</td>\n",
       "      <td>980.0</td>\n",
       "      <td>20000000.0</td>\n",
       "      <td>OTHERINCOME</td>\n",
       "      <td>NaN</td>\n",
       "      <td>기타</td>\n",
       "      <td>...</td>\n",
       "      <td>NaN</td>\n",
       "      <td>NaN</td>\n",
       "      <td>1.0</td>\n",
       "      <td>NaN</td>\n",
       "      <td>2022-03-22 01:19:26</td>\n",
       "      <td>14</td>\n",
       "      <td>128</td>\n",
       "      <td>8000000.0</td>\n",
       "      <td>6.9</td>\n",
       "      <td>0.0</td>\n",
       "    </tr>\n",
       "    <tr>\n",
       "      <th>13527218</th>\n",
       "      <td>1327066</td>\n",
       "      <td>151422</td>\n",
       "      <td>1955.0</td>\n",
       "      <td>1.0</td>\n",
       "      <td>2022-03-22 01:19:24</td>\n",
       "      <td>980.0</td>\n",
       "      <td>20000000.0</td>\n",
       "      <td>OTHERINCOME</td>\n",
       "      <td>NaN</td>\n",
       "      <td>기타</td>\n",
       "      <td>...</td>\n",
       "      <td>NaN</td>\n",
       "      <td>NaN</td>\n",
       "      <td>1.0</td>\n",
       "      <td>NaN</td>\n",
       "      <td>2022-03-22 01:19:25</td>\n",
       "      <td>44</td>\n",
       "      <td>140</td>\n",
       "      <td>100000000.0</td>\n",
       "      <td>12.4</td>\n",
       "      <td>0.0</td>\n",
       "    </tr>\n",
       "  </tbody>\n",
       "</table>\n",
       "<p>402850 rows × 23 columns</p>\n",
       "</div>"
      ],
      "text/plain": [
       "          application_id  user_id  birth_year  gender          insert_time  \\\n",
       "50               1614045   860410      1976.0     1.0  2022-06-07 11:29:05   \n",
       "292               696416   648540      1965.0     1.0  2022-06-07 11:38:46   \n",
       "293               696416   648540      1965.0     1.0  2022-06-07 11:38:46   \n",
       "294               696416   648540      1965.0     1.0  2022-06-07 11:38:46   \n",
       "295               696416   648540      1965.0     1.0  2022-06-07 11:38:46   \n",
       "...                  ...      ...         ...     ...                  ...   \n",
       "13527214         1327066   151422      1955.0     1.0  2022-03-22 01:19:24   \n",
       "13527215         1327066   151422      1955.0     1.0  2022-03-22 01:19:24   \n",
       "13527216         1327066   151422      1955.0     1.0  2022-03-22 01:19:24   \n",
       "13527217         1327066   151422      1955.0     1.0  2022-03-22 01:19:24   \n",
       "13527218         1327066   151422      1955.0     1.0  2022-03-22 01:19:24   \n",
       "\n",
       "          credit_score  yearly_income  income_type  company_enter_month  \\\n",
       "50               590.0     45000000.0  OTHERINCOME                  NaN   \n",
       "292              750.0     30000000.0  OTHERINCOME                  NaN   \n",
       "293              750.0     30000000.0  OTHERINCOME                  NaN   \n",
       "294              750.0     30000000.0  OTHERINCOME                  NaN   \n",
       "295              750.0     30000000.0  OTHERINCOME                  NaN   \n",
       "...                ...            ...          ...                  ...   \n",
       "13527214         980.0     20000000.0  OTHERINCOME                  NaN   \n",
       "13527215         980.0     20000000.0  OTHERINCOME                  NaN   \n",
       "13527216         980.0     20000000.0  OTHERINCOME                  NaN   \n",
       "13527217         980.0     20000000.0  OTHERINCOME                  NaN   \n",
       "13527218         980.0     20000000.0  OTHERINCOME                  NaN   \n",
       "\n",
       "         employment_type  ... personal_rehabilitation_yn  \\\n",
       "50                    기타  ...                        0.0   \n",
       "292                   기타  ...                        0.0   \n",
       "293                   기타  ...                        0.0   \n",
       "294                   기타  ...                        0.0   \n",
       "295                   기타  ...                        0.0   \n",
       "...                  ...  ...                        ...   \n",
       "13527214              기타  ...                        NaN   \n",
       "13527215              기타  ...                        NaN   \n",
       "13527216              기타  ...                        NaN   \n",
       "13527217              기타  ...                        NaN   \n",
       "13527218              기타  ...                        NaN   \n",
       "\n",
       "          personal_rehabilitation_complete_yn existing_loan_cnt  \\\n",
       "50                                        NaN               1.0   \n",
       "292                                       NaN               1.0   \n",
       "293                                       NaN               1.0   \n",
       "294                                       NaN               1.0   \n",
       "295                                       NaN               1.0   \n",
       "...                                       ...               ...   \n",
       "13527214                                  NaN               1.0   \n",
       "13527215                                  NaN               1.0   \n",
       "13527216                                  NaN               1.0   \n",
       "13527217                                  NaN               1.0   \n",
       "13527218                                  NaN               1.0   \n",
       "\n",
       "          existing_loan_amt  loanapply_insert_time  bank_id  product_id  \\\n",
       "50               20000000.0    2022-06-07 11:29:07       42         258   \n",
       "292                     NaN    2022-06-07 11:38:48       21         196   \n",
       "293                     NaN    2022-06-07 11:38:47       29         265   \n",
       "294                     NaN    2022-06-07 11:38:47        1           1   \n",
       "295                     NaN    2022-06-07 11:38:47       35          29   \n",
       "...                     ...                    ...      ...         ...   \n",
       "13527214                NaN    2022-03-22 01:19:26       64         254   \n",
       "13527215                NaN    2022-03-22 01:19:26        6          36   \n",
       "13527216                NaN    2022-03-22 01:19:25       42         258   \n",
       "13527217                NaN    2022-03-22 01:19:26       14         128   \n",
       "13527218                NaN    2022-03-22 01:19:25       44         140   \n",
       "\n",
       "           loan_limit  loan_rate  is_applied  \n",
       "50          3000000.0       16.7         NaN  \n",
       "292         5000000.0       13.0         NaN  \n",
       "293        34000000.0        9.0         NaN  \n",
       "294        22000000.0       13.9         NaN  \n",
       "295         5000000.0       17.6         NaN  \n",
       "...               ...        ...         ...  \n",
       "13527214    3000000.0        6.7         0.0  \n",
       "13527215   30000000.0       13.1         0.0  \n",
       "13527216   51000000.0        8.9         0.0  \n",
       "13527217    8000000.0        6.9         0.0  \n",
       "13527218  100000000.0       12.4         0.0  \n",
       "\n",
       "[402850 rows x 23 columns]"
      ]
     },
     "execution_count": 53,
     "metadata": {},
     "output_type": "execute_result"
    }
   ],
   "source": [
    "merged_df[merged_df['income_type']=='OTHERINCOME']"
   ]
  },
  {
   "cell_type": "code",
   "execution_count": 56,
   "id": "7ea9ab32",
   "metadata": {
    "ExecuteTime": {
     "end_time": "2022-10-10T20:32:52.610741Z",
     "start_time": "2022-10-10T20:32:52.607341Z"
    }
   },
   "outputs": [
    {
     "data": {
      "text/plain": [
       "Index(['application_id', 'user_id', 'birth_year', 'gender', 'insert_time',\n",
       "       'credit_score', 'yearly_income', 'income_type', 'company_enter_month',\n",
       "       'employment_type', 'houseown_type', 'desired_amount', 'purpose',\n",
       "       'personal_rehabilitation_yn', 'personal_rehabilitation_complete_yn',\n",
       "       'existing_loan_cnt', 'existing_loan_amt', 'loanapply_insert_time',\n",
       "       'bank_id', 'product_id', 'loan_limit', 'loan_rate', 'is_applied'],\n",
       "      dtype='object')"
      ]
     },
     "execution_count": 56,
     "metadata": {},
     "output_type": "execute_result"
    }
   ],
   "source": [
    "merged_df.columns"
   ]
  },
  {
   "cell_type": "code",
   "execution_count": 59,
   "id": "3dd222b1",
   "metadata": {
    "ExecuteTime": {
     "end_time": "2022-10-10T20:34:30.653298Z",
     "start_time": "2022-10-10T20:34:30.649815Z"
    }
   },
   "outputs": [
    {
     "data": {
      "text/plain": [
       "(13527250, 23)"
      ]
     },
     "execution_count": 59,
     "metadata": {},
     "output_type": "execute_result"
    }
   ],
   "source": [
    "merged_df.shape"
   ]
  },
  {
   "cell_type": "code",
   "execution_count": 58,
   "id": "73ae3a1f",
   "metadata": {
    "ExecuteTime": {
     "end_time": "2022-10-10T20:34:25.683531Z",
     "start_time": "2022-10-10T20:34:10.243321Z"
    }
   },
   "outputs": [
    {
     "data": {
      "text/plain": [
       "(11342557, 18)"
      ]
     },
     "execution_count": 58,
     "metadata": {},
     "output_type": "execute_result"
    }
   ],
   "source": [
    "merged_df.drop(['loanapply_insert_time', 'product_id', 'loan_limit', 'loan_rate', 'is_applied'], axis=1).drop_duplicates().shape"
   ]
  },
  {
   "cell_type": "code",
   "execution_count": 63,
   "id": "762fd1f0",
   "metadata": {
    "ExecuteTime": {
     "end_time": "2022-10-10T20:37:54.046442Z",
     "start_time": "2022-10-10T20:37:53.967451Z"
    }
   },
   "outputs": [
    {
     "data": {
      "text/plain": [
       "(968866, (13527363, 7))"
      ]
     },
     "execution_count": 63,
     "metadata": {},
     "output_type": "execute_result"
    }
   ],
   "source": [
    "len(loan_df['application_id'].unique()), loan_df.shape"
   ]
  },
  {
   "cell_type": "code",
   "execution_count": 67,
   "id": "f492f346",
   "metadata": {
    "ExecuteTime": {
     "end_time": "2022-10-10T20:42:59.630833Z",
     "start_time": "2022-10-10T20:42:57.731269Z"
    }
   },
   "outputs": [
    {
     "ename": "TypeError",
     "evalue": "drop_duplicates() got an unexpected keyword argument 'axis'",
     "output_type": "error",
     "traceback": [
      "\u001b[0;31m---------------------------------------------------------------------------\u001b[0m",
      "\u001b[0;31mTypeError\u001b[0m                                 Traceback (most recent call last)",
      "\u001b[0;32m/tmp/ipykernel_289/1833165898.py\u001b[0m in \u001b[0;36m<module>\u001b[0;34m\u001b[0m\n\u001b[0;32m----> 1\u001b[0;31m \u001b[0mmerged_df\u001b[0m\u001b[0;34m.\u001b[0m\u001b[0mdrop\u001b[0m\u001b[0;34m(\u001b[0m\u001b[0;34m[\u001b[0m\u001b[0;34m'loanapply_insert_time'\u001b[0m\u001b[0;34m,\u001b[0m \u001b[0;34m'product_id'\u001b[0m\u001b[0;34m,\u001b[0m \u001b[0;34m'loan_limit'\u001b[0m\u001b[0;34m,\u001b[0m \u001b[0;34m'loan_rate'\u001b[0m\u001b[0;34m,\u001b[0m \u001b[0;34m'is_applied'\u001b[0m\u001b[0;34m]\u001b[0m\u001b[0;34m,\u001b[0m \u001b[0maxis\u001b[0m\u001b[0;34m=\u001b[0m\u001b[0;36m1\u001b[0m\u001b[0;34m)\u001b[0m\u001b[0;34m.\u001b[0m\u001b[0mdrop_duplicates\u001b[0m\u001b[0;34m(\u001b[0m\u001b[0maxis\u001b[0m\u001b[0;34m=\u001b[0m\u001b[0;36m0\u001b[0m\u001b[0;34m)\u001b[0m\u001b[0;34m\u001b[0m\u001b[0;34m\u001b[0m\u001b[0m\n\u001b[0m",
      "\u001b[0;32m~/.local/lib/python3.8/site-packages/pandas/util/_decorators.py\u001b[0m in \u001b[0;36mwrapper\u001b[0;34m(*args, **kwargs)\u001b[0m\n\u001b[1;32m    309\u001b[0m                     \u001b[0mstacklevel\u001b[0m\u001b[0;34m=\u001b[0m\u001b[0mstacklevel\u001b[0m\u001b[0;34m,\u001b[0m\u001b[0;34m\u001b[0m\u001b[0;34m\u001b[0m\u001b[0m\n\u001b[1;32m    310\u001b[0m                 )\n\u001b[0;32m--> 311\u001b[0;31m             \u001b[0;32mreturn\u001b[0m \u001b[0mfunc\u001b[0m\u001b[0;34m(\u001b[0m\u001b[0;34m*\u001b[0m\u001b[0margs\u001b[0m\u001b[0;34m,\u001b[0m \u001b[0;34m**\u001b[0m\u001b[0mkwargs\u001b[0m\u001b[0;34m)\u001b[0m\u001b[0;34m\u001b[0m\u001b[0;34m\u001b[0m\u001b[0m\n\u001b[0m\u001b[1;32m    312\u001b[0m \u001b[0;34m\u001b[0m\u001b[0m\n\u001b[1;32m    313\u001b[0m         \u001b[0;32mreturn\u001b[0m \u001b[0mwrapper\u001b[0m\u001b[0;34m\u001b[0m\u001b[0;34m\u001b[0m\u001b[0m\n",
      "\u001b[0;31mTypeError\u001b[0m: drop_duplicates() got an unexpected keyword argument 'axis'"
     ]
    }
   ],
   "source": [
    "merged_df.drop(['loanapply_insert_time', 'product_id', 'loan_limit', 'loan_rate', 'is_applied'], axis=1).drop_duplicates()"
   ]
  },
  {
   "cell_type": "code",
   "execution_count": 68,
   "id": "c88c999f",
   "metadata": {
    "ExecuteTime": {
     "end_time": "2022-10-10T20:43:26.590677Z",
     "start_time": "2022-10-10T20:43:26.587047Z"
    }
   },
   "outputs": [
    {
     "data": {
      "text/plain": [
       "12558384"
      ]
     },
     "execution_count": 68,
     "metadata": {},
     "output_type": "execute_result"
    }
   ],
   "source": [
    "13527250-968866"
   ]
  },
  {
   "cell_type": "code",
   "execution_count": 70,
   "id": "33163b35",
   "metadata": {
    "ExecuteTime": {
     "end_time": "2022-10-10T20:46:38.720301Z",
     "start_time": "2022-10-10T20:46:38.716737Z"
    }
   },
   "outputs": [
    {
     "data": {
      "text/plain": [
       "(1394216, 17)"
      ]
     },
     "execution_count": 70,
     "metadata": {},
     "output_type": "execute_result"
    }
   ],
   "source": [
    "user_df.shape"
   ]
  },
  {
   "cell_type": "code",
   "execution_count": 79,
   "id": "9331b7be",
   "metadata": {
    "ExecuteTime": {
     "end_time": "2022-10-10T20:50:37.907208Z",
     "start_time": "2022-10-10T20:50:37.838658Z"
    }
   },
   "outputs": [
    {
     "data": {
      "text/plain": [
       "(1394216, 405213)"
      ]
     },
     "execution_count": 79,
     "metadata": {},
     "output_type": "execute_result"
    }
   ],
   "source": [
    "len(user_df['application_id'].unique()), len(user_df['user_id'].unique())"
   ]
  },
  {
   "cell_type": "code",
   "execution_count": 80,
   "id": "dc401ba5",
   "metadata": {
    "ExecuteTime": {
     "end_time": "2022-10-10T20:50:42.913883Z",
     "start_time": "2022-10-10T20:50:42.755777Z"
    }
   },
   "outputs": [],
   "source": [
    "tmp = user_df.drop(['application_id','insert_time'],axis=1)"
   ]
  },
  {
   "cell_type": "code",
   "execution_count": 82,
   "id": "f2756e3f",
   "metadata": {
    "ExecuteTime": {
     "end_time": "2022-10-10T20:51:02.442398Z",
     "start_time": "2022-10-10T20:51:01.468713Z"
    }
   },
   "outputs": [
    {
     "data": {
      "text/plain": [
       "1102436"
      ]
     },
     "execution_count": 82,
     "metadata": {},
     "output_type": "execute_result"
    }
   ],
   "source": [
    "len(tmp.drop_duplicates())"
   ]
  },
  {
   "cell_type": "code",
   "execution_count": 75,
   "id": "a826148b",
   "metadata": {
    "ExecuteTime": {
     "end_time": "2022-10-10T20:49:25.964482Z",
     "start_time": "2022-10-10T20:49:25.545454Z"
    }
   },
   "outputs": [
    {
     "name": "stdout",
     "output_type": "stream",
     "text": [
      "989003\n",
      "1394134\n",
      "1394213\n",
      "128706\n",
      "1394124\n",
      "1393519\n",
      "1394209\n",
      "1387496\n",
      "1394211\n",
      "1394211\n",
      "1393657\n",
      "1394199\n",
      "1394213\n",
      "1394213\n",
      "1394115\n",
      "1393213\n"
     ]
    }
   ],
   "source": [
    "for col in tmp.columns:\n",
    "    print(tmp[col].duplicated().sum())"
   ]
  },
  {
   "cell_type": "code",
   "execution_count": 83,
   "id": "419db7f1",
   "metadata": {
    "ExecuteTime": {
     "end_time": "2022-10-10T21:10:35.846981Z",
     "start_time": "2022-10-10T21:10:19.150291Z"
    }
   },
   "outputs": [
    {
     "data": {
      "text/plain": [
       "application_id                                0\n",
       "user_id                                       0\n",
       "birth_year                               128096\n",
       "gender                                   128096\n",
       "insert_time                                   0\n",
       "credit_score                            1509276\n",
       "yearly_income                                 6\n",
       "income_type                                   0\n",
       "company_enter_month                      400337\n",
       "employment_type                               0\n",
       "houseown_type                                 0\n",
       "desired_amount                                0\n",
       "purpose                                       0\n",
       "personal_rehabilitation_yn              5888701\n",
       "personal_rehabilitation_complete_yn    11793977\n",
       "existing_loan_cnt                       2685709\n",
       "existing_loan_amt                       3890163\n",
       "loanapply_insert_time                         0\n",
       "bank_id                                       0\n",
       "product_id                                    0\n",
       "loan_limit                                 7382\n",
       "loan_rate                                  7382\n",
       "is_applied                              3257239\n",
       "dtype: int64"
      ]
     },
     "execution_count": 83,
     "metadata": {},
     "output_type": "execute_result"
    }
   ],
   "source": [
    "a=pd.merge(user_df, loan_df, on='application_id')\n",
    "a.isnull().sum()"
   ]
  }
 ],
 "metadata": {
  "kernelspec": {
   "display_name": "Python 3 (ipykernel)",
   "language": "python",
   "name": "python3"
  },
  "language_info": {
   "codemirror_mode": {
    "name": "ipython",
    "version": 3
   },
   "file_extension": ".py",
   "mimetype": "text/x-python",
   "name": "python",
   "nbconvert_exporter": "python",
   "pygments_lexer": "ipython3",
   "version": "3.8.10"
  },
  "toc": {
   "base_numbering": 1,
   "nav_menu": {},
   "number_sections": true,
   "sideBar": true,
   "skip_h1_title": false,
   "title_cell": "Table of Contents",
   "title_sidebar": "Contents",
   "toc_cell": false,
   "toc_position": {},
   "toc_section_display": true,
   "toc_window_display": false
  },
  "varInspector": {
   "cols": {
    "lenName": 16,
    "lenType": 16,
    "lenVar": 40
   },
   "kernels_config": {
    "python": {
     "delete_cmd_postfix": "",
     "delete_cmd_prefix": "del ",
     "library": "var_list.py",
     "varRefreshCmd": "print(var_dic_list())"
    },
    "r": {
     "delete_cmd_postfix": ") ",
     "delete_cmd_prefix": "rm(",
     "library": "var_list.r",
     "varRefreshCmd": "cat(var_dic_list()) "
    }
   },
   "types_to_exclude": [
    "module",
    "function",
    "builtin_function_or_method",
    "instance",
    "_Feature"
   ],
   "window_display": false
  }
 },
 "nbformat": 4,
 "nbformat_minor": 5
}
