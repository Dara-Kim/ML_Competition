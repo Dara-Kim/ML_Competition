{
 "cells": [
  {
   "cell_type": "code",
   "execution_count": 1,
   "id": "98c5c308",
   "metadata": {
    "ExecuteTime": {
     "end_time": "2022-10-12T05:21:02.393193Z",
     "start_time": "2022-10-12T05:21:00.198111Z"
    }
   },
   "outputs": [],
   "source": [
    "import pandas as pd\n",
    "import numpy as np\n",
    "import os\n",
    "import random\n",
    "from copy import deepcopy\n",
    "import math\n",
    "from itertools import product\n",
    "import pickle\n",
    "import joblib\n",
    "from tqdm import tqdm\n",
    "\n",
    "import matplotlib.pyplot as plt\n",
    "import seaborn as sb\n",
    "\n",
    "from sklearn.ensemble import RandomForestClassifier\n",
    "from sklearn.model_selection import train_test_split\n",
    "from sklearn.metrics import f1_score, confusion_matrix, ConfusionMatrixDisplay"
   ]
  },
  {
   "cell_type": "code",
   "execution_count": 2,
   "id": "21b07ecd",
   "metadata": {
    "ExecuteTime": {
     "end_time": "2022-10-12T05:21:42.177453Z",
     "start_time": "2022-10-12T05:21:32.939150Z"
    }
   },
   "outputs": [],
   "source": [
    "user_df = pd.read_csv('./data/user_spec.csv')\n",
    "loan_df = pd.read_csv('./data/loan_result.csv')"
   ]
  },
  {
   "cell_type": "code",
   "execution_count": 3,
   "id": "e8fc504b",
   "metadata": {
    "ExecuteTime": {
     "end_time": "2022-10-11T03:47:45.501989Z",
     "start_time": "2022-10-11T03:47:32.023590Z"
    }
   },
   "outputs": [],
   "source": [
    "merged_df=pd.merge(user_df, loan_df, on='application_id')"
   ]
  },
  {
   "cell_type": "code",
   "execution_count": 4,
   "id": "e17af28b",
   "metadata": {
    "ExecuteTime": {
     "end_time": "2022-10-11T03:48:26.842833Z",
     "start_time": "2022-10-11T03:48:26.840537Z"
    }
   },
   "outputs": [],
   "source": [
    "if not os.path.isdir('./customData'):\n",
    "    os.mkdir('./customData')"
   ]
  },
  {
   "cell_type": "code",
   "execution_count": 5,
   "id": "e951b9c9",
   "metadata": {
    "ExecuteTime": {
     "end_time": "2022-10-11T03:50:55.915298Z",
     "start_time": "2022-10-11T03:49:23.362282Z"
    }
   },
   "outputs": [],
   "source": [
    "merged_df.to_csv('./customData/merged_user_loan.csv')"
   ]
  },
  {
   "cell_type": "markdown",
   "id": "a883d550",
   "metadata": {},
   "source": [
    "실습"
   ]
  },
  {
   "cell_type": "code",
   "execution_count": 38,
   "id": "e5896a76",
   "metadata": {
    "ExecuteTime": {
     "end_time": "2022-10-12T07:31:55.012110Z",
     "start_time": "2022-10-12T07:31:54.997159Z"
    }
   },
   "outputs": [
    {
     "ename": "IndexError",
     "evalue": "iloc cannot enlarge its target object",
     "output_type": "error",
     "traceback": [
      "\u001b[0;31m---------------------------------------------------------------------------\u001b[0m",
      "\u001b[0;31mIndexError\u001b[0m                                Traceback (most recent call last)",
      "\u001b[0;32m/tmp/ipykernel_101/4166343629.py\u001b[0m in \u001b[0;36m<module>\u001b[0;34m\u001b[0m\n\u001b[1;32m      9\u001b[0m \u001b[0;34m\u001b[0m\u001b[0m\n\u001b[1;32m     10\u001b[0m \u001b[0;32mfor\u001b[0m \u001b[0mi\u001b[0m \u001b[0;32min\u001b[0m \u001b[0mrange\u001b[0m\u001b[0;34m(\u001b[0m\u001b[0;36m4\u001b[0m\u001b[0;34m)\u001b[0m\u001b[0;34m:\u001b[0m\u001b[0;34m\u001b[0m\u001b[0;34m\u001b[0m\u001b[0m\n\u001b[0;32m---> 11\u001b[0;31m     \u001b[0ma\u001b[0m\u001b[0;34m.\u001b[0m\u001b[0miloc\u001b[0m\u001b[0;34m[\u001b[0m\u001b[0mi\u001b[0m\u001b[0;34m,\u001b[0m\u001b[0mi\u001b[0m\u001b[0;34m*\u001b[0m\u001b[0;36m3\u001b[0m\u001b[0;34m]\u001b[0m\u001b[0;34m=\u001b[0m\u001b[0mnp\u001b[0m\u001b[0;34m.\u001b[0m\u001b[0mNaN\u001b[0m\u001b[0;34m\u001b[0m\u001b[0;34m\u001b[0m\u001b[0m\n\u001b[0m",
      "\u001b[0;32m~/.local/lib/python3.8/site-packages/pandas/core/indexing.py\u001b[0m in \u001b[0;36m__setitem__\u001b[0;34m(self, key, value)\u001b[0m\n\u001b[1;32m    718\u001b[0m             \u001b[0mkey\u001b[0m \u001b[0;34m=\u001b[0m \u001b[0mcom\u001b[0m\u001b[0;34m.\u001b[0m\u001b[0mapply_if_callable\u001b[0m\u001b[0;34m(\u001b[0m\u001b[0mkey\u001b[0m\u001b[0;34m,\u001b[0m \u001b[0mself\u001b[0m\u001b[0;34m.\u001b[0m\u001b[0mobj\u001b[0m\u001b[0;34m)\u001b[0m\u001b[0;34m\u001b[0m\u001b[0;34m\u001b[0m\u001b[0m\n\u001b[1;32m    719\u001b[0m         \u001b[0mindexer\u001b[0m \u001b[0;34m=\u001b[0m \u001b[0mself\u001b[0m\u001b[0;34m.\u001b[0m\u001b[0m_get_setitem_indexer\u001b[0m\u001b[0;34m(\u001b[0m\u001b[0mkey\u001b[0m\u001b[0;34m)\u001b[0m\u001b[0;34m\u001b[0m\u001b[0;34m\u001b[0m\u001b[0m\n\u001b[0;32m--> 720\u001b[0;31m         \u001b[0mself\u001b[0m\u001b[0;34m.\u001b[0m\u001b[0m_has_valid_setitem_indexer\u001b[0m\u001b[0;34m(\u001b[0m\u001b[0mkey\u001b[0m\u001b[0;34m)\u001b[0m\u001b[0;34m\u001b[0m\u001b[0;34m\u001b[0m\u001b[0m\n\u001b[0m\u001b[1;32m    721\u001b[0m \u001b[0;34m\u001b[0m\u001b[0m\n\u001b[1;32m    722\u001b[0m         \u001b[0miloc\u001b[0m \u001b[0;34m=\u001b[0m \u001b[0mself\u001b[0m \u001b[0;32mif\u001b[0m \u001b[0mself\u001b[0m\u001b[0;34m.\u001b[0m\u001b[0mname\u001b[0m \u001b[0;34m==\u001b[0m \u001b[0;34m\"iloc\"\u001b[0m \u001b[0;32melse\u001b[0m \u001b[0mself\u001b[0m\u001b[0;34m.\u001b[0m\u001b[0mobj\u001b[0m\u001b[0;34m.\u001b[0m\u001b[0miloc\u001b[0m\u001b[0;34m\u001b[0m\u001b[0;34m\u001b[0m\u001b[0m\n",
      "\u001b[0;32m~/.local/lib/python3.8/site-packages/pandas/core/indexing.py\u001b[0m in \u001b[0;36m_has_valid_setitem_indexer\u001b[0;34m(self, indexer)\u001b[0m\n\u001b[1;32m   1459\u001b[0m             \u001b[0;32melif\u001b[0m \u001b[0mis_integer\u001b[0m\u001b[0;34m(\u001b[0m\u001b[0mi\u001b[0m\u001b[0;34m)\u001b[0m\u001b[0;34m:\u001b[0m\u001b[0;34m\u001b[0m\u001b[0;34m\u001b[0m\u001b[0m\n\u001b[1;32m   1460\u001b[0m                 \u001b[0;32mif\u001b[0m \u001b[0mi\u001b[0m \u001b[0;34m>=\u001b[0m \u001b[0mlen\u001b[0m\u001b[0;34m(\u001b[0m\u001b[0max\u001b[0m\u001b[0;34m)\u001b[0m\u001b[0;34m:\u001b[0m\u001b[0;34m\u001b[0m\u001b[0;34m\u001b[0m\u001b[0m\n\u001b[0;32m-> 1461\u001b[0;31m                     \u001b[0;32mraise\u001b[0m \u001b[0mIndexError\u001b[0m\u001b[0;34m(\u001b[0m\u001b[0;34m\"iloc cannot enlarge its target object\"\u001b[0m\u001b[0;34m)\u001b[0m\u001b[0;34m\u001b[0m\u001b[0;34m\u001b[0m\u001b[0m\n\u001b[0m\u001b[1;32m   1462\u001b[0m             \u001b[0;32melif\u001b[0m \u001b[0misinstance\u001b[0m\u001b[0;34m(\u001b[0m\u001b[0mi\u001b[0m\u001b[0;34m,\u001b[0m \u001b[0mdict\u001b[0m\u001b[0;34m)\u001b[0m\u001b[0;34m:\u001b[0m\u001b[0;34m\u001b[0m\u001b[0;34m\u001b[0m\u001b[0m\n\u001b[1;32m   1463\u001b[0m                 \u001b[0;32mraise\u001b[0m \u001b[0mIndexError\u001b[0m\u001b[0;34m(\u001b[0m\u001b[0;34m\"iloc cannot enlarge its target object\"\u001b[0m\u001b[0;34m)\u001b[0m\u001b[0;34m\u001b[0m\u001b[0;34m\u001b[0m\u001b[0m\n",
      "\u001b[0;31mIndexError\u001b[0m: iloc cannot enlarge its target object"
     ]
    }
   ],
   "source": [
    "a=pd.DataFrame([\n",
    "    list(range(1,10)),\n",
    "    list(range(8,17)),\n",
    "    [0]*9,\n",
    "    list(range(31, 13, -2))\n",
    "])\n",
    "a.columns = [f'c_{i}' for i in a.columns]\n",
    "a.index = [f'i_{i}' for i in a.index]\n",
    "\n",
    "for i in range(4):\n",
    "    a.iloc[i,i*3]=np.NaN"
   ]
  },
  {
   "cell_type": "code",
   "execution_count": 39,
   "id": "630c3dd4",
   "metadata": {
    "ExecuteTime": {
     "end_time": "2022-10-12T07:31:59.481535Z",
     "start_time": "2022-10-12T07:31:59.477638Z"
    }
   },
   "outputs": [],
   "source": [
    "a.loc[['i_0','i_1'],['c_1','c_2']]=1"
   ]
  },
  {
   "cell_type": "code",
   "execution_count": 40,
   "id": "9eed5517",
   "metadata": {
    "ExecuteTime": {
     "end_time": "2022-10-12T07:32:03.884283Z",
     "start_time": "2022-10-12T07:32:03.877022Z"
    }
   },
   "outputs": [
    {
     "data": {
      "text/html": [
       "<div>\n",
       "<style scoped>\n",
       "    .dataframe tbody tr th:only-of-type {\n",
       "        vertical-align: middle;\n",
       "    }\n",
       "\n",
       "    .dataframe tbody tr th {\n",
       "        vertical-align: top;\n",
       "    }\n",
       "\n",
       "    .dataframe thead th {\n",
       "        text-align: right;\n",
       "    }\n",
       "</style>\n",
       "<table border=\"1\" class=\"dataframe\">\n",
       "  <thead>\n",
       "    <tr style=\"text-align: right;\">\n",
       "      <th></th>\n",
       "      <th>c_0</th>\n",
       "      <th>c_1</th>\n",
       "      <th>c_2</th>\n",
       "      <th>c_3</th>\n",
       "      <th>c_4</th>\n",
       "      <th>c_5</th>\n",
       "      <th>c_6</th>\n",
       "      <th>c_7</th>\n",
       "      <th>c_8</th>\n",
       "    </tr>\n",
       "  </thead>\n",
       "  <tbody>\n",
       "    <tr>\n",
       "      <th>i_0</th>\n",
       "      <td>NaN</td>\n",
       "      <td>1</td>\n",
       "      <td>1</td>\n",
       "      <td>4.0</td>\n",
       "      <td>5</td>\n",
       "      <td>6</td>\n",
       "      <td>7.0</td>\n",
       "      <td>8</td>\n",
       "      <td>9</td>\n",
       "    </tr>\n",
       "    <tr>\n",
       "      <th>i_1</th>\n",
       "      <td>8.0</td>\n",
       "      <td>1</td>\n",
       "      <td>1</td>\n",
       "      <td>NaN</td>\n",
       "      <td>12</td>\n",
       "      <td>13</td>\n",
       "      <td>14.0</td>\n",
       "      <td>15</td>\n",
       "      <td>16</td>\n",
       "    </tr>\n",
       "    <tr>\n",
       "      <th>i_2</th>\n",
       "      <td>0.0</td>\n",
       "      <td>0</td>\n",
       "      <td>0</td>\n",
       "      <td>0.0</td>\n",
       "      <td>0</td>\n",
       "      <td>0</td>\n",
       "      <td>NaN</td>\n",
       "      <td>0</td>\n",
       "      <td>0</td>\n",
       "    </tr>\n",
       "    <tr>\n",
       "      <th>i_3</th>\n",
       "      <td>31.0</td>\n",
       "      <td>29</td>\n",
       "      <td>27</td>\n",
       "      <td>25.0</td>\n",
       "      <td>23</td>\n",
       "      <td>21</td>\n",
       "      <td>19.0</td>\n",
       "      <td>17</td>\n",
       "      <td>15</td>\n",
       "    </tr>\n",
       "  </tbody>\n",
       "</table>\n",
       "</div>"
      ],
      "text/plain": [
       "      c_0  c_1  c_2   c_3  c_4  c_5   c_6  c_7  c_8\n",
       "i_0   NaN    1    1   4.0    5    6   7.0    8    9\n",
       "i_1   8.0    1    1   NaN   12   13  14.0   15   16\n",
       "i_2   0.0    0    0   0.0    0    0   NaN    0    0\n",
       "i_3  31.0   29   27  25.0   23   21  19.0   17   15"
      ]
     },
     "execution_count": 40,
     "metadata": {},
     "output_type": "execute_result"
    }
   ],
   "source": [
    "a"
   ]
  },
  {
   "cell_type": "code",
   "execution_count": 41,
   "id": "0b6a7ef3",
   "metadata": {
    "ExecuteTime": {
     "end_time": "2022-10-12T07:32:08.542211Z",
     "start_time": "2022-10-12T07:32:08.534690Z"
    }
   },
   "outputs": [
    {
     "data": {
      "text/html": [
       "<div>\n",
       "<style scoped>\n",
       "    .dataframe tbody tr th:only-of-type {\n",
       "        vertical-align: middle;\n",
       "    }\n",
       "\n",
       "    .dataframe tbody tr th {\n",
       "        vertical-align: top;\n",
       "    }\n",
       "\n",
       "    .dataframe thead th {\n",
       "        text-align: right;\n",
       "    }\n",
       "</style>\n",
       "<table border=\"1\" class=\"dataframe\">\n",
       "  <thead>\n",
       "    <tr style=\"text-align: right;\">\n",
       "      <th></th>\n",
       "      <th>c_0</th>\n",
       "      <th>c_1</th>\n",
       "      <th>c_2</th>\n",
       "      <th>c_3</th>\n",
       "      <th>c_4</th>\n",
       "      <th>c_5</th>\n",
       "      <th>c_6</th>\n",
       "      <th>c_7</th>\n",
       "      <th>c_8</th>\n",
       "    </tr>\n",
       "  </thead>\n",
       "  <tbody>\n",
       "    <tr>\n",
       "      <th>i_0</th>\n",
       "      <td>NaN</td>\n",
       "      <td>1</td>\n",
       "      <td>1</td>\n",
       "      <td>4.0</td>\n",
       "      <td>5</td>\n",
       "      <td>6</td>\n",
       "      <td>7.0</td>\n",
       "      <td>8</td>\n",
       "      <td>9</td>\n",
       "    </tr>\n",
       "    <tr>\n",
       "      <th>i_1</th>\n",
       "      <td>8.0</td>\n",
       "      <td>1</td>\n",
       "      <td>1</td>\n",
       "      <td>NaN</td>\n",
       "      <td>12</td>\n",
       "      <td>13</td>\n",
       "      <td>14.0</td>\n",
       "      <td>15</td>\n",
       "      <td>16</td>\n",
       "    </tr>\n",
       "    <tr>\n",
       "      <th>i_3</th>\n",
       "      <td>31.0</td>\n",
       "      <td>29</td>\n",
       "      <td>27</td>\n",
       "      <td>25.0</td>\n",
       "      <td>23</td>\n",
       "      <td>21</td>\n",
       "      <td>19.0</td>\n",
       "      <td>17</td>\n",
       "      <td>15</td>\n",
       "    </tr>\n",
       "  </tbody>\n",
       "</table>\n",
       "</div>"
      ],
      "text/plain": [
       "      c_0  c_1  c_2   c_3  c_4  c_5   c_6  c_7  c_8\n",
       "i_0   NaN    1    1   4.0    5    6   7.0    8    9\n",
       "i_1   8.0    1    1   NaN   12   13  14.0   15   16\n",
       "i_3  31.0   29   27  25.0   23   21  19.0   17   15"
      ]
     },
     "execution_count": 41,
     "metadata": {},
     "output_type": "execute_result"
    }
   ],
   "source": [
    "a[(a['c_3']!=0) & (a['c_3']!=1)]"
   ]
  },
  {
   "cell_type": "code",
   "execution_count": 47,
   "id": "0bead068",
   "metadata": {
    "ExecuteTime": {
     "end_time": "2022-10-12T07:35:54.523678Z",
     "start_time": "2022-10-12T07:35:54.520198Z"
    }
   },
   "outputs": [
    {
     "data": {
      "text/plain": [
       "True"
      ]
     },
     "execution_count": 47,
     "metadata": {},
     "output_type": "execute_result"
    }
   ],
   "source": [
    "np.isnan(a.iloc[0,0])"
   ]
  },
  {
   "cell_type": "code",
   "execution_count": null,
   "id": "fd22ee81",
   "metadata": {},
   "outputs": [],
   "source": []
  },
  {
   "cell_type": "code",
   "execution_count": 42,
   "id": "7a85f98b",
   "metadata": {
    "ExecuteTime": {
     "end_time": "2022-10-11T04:06:10.840039Z",
     "start_time": "2022-10-11T04:06:00.840246Z"
    }
   },
   "outputs": [
    {
     "data": {
      "text/plain": [
       "birth_year                               128096\n",
       "gender                                   128096\n",
       "credit_score                            1509276\n",
       "yearly_income                                 6\n",
       "company_enter_month                      400337\n",
       "personal_rehabilitation_yn              5888701\n",
       "personal_rehabilitation_complete_yn    11793977\n",
       "existing_loan_cnt                       2685709\n",
       "existing_loan_amt                       3890163\n",
       "loan_limit                                 7382\n",
       "loan_rate                                  7382\n",
       "is_applied                              3257239\n",
       "dtype: int64"
      ]
     },
     "execution_count": 42,
     "metadata": {},
     "output_type": "execute_result"
    }
   ],
   "source": [
    "null_index_list = (merged_df.isnull().sum()!=0)[merged_df.isnull().sum()!=0].index\n",
    "(merged_df.isnull().sum())[merged_df.isnull().sum()!=0]"
   ]
  },
  {
   "cell_type": "markdown",
   "id": "e4a63b09",
   "metadata": {},
   "source": [
    "## yearly_income                                 "
   ]
  },
  {
   "cell_type": "code",
   "execution_count": 45,
   "id": "491aa41c",
   "metadata": {
    "ExecuteTime": {
     "end_time": "2022-10-11T04:07:30.175768Z",
     "start_time": "2022-10-11T04:07:30.158899Z"
    }
   },
   "outputs": [
    {
     "data": {
      "text/plain": [
       "5781948    670502\n",
       "5781949    670502\n",
       "5781950    670502\n",
       "5781951    670502\n",
       "5781952    670502\n",
       "5781953    670502\n",
       "Name: user_id, dtype: int64"
      ]
     },
     "execution_count": 45,
     "metadata": {},
     "output_type": "execute_result"
    }
   ],
   "source": [
    "merged_df[merged_df['yearly_income'].isnull()]['user_id']"
   ]
  },
  {
   "cell_type": "code",
   "execution_count": 47,
   "id": "f38ed4d9",
   "metadata": {
    "ExecuteTime": {
     "end_time": "2022-10-11T04:08:50.628316Z",
     "start_time": "2022-10-11T04:08:50.612859Z"
    }
   },
   "outputs": [
    {
     "data": {
      "text/plain": [
       "Int64Index([5781948, 5781949, 5781950, 5781951, 5781952, 5781953], dtype='int64')"
      ]
     },
     "execution_count": 47,
     "metadata": {},
     "output_type": "execute_result"
    }
   ],
   "source": [
    "merged_df[merged_df['yearly_income'].isnull()]['user_id'].index"
   ]
  },
  {
   "cell_type": "code",
   "execution_count": 46,
   "id": "8ab21ad3",
   "metadata": {
    "ExecuteTime": {
     "end_time": "2022-10-11T04:08:08.810391Z",
     "start_time": "2022-10-11T04:08:08.794905Z"
    }
   },
   "outputs": [
    {
     "data": {
      "text/plain": [
       "5478320    0.0\n",
       "5478321    0.0\n",
       "5478322    0.0\n",
       "5478323    0.0\n",
       "5478324    0.0\n",
       "5478325    0.0\n",
       "5478326    0.0\n",
       "5478327    0.0\n",
       "5478328    0.0\n",
       "5478329    0.0\n",
       "5478330    0.0\n",
       "5781948    NaN\n",
       "5781949    NaN\n",
       "5781950    NaN\n",
       "5781951    NaN\n",
       "5781952    NaN\n",
       "5781953    NaN\n",
       "Name: yearly_income, dtype: float64"
      ]
     },
     "execution_count": 46,
     "metadata": {},
     "output_type": "execute_result"
    }
   ],
   "source": [
    "merged_df[merged_df['user_id']==670502]['yearly_income']"
   ]
  },
  {
   "cell_type": "code",
   "execution_count": 49,
   "id": "358ac6e1",
   "metadata": {
    "ExecuteTime": {
     "end_time": "2022-10-11T04:09:35.628136Z",
     "start_time": "2022-10-11T04:09:34.429497Z"
    }
   },
   "outputs": [],
   "source": [
    "for idx in merged_df[merged_df['yearly_income'].isnull()]['user_id'].index:\n",
    "    merged_df.loc[idx, 'yearly_income'] = 0"
   ]
  },
  {
   "cell_type": "code",
   "execution_count": 68,
   "id": "97ee68df",
   "metadata": {
    "ExecuteTime": {
     "end_time": "2022-10-11T04:30:04.054189Z",
     "start_time": "2022-10-11T04:28:33.321994Z"
    }
   },
   "outputs": [],
   "source": [
    "merged_df.to_csv('./customData/merged_user_loan.csv')"
   ]
  },
  {
   "cell_type": "code",
   "execution_count": 50,
   "id": "42ae4687",
   "metadata": {
    "ExecuteTime": {
     "end_time": "2022-10-11T04:10:38.865893Z",
     "start_time": "2022-10-11T04:10:33.618810Z"
    }
   },
   "outputs": [
    {
     "data": {
      "text/plain": [
       "birth_year                               128096\n",
       "gender                                   128096\n",
       "credit_score                            1509276\n",
       "company_enter_month                      400337\n",
       "personal_rehabilitation_yn              5888701\n",
       "personal_rehabilitation_complete_yn    11793977\n",
       "existing_loan_cnt                       2685709\n",
       "existing_loan_amt                       3890163\n",
       "loan_limit                                 7382\n",
       "loan_rate                                  7382\n",
       "is_applied                              3257239\n",
       "dtype: int64"
      ]
     },
     "execution_count": 50,
     "metadata": {},
     "output_type": "execute_result"
    }
   ],
   "source": [
    "null_sum = (merged_df.isnull().sum())[merged_df.isnull().sum()!=0]\n",
    "null_sum"
   ]
  },
  {
   "cell_type": "markdown",
   "id": "d838798b",
   "metadata": {},
   "source": [
    "# user_id 기반 null 대체"
   ]
  },
  {
   "cell_type": "code",
   "execution_count": 122,
   "id": "a322674a",
   "metadata": {
    "ExecuteTime": {
     "end_time": "2022-10-11T05:03:58.981857Z",
     "start_time": "2022-10-11T05:03:53.767907Z"
    }
   },
   "outputs": [
    {
     "data": {
      "text/plain": [
       "birth_year                              128096\n",
       "gender                                  128096\n",
       "credit_score                           1509276\n",
       "company_enter_month                     400337\n",
       "personal_rehabilitation_yn             5888701\n",
       "personal_rehabilitation_complete_yn    5888701\n",
       "existing_loan_cnt                      2685709\n",
       "existing_loan_amt                      3890163\n",
       "loan_limit                                7382\n",
       "loan_rate                                 7382\n",
       "is_applied                             3257239\n",
       "dtype: int64"
      ]
     },
     "execution_count": 122,
     "metadata": {},
     "output_type": "execute_result"
    }
   ],
   "source": [
    "null_sum = (merged_df.isnull().sum())[merged_df.isnull().sum()!=0]\n",
    "null_sum"
   ]
  },
  {
   "cell_type": "code",
   "execution_count": 125,
   "id": "c324db35",
   "metadata": {
    "ExecuteTime": {
     "end_time": "2022-10-11T05:05:27.325480Z",
     "start_time": "2022-10-11T05:05:27.322990Z"
    }
   },
   "outputs": [],
   "source": [
    "null_list = ['birth_year', 'gender', 'credit_score', 'company_enter_month', 'personal_rehabilitation_yn',\n",
    " 'personal_rehabilitation_complete_yn', 'existing_loan_cnt', 'existing_loan_amt', 'loan_limit',\n",
    " 'loan_rate',]"
   ]
  },
  {
   "cell_type": "code",
   "execution_count": 146,
   "id": "b17ef544",
   "metadata": {
    "ExecuteTime": {
     "end_time": "2022-10-11T07:22:14.631673Z",
     "start_time": "2022-10-11T05:26:30.876895Z"
    },
    "scrolled": true
   },
   "outputs": [
    {
     "name": "stderr",
     "output_type": "stream",
     "text": [
      "100%|███████████████████████████████████████████████████████████████████████████████| 5651/5651 [04:14<00:00, 22.25it/s]\n",
      "100%|███████████████████████████████████████████████████████████████████████████████| 5696/5696 [04:27<00:00, 21.29it/s]\n",
      "100%|█████████████████████████████████████████████████████████████████████████████| 58679/58679 [38:50<00:00, 25.18it/s]\n",
      "100%|█████████████████████████████████████████████████████████████████████████████| 42555/42555 [37:58<00:00, 18.68it/s]\n",
      "  8%|██████▏                                                                   | 14469/173269 [30:10<5:31:08,  7.99it/s]\n"
     ]
    },
    {
     "ename": "KeyboardInterrupt",
     "evalue": "",
     "output_type": "error",
     "traceback": [
      "\u001b[0;31m---------------------------------------------------------------------------\u001b[0m",
      "\u001b[0;31mKeyboardInterrupt\u001b[0m                         Traceback (most recent call last)",
      "\u001b[0;32m/tmp/ipykernel_360/2104075385.py\u001b[0m in \u001b[0;36m<module>\u001b[0;34m\u001b[0m\n\u001b[1;32m     10\u001b[0m             \u001b[0mnew_value\u001b[0m \u001b[0;34m=\u001b[0m \u001b[0mtmp\u001b[0m\u001b[0;34m.\u001b[0m\u001b[0mloc\u001b[0m\u001b[0;34m[\u001b[0m\u001b[0mnew_value_idx\u001b[0m\u001b[0;34m,\u001b[0m\u001b[0mnull_col\u001b[0m\u001b[0;34m]\u001b[0m\u001b[0;34m\u001b[0m\u001b[0;34m\u001b[0m\u001b[0m\n\u001b[1;32m     11\u001b[0m             \u001b[0mindexs\u001b[0m \u001b[0;34m=\u001b[0m \u001b[0mmerged_df\u001b[0m\u001b[0;34m[\u001b[0m\u001b[0;34m(\u001b[0m\u001b[0mmerged_df\u001b[0m\u001b[0;34m[\u001b[0m\u001b[0;34m'user_id'\u001b[0m\u001b[0;34m]\u001b[0m \u001b[0;34m==\u001b[0m \u001b[0muser\u001b[0m\u001b[0;34m)\u001b[0m \u001b[0;34m&\u001b[0m \u001b[0;34m(\u001b[0m\u001b[0mmerged_df\u001b[0m\u001b[0;34m[\u001b[0m\u001b[0mnull_col\u001b[0m\u001b[0;34m]\u001b[0m\u001b[0;34m.\u001b[0m\u001b[0misnull\u001b[0m\u001b[0;34m(\u001b[0m\u001b[0;34m)\u001b[0m\u001b[0;34m==\u001b[0m\u001b[0;32mTrue\u001b[0m\u001b[0;34m)\u001b[0m\u001b[0;34m]\u001b[0m\u001b[0;34m.\u001b[0m\u001b[0mindex\u001b[0m\u001b[0;34m\u001b[0m\u001b[0;34m\u001b[0m\u001b[0m\n\u001b[0;32m---> 12\u001b[0;31m             \u001b[0mmerged_df\u001b[0m\u001b[0;34m.\u001b[0m\u001b[0mloc\u001b[0m\u001b[0;34m[\u001b[0m\u001b[0mindexs\u001b[0m\u001b[0;34m,\u001b[0m \u001b[0mnull_col\u001b[0m\u001b[0;34m]\u001b[0m \u001b[0;34m=\u001b[0m \u001b[0mnew_value\u001b[0m\u001b[0;34m\u001b[0m\u001b[0;34m\u001b[0m\u001b[0m\n\u001b[0m\u001b[1;32m     13\u001b[0m         \u001b[0;32melif\u001b[0m \u001b[0mlen\u001b[0m\u001b[0;34m(\u001b[0m\u001b[0mtmp\u001b[0m\u001b[0;34m)\u001b[0m \u001b[0;34m>\u001b[0m \u001b[0;36m2\u001b[0m\u001b[0;34m:\u001b[0m\u001b[0;34m\u001b[0m\u001b[0;34m\u001b[0m\u001b[0m\n\u001b[1;32m     14\u001b[0m             \u001b[0mcnt\u001b[0m\u001b[0;34m+=\u001b[0m\u001b[0;36m1\u001b[0m\u001b[0;34m\u001b[0m\u001b[0;34m\u001b[0m\u001b[0m\n",
      "\u001b[0;32m~/.local/lib/python3.8/site-packages/pandas/core/indexing.py\u001b[0m in \u001b[0;36m__setitem__\u001b[0;34m(self, key, value)\u001b[0m\n\u001b[1;32m    721\u001b[0m \u001b[0;34m\u001b[0m\u001b[0m\n\u001b[1;32m    722\u001b[0m         \u001b[0miloc\u001b[0m \u001b[0;34m=\u001b[0m \u001b[0mself\u001b[0m \u001b[0;32mif\u001b[0m \u001b[0mself\u001b[0m\u001b[0;34m.\u001b[0m\u001b[0mname\u001b[0m \u001b[0;34m==\u001b[0m \u001b[0;34m\"iloc\"\u001b[0m \u001b[0;32melse\u001b[0m \u001b[0mself\u001b[0m\u001b[0;34m.\u001b[0m\u001b[0mobj\u001b[0m\u001b[0;34m.\u001b[0m\u001b[0miloc\u001b[0m\u001b[0;34m\u001b[0m\u001b[0;34m\u001b[0m\u001b[0m\n\u001b[0;32m--> 723\u001b[0;31m         \u001b[0miloc\u001b[0m\u001b[0;34m.\u001b[0m\u001b[0m_setitem_with_indexer\u001b[0m\u001b[0;34m(\u001b[0m\u001b[0mindexer\u001b[0m\u001b[0;34m,\u001b[0m \u001b[0mvalue\u001b[0m\u001b[0;34m,\u001b[0m \u001b[0mself\u001b[0m\u001b[0;34m.\u001b[0m\u001b[0mname\u001b[0m\u001b[0;34m)\u001b[0m\u001b[0;34m\u001b[0m\u001b[0;34m\u001b[0m\u001b[0m\n\u001b[0m\u001b[1;32m    724\u001b[0m \u001b[0;34m\u001b[0m\u001b[0m\n\u001b[1;32m    725\u001b[0m     \u001b[0;32mdef\u001b[0m \u001b[0m_validate_key\u001b[0m\u001b[0;34m(\u001b[0m\u001b[0mself\u001b[0m\u001b[0;34m,\u001b[0m \u001b[0mkey\u001b[0m\u001b[0;34m,\u001b[0m \u001b[0maxis\u001b[0m\u001b[0;34m:\u001b[0m \u001b[0mint\u001b[0m\u001b[0;34m)\u001b[0m\u001b[0;34m:\u001b[0m\u001b[0;34m\u001b[0m\u001b[0;34m\u001b[0m\u001b[0m\n",
      "\u001b[0;32m~/.local/lib/python3.8/site-packages/pandas/core/indexing.py\u001b[0m in \u001b[0;36m_setitem_with_indexer\u001b[0;34m(self, indexer, value, name)\u001b[0m\n\u001b[1;32m   1728\u001b[0m         \u001b[0;32mif\u001b[0m \u001b[0mtake_split_path\u001b[0m\u001b[0;34m:\u001b[0m\u001b[0;34m\u001b[0m\u001b[0;34m\u001b[0m\u001b[0m\n\u001b[1;32m   1729\u001b[0m             \u001b[0;31m# We have to operate column-wise\u001b[0m\u001b[0;34m\u001b[0m\u001b[0;34m\u001b[0m\u001b[0;34m\u001b[0m\u001b[0m\n\u001b[0;32m-> 1730\u001b[0;31m             \u001b[0mself\u001b[0m\u001b[0;34m.\u001b[0m\u001b[0m_setitem_with_indexer_split_path\u001b[0m\u001b[0;34m(\u001b[0m\u001b[0mindexer\u001b[0m\u001b[0;34m,\u001b[0m \u001b[0mvalue\u001b[0m\u001b[0;34m,\u001b[0m \u001b[0mname\u001b[0m\u001b[0;34m)\u001b[0m\u001b[0;34m\u001b[0m\u001b[0;34m\u001b[0m\u001b[0m\n\u001b[0m\u001b[1;32m   1731\u001b[0m         \u001b[0;32melse\u001b[0m\u001b[0;34m:\u001b[0m\u001b[0;34m\u001b[0m\u001b[0;34m\u001b[0m\u001b[0m\n\u001b[1;32m   1732\u001b[0m             \u001b[0mself\u001b[0m\u001b[0;34m.\u001b[0m\u001b[0m_setitem_single_block\u001b[0m\u001b[0;34m(\u001b[0m\u001b[0mindexer\u001b[0m\u001b[0;34m,\u001b[0m \u001b[0mvalue\u001b[0m\u001b[0;34m,\u001b[0m \u001b[0mname\u001b[0m\u001b[0;34m)\u001b[0m\u001b[0;34m\u001b[0m\u001b[0;34m\u001b[0m\u001b[0m\n",
      "\u001b[0;32m~/.local/lib/python3.8/site-packages/pandas/core/indexing.py\u001b[0m in \u001b[0;36m_setitem_with_indexer_split_path\u001b[0;34m(self, indexer, value, name)\u001b[0m\n\u001b[1;32m   1815\u001b[0m             \u001b[0;31m# scalar value\u001b[0m\u001b[0;34m\u001b[0m\u001b[0;34m\u001b[0m\u001b[0;34m\u001b[0m\u001b[0m\n\u001b[1;32m   1816\u001b[0m             \u001b[0;32mfor\u001b[0m \u001b[0mloc\u001b[0m \u001b[0;32min\u001b[0m \u001b[0milocs\u001b[0m\u001b[0;34m:\u001b[0m\u001b[0;34m\u001b[0m\u001b[0;34m\u001b[0m\u001b[0m\n\u001b[0;32m-> 1817\u001b[0;31m                 \u001b[0mself\u001b[0m\u001b[0;34m.\u001b[0m\u001b[0m_setitem_single_column\u001b[0m\u001b[0;34m(\u001b[0m\u001b[0mloc\u001b[0m\u001b[0;34m,\u001b[0m \u001b[0mvalue\u001b[0m\u001b[0;34m,\u001b[0m \u001b[0mpi\u001b[0m\u001b[0;34m)\u001b[0m\u001b[0;34m\u001b[0m\u001b[0;34m\u001b[0m\u001b[0m\n\u001b[0m\u001b[1;32m   1818\u001b[0m \u001b[0;34m\u001b[0m\u001b[0m\n\u001b[1;32m   1819\u001b[0m     \u001b[0;32mdef\u001b[0m \u001b[0m_setitem_with_indexer_2d_value\u001b[0m\u001b[0;34m(\u001b[0m\u001b[0mself\u001b[0m\u001b[0;34m,\u001b[0m \u001b[0mindexer\u001b[0m\u001b[0;34m,\u001b[0m \u001b[0mvalue\u001b[0m\u001b[0;34m)\u001b[0m\u001b[0;34m:\u001b[0m\u001b[0;34m\u001b[0m\u001b[0;34m\u001b[0m\u001b[0m\n",
      "\u001b[0;32m~/.local/lib/python3.8/site-packages/pandas/core/indexing.py\u001b[0m in \u001b[0;36m_setitem_single_column\u001b[0;34m(self, loc, value, plane_indexer)\u001b[0m\n\u001b[1;32m   1922\u001b[0m \u001b[0;34m\u001b[0m\u001b[0m\n\u001b[1;32m   1923\u001b[0m         \u001b[0;31m# reset the sliced object if unique\u001b[0m\u001b[0;34m\u001b[0m\u001b[0;34m\u001b[0m\u001b[0;34m\u001b[0m\u001b[0m\n\u001b[0;32m-> 1924\u001b[0;31m         \u001b[0mself\u001b[0m\u001b[0;34m.\u001b[0m\u001b[0mobj\u001b[0m\u001b[0;34m.\u001b[0m\u001b[0m_iset_item\u001b[0m\u001b[0;34m(\u001b[0m\u001b[0mloc\u001b[0m\u001b[0;34m,\u001b[0m \u001b[0mser\u001b[0m\u001b[0;34m)\u001b[0m\u001b[0;34m\u001b[0m\u001b[0;34m\u001b[0m\u001b[0m\n\u001b[0m\u001b[1;32m   1925\u001b[0m \u001b[0;34m\u001b[0m\u001b[0m\n\u001b[1;32m   1926\u001b[0m     \u001b[0;32mdef\u001b[0m \u001b[0m_setitem_single_block\u001b[0m\u001b[0;34m(\u001b[0m\u001b[0mself\u001b[0m\u001b[0;34m,\u001b[0m \u001b[0mindexer\u001b[0m\u001b[0;34m,\u001b[0m \u001b[0mvalue\u001b[0m\u001b[0;34m,\u001b[0m \u001b[0mname\u001b[0m\u001b[0;34m:\u001b[0m \u001b[0mstr\u001b[0m\u001b[0;34m)\u001b[0m\u001b[0;34m:\u001b[0m\u001b[0;34m\u001b[0m\u001b[0;34m\u001b[0m\u001b[0m\n",
      "\u001b[0;32m~/.local/lib/python3.8/site-packages/pandas/core/frame.py\u001b[0m in \u001b[0;36m_iset_item\u001b[0;34m(self, loc, value)\u001b[0m\n\u001b[1;32m   3763\u001b[0m \u001b[0;34m\u001b[0m\u001b[0m\n\u001b[1;32m   3764\u001b[0m     \u001b[0;32mdef\u001b[0m \u001b[0m_iset_item\u001b[0m\u001b[0;34m(\u001b[0m\u001b[0mself\u001b[0m\u001b[0;34m,\u001b[0m \u001b[0mloc\u001b[0m\u001b[0;34m:\u001b[0m \u001b[0mint\u001b[0m\u001b[0;34m,\u001b[0m \u001b[0mvalue\u001b[0m\u001b[0;34m)\u001b[0m \u001b[0;34m->\u001b[0m \u001b[0;32mNone\u001b[0m\u001b[0;34m:\u001b[0m\u001b[0;34m\u001b[0m\u001b[0;34m\u001b[0m\u001b[0m\n\u001b[0;32m-> 3765\u001b[0;31m         \u001b[0marraylike\u001b[0m \u001b[0;34m=\u001b[0m \u001b[0mself\u001b[0m\u001b[0;34m.\u001b[0m\u001b[0m_sanitize_column\u001b[0m\u001b[0;34m(\u001b[0m\u001b[0mvalue\u001b[0m\u001b[0;34m)\u001b[0m\u001b[0;34m\u001b[0m\u001b[0;34m\u001b[0m\u001b[0m\n\u001b[0m\u001b[1;32m   3766\u001b[0m         \u001b[0mself\u001b[0m\u001b[0;34m.\u001b[0m\u001b[0m_iset_item_mgr\u001b[0m\u001b[0;34m(\u001b[0m\u001b[0mloc\u001b[0m\u001b[0;34m,\u001b[0m \u001b[0marraylike\u001b[0m\u001b[0;34m)\u001b[0m\u001b[0;34m\u001b[0m\u001b[0;34m\u001b[0m\u001b[0m\n\u001b[1;32m   3767\u001b[0m \u001b[0;34m\u001b[0m\u001b[0m\n",
      "\u001b[0;32m~/.local/lib/python3.8/site-packages/pandas/core/frame.py\u001b[0m in \u001b[0;36m_sanitize_column\u001b[0;34m(self, value)\u001b[0m\n\u001b[1;32m   4504\u001b[0m         \u001b[0;31m# We should never get here with DataFrame value\u001b[0m\u001b[0;34m\u001b[0m\u001b[0;34m\u001b[0m\u001b[0;34m\u001b[0m\u001b[0m\n\u001b[1;32m   4505\u001b[0m         \u001b[0;32mif\u001b[0m \u001b[0misinstance\u001b[0m\u001b[0;34m(\u001b[0m\u001b[0mvalue\u001b[0m\u001b[0;34m,\u001b[0m \u001b[0mSeries\u001b[0m\u001b[0;34m)\u001b[0m\u001b[0;34m:\u001b[0m\u001b[0;34m\u001b[0m\u001b[0;34m\u001b[0m\u001b[0m\n\u001b[0;32m-> 4506\u001b[0;31m             \u001b[0;32mreturn\u001b[0m \u001b[0m_reindex_for_setitem\u001b[0m\u001b[0;34m(\u001b[0m\u001b[0mvalue\u001b[0m\u001b[0;34m,\u001b[0m \u001b[0mself\u001b[0m\u001b[0;34m.\u001b[0m\u001b[0mindex\u001b[0m\u001b[0;34m)\u001b[0m\u001b[0;34m\u001b[0m\u001b[0;34m\u001b[0m\u001b[0m\n\u001b[0m\u001b[1;32m   4507\u001b[0m \u001b[0;34m\u001b[0m\u001b[0m\n\u001b[1;32m   4508\u001b[0m         \u001b[0;32mif\u001b[0m \u001b[0mis_list_like\u001b[0m\u001b[0;34m(\u001b[0m\u001b[0mvalue\u001b[0m\u001b[0;34m)\u001b[0m\u001b[0;34m:\u001b[0m\u001b[0;34m\u001b[0m\u001b[0;34m\u001b[0m\u001b[0m\n",
      "\u001b[0;32m~/.local/lib/python3.8/site-packages/pandas/core/frame.py\u001b[0m in \u001b[0;36m_reindex_for_setitem\u001b[0;34m(value, index)\u001b[0m\n\u001b[1;32m  10769\u001b[0m \u001b[0;34m\u001b[0m\u001b[0m\n\u001b[1;32m  10770\u001b[0m     \u001b[0;32mif\u001b[0m \u001b[0mvalue\u001b[0m\u001b[0;34m.\u001b[0m\u001b[0mindex\u001b[0m\u001b[0;34m.\u001b[0m\u001b[0mequals\u001b[0m\u001b[0;34m(\u001b[0m\u001b[0mindex\u001b[0m\u001b[0;34m)\u001b[0m \u001b[0;32mor\u001b[0m \u001b[0;32mnot\u001b[0m \u001b[0mlen\u001b[0m\u001b[0;34m(\u001b[0m\u001b[0mindex\u001b[0m\u001b[0;34m)\u001b[0m\u001b[0;34m:\u001b[0m\u001b[0;34m\u001b[0m\u001b[0;34m\u001b[0m\u001b[0m\n\u001b[0;32m> 10771\u001b[0;31m         \u001b[0;32mreturn\u001b[0m \u001b[0mvalue\u001b[0m\u001b[0;34m.\u001b[0m\u001b[0m_values\u001b[0m\u001b[0;34m.\u001b[0m\u001b[0mcopy\u001b[0m\u001b[0;34m(\u001b[0m\u001b[0;34m)\u001b[0m\u001b[0;34m\u001b[0m\u001b[0;34m\u001b[0m\u001b[0m\n\u001b[0m\u001b[1;32m  10772\u001b[0m \u001b[0;34m\u001b[0m\u001b[0m\n\u001b[1;32m  10773\u001b[0m     \u001b[0;31m# GH#4107\u001b[0m\u001b[0;34m\u001b[0m\u001b[0;34m\u001b[0m\u001b[0;34m\u001b[0m\u001b[0m\n",
      "\u001b[0;31mKeyboardInterrupt\u001b[0m: "
     ]
    }
   ],
   "source": [
    "result =dict()\n",
    "\n",
    "for null_col in null_list:\n",
    "    user_set = set(merged_df[merged_df[null_col].isnull()]['user_id'])\n",
    "    cnt = 0\n",
    "    for user in tqdm(user_set):        \n",
    "        tmp = merged_df[merged_df['user_id'] == user][['user_id',null_col]].drop_duplicates()\n",
    "        if len(tmp) == 2:\n",
    "            new_value_idx = tmp[tmp[null_col].isnull()==False].index[0]\n",
    "            new_value = tmp.loc[new_value_idx,null_col]\n",
    "            indexs = merged_df[(merged_df['user_id'] == user) & (merged_df[null_col].isnull()==True)].index\n",
    "            merged_df.loc[indexs, null_col] = new_value\n",
    "        elif len(tmp) > 2:\n",
    "            cnt+=1\n",
    "    if cnt:\n",
    "        result[null_col]=cnt"
   ]
  },
  {
   "cell_type": "code",
   "execution_count": 147,
   "id": "837a89e5",
   "metadata": {
    "ExecuteTime": {
     "end_time": "2022-10-11T07:22:28.574329Z",
     "start_time": "2022-10-11T07:22:28.571194Z"
    }
   },
   "outputs": [
    {
     "data": {
      "text/plain": [
       "{'credit_score': 1584, 'company_enter_month': 3416}"
      ]
     },
     "execution_count": 147,
     "metadata": {},
     "output_type": "execute_result"
    }
   ],
   "source": [
    "result"
   ]
  },
  {
   "cell_type": "code",
   "execution_count": 148,
   "id": "c00a78b7",
   "metadata": {
    "ExecuteTime": {
     "end_time": "2022-10-11T07:23:32.783403Z",
     "start_time": "2022-10-11T07:23:27.443282Z"
    }
   },
   "outputs": [
    {
     "data": {
      "text/plain": [
       "birth_year                              108227\n",
       "gender                                  108227\n",
       "credit_score                           1350179\n",
       "company_enter_month                     340617\n",
       "personal_rehabilitation_yn             5642126\n",
       "personal_rehabilitation_complete_yn    5888701\n",
       "existing_loan_cnt                      2685709\n",
       "existing_loan_amt                      3890163\n",
       "loan_limit                                7382\n",
       "loan_rate                                 7382\n",
       "is_applied                             3257239\n",
       "dtype: int64"
      ]
     },
     "execution_count": 148,
     "metadata": {},
     "output_type": "execute_result"
    }
   ],
   "source": [
    "null_sum = (merged_df.isnull().sum())[merged_df.isnull().sum()!=0]\n",
    "null_sum"
   ]
  },
  {
   "cell_type": "markdown",
   "id": "75353942",
   "metadata": {},
   "source": [
    "### 분할작업 합치기"
   ]
  },
  {
   "cell_type": "code",
   "execution_count": 2,
   "id": "2e699cdd",
   "metadata": {
    "ExecuteTime": {
     "end_time": "2022-10-12T00:36:55.658086Z",
     "start_time": "2022-10-12T00:36:15.307530Z"
    }
   },
   "outputs": [],
   "source": [
    "merged_df = pd.read_csv('./customData/merged_user_loan.csv', index_col=0)"
   ]
  },
  {
   "cell_type": "code",
   "execution_count": 3,
   "id": "15567820",
   "metadata": {
    "ExecuteTime": {
     "end_time": "2022-10-12T00:37:07.108262Z",
     "start_time": "2022-10-12T00:37:07.105349Z"
    }
   },
   "outputs": [],
   "source": [
    "columns_backup=merged_df.columns"
   ]
  },
  {
   "cell_type": "code",
   "execution_count": 11,
   "id": "2c3ad87b",
   "metadata": {
    "ExecuteTime": {
     "end_time": "2022-10-12T00:24:33.869411Z",
     "start_time": "2022-10-12T00:22:58.833289Z"
    }
   },
   "outputs": [],
   "source": [
    "# merged_df_copy1 = pd.read_csv('./customData/merged_user_loan_copy1.csv', index_col=0)[['application_id','personal_rehabilitation_yn',]]\n",
    "# merged_df_copy3 = pd.read_csv('./customData/merged_user_loan_copy3.csv', index_col=0)[['application_id','existing_loan_amt', 'loan_limit','loan_rate']]"
   ]
  },
  {
   "cell_type": "code",
   "execution_count": 12,
   "id": "3719e3f4",
   "metadata": {
    "ExecuteTime": {
     "end_time": "2022-10-12T00:24:49.223661Z",
     "start_time": "2022-10-12T00:24:49.220007Z"
    }
   },
   "outputs": [
    {
     "data": {
      "text/plain": [
       "((13527250, 23), (13527250, 2), (13527250, 4))"
      ]
     },
     "execution_count": 12,
     "metadata": {},
     "output_type": "execute_result"
    }
   ],
   "source": [
    "merged_df.shape, merged_df_copy1.shape, merged_df_copy3.shape, "
   ]
  },
  {
   "cell_type": "code",
   "execution_count": 12,
   "id": "65683627",
   "metadata": {
    "ExecuteTime": {
     "end_time": "2022-10-12T00:42:03.958940Z",
     "start_time": "2022-10-12T00:41:26.490829Z"
    }
   },
   "outputs": [],
   "source": [
    "merged_df['personal_rehabilitation_yn'] = pd.read_csv('./customData/merged_user_loan_copy1.csv', index_col=0)['personal_rehabilitation_yn']"
   ]
  },
  {
   "cell_type": "code",
   "execution_count": 13,
   "id": "38228b70",
   "metadata": {
    "ExecuteTime": {
     "end_time": "2022-10-12T00:43:06.214595Z",
     "start_time": "2022-10-12T00:42:28.223399Z"
    }
   },
   "outputs": [],
   "source": [
    "merged_df[['existing_loan_amt', 'loan_limit','loan_rate']] = pd.read_csv('./customData/merged_user_loan_copy1.csv', index_col=0)[['existing_loan_amt', 'loan_limit','loan_rate']]"
   ]
  },
  {
   "cell_type": "code",
   "execution_count": 14,
   "id": "1386a6d1",
   "metadata": {
    "ExecuteTime": {
     "end_time": "2022-10-12T00:45:01.138618Z",
     "start_time": "2022-10-12T00:43:30.612479Z"
    }
   },
   "outputs": [],
   "source": [
    "merged_df.to_csv('./customData/merged_ver1.csv') "
   ]
  },
  {
   "cell_type": "code",
   "execution_count": 15,
   "id": "e78a6ae1",
   "metadata": {
    "ExecuteTime": {
     "end_time": "2022-10-12T00:45:29.139628Z",
     "start_time": "2022-10-12T00:45:24.601997Z"
    }
   },
   "outputs": [
    {
     "data": {
      "text/plain": [
       "birth_year                              108227\n",
       "gender                                  108227\n",
       "credit_score                           1350179\n",
       "company_enter_month                     340617\n",
       "personal_rehabilitation_yn             2948659\n",
       "personal_rehabilitation_complete_yn    5888701\n",
       "existing_loan_cnt                      2685709\n",
       "existing_loan_amt                      3890163\n",
       "loan_limit                                7382\n",
       "loan_rate                                 7382\n",
       "is_applied                             3257239\n",
       "dtype: int64"
      ]
     },
     "execution_count": 15,
     "metadata": {},
     "output_type": "execute_result"
    }
   ],
   "source": [
    "null_sum = (merged_df.isnull().sum())[merged_df.isnull().sum()!=0]\n",
    "null_sum"
   ]
  },
  {
   "cell_type": "code",
   "execution_count": 17,
   "id": "abf125b7",
   "metadata": {
    "ExecuteTime": {
     "end_time": "2022-10-12T00:50:24.014386Z",
     "start_time": "2022-10-12T00:50:23.884545Z"
    }
   },
   "outputs": [],
   "source": [
    "user_set = set(merged_df[merged_df['company_enter_month'].isnull()]['user_id'])"
   ]
  },
  {
   "cell_type": "code",
   "execution_count": 19,
   "id": "847c9246",
   "metadata": {
    "ExecuteTime": {
     "end_time": "2022-10-12T00:51:29.805964Z",
     "start_time": "2022-10-12T00:51:29.733832Z"
    }
   },
   "outputs": [
    {
     "name": "stderr",
     "output_type": "stream",
     "text": [
      "  0%|                                                                                 | 5/36028 [00:00<08:10, 73.47it/s]\n"
     ]
    }
   ],
   "source": [
    "for user in tqdm(user_set):\n",
    "    tmp = merged_df[merged_df['user_id'] == user][['user_id','company_enter_month']].drop_duplicates()\n",
    "    if len(tmp) > 2:\n",
    "        break"
   ]
  },
  {
   "cell_type": "code",
   "execution_count": 22,
   "id": "b9304bea",
   "metadata": {
    "ExecuteTime": {
     "end_time": "2022-10-12T00:54:19.829808Z",
     "start_time": "2022-10-12T00:54:19.824680Z"
    }
   },
   "outputs": [
    {
     "data": {
      "text/html": [
       "<div>\n",
       "<style scoped>\n",
       "    .dataframe tbody tr th:only-of-type {\n",
       "        vertical-align: middle;\n",
       "    }\n",
       "\n",
       "    .dataframe tbody tr th {\n",
       "        vertical-align: top;\n",
       "    }\n",
       "\n",
       "    .dataframe thead th {\n",
       "        text-align: right;\n",
       "    }\n",
       "</style>\n",
       "<table border=\"1\" class=\"dataframe\">\n",
       "  <thead>\n",
       "    <tr style=\"text-align: right;\">\n",
       "      <th></th>\n",
       "      <th>user_id</th>\n",
       "      <th>company_enter_month</th>\n",
       "    </tr>\n",
       "  </thead>\n",
       "  <tbody>\n",
       "    <tr>\n",
       "      <th>5343655</th>\n",
       "      <td>262165</td>\n",
       "      <td>202104.0</td>\n",
       "    </tr>\n",
       "    <tr>\n",
       "      <th>11647441</th>\n",
       "      <td>262165</td>\n",
       "      <td>NaN</td>\n",
       "    </tr>\n",
       "    <tr>\n",
       "      <th>11811495</th>\n",
       "      <td>262165</td>\n",
       "      <td>202110.0</td>\n",
       "    </tr>\n",
       "  </tbody>\n",
       "</table>\n",
       "</div>"
      ],
      "text/plain": [
       "          user_id  company_enter_month\n",
       "5343655    262165             202104.0\n",
       "11647441   262165                  NaN\n",
       "11811495   262165             202110.0"
      ]
     },
     "execution_count": 22,
     "metadata": {},
     "output_type": "execute_result"
    }
   ],
   "source": [
    "tmp"
   ]
  },
  {
   "cell_type": "markdown",
   "id": "a08388d6",
   "metadata": {},
   "source": [
    "## 추가 보충하기 len(tmp)>2"
   ]
  },
  {
   "cell_type": "code",
   "execution_count": 29,
   "id": "155c3637",
   "metadata": {
    "ExecuteTime": {
     "end_time": "2022-10-12T07:23:53.752010Z",
     "start_time": "2022-10-12T07:23:48.589273Z"
    }
   },
   "outputs": [
    {
     "data": {
      "text/plain": [
       "birth_year                              108227\n",
       "gender                                  108227\n",
       "credit_score                           1350179\n",
       "company_enter_month                     340617\n",
       "personal_rehabilitation_yn             2948659\n",
       "personal_rehabilitation_complete_yn    2954456\n",
       "existing_loan_cnt                      2685709\n",
       "existing_loan_amt                      3890163\n",
       "loan_limit                                7382\n",
       "loan_rate                                 7382\n",
       "is_applied                             3257239\n",
       "dtype: int64"
      ]
     },
     "execution_count": 29,
     "metadata": {},
     "output_type": "execute_result"
    }
   ],
   "source": [
    "(merged_df.isnull().sum())[merged_df.isnull().sum()!=0]"
   ]
  },
  {
   "cell_type": "markdown",
   "id": "5308ade4",
   "metadata": {},
   "source": [
    "birth day는 없음"
   ]
  },
  {
   "cell_type": "code",
   "execution_count": 33,
   "id": "dfbca3ac",
   "metadata": {
    "ExecuteTime": {
     "end_time": "2022-10-12T07:26:14.039361Z",
     "start_time": "2022-10-12T07:26:14.014185Z"
    }
   },
   "outputs": [],
   "source": [
    "tmp = merged_df[merged_df['birth_year'].isnull()]"
   ]
  },
  {
   "cell_type": "code",
   "execution_count": 35,
   "id": "612e5f78",
   "metadata": {
    "ExecuteTime": {
     "end_time": "2022-10-12T07:28:16.134554Z",
     "start_time": "2022-10-12T07:28:16.094454Z"
    }
   },
   "outputs": [],
   "source": [
    "user_set = set(merged_df[merged_df['birth_year'].isnull()]['user_id'])"
   ]
  },
  {
   "cell_type": "code",
   "execution_count": 37,
   "id": "d333ca02",
   "metadata": {
    "ExecuteTime": {
     "end_time": "2022-10-12T07:29:34.036319Z",
     "start_time": "2022-10-12T07:28:47.630887Z"
    }
   },
   "outputs": [
    {
     "name": "stderr",
     "output_type": "stream",
     "text": [
      "100%|██████████████████████████████████████████████████████████████████████████████| 4954/4954 [00:46<00:00, 106.76it/s]\n"
     ]
    }
   ],
   "source": [
    "for user in tqdm(user_set):        \n",
    "    tmp = merged_df[merged_df['user_id'] == user][['user_id','birth_year']].drop_duplicates()\n",
    "    if len(tmp) > 2:\n",
    "        break"
   ]
  },
  {
   "cell_type": "code",
   "execution_count": null,
   "id": "f8ede1cc",
   "metadata": {},
   "outputs": [],
   "source": []
  },
  {
   "cell_type": "markdown",
   "id": "30fc261d",
   "metadata": {},
   "source": [
    "# 의미로 null 채우기"
   ]
  },
  {
   "cell_type": "markdown",
   "id": "6ffdfd09",
   "metadata": {},
   "source": [
    "## personal_rehabilitation_complete_yn"
   ]
  },
  {
   "cell_type": "code",
   "execution_count": 24,
   "id": "593d9c2c",
   "metadata": {
    "ExecuteTime": {
     "end_time": "2022-10-12T04:54:05.691129Z",
     "start_time": "2022-10-12T04:54:05.643701Z"
    }
   },
   "outputs": [
    {
     "data": {
      "text/plain": [
       "0.0    10531568\n",
       "1.0       47023\n",
       "Name: personal_rehabilitation_yn, dtype: int64"
      ]
     },
     "execution_count": 24,
     "metadata": {},
     "output_type": "execute_result"
    }
   ],
   "source": [
    "merged_df['personal_rehabilitation_yn'].value_counts()"
   ]
  },
  {
   "cell_type": "code",
   "execution_count": 25,
   "id": "efd69092",
   "metadata": {
    "ExecuteTime": {
     "end_time": "2022-10-12T04:54:31.241838Z",
     "start_time": "2022-10-12T04:54:28.910794Z"
    }
   },
   "outputs": [
    {
     "data": {
      "text/plain": [
       "0.0    7597323\n",
       "Name: personal_rehabilitation_complete_yn, dtype: int64"
      ]
     },
     "execution_count": 25,
     "metadata": {},
     "output_type": "execute_result"
    }
   ],
   "source": [
    "merged_df[merged_df['personal_rehabilitation_yn'] == 0]['personal_rehabilitation_complete_yn'].value_counts()"
   ]
  },
  {
   "cell_type": "code",
   "execution_count": 26,
   "id": "5a9ff3a1",
   "metadata": {
    "ExecuteTime": {
     "end_time": "2022-10-12T04:54:56.534244Z",
     "start_time": "2022-10-12T04:54:54.253806Z"
    }
   },
   "outputs": [
    {
     "data": {
      "text/plain": [
       "2934245"
      ]
     },
     "execution_count": 26,
     "metadata": {},
     "output_type": "execute_result"
    }
   ],
   "source": [
    "merged_df[merged_df['personal_rehabilitation_yn'] == 0]['personal_rehabilitation_complete_yn'].isnull().sum()"
   ]
  },
  {
   "cell_type": "code",
   "execution_count": 27,
   "id": "8d6c4a1a",
   "metadata": {
    "ExecuteTime": {
     "end_time": "2022-10-12T04:55:19.593595Z",
     "start_time": "2022-10-12T04:55:19.566888Z"
    }
   },
   "outputs": [
    {
     "data": {
      "text/plain": [
       "0.0    34591\n",
       "1.0     6635\n",
       "Name: personal_rehabilitation_complete_yn, dtype: int64"
      ]
     },
     "execution_count": 27,
     "metadata": {},
     "output_type": "execute_result"
    }
   ],
   "source": [
    "merged_df[merged_df['personal_rehabilitation_yn'] == 1]['personal_rehabilitation_complete_yn'].value_counts()"
   ]
  },
  {
   "cell_type": "code",
   "execution_count": 28,
   "id": "5775b3bc",
   "metadata": {
    "ExecuteTime": {
     "end_time": "2022-10-12T04:55:42.718161Z",
     "start_time": "2022-10-12T04:55:42.693760Z"
    }
   },
   "outputs": [
    {
     "data": {
      "text/plain": [
       "5797"
      ]
     },
     "execution_count": 28,
     "metadata": {},
     "output_type": "execute_result"
    }
   ],
   "source": [
    "merged_df[merged_df['personal_rehabilitation_yn'] == 1]['personal_rehabilitation_complete_yn'].isnull().sum()"
   ]
  },
  {
   "cell_type": "code",
   "execution_count": 29,
   "id": "8fdd5387",
   "metadata": {
    "ExecuteTime": {
     "end_time": "2022-10-12T04:56:05.934888Z",
     "start_time": "2022-10-12T04:56:05.675680Z"
    }
   },
   "outputs": [],
   "source": [
    "indexs = merged_df[(merged_df['personal_rehabilitation_yn'] == 0) & (merged_df['personal_rehabilitation_complete_yn'] != 0)].index"
   ]
  },
  {
   "cell_type": "code",
   "execution_count": 30,
   "id": "28d2d0c9",
   "metadata": {
    "ExecuteTime": {
     "end_time": "2022-10-12T04:56:29.924613Z",
     "start_time": "2022-10-12T04:56:29.197033Z"
    },
    "scrolled": true
   },
   "outputs": [],
   "source": [
    "merged_df.loc[indexs, 'personal_rehabilitation_complete_yn'] = 0"
   ]
  },
  {
   "cell_type": "code",
   "execution_count": 31,
   "id": "01d21862",
   "metadata": {
    "ExecuteTime": {
     "end_time": "2022-10-12T04:56:54.354867Z",
     "start_time": "2022-10-12T04:56:54.325622Z"
    }
   },
   "outputs": [
    {
     "data": {
      "text/html": [
       "<div>\n",
       "<style scoped>\n",
       "    .dataframe tbody tr th:only-of-type {\n",
       "        vertical-align: middle;\n",
       "    }\n",
       "\n",
       "    .dataframe tbody tr th {\n",
       "        vertical-align: top;\n",
       "    }\n",
       "\n",
       "    .dataframe thead th {\n",
       "        text-align: right;\n",
       "    }\n",
       "</style>\n",
       "<table border=\"1\" class=\"dataframe\">\n",
       "  <thead>\n",
       "    <tr style=\"text-align: right;\">\n",
       "      <th></th>\n",
       "      <th>application_id</th>\n",
       "      <th>user_id</th>\n",
       "      <th>birth_year</th>\n",
       "      <th>gender</th>\n",
       "      <th>insert_time</th>\n",
       "      <th>credit_score</th>\n",
       "      <th>yearly_income</th>\n",
       "      <th>income_type</th>\n",
       "      <th>company_enter_month</th>\n",
       "      <th>employment_type</th>\n",
       "      <th>...</th>\n",
       "      <th>personal_rehabilitation_yn</th>\n",
       "      <th>personal_rehabilitation_complete_yn</th>\n",
       "      <th>existing_loan_cnt</th>\n",
       "      <th>existing_loan_amt</th>\n",
       "      <th>loanapply_insert_time</th>\n",
       "      <th>bank_id</th>\n",
       "      <th>product_id</th>\n",
       "      <th>loan_limit</th>\n",
       "      <th>loan_rate</th>\n",
       "      <th>is_applied</th>\n",
       "    </tr>\n",
       "  </thead>\n",
       "  <tbody>\n",
       "  </tbody>\n",
       "</table>\n",
       "<p>0 rows × 23 columns</p>\n",
       "</div>"
      ],
      "text/plain": [
       "Empty DataFrame\n",
       "Columns: [application_id, user_id, birth_year, gender, insert_time, credit_score, yearly_income, income_type, company_enter_month, employment_type, houseown_type, desired_amount, purpose, personal_rehabilitation_yn, personal_rehabilitation_complete_yn, existing_loan_cnt, existing_loan_amt, loanapply_insert_time, bank_id, product_id, loan_limit, loan_rate, is_applied]\n",
       "Index: []\n",
       "\n",
       "[0 rows x 23 columns]"
      ]
     },
     "execution_count": 31,
     "metadata": {},
     "output_type": "execute_result"
    }
   ],
   "source": [
    "merged_df[(merged_df['personal_rehabilitation_yn'] == 0) & (merged_df['personal_rehabilitation_complete_yn'] != 0)]"
   ]
  },
  {
   "cell_type": "code",
   "execution_count": 32,
   "id": "c6940294",
   "metadata": {
    "ExecuteTime": {
     "end_time": "2022-10-12T04:58:55.616743Z",
     "start_time": "2022-10-12T04:57:18.518836Z"
    }
   },
   "outputs": [],
   "source": [
    "merged_df.to_csv('./customData/merged_ver1_1.csv') "
   ]
  },
  {
   "cell_type": "code",
   "execution_count": 33,
   "id": "9f20ba92",
   "metadata": {
    "ExecuteTime": {
     "end_time": "2022-10-12T04:59:24.854984Z",
     "start_time": "2022-10-12T04:59:20.258674Z"
    },
    "scrolled": false
   },
   "outputs": [
    {
     "data": {
      "text/plain": [
       "birth_year                              108227\n",
       "gender                                  108227\n",
       "credit_score                           1350179\n",
       "company_enter_month                     340617\n",
       "personal_rehabilitation_yn             2948659\n",
       "personal_rehabilitation_complete_yn    2954456\n",
       "existing_loan_cnt                      2685709\n",
       "existing_loan_amt                      3890163\n",
       "loan_limit                                7382\n",
       "loan_rate                                 7382\n",
       "is_applied                             3257239\n",
       "dtype: int64"
      ]
     },
     "execution_count": 33,
     "metadata": {},
     "output_type": "execute_result"
    }
   ],
   "source": [
    "null_sum = (merged_df.isnull().sum())[merged_df.isnull().sum()!=0]\n",
    "null_sum"
   ]
  },
  {
   "cell_type": "markdown",
   "id": "eaf7a030",
   "metadata": {},
   "source": [
    "### 결과백업"
   ]
  },
  {
   "cell_type": "code",
   "execution_count": 23,
   "id": "71372ef6",
   "metadata": {
    "ExecuteTime": {
     "end_time": "2022-10-12T04:53:29.111474Z",
     "start_time": "2022-10-12T04:53:29.052209Z"
    }
   },
   "outputs": [
    {
     "data": {
      "text/plain": [
       "0.0    10531568\n",
       "1.0       47023\n",
       "Name: personal_rehabilitation_yn, dtype: int64"
      ]
     },
     "execution_count": 23,
     "metadata": {},
     "output_type": "execute_result"
    }
   ],
   "source": [
    "merged_df['personal_rehabilitation_yn'].value_counts()"
   ]
  },
  {
   "cell_type": "code",
   "execution_count": 72,
   "id": "477c4d8e",
   "metadata": {
    "ExecuteTime": {
     "end_time": "2022-10-11T04:31:50.408549Z",
     "start_time": "2022-10-11T04:31:48.657754Z"
    }
   },
   "outputs": [
    {
     "data": {
      "text/plain": [
       "0.0    1692031\n",
       "1.0         16\n",
       "Name: personal_rehabilitation_complete_yn, dtype: int64"
      ]
     },
     "execution_count": 72,
     "metadata": {},
     "output_type": "execute_result"
    }
   ],
   "source": [
    "merged_df[merged_df['personal_rehabilitation_yn'] == 0]['personal_rehabilitation_complete_yn'].value_counts()"
   ]
  },
  {
   "cell_type": "code",
   "execution_count": 73,
   "id": "bf28ae11",
   "metadata": {
    "ExecuteTime": {
     "end_time": "2022-10-11T04:32:12.877379Z",
     "start_time": "2022-10-11T04:32:11.135717Z"
    }
   },
   "outputs": [
    {
     "data": {
      "text/plain": [
       "5905276"
      ]
     },
     "execution_count": 73,
     "metadata": {},
     "output_type": "execute_result"
    }
   ],
   "source": [
    "merged_df[merged_df['personal_rehabilitation_yn'] == 0]['personal_rehabilitation_complete_yn'].isnull().sum()"
   ]
  },
  {
   "cell_type": "code",
   "execution_count": 74,
   "id": "40797279",
   "metadata": {
    "ExecuteTime": {
     "end_time": "2022-10-11T04:33:36.543361Z",
     "start_time": "2022-10-11T04:33:36.516680Z"
    }
   },
   "outputs": [
    {
     "data": {
      "text/plain": [
       "0.0    34591\n",
       "1.0     6635\n",
       "Name: personal_rehabilitation_complete_yn, dtype: int64"
      ]
     },
     "execution_count": 74,
     "metadata": {},
     "output_type": "execute_result"
    }
   ],
   "source": [
    "merged_df[merged_df['personal_rehabilitation_yn'] == 1]['personal_rehabilitation_complete_yn'].value_counts()"
   ]
  },
  {
   "cell_type": "code",
   "execution_count": 75,
   "id": "aea54cb8",
   "metadata": {
    "ExecuteTime": {
     "end_time": "2022-10-11T04:34:53.501491Z",
     "start_time": "2022-10-11T04:34:53.473530Z"
    }
   },
   "outputs": [
    {
     "data": {
      "text/plain": [
       "0"
      ]
     },
     "execution_count": 75,
     "metadata": {},
     "output_type": "execute_result"
    }
   ],
   "source": [
    "merged_df[merged_df['personal_rehabilitation_yn'] == 1]['personal_rehabilitation_complete_yn'].isnull().sum()"
   ]
  },
  {
   "cell_type": "code",
   "execution_count": 93,
   "id": "0b26bf3d",
   "metadata": {
    "ExecuteTime": {
     "end_time": "2022-10-11T04:51:00.789068Z",
     "start_time": "2022-10-11T04:50:59.344923Z"
    }
   },
   "outputs": [],
   "source": [
    "indexs = merged_df[(merged_df['personal_rehabilitation_yn'] == 0) & (merged_df['personal_rehabilitation_complete_yn'] != 0)].index"
   ]
  },
  {
   "cell_type": "code",
   "execution_count": 94,
   "id": "353dfc5e",
   "metadata": {
    "ExecuteTime": {
     "end_time": "2022-10-11T04:51:26.034032Z",
     "start_time": "2022-10-11T04:51:25.400400Z"
    },
    "scrolled": true
   },
   "outputs": [],
   "source": [
    "merged_df.loc[indexs, 'personal_rehabilitation_complete_yn'] = 0"
   ]
  },
  {
   "cell_type": "code",
   "execution_count": 95,
   "id": "fb6c8572",
   "metadata": {
    "ExecuteTime": {
     "end_time": "2022-10-11T04:51:44.217617Z",
     "start_time": "2022-10-11T04:51:44.140049Z"
    }
   },
   "outputs": [
    {
     "data": {
      "text/html": [
       "<div>\n",
       "<style scoped>\n",
       "    .dataframe tbody tr th:only-of-type {\n",
       "        vertical-align: middle;\n",
       "    }\n",
       "\n",
       "    .dataframe tbody tr th {\n",
       "        vertical-align: top;\n",
       "    }\n",
       "\n",
       "    .dataframe thead th {\n",
       "        text-align: right;\n",
       "    }\n",
       "</style>\n",
       "<table border=\"1\" class=\"dataframe\">\n",
       "  <thead>\n",
       "    <tr style=\"text-align: right;\">\n",
       "      <th></th>\n",
       "      <th>application_id</th>\n",
       "      <th>user_id</th>\n",
       "      <th>birth_year</th>\n",
       "      <th>gender</th>\n",
       "      <th>insert_time</th>\n",
       "      <th>credit_score</th>\n",
       "      <th>yearly_income</th>\n",
       "      <th>income_type</th>\n",
       "      <th>company_enter_month</th>\n",
       "      <th>employment_type</th>\n",
       "      <th>...</th>\n",
       "      <th>personal_rehabilitation_yn</th>\n",
       "      <th>personal_rehabilitation_complete_yn</th>\n",
       "      <th>existing_loan_cnt</th>\n",
       "      <th>existing_loan_amt</th>\n",
       "      <th>loanapply_insert_time</th>\n",
       "      <th>bank_id</th>\n",
       "      <th>product_id</th>\n",
       "      <th>loan_limit</th>\n",
       "      <th>loan_rate</th>\n",
       "      <th>is_applied</th>\n",
       "    </tr>\n",
       "  </thead>\n",
       "  <tbody>\n",
       "  </tbody>\n",
       "</table>\n",
       "<p>0 rows × 23 columns</p>\n",
       "</div>"
      ],
      "text/plain": [
       "Empty DataFrame\n",
       "Columns: [application_id, user_id, birth_year, gender, insert_time, credit_score, yearly_income, income_type, company_enter_month, employment_type, houseown_type, desired_amount, purpose, personal_rehabilitation_yn, personal_rehabilitation_complete_yn, existing_loan_cnt, existing_loan_amt, loanapply_insert_time, bank_id, product_id, loan_limit, loan_rate, is_applied]\n",
       "Index: []\n",
       "\n",
       "[0 rows x 23 columns]"
      ]
     },
     "execution_count": 95,
     "metadata": {},
     "output_type": "execute_result"
    }
   ],
   "source": [
    "merged_df[(merged_df['personal_rehabilitation_yn'] == 0) & (merged_df['personal_rehabilitation_complete_yn'] != 0)]"
   ]
  },
  {
   "cell_type": "code",
   "execution_count": 96,
   "id": "c2418459",
   "metadata": {
    "ExecuteTime": {
     "end_time": "2022-10-11T04:53:21.889296Z",
     "start_time": "2022-10-11T04:51:49.679005Z"
    }
   },
   "outputs": [],
   "source": [
    "merged_df.to_csv('./customData/merged_user_loan.csv')"
   ]
  },
  {
   "cell_type": "code",
   "execution_count": 97,
   "id": "27129045",
   "metadata": {
    "ExecuteTime": {
     "end_time": "2022-10-11T04:53:31.688273Z",
     "start_time": "2022-10-11T04:53:26.569555Z"
    },
    "scrolled": false
   },
   "outputs": [
    {
     "data": {
      "text/plain": [
       "birth_year                              128096\n",
       "gender                                  128096\n",
       "credit_score                           1509276\n",
       "company_enter_month                     400337\n",
       "personal_rehabilitation_yn             5888701\n",
       "personal_rehabilitation_complete_yn    5888701\n",
       "existing_loan_cnt                      2685709\n",
       "existing_loan_amt                      3890163\n",
       "loan_limit                                7382\n",
       "loan_rate                                 7382\n",
       "is_applied                             3257239\n",
       "dtype: int64"
      ]
     },
     "execution_count": 97,
     "metadata": {},
     "output_type": "execute_result"
    }
   ],
   "source": [
    "null_sum = (merged_df.isnull().sum())[merged_df.isnull().sum()!=0]\n",
    "null_sum"
   ]
  },
  {
   "cell_type": "markdown",
   "id": "dbe9fe50",
   "metadata": {},
   "source": [
    "## "
   ]
  },
  {
   "cell_type": "code",
   "execution_count": null,
   "id": "ed1d0fd1",
   "metadata": {},
   "outputs": [],
   "source": []
  },
  {
   "cell_type": "code",
   "execution_count": null,
   "id": "1c1d98b0",
   "metadata": {},
   "outputs": [],
   "source": []
  },
  {
   "cell_type": "markdown",
   "id": "42637910",
   "metadata": {},
   "source": [
    "# 타겟 데이터 분석"
   ]
  },
  {
   "cell_type": "markdown",
   "id": "121141a9",
   "metadata": {},
   "source": [
    "타겟 데이터엔 null값이 있는가?"
   ]
  },
  {
   "cell_type": "code",
   "execution_count": 16,
   "id": "486c7b09",
   "metadata": {
    "ExecuteTime": {
     "end_time": "2022-10-12T07:10:08.060963Z",
     "start_time": "2022-10-12T07:10:07.806929Z"
    }
   },
   "outputs": [],
   "source": [
    "target = loan_df[loan_df['is_applied'].isnull()]"
   ]
  },
  {
   "cell_type": "code",
   "execution_count": 17,
   "id": "506e8487",
   "metadata": {
    "ExecuteTime": {
     "end_time": "2022-10-12T07:11:31.544304Z",
     "start_time": "2022-10-12T07:11:31.393137Z"
    }
   },
   "outputs": [],
   "source": [
    "X_train = target.loc[:, target.columns !='is_applied']"
   ]
  },
  {
   "cell_type": "code",
   "execution_count": 20,
   "id": "137d0e93",
   "metadata": {
    "ExecuteTime": {
     "end_time": "2022-10-12T07:12:32.282089Z",
     "start_time": "2022-10-12T07:12:32.279117Z"
    }
   },
   "outputs": [
    {
     "data": {
      "text/plain": [
       "(3257239, 6)"
      ]
     },
     "execution_count": 20,
     "metadata": {},
     "output_type": "execute_result"
    }
   ],
   "source": [
    "X_train.shape"
   ]
  },
  {
   "cell_type": "code",
   "execution_count": 21,
   "id": "e5380941",
   "metadata": {
    "ExecuteTime": {
     "end_time": "2022-10-12T07:13:16.809672Z",
     "start_time": "2022-10-12T07:13:13.534540Z"
    }
   },
   "outputs": [],
   "source": [
    "X_train_merged=pd.merge(user_df, X_train, on='application_id')"
   ]
  },
  {
   "cell_type": "code",
   "execution_count": 22,
   "id": "33c4ec8d",
   "metadata": {
    "ExecuteTime": {
     "end_time": "2022-10-12T07:13:19.850680Z",
     "start_time": "2022-10-12T07:13:19.847725Z"
    }
   },
   "outputs": [
    {
     "data": {
      "text/plain": [
       "(3257239, 22)"
      ]
     },
     "execution_count": 22,
     "metadata": {},
     "output_type": "execute_result"
    }
   ],
   "source": [
    "X_train_merged.shape"
   ]
  },
  {
   "cell_type": "code",
   "execution_count": 23,
   "id": "6c2cb779",
   "metadata": {
    "ExecuteTime": {
     "end_time": "2022-10-12T07:13:30.220409Z",
     "start_time": "2022-10-12T07:13:29.678636Z"
    }
   },
   "outputs": [
    {
     "data": {
      "text/plain": [
       "application_id                               0\n",
       "user_id                                      0\n",
       "birth_year                               36470\n",
       "gender                                   36470\n",
       "insert_time                                  0\n",
       "credit_score                            265464\n",
       "yearly_income                                6\n",
       "income_type                                  0\n",
       "company_enter_month                      96769\n",
       "employment_type                              0\n",
       "houseown_type                                0\n",
       "desired_amount                               0\n",
       "purpose                                      0\n",
       "personal_rehabilitation_yn               15472\n",
       "personal_rehabilitation_complete_yn    2561745\n",
       "existing_loan_cnt                       541898\n",
       "existing_loan_amt                       846023\n",
       "loanapply_insert_time                        0\n",
       "bank_id                                      0\n",
       "product_id                                   0\n",
       "loan_limit                                1757\n",
       "loan_rate                                 1757\n",
       "dtype: int64"
      ]
     },
     "execution_count": 23,
     "metadata": {},
     "output_type": "execute_result"
    }
   ],
   "source": [
    "X_train_merged.isnull().sum()"
   ]
  },
  {
   "cell_type": "markdown",
   "id": "52859e7b",
   "metadata": {},
   "source": [
    "null값을 채운 merged_df엔 있는가?"
   ]
  },
  {
   "cell_type": "code",
   "execution_count": 32,
   "id": "ff4c630f",
   "metadata": {
    "ExecuteTime": {
     "end_time": "2022-10-12T07:26:09.314678Z",
     "start_time": "2022-10-12T07:25:25.582427Z"
    }
   },
   "outputs": [],
   "source": [
    "merged_df = pd.read_csv('./customData/merged_ver1_1.csv', index_col=0)"
   ]
  },
  {
   "cell_type": "code",
   "execution_count": 25,
   "id": "e54b068c",
   "metadata": {
    "ExecuteTime": {
     "end_time": "2022-10-12T07:19:07.916778Z",
     "start_time": "2022-10-12T07:19:07.038686Z"
    }
   },
   "outputs": [],
   "source": [
    "X_train= merged_df[merged_df['is_applied'].isnull()].loc[:, merged_df.columns !='is_applied']"
   ]
  },
  {
   "cell_type": "code",
   "execution_count": 26,
   "id": "325b79c8",
   "metadata": {
    "ExecuteTime": {
     "end_time": "2022-10-12T07:19:18.288850Z",
     "start_time": "2022-10-12T07:19:18.285206Z"
    }
   },
   "outputs": [
    {
     "data": {
      "text/plain": [
       "(3257239, 23)"
      ]
     },
     "execution_count": 26,
     "metadata": {},
     "output_type": "execute_result"
    }
   ],
   "source": [
    "X_train.shape"
   ]
  },
  {
   "cell_type": "code",
   "execution_count": 27,
   "id": "bc1cdf4a",
   "metadata": {
    "ExecuteTime": {
     "end_time": "2022-10-12T07:19:45.787592Z",
     "start_time": "2022-10-12T07:19:45.196686Z"
    }
   },
   "outputs": [
    {
     "data": {
      "text/plain": [
       "Unnamed: 0                                  0\n",
       "application_id                              0\n",
       "user_id                                     0\n",
       "birth_year                              30960\n",
       "gender                                  30960\n",
       "insert_time                                 0\n",
       "credit_score                           256720\n",
       "yearly_income                               0\n",
       "income_type                                 0\n",
       "company_enter_month                     83681\n",
       "employment_type                             0\n",
       "houseown_type                               0\n",
       "desired_amount                              0\n",
       "purpose                                     0\n",
       "personal_rehabilitation_yn              14664\n",
       "personal_rehabilitation_complete_yn     14664\n",
       "existing_loan_cnt                      541898\n",
       "existing_loan_amt                      846023\n",
       "loanapply_insert_time                       0\n",
       "bank_id                                     0\n",
       "product_id                                  0\n",
       "loan_limit                               1757\n",
       "loan_rate                                1757\n",
       "dtype: int64"
      ]
     },
     "execution_count": 27,
     "metadata": {},
     "output_type": "execute_result"
    }
   ],
   "source": [
    "X_train.isnull().sum()"
   ]
  },
  {
   "cell_type": "markdown",
   "id": "85a5107e",
   "metadata": {},
   "source": [
    "null값이... 많네.."
   ]
  },
  {
   "cell_type": "code",
   "execution_count": 4,
   "id": "604955f8",
   "metadata": {
    "ExecuteTime": {
     "end_time": "2022-10-12T05:22:31.075714Z",
     "start_time": "2022-10-12T05:22:31.071903Z"
    }
   },
   "outputs": [
    {
     "data": {
      "text/plain": [
       "True"
      ]
     },
     "execution_count": 4,
     "metadata": {},
     "output_type": "execute_result"
    }
   ],
   "source": [
    "set([1,2]).issubset(set([1,2,3]))"
   ]
  },
  {
   "cell_type": "code",
   "execution_count": 6,
   "id": "081859cd",
   "metadata": {
    "ExecuteTime": {
     "end_time": "2022-10-12T05:23:17.418848Z",
     "start_time": "2022-10-12T05:23:16.776975Z"
    }
   },
   "outputs": [
    {
     "data": {
      "text/plain": [
       "False"
      ]
     },
     "execution_count": 6,
     "metadata": {},
     "output_type": "execute_result"
    }
   ],
   "source": [
    "set(loan_df['application_id'].unique()).issubset(set(user_df['application_id'].unique()))"
   ]
  },
  {
   "cell_type": "code",
   "execution_count": 15,
   "id": "3610a78d",
   "metadata": {
    "ExecuteTime": {
     "end_time": "2022-10-12T05:27:06.427446Z",
     "start_time": "2022-10-12T05:27:05.765458Z"
    }
   },
   "outputs": [
    {
     "data": {
      "text/html": [
       "<div>\n",
       "<style scoped>\n",
       "    .dataframe tbody tr th:only-of-type {\n",
       "        vertical-align: middle;\n",
       "    }\n",
       "\n",
       "    .dataframe tbody tr th {\n",
       "        vertical-align: top;\n",
       "    }\n",
       "\n",
       "    .dataframe thead th {\n",
       "        text-align: right;\n",
       "    }\n",
       "</style>\n",
       "<table border=\"1\" class=\"dataframe\">\n",
       "  <thead>\n",
       "    <tr style=\"text-align: right;\">\n",
       "      <th></th>\n",
       "      <th>application_id</th>\n",
       "      <th>loanapply_insert_time</th>\n",
       "      <th>bank_id</th>\n",
       "      <th>product_id</th>\n",
       "      <th>loan_limit</th>\n",
       "      <th>loan_rate</th>\n",
       "      <th>is_applied</th>\n",
       "    </tr>\n",
       "  </thead>\n",
       "  <tbody>\n",
       "    <tr>\n",
       "      <th>0</th>\n",
       "      <td>1748340</td>\n",
       "      <td>2022-06-07 13:05:41</td>\n",
       "      <td>7</td>\n",
       "      <td>191</td>\n",
       "      <td>42000000.0</td>\n",
       "      <td>13.6</td>\n",
       "      <td>NaN</td>\n",
       "    </tr>\n",
       "    <tr>\n",
       "      <th>1</th>\n",
       "      <td>1748340</td>\n",
       "      <td>2022-06-07 13:05:41</td>\n",
       "      <td>25</td>\n",
       "      <td>169</td>\n",
       "      <td>24000000.0</td>\n",
       "      <td>17.9</td>\n",
       "      <td>NaN</td>\n",
       "    </tr>\n",
       "    <tr>\n",
       "      <th>2</th>\n",
       "      <td>1748340</td>\n",
       "      <td>2022-06-07 13:05:41</td>\n",
       "      <td>2</td>\n",
       "      <td>7</td>\n",
       "      <td>24000000.0</td>\n",
       "      <td>18.5</td>\n",
       "      <td>NaN</td>\n",
       "    </tr>\n",
       "    <tr>\n",
       "      <th>3</th>\n",
       "      <td>1748340</td>\n",
       "      <td>2022-06-07 13:05:41</td>\n",
       "      <td>4</td>\n",
       "      <td>268</td>\n",
       "      <td>29000000.0</td>\n",
       "      <td>10.8</td>\n",
       "      <td>NaN</td>\n",
       "    </tr>\n",
       "    <tr>\n",
       "      <th>4</th>\n",
       "      <td>1748340</td>\n",
       "      <td>2022-06-07 13:05:41</td>\n",
       "      <td>11</td>\n",
       "      <td>118</td>\n",
       "      <td>5000000.0</td>\n",
       "      <td>16.4</td>\n",
       "      <td>NaN</td>\n",
       "    </tr>\n",
       "    <tr>\n",
       "      <th>...</th>\n",
       "      <td>...</td>\n",
       "      <td>...</td>\n",
       "      <td>...</td>\n",
       "      <td>...</td>\n",
       "      <td>...</td>\n",
       "      <td>...</td>\n",
       "      <td>...</td>\n",
       "    </tr>\n",
       "    <tr>\n",
       "      <th>13527358</th>\n",
       "      <td>1428218</td>\n",
       "      <td>2022-06-03 12:01:58</td>\n",
       "      <td>62</td>\n",
       "      <td>200</td>\n",
       "      <td>3000000.0</td>\n",
       "      <td>14.8</td>\n",
       "      <td>NaN</td>\n",
       "    </tr>\n",
       "    <tr>\n",
       "      <th>13527359</th>\n",
       "      <td>1428218</td>\n",
       "      <td>2022-06-03 12:01:49</td>\n",
       "      <td>2</td>\n",
       "      <td>7</td>\n",
       "      <td>40000000.0</td>\n",
       "      <td>11.8</td>\n",
       "      <td>NaN</td>\n",
       "    </tr>\n",
       "    <tr>\n",
       "      <th>13527360</th>\n",
       "      <td>1428218</td>\n",
       "      <td>2022-06-03 12:01:48</td>\n",
       "      <td>32</td>\n",
       "      <td>257</td>\n",
       "      <td>15000000.0</td>\n",
       "      <td>7.2</td>\n",
       "      <td>NaN</td>\n",
       "    </tr>\n",
       "    <tr>\n",
       "      <th>13527361</th>\n",
       "      <td>1428218</td>\n",
       "      <td>2022-06-03 12:01:48</td>\n",
       "      <td>33</td>\n",
       "      <td>110</td>\n",
       "      <td>44000000.0</td>\n",
       "      <td>13.5</td>\n",
       "      <td>NaN</td>\n",
       "    </tr>\n",
       "    <tr>\n",
       "      <th>13527362</th>\n",
       "      <td>1428218</td>\n",
       "      <td>2022-06-03 12:01:48</td>\n",
       "      <td>5</td>\n",
       "      <td>194</td>\n",
       "      <td>44000000.0</td>\n",
       "      <td>9.7</td>\n",
       "      <td>NaN</td>\n",
       "    </tr>\n",
       "  </tbody>\n",
       "</table>\n",
       "<p>13527363 rows × 7 columns</p>\n",
       "</div>"
      ],
      "text/plain": [
       "          application_id loanapply_insert_time  bank_id  product_id  \\\n",
       "0                1748340   2022-06-07 13:05:41        7         191   \n",
       "1                1748340   2022-06-07 13:05:41       25         169   \n",
       "2                1748340   2022-06-07 13:05:41        2           7   \n",
       "3                1748340   2022-06-07 13:05:41        4         268   \n",
       "4                1748340   2022-06-07 13:05:41       11         118   \n",
       "...                  ...                   ...      ...         ...   \n",
       "13527358         1428218   2022-06-03 12:01:58       62         200   \n",
       "13527359         1428218   2022-06-03 12:01:49        2           7   \n",
       "13527360         1428218   2022-06-03 12:01:48       32         257   \n",
       "13527361         1428218   2022-06-03 12:01:48       33         110   \n",
       "13527362         1428218   2022-06-03 12:01:48        5         194   \n",
       "\n",
       "          loan_limit  loan_rate  is_applied  \n",
       "0         42000000.0       13.6         NaN  \n",
       "1         24000000.0       17.9         NaN  \n",
       "2         24000000.0       18.5         NaN  \n",
       "3         29000000.0       10.8         NaN  \n",
       "4          5000000.0       16.4         NaN  \n",
       "...              ...        ...         ...  \n",
       "13527358   3000000.0       14.8         NaN  \n",
       "13527359  40000000.0       11.8         NaN  \n",
       "13527360  15000000.0        7.2         NaN  \n",
       "13527361  44000000.0       13.5         NaN  \n",
       "13527362  44000000.0        9.7         NaN  \n",
       "\n",
       "[13527363 rows x 7 columns]"
      ]
     },
     "execution_count": 15,
     "metadata": {},
     "output_type": "execute_result"
    }
   ],
   "source": [
    "loan_df.sort_index()"
   ]
  },
  {
   "cell_type": "code",
   "execution_count": 12,
   "id": "6a4fabfe",
   "metadata": {
    "ExecuteTime": {
     "end_time": "2022-10-12T05:25:55.083112Z",
     "start_time": "2022-10-12T05:25:55.079877Z"
    }
   },
   "outputs": [
    {
     "data": {
      "text/plain": [
       "True"
      ]
     },
     "execution_count": 12,
     "metadata": {},
     "output_type": "execute_result"
    }
   ],
   "source": [
    "1 in `loan_df['application_id']"
   ]
  },
  {
   "cell_type": "code",
   "execution_count": 10,
   "id": "6f89e21d",
   "metadata": {
    "ExecuteTime": {
     "end_time": "2022-10-12T05:24:23.545467Z",
     "start_time": "2022-10-12T05:24:23.295642Z"
    }
   },
   "outputs": [],
   "source": [
    "df=loan_df[loan_df['is_applied'].isnull()]"
   ]
  },
  {
   "cell_type": "code",
   "execution_count": 11,
   "id": "7c2db861",
   "metadata": {
    "ExecuteTime": {
     "end_time": "2022-10-12T05:24:44.493432Z",
     "start_time": "2022-10-12T05:24:44.026625Z"
    }
   },
   "outputs": [
    {
     "data": {
      "text/plain": [
       "True"
      ]
     },
     "execution_count": 11,
     "metadata": {},
     "output_type": "execute_result"
    }
   ],
   "source": [
    "set(df['application_id'].unique()).issubset(set(user_df['application_id'].unique()))"
   ]
  }
 ],
 "metadata": {
  "kernelspec": {
   "display_name": "Python 3 (ipykernel)",
   "language": "python",
   "name": "python3"
  },
  "language_info": {
   "codemirror_mode": {
    "name": "ipython",
    "version": 3
   },
   "file_extension": ".py",
   "mimetype": "text/x-python",
   "name": "python",
   "nbconvert_exporter": "python",
   "pygments_lexer": "ipython3",
   "version": "3.8.10"
  },
  "toc": {
   "base_numbering": 1,
   "nav_menu": {},
   "number_sections": true,
   "sideBar": true,
   "skip_h1_title": false,
   "title_cell": "Table of Contents",
   "title_sidebar": "Contents",
   "toc_cell": false,
   "toc_position": {},
   "toc_section_display": true,
   "toc_window_display": false
  },
  "varInspector": {
   "cols": {
    "lenName": 16,
    "lenType": 16,
    "lenVar": 40
   },
   "kernels_config": {
    "python": {
     "delete_cmd_postfix": "",
     "delete_cmd_prefix": "del ",
     "library": "var_list.py",
     "varRefreshCmd": "print(var_dic_list())"
    },
    "r": {
     "delete_cmd_postfix": ") ",
     "delete_cmd_prefix": "rm(",
     "library": "var_list.r",
     "varRefreshCmd": "cat(var_dic_list()) "
    }
   },
   "types_to_exclude": [
    "module",
    "function",
    "builtin_function_or_method",
    "instance",
    "_Feature"
   ],
   "window_display": false
  }
 },
 "nbformat": 4,
 "nbformat_minor": 5
}
