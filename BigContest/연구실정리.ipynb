{
 "cells": [
  {
   "cell_type": "markdown",
   "id": "04aad800",
   "metadata": {},
   "source": [
    "# 현재까지 알아낸 사실"
   ]
  },
  {
   "cell_type": "markdown",
   "id": "069e1c83",
   "metadata": {},
   "source": [
    "## 데이터 분석"
   ]
  },
  {
   "cell_type": "markdown",
   "id": "5bff6e83",
   "metadata": {},
   "source": [
    "### 공통"
   ]
  },
  {
   "cell_type": "markdown",
   "id": "d65751ba",
   "metadata": {},
   "source": [
    "* user_spec, loan_result, log_data에 결측치가 존재한다\n",
    "* user_spec, loan_result 에서 결측치가 존재하는 특징정보들중, 의미적으로 관계가 있는 것들이 몇몇 존재하며, 상위-하위 항목으로 추정된다.\n",
    "    1. User_spec\n",
    "        * birth_year == gender\n",
    "        * income_type == employment_type == houseown_type == desired_amount == purpose\n",
    "        * personal_rehabilitation_yn ⊂ personal_rehabilitation_complete_yn\n",
    "        * existing_loan_cnt ⊂ existing_loan_amt\n",
    "    2. loan_result\n",
    "        * loan_limit == loan_rate\n",
    "    3. log_data\n",
    "        * mp_os ⊂ mp_app_version"
   ]
  },
  {
   "cell_type": "markdown",
   "id": "d06b383f",
   "metadata": {},
   "source": [
    "### loan_result"
   ]
  },
  {
   "cell_type": "markdown",
   "id": "7bf8179c",
   "metadata": {},
   "source": [
    "* loan_df의 is_appiled의 값은 1보다 0이 훨씬 많다.\n",
    "* loan_df의 전체 데이터 개수는 1134_2557개, application_id의 종류는 96_8866개이다."
   ]
  },
  {
   "cell_type": "markdown",
   "id": "a8c32b3c",
   "metadata": {},
   "source": [
    "### user_spec"
   ]
  },
  {
   "cell_type": "markdown",
   "id": "659b6f59",
   "metadata": {},
   "source": [
    "* application_id와 insert_time를 drop한 후 중복제거를 하면 110_2436개가 된다.(원래 139_4216개)\n",
    "* purpose의 경우 purpose_BUSINESS와 purpose_사업자금처럼 같은 라벨이 분리된 경우가 존재한다.\n",
    "* yearly_income의 결측치는 90개지만 loan_df와 merge할 경우 결측치가 6개가 된다. 이 경우 user_id를 기준으로 검색한 결과, 0으로 채우면 된다."
   ]
  },
  {
   "cell_type": "code",
   "execution_count": null,
   "id": "c4ef38b8",
   "metadata": {},
   "outputs": [],
   "source": []
  }
 ],
 "metadata": {
  "kernelspec": {
   "display_name": "Python 3 (ipykernel)",
   "language": "python",
   "name": "python3"
  },
  "language_info": {
   "codemirror_mode": {
    "name": "ipython",
    "version": 3
   },
   "file_extension": ".py",
   "mimetype": "text/x-python",
   "name": "python",
   "nbconvert_exporter": "python",
   "pygments_lexer": "ipython3",
   "version": "3.8.10"
  },
  "toc": {
   "base_numbering": 1,
   "nav_menu": {},
   "number_sections": true,
   "sideBar": true,
   "skip_h1_title": false,
   "title_cell": "Table of Contents",
   "title_sidebar": "Contents",
   "toc_cell": false,
   "toc_position": {},
   "toc_section_display": true,
   "toc_window_display": false
  },
  "varInspector": {
   "cols": {
    "lenName": 16,
    "lenType": 16,
    "lenVar": 40
   },
   "kernels_config": {
    "python": {
     "delete_cmd_postfix": "",
     "delete_cmd_prefix": "del ",
     "library": "var_list.py",
     "varRefreshCmd": "print(var_dic_list())"
    },
    "r": {
     "delete_cmd_postfix": ") ",
     "delete_cmd_prefix": "rm(",
     "library": "var_list.r",
     "varRefreshCmd": "cat(var_dic_list()) "
    }
   },
   "types_to_exclude": [
    "module",
    "function",
    "builtin_function_or_method",
    "instance",
    "_Feature"
   ],
   "window_display": false
  }
 },
 "nbformat": 4,
 "nbformat_minor": 5
}
