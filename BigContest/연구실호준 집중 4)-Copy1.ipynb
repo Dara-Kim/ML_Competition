{
 "cells": [
  {
   "cell_type": "code",
   "execution_count": 1,
   "id": "e55ff3c2",
   "metadata": {
    "ExecuteTime": {
     "end_time": "2022-10-11T19:13:10.316423Z",
     "start_time": "2022-10-11T19:13:08.203754Z"
    }
   },
   "outputs": [],
   "source": [
    "import pandas as pd\n",
    "import numpy as np\n",
    "import os\n",
    "import random\n",
    "from copy import deepcopy\n",
    "import math\n",
    "from itertools import product\n",
    "import pickle\n",
    "import joblib\n",
    "from tqdm import tqdm\n",
    "\n",
    "import matplotlib.pyplot as plt\n",
    "import seaborn as sb\n",
    "\n",
    "from sklearn.ensemble import RandomForestClassifier\n",
    "from sklearn.model_selection import train_test_split\n",
    "from sklearn.metrics import f1_score, confusion_matrix, ConfusionMatrixDisplay"
   ]
  },
  {
   "cell_type": "code",
   "execution_count": 2,
   "id": "37024610",
   "metadata": {
    "ExecuteTime": {
     "end_time": "2022-10-11T19:13:52.289644Z",
     "start_time": "2022-10-11T19:13:11.926921Z"
    }
   },
   "outputs": [],
   "source": [
    "merged_df=pd.read_csv('./customData/merged_user_loan.csv')"
   ]
  },
  {
   "cell_type": "code",
   "execution_count": 4,
   "id": "3bb50eae",
   "metadata": {
    "ExecuteTime": {
     "end_time": "2022-10-11T19:14:34.517110Z",
     "start_time": "2022-10-11T19:14:24.948843Z"
    }
   },
   "outputs": [
    {
     "data": {
      "text/plain": [
       "birth_year                              108227\n",
       "gender                                  108227\n",
       "credit_score                           1350179\n",
       "company_enter_month                     340617\n",
       "personal_rehabilitation_yn             5642126\n",
       "personal_rehabilitation_complete_yn    5888701\n",
       "existing_loan_cnt                      2685709\n",
       "existing_loan_amt                      3890163\n",
       "loan_limit                                7382\n",
       "loan_rate                                 7382\n",
       "is_applied                             3257239\n",
       "dtype: int64"
      ]
     },
     "execution_count": 4,
     "metadata": {},
     "output_type": "execute_result"
    }
   ],
   "source": [
    "(merged_df.isnull().sum())[merged_df.isnull().sum()!=0]"
   ]
  },
  {
   "cell_type": "code",
   "execution_count": 5,
   "id": "bade957d",
   "metadata": {
    "ExecuteTime": {
     "end_time": "2022-10-11T19:14:46.740055Z",
     "start_time": "2022-10-11T19:14:46.738139Z"
    }
   },
   "outputs": [],
   "source": [
    "null_list = ['personal_rehabilitation_yn',\n",
    "# 'personal_rehabilitation_complete_yn', 'existing_loan_cnt', 'existing_loan_amt', 'loan_limit','loan_rate', 'is_applied'\n",
    "    ]\n"
   ]
  },
  {
   "cell_type": "code",
   "execution_count": 6,
   "id": "285c3051",
   "metadata": {
    "ExecuteTime": {
     "end_time": "2022-10-11T21:28:42.711189Z",
     "start_time": "2022-10-11T19:14:51.904828Z"
    }
   },
   "outputs": [
    {
     "name": "stderr",
     "output_type": "stream",
     "text": [
      "100%|█████████████████████████████████████████████████████████████████████████| 167480/167480 [2:13:49<00:00, 20.86it/s]"
     ]
    },
    {
     "name": "stdout",
     "output_type": "stream",
     "text": [
      "personal_rehabilitation_yn 367\n"
     ]
    },
    {
     "name": "stderr",
     "output_type": "stream",
     "text": [
      "\n"
     ]
    }
   ],
   "source": [
    "for null_col in null_list:\n",
    "    user_set = set(merged_df[merged_df[null_col].isnull()]['user_id'])\n",
    "    cnt = 0\n",
    "    for user in tqdm(user_set):        \n",
    "        tmp = merged_df[merged_df['user_id'] == user][['user_id',null_col]].drop_duplicates()\n",
    "        if len(tmp) == 2:\n",
    "            new_value_idx = tmp[tmp[null_col].isnull()==False].index[0]\n",
    "            new_value = tmp.loc[new_value_idx,null_col]\n",
    "            indexs = merged_df[(merged_df['user_id'] == user) & (merged_df[null_col].isnull()==True)].index\n",
    "            merged_df.loc[indexs, null_col] = new_value\n",
    "        elif len(tmp) > 2:\n",
    "            cnt+=1\n",
    "    if cnt:\n",
    "        print(null_col, cnt)"
   ]
  },
  {
   "cell_type": "code",
   "execution_count": 7,
   "id": "9e875ec4",
   "metadata": {
    "ExecuteTime": {
     "end_time": "2022-10-11T21:28:52.119280Z",
     "start_time": "2022-10-11T21:28:47.314463Z"
    }
   },
   "outputs": [
    {
     "data": {
      "text/plain": [
       "birth_year                              108227\n",
       "gender                                  108227\n",
       "credit_score                           1350179\n",
       "company_enter_month                     340617\n",
       "personal_rehabilitation_yn             2948659\n",
       "personal_rehabilitation_complete_yn    5888701\n",
       "existing_loan_cnt                      2685709\n",
       "existing_loan_amt                      3890163\n",
       "loan_limit                                7382\n",
       "loan_rate                                 7382\n",
       "is_applied                             3257239\n",
       "dtype: int64"
      ]
     },
     "execution_count": 7,
     "metadata": {},
     "output_type": "execute_result"
    }
   ],
   "source": [
    "(merged_df.isnull().sum())[merged_df.isnull().sum()!=0]"
   ]
  },
  {
   "cell_type": "code",
   "execution_count": null,
   "id": "ebb5e3dd",
   "metadata": {
    "ExecuteTime": {
     "start_time": "2022-10-11T07:33:17.884Z"
    }
   },
   "outputs": [],
   "source": [
    "merged_df.to_csv('./customData/merged_user_loan_copy1.csv')"
   ]
  },
  {
   "cell_type": "code",
   "execution_count": null,
   "id": "0d0010fa",
   "metadata": {},
   "outputs": [],
   "source": []
  }
 ],
 "metadata": {
  "kernelspec": {
   "display_name": "Python 3 (ipykernel)",
   "language": "python",
   "name": "python3"
  },
  "language_info": {
   "codemirror_mode": {
    "name": "ipython",
    "version": 3
   },
   "file_extension": ".py",
   "mimetype": "text/x-python",
   "name": "python",
   "nbconvert_exporter": "python",
   "pygments_lexer": "ipython3",
   "version": "3.8.10"
  },
  "toc": {
   "base_numbering": 1,
   "nav_menu": {},
   "number_sections": true,
   "sideBar": true,
   "skip_h1_title": false,
   "title_cell": "Table of Contents",
   "title_sidebar": "Contents",
   "toc_cell": false,
   "toc_position": {},
   "toc_section_display": true,
   "toc_window_display": false
  },
  "varInspector": {
   "cols": {
    "lenName": 16,
    "lenType": 16,
    "lenVar": 40
   },
   "kernels_config": {
    "python": {
     "delete_cmd_postfix": "",
     "delete_cmd_prefix": "del ",
     "library": "var_list.py",
     "varRefreshCmd": "print(var_dic_list())"
    },
    "r": {
     "delete_cmd_postfix": ") ",
     "delete_cmd_prefix": "rm(",
     "library": "var_list.r",
     "varRefreshCmd": "cat(var_dic_list()) "
    }
   },
   "types_to_exclude": [
    "module",
    "function",
    "builtin_function_or_method",
    "instance",
    "_Feature"
   ],
   "window_display": false
  }
 },
 "nbformat": 4,
 "nbformat_minor": 5
}
