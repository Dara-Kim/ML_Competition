{
  "nbformat": 4,
  "nbformat_minor": 0,
  "metadata": {
    "colab": {
      "provenance": [],
      "collapsed_sections": []
    },
    "kernelspec": {
      "name": "python3",
      "display_name": "Python 3"
    },
    "language_info": {
      "name": "python"
    }
  },
  "cells": [
    {
      "cell_type": "code",
      "execution_count": null,
      "metadata": {
        "colab": {
          "base_uri": "https://localhost:8080/"
        },
        "id": "24p33rLgNopk",
        "outputId": "05b01692-326e-4c40-81f9-4051b1569e27"
      },
      "outputs": [
        {
          "output_type": "stream",
          "name": "stdout",
          "text": [
            "Drive already mounted at /content/drive; to attempt to forcibly remount, call drive.mount(\"/content/drive\", force_remount=True).\n"
          ]
        }
      ],
      "source": [
        "from google.colab import drive\n",
        "drive.mount('/content/drive')"
      ]
    },
    {
      "cell_type": "code",
      "source": [
        "cd /content/drive/MyDrive/Colab Notebooks/DACON_PakChoi"
      ],
      "metadata": {
        "colab": {
          "base_uri": "https://localhost:8080/"
        },
        "id": "rU2b43CtNvcu",
        "outputId": "790a521c-fc90-4360-f065-35c92659d169"
      },
      "execution_count": null,
      "outputs": [
        {
          "output_type": "stream",
          "name": "stdout",
          "text": [
            "/content/drive/MyDrive/Colab Notebooks/DACON_PakChoi\n"
          ]
        }
      ]
    },
    {
      "cell_type": "markdown",
      "source": [
        "해야할 것\n",
        "1. target 변화\n",
        "2. 모델 변화"
      ],
      "metadata": {
        "id": "dovYx5O-eUx5"
      }
    },
    {
      "cell_type": "code",
      "source": [
        "import pandas as pd\n",
        "import os\n",
        "from sklearn.metrics import r2_score\n",
        "'''\n",
        "from lightgbm import LGBMRegressor\n",
        "from sklearn.ensemble import ExtraTreesClassifier\n",
        "from sklearn.neural_network import MLPClassifier\n",
        "from sklearn.svm import LinearSVC\n",
        "from sklearn.naive_bayes import BernoulliNB\n",
        "from sklearn.tree import DecisionTreeClassifier\n",
        "from sklearn.naive_bayes import GaussianNB\n",
        "from sklearn.neighbors import KNeighborsClassifier\n",
        "from sklearn.discriminant_analysis import LinearDiscriminantAnalysis\n",
        "from sklearn.linear_model import LogisticRegression\n",
        "from sklearn.neighbors import NearestCentroid\n",
        "from sklearn.linear_model import RidgeClassifier\n",
        "from sklearn.linear_model import Perceptron\n",
        "from sklearn.linear_model import PassiveAggressiveClassifier\n",
        "from sklearn.ensemble import AdaBoostClassifier\n",
        "'''\n",
        "\n",
        "from sklearn.ensemble import HistGradientBoostingClassifier\n",
        "\n",
        "\n",
        "from sklearn.ensemble import VotingClassifier\n",
        "\n",
        "# 실패\n",
        "'''\n",
        "from sklearn.semi_supervised import LabelPropagation\n",
        "from sklearn.semi_supervised import LabelSpreading\n",
        "from sklearn.linear_model import LogisticRegressionCV\n",
        "from sklearn.discriminant_analysis import QuadraticDiscriminantAnalysis\n",
        "from sklearn.neighbors import RadiusNeighborsClassifier\n",
        "from sklearn.linear_model import RidgeClassifierCV\n",
        "from sklearn.svm import NuSVC\n",
        "from sklearn.gaussian_process import GaussianProcessClassifier\n",
        "from sklearn.gaussian_process.kernels import RBF #위랑같이씀\n",
        "from sklearn.ensemble import GradientBoostingClassifier \n",
        "from sklearn.gaussian_process import GaussianProcessClassifier #5분째돌길래 포기\n",
        "from sklearn.neighbors import RadiusNeighborsClassifier\n",
        "'''"
      ],
      "metadata": {
        "id": "-KmBFf7pN2Px",
        "colab": {
          "base_uri": "https://localhost:8080/",
          "height": 148
        },
        "outputId": "1eea66c5-341f-4efd-b887-8208e65587ed"
      },
      "execution_count": null,
      "outputs": [
        {
          "output_type": "execute_result",
          "data": {
            "text/plain": [
              "'\\nfrom sklearn.semi_supervised import LabelPropagation\\nfrom sklearn.semi_supervised import LabelSpreading\\nfrom sklearn.linear_model import LogisticRegressionCV\\nfrom sklearn.discriminant_analysis import QuadraticDiscriminantAnalysis\\nfrom sklearn.neighbors import RadiusNeighborsClassifier\\nfrom sklearn.linear_model import RidgeClassifierCV\\nfrom sklearn.svm import NuSVC\\nfrom sklearn.gaussian_process import GaussianProcessClassifier\\nfrom sklearn.gaussian_process.kernels import RBF #위랑같이씀\\nfrom sklearn.ensemble import GradientBoostingClassifier \\nfrom sklearn.gaussian_process import GaussianProcessClassifier #5분째돌길래 포기\\nfrom sklearn.neighbors import RadiusNeighborsClassifier\\n'"
            ],
            "application/vnd.google.colaboratory.intrinsic+json": {
              "type": "string"
            }
          },
          "metadata": {},
          "execution_count": 906
        }
      ]
    },
    {
      "cell_type": "markdown",
      "source": [
        "train dataset 만들기"
      ],
      "metadata": {
        "id": "ZWmOKAtSb9tQ"
      }
    },
    {
      "cell_type": "code",
      "source": [
        "train_x = pd.DataFrame()\n",
        "for filenum in [1, 2, 3, 4, 5, 6, 7, 8, 9, 11, 12, 13, 14, 15, 16, 17, 19, 20, 21, 22, 23, 24, 25, 26]:\n",
        "  if filenum < 10:\n",
        "    tmp_df= pd.read_csv(f'./train_input/CASE_0{filenum}.csv')\n",
        "  else:\n",
        "    tmp_df= pd.read_csv(f'./train_input/CASE_{filenum}.csv')\n",
        "\n",
        "  tmp_df.fillna(value=0,inplace=True)\n",
        "  tmp_df['시간'] = pd.to_datetime(tmp_df['시간'])\n",
        "  tmp_df['date'] = tmp_df['시간'].dt.date\n",
        "  tmp_df = tmp_df.groupby('date').sum()\n",
        "\n",
        "  train_x = pd.concat([train_x, tmp_df])"
      ],
      "metadata": {
        "id": "oEbGRXo2RW-n"
      },
      "execution_count": null,
      "outputs": []
    },
    {
      "cell_type": "code",
      "source": [
        "train_y = pd.DataFrame()\n",
        "for filenum in [1, 2, 3, 4, 5, 6, 7, 8, 9, 11, 12, 13, 14, 15, 16, 17, 19, 20, 21, 22, 23, 24, 25, 26]:\n",
        "  if filenum < 10:\n",
        "    tmp_df= pd.read_csv(f'./train_target/CASE_0{filenum}.csv')\n",
        "  else:\n",
        "    tmp_df= pd.read_csv(f'./train_target/CASE_{filenum}.csv')\n",
        "\n",
        "  absolute_value=1\n",
        "  list_tmp_df=[]\n",
        "\n",
        "  tmp_df[\"rate+1\"]= tmp_df['rate']+1\n",
        "\n",
        "  for i in list(tmp_df[\"rate+1\"]):\n",
        "      absolute_value*=i\n",
        "      list_tmp_df.append(absolute_value)\n",
        "  tmp_df['rate_based_on_init']=list_tmp_df\n",
        "  tmp_df['tmp']=[1]+list_tmp_df[:-1]\n",
        "  tmp_df['value']=tmp_df['rate_based_on_init']-tmp_df['tmp']\n",
        "\n",
        "  train_y = pd.concat([train_y, tmp_df])"
      ],
      "metadata": {
        "id": "DkxFR7csaaAc"
      },
      "execution_count": null,
      "outputs": []
    },
    {
      "cell_type": "markdown",
      "source": [
        "train dataset 훈련 : 이 부분 바꿔주면 돼"
      ],
      "metadata": {
        "id": "0lj2xmWecBWI"
      }
    },
    {
      "cell_type": "code",
      "source": [
        "from sklearn import preprocessing\n",
        "from sklearn import utils\n",
        "\n",
        "#convert y values to categorical values\n",
        "lab = preprocessing.LabelEncoder()\n",
        "y_transformed = lab.fit_transform(train_y['rate_based_on_init'])"
      ],
      "metadata": {
        "id": "qYBzGx1X3b83"
      },
      "execution_count": null,
      "outputs": []
    },
    {
      "cell_type": "code",
      "source": [
        "clf1 = HistGradientBoostingClassifier(min_samples_leaf=1) # scikit run에 있는 모델들로 바꿔보기\n",
        "clf1.fit(train_x, y_transformed) # rate+1 부분을 rate/rate+1/rate_based_on_init/value 중의 하나로"
      ],
      "metadata": {
        "colab": {
          "base_uri": "https://localhost:8080/"
        },
        "id": "cbFZHfI6bgaG",
        "outputId": "d4adf4f4-f78c-4dcc-bb91-d2d458ca50f9"
      },
      "execution_count": null,
      "outputs": [
        {
          "output_type": "execute_result",
          "data": {
            "text/plain": [
              "HistGradientBoostingClassifier(min_samples_leaf=1)"
            ]
          },
          "metadata": {},
          "execution_count": 910
        }
      ]
    },
    {
      "cell_type": "markdown",
      "source": [
        "test dataset 만들기"
      ],
      "metadata": {
        "id": "m8pQgkk9dDCs"
      }
    },
    {
      "cell_type": "code",
      "source": [
        "test_x = pd.DataFrame()\n",
        "for filenum in [27, 28, 29, 32, 33, 35]:\n",
        "  tmp_df= pd.read_csv(f'./train_input/CASE_{filenum}.csv')\n",
        "\n",
        "  tmp_df.fillna(value=0,inplace=True)\n",
        "  tmp_df['시간'] = pd.to_datetime(tmp_df['시간'])\n",
        "  tmp_df['date'] = tmp_df['시간'].dt.date\n",
        "  tmp_df = tmp_df.groupby('date').sum()\n",
        "\n",
        "  test_x = pd.concat([test_x, tmp_df])"
      ],
      "metadata": {
        "id": "aoUzg78maReO"
      },
      "execution_count": null,
      "outputs": []
    },
    {
      "cell_type": "code",
      "source": [
        "test_y = pd.DataFrame()\n",
        "for filenum in [27, 28, 29, 32, 33, 35]:\n",
        "  tmp_df= pd.read_csv(f'./train_target/CASE_{filenum}.csv')\n",
        "\n",
        "  absolute_value=1\n",
        "  list_tmp_df=[]\n",
        "\n",
        "  tmp_df[\"rate+1\"]= tmp_df['rate']+1\n",
        "\n",
        "  for i in list(tmp_df[\"rate+1\"]):\n",
        "      absolute_value*=i\n",
        "      list_tmp_df.append(absolute_value)\n",
        "  tmp_df['rate_based_on_init']=list_tmp_df\n",
        "  tmp_df['tmp']=[1]+list_tmp_df[:-1]\n",
        "  tmp_df['value']=tmp_df['rate+1']-tmp_df['tmp']\n",
        "\n",
        "  test_y = pd.concat([test_y, tmp_df])"
      ],
      "metadata": {
        "id": "GOcr1b-tavMH"
      },
      "execution_count": null,
      "outputs": []
    },
    {
      "cell_type": "markdown",
      "source": [
        "test dataset 검증 : 이 부분 바꿔주면 돼"
      ],
      "metadata": {
        "id": "X-ElhjKpczUN"
      }
    },
    {
      "cell_type": "code",
      "source": [
        "r2 = r2_score(clf1.predict(test_x), test_y['rate_based_on_init']) # rate+1 부분을 rate/rate+1/rate_based_on_init/value 중의 하나로\n",
        "print(r2)"
      ],
      "metadata": {
        "colab": {
          "base_uri": "https://localhost:8080/"
        },
        "id": "qPc1WjAkb0mI",
        "outputId": "e686db69-50b1-4e55-e2ed-6415291d0772"
      },
      "execution_count": null,
      "outputs": [
        {
          "output_type": "stream",
          "name": "stdout",
          "text": [
            "-17.681167150672028\n"
          ]
        }
      ]
    }
  ]
}
