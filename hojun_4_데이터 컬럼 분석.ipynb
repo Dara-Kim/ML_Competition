{
 "cells": [
  {
   "cell_type": "markdown",
   "id": "09821d05",
   "metadata": {},
   "source": [
    "# 요약 정리\n",
    "\n",
    "* train의 col 몇몇이 다름을 알 수 있었다.\n",
    "* test의 col 또한 이와 같음을 알았다.\n",
    "* 그렇다면 col이 비슷한 데이터끼리 학습 -> 평가하면 되지 않을까?"
   ]
  },
  {
   "cell_type": "code",
   "execution_count": 1,
   "id": "803310b8",
   "metadata": {
    "ExecuteTime": {
     "end_time": "2022-09-15T15:43:22.254565Z",
     "start_time": "2022-09-15T15:43:10.166782Z"
    }
   },
   "outputs": [],
   "source": [
    "import pandas as pd\n",
    "import os\n",
    "from supervised.automl import AutoML\n",
    "from sklearn.metrics import mean_squared_error"
   ]
  },
  {
   "cell_type": "code",
   "execution_count": 2,
   "id": "0174215d",
   "metadata": {
    "ExecuteTime": {
     "end_time": "2022-09-15T15:43:22.262404Z",
     "start_time": "2022-09-15T15:43:22.259405Z"
    }
   },
   "outputs": [],
   "source": [
    "def list_to_dict(list_a):\n",
    "    dict_a = {}\n",
    "    for elm in list_a:\n",
    "        if elm in dict_a.keys():\n",
    "            dict_a[elm] += 1\n",
    "        else:\n",
    "            dict_a[elm] = 1\n",
    "    return dict_a"
   ]
  },
  {
   "cell_type": "code",
   "execution_count": 3,
   "id": "28ee3128",
   "metadata": {
    "ExecuteTime": {
     "end_time": "2022-09-15T15:43:28.438777Z",
     "start_time": "2022-09-15T15:43:22.267780Z"
    }
   },
   "outputs": [
    {
     "name": "stdout",
     "output_type": "stream",
     "text": [
      "외부온도관측치 33\n",
      "외부습도관측치 33\n",
      "최근분무량 45\n",
      "일간누적분무량 43\n",
      "펌프작동남은시간.1 2\n",
      "외부온도추정관측치 25\n",
      "외부습도추정관측치 25\n",
      "펌프최근분무량 13\n",
      "펌프일간누적분무량 13\n"
     ]
    }
   ],
   "source": [
    "col_list=[]\n",
    "for filename in os.listdir('./data/train_input/'):\n",
    "    df = pd.read_csv(f'./data/train_input/{filename}')\n",
    "    col_list+=list(df.columns)\n",
    "col_dict = list_to_dict(col_list)\n",
    "for key, value in col_dict.items():\n",
    "    if value != 58:\n",
    "        print(key, value)"
   ]
  },
  {
   "cell_type": "code",
   "execution_count": 4,
   "id": "47c02cd3",
   "metadata": {
    "ExecuteTime": {
     "end_time": "2022-09-15T15:43:33.705279Z",
     "start_time": "2022-09-15T15:43:28.472609Z"
    }
   },
   "outputs": [],
   "source": [
    "col_list=[]\n",
    "key_list=[]\n",
    "for filename in os.listdir('./data/train_input/'):\n",
    "    df = pd.read_csv(f'./data/train_input/{filename}')\n",
    "    col_list+=list(df.columns)\n",
    "col_dict = list_to_dict(col_list)\n",
    "for key, value in col_dict.items():\n",
    "    if value != 58:\n",
    "        key_list.append(key)"
   ]
  },
  {
   "cell_type": "code",
   "execution_count": 6,
   "id": "97540fac",
   "metadata": {
    "ExecuteTime": {
     "end_time": "2022-09-15T15:44:21.164346Z",
     "start_time": "2022-09-15T15:44:21.156910Z"
    }
   },
   "outputs": [
    {
     "data": {
      "text/plain": [
       "['외부온도관측치',\n",
       " '외부습도관측치',\n",
       " '최근분무량',\n",
       " '일간누적분무량',\n",
       " '펌프작동남은시간.1',\n",
       " '외부온도추정관측치',\n",
       " '외부습도추정관측치',\n",
       " '펌프최근분무량',\n",
       " '펌프일간누적분무량']"
      ]
     },
     "execution_count": 6,
     "metadata": {},
     "output_type": "execute_result"
    }
   ],
   "source": [
    "key_list"
   ]
  },
  {
   "cell_type": "code",
   "execution_count": 5,
   "id": "82dcd2fc",
   "metadata": {
    "ExecuteTime": {
     "end_time": "2022-09-15T15:43:34.396270Z",
     "start_time": "2022-09-15T15:43:33.723460Z"
    }
   },
   "outputs": [
    {
     "name": "stdout",
     "output_type": "stream",
     "text": [
      "외부온도관측치 3\n",
      "외부습도관측치 3\n",
      "최근분무량 5\n",
      "일간누적분무량 5\n",
      "외부온도추정관측치 3\n",
      "외부습도추정관측치 3\n",
      "펌프최근분무량 1\n",
      "펌프일간누적분무량 1\n"
     ]
    }
   ],
   "source": [
    "col_list=[]\n",
    "for filename in os.listdir('./data/test_input/'):\n",
    "    df = pd.read_csv(f'./data/test_input/{filename}')\n",
    "    col_list+=list(df.columns)\n",
    "col_dict = list_to_dict(col_list)\n",
    "for key, value in col_dict.items():\n",
    "    if value != len(os.listdir('./data/test_input/')):\n",
    "        print(key, value)"
   ]
  },
  {
   "cell_type": "code",
   "execution_count": null,
   "id": "b722f7dd",
   "metadata": {},
   "outputs": [],
   "source": []
  },
  {
   "cell_type": "markdown",
   "id": "9c802293",
   "metadata": {},
   "source": [
    "같은 컬럼의 데이터 찾기"
   ]
  },
  {
   "cell_type": "code",
   "execution_count": 9,
   "id": "06419371",
   "metadata": {
    "ExecuteTime": {
     "end_time": "2022-09-15T18:07:16.512005Z",
     "start_time": "2022-09-15T18:07:11.148840Z"
    }
   },
   "outputs": [
    {
     "name": "stdout",
     "output_type": "stream",
     "text": [
      "TEST_01.csv 's    Case [1, 2, 3, 4, 5, 6, 7, 8, 9, 11, 12, 13, 14, 15, 16, 17, 19, 20, 21, 22, 23, 24, 25, 26, 27, 28, 29, 32, 33, 35]\n",
      "TEST_02.csv 's    Case [1, 2, 3, 4, 5, 6, 7, 8, 9, 11, 12, 13, 14, 15, 16, 17, 19, 20, 21, 22, 23, 24, 25, 26, 27, 28, 29, 32, 33, 35]\n",
      "TEST_03.csv 's    Case [1, 2, 3, 4, 5, 6, 7, 8, 9, 11, 12, 13, 14, 15, 16, 17, 19, 20, 21, 22, 23, 24, 25, 26, 27, 28, 29, 32, 33, 35]\n",
      "TEST_04.csv 's    Case [30, 31, 34, 37, 39, 41, 42, 43, 44, 46, 47, 48, 56]\n",
      "TEST_05.csv 's    Case [30, 31, 34, 37, 39, 41, 42, 43, 44, 46, 47, 48, 56]\n",
      "TEST_06.csv 's    Case [36, 38, 40, 45, 49, 50, 51, 52, 53, 54, 55, 57]\n"
     ]
    }
   ],
   "source": [
    "data_col_list=[set(pd.read_csv(f'./data/train_input/{filename}').columns) for filename in os.listdir('./data/train_input/')]\n",
    "\n",
    "for filename in os.listdir('./data/test_input/'):\n",
    "    test_col=set(pd.read_csv(f'./data/test_input/{filename}').columns)\n",
    "    print(filename, \"\\'s    Case\",[index for index, df_col in enumerate(data_col_list,1) if df_col == test_col])\n",
    "            "
   ]
  }
 ],
 "metadata": {
  "kernelspec": {
   "display_name": "Python 3 (ipykernel)",
   "language": "python",
   "name": "python3"
  },
  "language_info": {
   "codemirror_mode": {
    "name": "ipython",
    "version": 3
   },
   "file_extension": ".py",
   "mimetype": "text/x-python",
   "name": "python",
   "nbconvert_exporter": "python",
   "pygments_lexer": "ipython3",
   "version": "3.8.10"
  },
  "toc": {
   "base_numbering": 1,
   "nav_menu": {},
   "number_sections": true,
   "sideBar": true,
   "skip_h1_title": false,
   "title_cell": "Table of Contents",
   "title_sidebar": "Contents",
   "toc_cell": false,
   "toc_position": {},
   "toc_section_display": true,
   "toc_window_display": false
  },
  "varInspector": {
   "cols": {
    "lenName": 16,
    "lenType": 16,
    "lenVar": 40
   },
   "kernels_config": {
    "python": {
     "delete_cmd_postfix": "",
     "delete_cmd_prefix": "del ",
     "library": "var_list.py",
     "varRefreshCmd": "print(var_dic_list())"
    },
    "r": {
     "delete_cmd_postfix": ") ",
     "delete_cmd_prefix": "rm(",
     "library": "var_list.r",
     "varRefreshCmd": "cat(var_dic_list()) "
    }
   },
   "types_to_exclude": [
    "module",
    "function",
    "builtin_function_or_method",
    "instance",
    "_Feature"
   ],
   "window_display": false
  }
 },
 "nbformat": 4,
 "nbformat_minor": 5
}
