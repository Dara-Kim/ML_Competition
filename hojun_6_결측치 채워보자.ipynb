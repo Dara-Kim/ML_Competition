{
 "cells": [
  {
   "cell_type": "code",
   "execution_count": 1,
   "id": "ef789e51",
   "metadata": {},
   "outputs": [],
   "source": [
    "from prophet import Prophet\n",
    "import pandas as pd\n",
    "import os\n",
    "import time"
   ]
  },
  {
   "cell_type": "code",
   "execution_count": 2,
   "id": "b1b6b363",
   "metadata": {},
   "outputs": [],
   "source": [
    "null_37_list = ['CASE_01.csv',\n",
    " 'CASE_02.csv',\n",
    " 'CASE_04.csv',\n",
    " 'CASE_06.csv',\n",
    " 'CASE_07.csv',\n",
    " 'CASE_08.csv',\n",
    " 'CASE_09.csv',\n",
    " 'CASE_14.csv',\n",
    " 'CASE_15.csv',\n",
    " 'CASE_16.csv',\n",
    " 'CASE_17.csv',\n",
    " 'CASE_18.csv',\n",
    " 'CASE_19.csv',\n",
    " 'CASE_21.csv',\n",
    " 'CASE_22.csv',\n",
    " 'CASE_23.csv',\n",
    " 'CASE_24.csv',\n",
    " 'CASE_28.csv',\n",
    " 'CASE_30.csv',\n",
    " 'CASE_35.csv',\n",
    " 'CASE_38.csv',\n",
    " 'CASE_40.csv',\n",
    " 'CASE_41.csv',\n",
    " 'CASE_42.csv',\n",
    " 'CASE_44.csv',\n",
    " 'CASE_45.csv',\n",
    " 'CASE_48.csv',\n",
    " 'CASE_52.csv',\n",
    " 'CASE_53.csv']"
   ]
  },
  {
   "cell_type": "code",
   "execution_count": 3,
   "id": "e7632445",
   "metadata": {},
   "outputs": [],
   "source": [
    "null_35_list=['CASE_37.csv',\n",
    " 'CASE_39.csv',\n",
    " 'CASE_43.csv',\n",
    " 'CASE_47.csv',\n",
    " 'CASE_49.csv',\n",
    " 'CASE_50.csv',\n",
    " 'CASE_54.csv',\n",
    " 'CASE_55.csv']"
   ]
  },
  {
   "cell_type": "code",
   "execution_count": null,
   "id": "2b111725",
   "metadata": {
    "scrolled": true
   },
   "outputs": [
    {
     "name": "stderr",
     "output_type": "stream",
     "text": [
      "INFO:prophet:Disabling yearly seasonality. Run prophet with yearly_seasonality=True to override this.\n"
     ]
    },
    {
     "name": "stdout",
     "output_type": "stream",
     "text": [
      "Initial log joint probability = -179.643\n",
      "    Iter      log prob        ||dx||      ||grad||       alpha      alpha0  # evals  Notes \n",
      "      99         88641     0.0217022        115402      0.4052           1      130   \n",
      "    Iter      log prob        ||dx||      ||grad||       alpha      alpha0  # evals  Notes \n",
      "     199       89160.4    0.00223044       8193.34           1           1      245   \n",
      "    Iter      log prob        ||dx||      ||grad||       alpha      alpha0  # evals  Notes \n",
      "     299       89201.2    0.00232478       3556.71           1           1      352   \n",
      "    Iter      log prob        ||dx||      ||grad||       alpha      alpha0  # evals  Notes \n",
      "     399       89226.7    0.00260147       3016.83           1           1      462   \n",
      "    Iter      log prob        ||dx||      ||grad||       alpha      alpha0  # evals  Notes \n",
      "     499       89251.6   0.000510503        2270.3     0.05011           1      580   \n",
      "    Iter      log prob        ||dx||      ||grad||       alpha      alpha0  # evals  Notes \n",
      "     599       89265.9    0.00134137       2701.15      0.6927      0.6927      694   \n",
      "    Iter      log prob        ||dx||      ||grad||       alpha      alpha0  # evals  Notes \n",
      "     699       89294.8   9.46743e-05       932.941           1           1      812   \n",
      "    Iter      log prob        ||dx||      ||grad||       alpha      alpha0  # evals  Notes \n",
      "     799       89312.7     0.0132421       3090.32      0.3412           1      932   \n",
      "    Iter      log prob        ||dx||      ||grad||       alpha      alpha0  # evals  Notes \n",
      "     899       89321.2    0.00256571        2138.4           1           1     1040   \n",
      "    Iter      log prob        ||dx||      ||grad||       alpha      alpha0  # evals  Notes \n",
      "     999       89323.5   0.000586032       1087.84           1           1     1151   \n",
      "    Iter      log prob        ||dx||      ||grad||       alpha      alpha0  # evals  Notes \n",
      "    1099       89327.3     0.0016208       1953.34           1           1     1262   \n",
      "    Iter      log prob        ||dx||      ||grad||       alpha      alpha0  # evals  Notes \n",
      "    1199       89335.9    0.00133653       921.988       1.262      0.1262     1371   \n",
      "    Iter      log prob        ||dx||      ||grad||       alpha      alpha0  # evals  Notes \n",
      "    1299       89340.3   0.000904768       1079.68           1           1     1483   \n",
      "    Iter      log prob        ||dx||      ||grad||       alpha      alpha0  # evals  Notes \n",
      "    1399       89346.9   0.000193844       215.381           1           1     1602   \n",
      "    Iter      log prob        ||dx||      ||grad||       alpha      alpha0  # evals  Notes \n",
      "    1499       89349.9    0.00113895       513.841           1           1     1720   \n",
      "    Iter      log prob        ||dx||      ||grad||       alpha      alpha0  # evals  Notes \n",
      "    1599       89350.6   0.000274341       609.499      0.2518           1     1832   \n",
      "    Iter      log prob        ||dx||      ||grad||       alpha      alpha0  # evals  Notes \n",
      "    1632       89350.7   0.000142151       82.5717           1           1     1867   \n",
      "Optimization terminated normally: \n",
      "  Convergence detected: relative gradient magnitude is below tolerance\n",
      "25395 내부온도관측치 done\n",
      "--------------------------------\n"
     ]
    },
    {
     "name": "stderr",
     "output_type": "stream",
     "text": [
      "INFO:prophet:Disabling yearly seasonality. Run prophet with yearly_seasonality=True to override this.\n"
     ]
    },
    {
     "name": "stdout",
     "output_type": "stream",
     "text": [
      "Initial log joint probability = -309.86\n",
      "    Iter      log prob        ||dx||      ||grad||       alpha      alpha0  # evals  Notes \n",
      "      99        132915    0.00923784       22630.9           1           1      129   \n",
      "    Iter      log prob        ||dx||      ||grad||       alpha      alpha0  # evals  Notes \n",
      "     199        134599    0.00886919       15020.3           1           1      241   \n",
      "    Iter      log prob        ||dx||      ||grad||       alpha      alpha0  # evals  Notes \n",
      "     299        135068    0.00474973       20525.2           1           1      353   \n",
      "    Iter      log prob        ||dx||      ||grad||       alpha      alpha0  # evals  Notes \n",
      "     399        135363    0.00126494       6872.57           1           1      466   \n",
      "    Iter      log prob        ||dx||      ||grad||       alpha      alpha0  # evals  Notes \n",
      "     499        135461   0.000353811       6122.84      0.6255      0.6255      579   \n",
      "    Iter      log prob        ||dx||      ||grad||       alpha      alpha0  # evals  Notes \n",
      "     599        135586     0.0019973       9154.44      0.2373      0.2373      690   \n",
      "    Iter      log prob        ||dx||      ||grad||       alpha      alpha0  # evals  Notes \n",
      "     699        135672     0.0498125       38125.7           1           1      807   \n",
      "    Iter      log prob        ||dx||      ||grad||       alpha      alpha0  # evals  Notes \n",
      "     799        135730    0.00260007       3495.19           1           1      915   \n",
      "    Iter      log prob        ||dx||      ||grad||       alpha      alpha0  # evals  Notes \n",
      "     899        135767   0.000354028        1678.5           1           1     1022   \n",
      "    Iter      log prob        ||dx||      ||grad||       alpha      alpha0  # evals  Notes \n",
      "     999        135788    0.00282162       4547.79           1           1     1130   \n",
      "    Iter      log prob        ||dx||      ||grad||       alpha      alpha0  # evals  Notes \n",
      "    1099        135794    0.00110957       2109.37           1           1     1239   \n",
      "    Iter      log prob        ||dx||      ||grad||       alpha      alpha0  # evals  Notes \n",
      "    1199        135809     0.0178531       8472.36           1           1     1351   \n",
      "    Iter      log prob        ||dx||      ||grad||       alpha      alpha0  # evals  Notes \n",
      "    1299        135838   0.000619747        1056.6           1           1     1464   \n",
      "    Iter      log prob        ||dx||      ||grad||       alpha      alpha0  # evals  Notes \n",
      "    1399        135850      0.002103       959.432           1           1     1580   \n",
      "    Iter      log prob        ||dx||      ||grad||       alpha      alpha0  # evals  Notes \n",
      "    1499        135858   0.000389847       1463.75      0.4355      0.4355     1688   \n",
      "    Iter      log prob        ||dx||      ||grad||       alpha      alpha0  # evals  Notes \n",
      "    1550        135860   0.000146399       214.012      0.8122      0.8122     1745   \n",
      "Optimization terminated normally: \n",
      "  Convergence detected: relative gradient magnitude is below tolerance\n",
      "38473 내부온도관측치 done\n",
      "--------------------------------\n"
     ]
    },
    {
     "name": "stderr",
     "output_type": "stream",
     "text": [
      "INFO:prophet:Disabling yearly seasonality. Run prophet with yearly_seasonality=True to override this.\n"
     ]
    },
    {
     "name": "stdout",
     "output_type": "stream",
     "text": [
      "Initial log joint probability = -179.643\n",
      "    Iter      log prob        ||dx||      ||grad||       alpha      alpha0  # evals  Notes \n",
      "      99         88641     0.0217022        115402      0.4052           1      130   \n",
      "    Iter      log prob        ||dx||      ||grad||       alpha      alpha0  # evals  Notes \n",
      "     199       89160.4    0.00223044       8193.34           1           1      245   \n",
      "    Iter      log prob        ||dx||      ||grad||       alpha      alpha0  # evals  Notes \n",
      "     299       89201.2    0.00232478       3556.71           1           1      352   \n",
      "    Iter      log prob        ||dx||      ||grad||       alpha      alpha0  # evals  Notes \n",
      "     399       89226.7    0.00260147       3016.83           1           1      462   \n",
      "    Iter      log prob        ||dx||      ||grad||       alpha      alpha0  # evals  Notes \n",
      "     499       89251.6   0.000510503        2270.3     0.05011           1      580   \n",
      "    Iter      log prob        ||dx||      ||grad||       alpha      alpha0  # evals  Notes \n",
      "     599       89265.9    0.00134137       2701.15      0.6927      0.6927      694   \n",
      "    Iter      log prob        ||dx||      ||grad||       alpha      alpha0  # evals  Notes \n",
      "     699       89294.8   9.46743e-05       932.941           1           1      812   \n",
      "    Iter      log prob        ||dx||      ||grad||       alpha      alpha0  # evals  Notes \n",
      "     799       89312.7     0.0132421       3090.32      0.3412           1      932   \n",
      "    Iter      log prob        ||dx||      ||grad||       alpha      alpha0  # evals  Notes \n",
      "     899       89321.2    0.00256571        2138.4           1           1     1040   \n",
      "    Iter      log prob        ||dx||      ||grad||       alpha      alpha0  # evals  Notes \n",
      "     999       89323.5   0.000586032       1087.84           1           1     1151   \n",
      "    Iter      log prob        ||dx||      ||grad||       alpha      alpha0  # evals  Notes \n",
      "    1099       89327.3     0.0016208       1953.34           1           1     1262   \n",
      "    Iter      log prob        ||dx||      ||grad||       alpha      alpha0  # evals  Notes \n",
      "    1199       89335.9    0.00133653       921.988       1.262      0.1262     1371   \n",
      "    Iter      log prob        ||dx||      ||grad||       alpha      alpha0  # evals  Notes \n",
      "    1299       89340.3   0.000904768       1079.68           1           1     1483   \n",
      "    Iter      log prob        ||dx||      ||grad||       alpha      alpha0  # evals  Notes \n",
      "    1399       89346.9   0.000193844       215.381           1           1     1602   \n",
      "    Iter      log prob        ||dx||      ||grad||       alpha      alpha0  # evals  Notes \n",
      "    1499       89349.9    0.00113895       513.841           1           1     1720   \n",
      "    Iter      log prob        ||dx||      ||grad||       alpha      alpha0  # evals  Notes \n",
      "    1599       89350.6   0.000274341       609.499      0.2518           1     1832   \n",
      "    Iter      log prob        ||dx||      ||grad||       alpha      alpha0  # evals  Notes \n",
      "    1632       89350.7   0.000142151       82.5717           1           1     1867   \n",
      "Optimization terminated normally: \n",
      "  Convergence detected: relative gradient magnitude is below tolerance\n"
     ]
    }
   ],
   "source": [
    "if not os.path.isdir('./non_null'):\n",
    "    os.mkdir('./non_null')\n",
    "for filename in ['CASE_01.csv', 'CASE_02.csv', 'CASE_04.csv']:\n",
    "    df = pd.read_csv(f'./data/train_input/{filename}')\n",
    "    for col in df.columns[1:]:\n",
    "        for null_index in df[df[col].isnull()==True].index:\n",
    "            pdf=df[['시간',df.columns[1]]][:null_index].copy()\n",
    "            pdf.columns=['ds','y']\n",
    "            m = Prophet()\n",
    "            m.fit(pdf)\n",
    "            future = m.make_future_dataframe(periods=1, freq='min')\n",
    "            forecast = m.predict(future)\n",
    "            df.loc[null_index,col]=list(forecast['yhat'])[-1]\n",
    "            print(null_index, col, 'done')\n",
    "            print('--------------------------------')\n",
    "    df.to_csv(f'./non_null/{filename}')"
   ]
  },
  {
   "cell_type": "code",
   "execution_count": null,
   "id": "2b5a66d5",
   "metadata": {},
   "outputs": [],
   "source": []
  }
 ],
 "metadata": {
  "kernelspec": {
   "display_name": "Python 3 (ipykernel)",
   "language": "python",
   "name": "python3"
  },
  "language_info": {
   "codemirror_mode": {
    "name": "ipython",
    "version": 3
   },
   "file_extension": ".py",
   "mimetype": "text/x-python",
   "name": "python",
   "nbconvert_exporter": "python",
   "pygments_lexer": "ipython3",
   "version": "3.8.10"
  }
 },
 "nbformat": 4,
 "nbformat_minor": 5
}
