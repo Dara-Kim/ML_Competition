{
 "cells": [
  {
   "cell_type": "code",
   "execution_count": 1,
   "id": "bc0d8946",
   "metadata": {
    "ExecuteTime": {
     "end_time": "2023-01-29T18:27:35.954299Z",
     "start_time": "2023-01-29T18:27:34.878261Z"
    }
   },
   "outputs": [],
   "source": [
    "from tqdm import tqdm\n",
    "import os\n",
    "import pandas as pd\n",
    "from itertools import product\n",
    "import time\n",
    "import warnings\n",
    "\n",
    "from sklearn.ensemble import RandomForestClassifier\n",
    "from sklearn.model_selection import train_test_split\n",
    "from sklearn.metrics import f1_score, accuracy_score\n",
    "from sklearn.metrics import confusion_matrix, ConfusionMatrixDisplay\n",
    "\n",
    "import matplotlib.pyplot as plt"
   ]
  },
  {
   "cell_type": "code",
   "execution_count": 2,
   "id": "0cb7e9fd",
   "metadata": {
    "ExecuteTime": {
     "end_time": "2023-01-29T18:27:35.958427Z",
     "start_time": "2023-01-29T18:27:35.955575Z"
    }
   },
   "outputs": [],
   "source": [
    "warnings.filterwarnings(action='ignore')"
   ]
  },
  {
   "cell_type": "code",
   "execution_count": 3,
   "id": "8cf67356",
   "metadata": {
    "ExecuteTime": {
     "end_time": "2023-01-29T18:27:35.966872Z",
     "start_time": "2023-01-29T18:27:35.961149Z"
    }
   },
   "outputs": [
    {
     "name": "stdout",
     "output_type": "stream",
     "text": [
      "('14', 'b') ('14', 'm') ('15', 'b') ('15', 'm') ('16', 'b') ('16', 'm') ('17', 'b') ('17', 'm') ('18', 'b') ('18', 'm') ('19', 'b') ('19', 'm') ('20', 'b') ('20', 'm') ('21', 'b') ('21', 'm')\n"
     ]
    }
   ],
   "source": [
    "print(*product( map(str, range(14,22)),'bm'))"
   ]
  },
  {
   "cell_type": "code",
   "execution_count": 4,
   "id": "c17bc854",
   "metadata": {
    "ExecuteTime": {
     "end_time": "2023-01-29T18:27:35.976425Z",
     "start_time": "2023-01-29T18:27:35.968974Z"
    }
   },
   "outputs": [
    {
     "data": {
      "text/plain": [
       "['2014_benign_api.csv',\n",
       " '2014_malware_api.csv',\n",
       " '2015_benign_api.csv',\n",
       " '2015_malware_api.csv',\n",
       " '2016_benign_api.csv',\n",
       " '2016_malware_api.csv',\n",
       " '2017_benign_api.csv',\n",
       " '2017_malware_api.csv',\n",
       " '2018_benign_api.csv',\n",
       " '2018_malware_api.csv',\n",
       " '2019_benign_api.csv',\n",
       " '2019_malware_api.csv',\n",
       " '2020_benign_api.csv',\n",
       " '2020_malware_api.csv',\n",
       " '2021_benign_api.csv',\n",
       " '2021_malware_api.csv']"
      ]
     },
     "execution_count": 4,
     "metadata": {},
     "output_type": "execute_result"
    }
   ],
   "source": [
    "os.listdir('./csv/')"
   ]
  },
  {
   "cell_type": "code",
   "execution_count": 5,
   "id": "3caa97b6",
   "metadata": {
    "ExecuteTime": {
     "end_time": "2023-01-29T18:27:42.933455Z",
     "start_time": "2023-01-29T18:27:35.978059Z"
    }
   },
   "outputs": [
    {
     "name": "stdout",
     "output_type": "stream",
     "text": [
      "14b 2014_benign_api.csv\n",
      "14m 2014_malware_api.csv\n",
      "15b 2015_benign_api.csv\n",
      "15m 2015_malware_api.csv\n",
      "16b 2016_benign_api.csv\n",
      "16m 2016_malware_api.csv\n",
      "17b 2017_benign_api.csv\n",
      "17m 2017_malware_api.csv\n",
      "18b 2018_benign_api.csv\n",
      "18m 2018_malware_api.csv\n",
      "19b 2019_benign_api.csv\n",
      "19m 2019_malware_api.csv\n",
      "20b 2020_benign_api.csv\n",
      "20m 2020_malware_api.csv\n",
      "21b 2021_benign_api.csv\n",
      "21m 2021_malware_api.csv\n"
     ]
    }
   ],
   "source": [
    "df_dict= dict()\n",
    "for i,v in enumerate(product( map(str, range(14,22)),'bm')):\n",
    "    file=os.listdir('./csv')[i]\n",
    "    key = ''.join(v)\n",
    "    df_dict[key]= pd.read_csv(f'./csv/{file}', index_col=0)\n",
    "    print(key, file)"
   ]
  },
  {
   "cell_type": "code",
   "execution_count": 6,
   "id": "d63eb0de",
   "metadata": {
    "ExecuteTime": {
     "end_time": "2023-01-29T18:27:42.937424Z",
     "start_time": "2023-01-29T18:27:42.935127Z"
    }
   },
   "outputs": [],
   "source": [
    "name_dict=dict()\n",
    "for key in df_dict.keys():\n",
    "    if key[2] == 'b':\n",
    "        name_dict[key] = '20'+key[:2]+'년 Benign'\n",
    "    else:\n",
    "        name_dict[key] = '20'+key[:2]+'년 Malware'"
   ]
  },
  {
   "cell_type": "code",
   "execution_count": 7,
   "id": "bd0d0e9a",
   "metadata": {
    "ExecuteTime": {
     "end_time": "2023-01-29T18:27:42.955460Z",
     "start_time": "2023-01-29T18:27:42.939713Z"
    }
   },
   "outputs": [
    {
     "data": {
      "text/html": [
       "<div>\n",
       "<style scoped>\n",
       "    .dataframe tbody tr th:only-of-type {\n",
       "        vertical-align: middle;\n",
       "    }\n",
       "\n",
       "    .dataframe tbody tr th {\n",
       "        vertical-align: top;\n",
       "    }\n",
       "\n",
       "    .dataframe thead th {\n",
       "        text-align: right;\n",
       "    }\n",
       "</style>\n",
       "<table border=\"1\" class=\"dataframe\">\n",
       "  <thead>\n",
       "    <tr style=\"text-align: right;\">\n",
       "      <th></th>\n",
       "      <th>Landroid/accounts/AbstractAccountAuthenticator;.getAccountRemovalAllowed:(Landroid/accounts/AccountAuthenticatorResponse;Landroid/accounts/Account;)Landroid/os/Bundle;</th>\n",
       "      <th>Landroid/accounts/AccountManager;.addAccount:(Ljava/lang/String;Ljava/lang/String;[Ljava/lang/String;Landroid/os/Bundle;Landroid/app/Activity;Landroid/accounts/AccountManagerCallback;Landroid/os/Handler;)Landroid/accounts/AccountManagerFuture;</th>\n",
       "      <th>Landroid/accounts/AccountManager;.addAccountExplicitly:(Landroid/accounts/Account;Ljava/lang/String;Landroid/os/Bundle;)Z</th>\n",
       "      <th>Landroid/accounts/AccountManager;.addOnAccountsUpdatedListener:(Landroid/accounts/OnAccountsUpdateListener;Landroid/os/Handler;Z)V</th>\n",
       "      <th>Landroid/accounts/AccountManager;.blockingGetAuthToken:(Landroid/accounts/Account;Ljava/lang/String;Z)Ljava/lang/String;</th>\n",
       "      <th>Landroid/accounts/AccountManager;.clearPassword:(Landroid/accounts/Account;)V</th>\n",
       "      <th>Landroid/accounts/AccountManager;.confirmCredentials:(Landroid/accounts/Account;Landroid/os/Bundle;Landroid/app/Activity;Landroid/accounts/AccountManagerCallback;Landroid/os/Handler;)Landroid/accounts/AccountManagerFuture;</th>\n",
       "      <th>Landroid/accounts/AccountManager;.getAccounts:()[Landroid/accounts/Account;</th>\n",
       "      <th>Landroid/accounts/AccountManager;.getAccountsByType:(Ljava/lang/String;)[Landroid/accounts/Account;</th>\n",
       "      <th>Landroid/accounts/AccountManager;.getAccountsByTypeAndFeatures:(Ljava/lang/String;[Ljava/lang/String;Landroid/accounts/AccountManagerCallback;Landroid/os/Handler;)Landroid/accounts/AccountManagerFuture;</th>\n",
       "      <th>...</th>\n",
       "      <th>Ljavax/net/ssl/HttpsURLConnection;.getOutputStream:()Ljava/io/OutputStream;</th>\n",
       "      <th>Ljavax/net/ssl/HttpsURLConnection;.setRequestMethod:(Ljava/lang/String;)V</th>\n",
       "      <th>Ljavax/net/ssl/SSLSocket;.getInputStream:()Ljava/io/InputStream;</th>\n",
       "      <th>Ljavax/net/ssl/SSLSocket;.getOutputStream:()Ljava/io/OutputStream;</th>\n",
       "      <th>Lorg/w3c/dom/Document;.getDocumentElement:()Lorg/w3c/dom/Element;</th>\n",
       "      <th>Lorg/w3c/dom/Document;.getElementsByTagName:(Ljava/lang/String;)Lorg/w3c/dom/NodeList;</th>\n",
       "      <th>Lorg/w3c/dom/Document;.getElementsByTagNameNS:(Ljava/lang/String;Ljava/lang/String;)Lorg/w3c/dom/NodeList;</th>\n",
       "      <th>Lorg/w3c/dom/Element;.getAttribute:(Ljava/lang/String;)Ljava/lang/String;</th>\n",
       "      <th>Lorg/w3c/dom/Element;.getElementsByTagName:(Ljava/lang/String;)Lorg/w3c/dom/NodeList;</th>\n",
       "      <th>Lorg/w3c/dom/Element;.getElementsByTagNameNS:(Ljava/lang/String;Ljava/lang/String;)Lorg/w3c/dom/NodeList;</th>\n",
       "    </tr>\n",
       "    <tr>\n",
       "      <th>apkname</th>\n",
       "      <th></th>\n",
       "      <th></th>\n",
       "      <th></th>\n",
       "      <th></th>\n",
       "      <th></th>\n",
       "      <th></th>\n",
       "      <th></th>\n",
       "      <th></th>\n",
       "      <th></th>\n",
       "      <th></th>\n",
       "      <th></th>\n",
       "      <th></th>\n",
       "      <th></th>\n",
       "      <th></th>\n",
       "      <th></th>\n",
       "      <th></th>\n",
       "      <th></th>\n",
       "      <th></th>\n",
       "      <th></th>\n",
       "      <th></th>\n",
       "      <th></th>\n",
       "    </tr>\n",
       "  </thead>\n",
       "  <tbody>\n",
       "    <tr>\n",
       "      <th>com.amazesoft.stylecollage_9E63B0985CAA1981C829AC67DF820261</th>\n",
       "      <td>0</td>\n",
       "      <td>0</td>\n",
       "      <td>0</td>\n",
       "      <td>0</td>\n",
       "      <td>0</td>\n",
       "      <td>0</td>\n",
       "      <td>0</td>\n",
       "      <td>0</td>\n",
       "      <td>0</td>\n",
       "      <td>0</td>\n",
       "      <td>...</td>\n",
       "      <td>0</td>\n",
       "      <td>0</td>\n",
       "      <td>0</td>\n",
       "      <td>0</td>\n",
       "      <td>0</td>\n",
       "      <td>0</td>\n",
       "      <td>0</td>\n",
       "      <td>0</td>\n",
       "      <td>0</td>\n",
       "      <td>0</td>\n",
       "    </tr>\n",
       "    <tr>\n",
       "      <th>com.infocrib.HRInterviewQuestions_9522ebf4a99c2a4bd9349a8d4a6eb8fb</th>\n",
       "      <td>0</td>\n",
       "      <td>0</td>\n",
       "      <td>0</td>\n",
       "      <td>0</td>\n",
       "      <td>0</td>\n",
       "      <td>0</td>\n",
       "      <td>0</td>\n",
       "      <td>0</td>\n",
       "      <td>0</td>\n",
       "      <td>0</td>\n",
       "      <td>...</td>\n",
       "      <td>0</td>\n",
       "      <td>0</td>\n",
       "      <td>0</td>\n",
       "      <td>0</td>\n",
       "      <td>0</td>\n",
       "      <td>0</td>\n",
       "      <td>0</td>\n",
       "      <td>0</td>\n",
       "      <td>0</td>\n",
       "      <td>0</td>\n",
       "    </tr>\n",
       "    <tr>\n",
       "      <th>com.radiogammastereo.radio_3445f51956e912e5e1dec87dda755940</th>\n",
       "      <td>0</td>\n",
       "      <td>0</td>\n",
       "      <td>0</td>\n",
       "      <td>0</td>\n",
       "      <td>0</td>\n",
       "      <td>0</td>\n",
       "      <td>0</td>\n",
       "      <td>0</td>\n",
       "      <td>0</td>\n",
       "      <td>0</td>\n",
       "      <td>...</td>\n",
       "      <td>0</td>\n",
       "      <td>0</td>\n",
       "      <td>0</td>\n",
       "      <td>0</td>\n",
       "      <td>2</td>\n",
       "      <td>0</td>\n",
       "      <td>0</td>\n",
       "      <td>3</td>\n",
       "      <td>5</td>\n",
       "      <td>0</td>\n",
       "    </tr>\n",
       "    <tr>\n",
       "      <th>cl.RingENergy_ec0092c2ee63de3dc8c3bbfb6b3e6401</th>\n",
       "      <td>0</td>\n",
       "      <td>0</td>\n",
       "      <td>0</td>\n",
       "      <td>0</td>\n",
       "      <td>0</td>\n",
       "      <td>0</td>\n",
       "      <td>0</td>\n",
       "      <td>0</td>\n",
       "      <td>0</td>\n",
       "      <td>0</td>\n",
       "      <td>...</td>\n",
       "      <td>0</td>\n",
       "      <td>0</td>\n",
       "      <td>0</td>\n",
       "      <td>0</td>\n",
       "      <td>4</td>\n",
       "      <td>0</td>\n",
       "      <td>0</td>\n",
       "      <td>2</td>\n",
       "      <td>3</td>\n",
       "      <td>0</td>\n",
       "    </tr>\n",
       "    <tr>\n",
       "      <th>com.addgames.GreedyFatBear_EN_15aba9f1a0007aebeabb98306082840b</th>\n",
       "      <td>0</td>\n",
       "      <td>0</td>\n",
       "      <td>0</td>\n",
       "      <td>0</td>\n",
       "      <td>0</td>\n",
       "      <td>0</td>\n",
       "      <td>0</td>\n",
       "      <td>0</td>\n",
       "      <td>0</td>\n",
       "      <td>0</td>\n",
       "      <td>...</td>\n",
       "      <td>0</td>\n",
       "      <td>0</td>\n",
       "      <td>0</td>\n",
       "      <td>0</td>\n",
       "      <td>0</td>\n",
       "      <td>0</td>\n",
       "      <td>0</td>\n",
       "      <td>0</td>\n",
       "      <td>0</td>\n",
       "      <td>0</td>\n",
       "    </tr>\n",
       "    <tr>\n",
       "      <th>...</th>\n",
       "      <td>...</td>\n",
       "      <td>...</td>\n",
       "      <td>...</td>\n",
       "      <td>...</td>\n",
       "      <td>...</td>\n",
       "      <td>...</td>\n",
       "      <td>...</td>\n",
       "      <td>...</td>\n",
       "      <td>...</td>\n",
       "      <td>...</td>\n",
       "      <td>...</td>\n",
       "      <td>...</td>\n",
       "      <td>...</td>\n",
       "      <td>...</td>\n",
       "      <td>...</td>\n",
       "      <td>...</td>\n",
       "      <td>...</td>\n",
       "      <td>...</td>\n",
       "      <td>...</td>\n",
       "      <td>...</td>\n",
       "      <td>...</td>\n",
       "    </tr>\n",
       "    <tr>\n",
       "      <th>com.carroll_3140e1c6f9a03d12e1bdee648c5d7b2c</th>\n",
       "      <td>0</td>\n",
       "      <td>0</td>\n",
       "      <td>0</td>\n",
       "      <td>0</td>\n",
       "      <td>0</td>\n",
       "      <td>0</td>\n",
       "      <td>0</td>\n",
       "      <td>0</td>\n",
       "      <td>0</td>\n",
       "      <td>0</td>\n",
       "      <td>...</td>\n",
       "      <td>0</td>\n",
       "      <td>0</td>\n",
       "      <td>0</td>\n",
       "      <td>0</td>\n",
       "      <td>0</td>\n",
       "      <td>0</td>\n",
       "      <td>0</td>\n",
       "      <td>0</td>\n",
       "      <td>0</td>\n",
       "      <td>0</td>\n",
       "    </tr>\n",
       "    <tr>\n",
       "      <th>com.mobile9.messaging_a736f91b55ff9a8a9679aa3501da2184</th>\n",
       "      <td>0</td>\n",
       "      <td>0</td>\n",
       "      <td>0</td>\n",
       "      <td>0</td>\n",
       "      <td>0</td>\n",
       "      <td>0</td>\n",
       "      <td>0</td>\n",
       "      <td>0</td>\n",
       "      <td>0</td>\n",
       "      <td>0</td>\n",
       "      <td>...</td>\n",
       "      <td>0</td>\n",
       "      <td>0</td>\n",
       "      <td>0</td>\n",
       "      <td>0</td>\n",
       "      <td>1</td>\n",
       "      <td>4</td>\n",
       "      <td>1</td>\n",
       "      <td>1</td>\n",
       "      <td>1</td>\n",
       "      <td>1</td>\n",
       "    </tr>\n",
       "    <tr>\n",
       "      <th>com.stackexchange.marvin_e37ed317c795116fe62164ab32f77855</th>\n",
       "      <td>0</td>\n",
       "      <td>0</td>\n",
       "      <td>0</td>\n",
       "      <td>0</td>\n",
       "      <td>0</td>\n",
       "      <td>0</td>\n",
       "      <td>0</td>\n",
       "      <td>0</td>\n",
       "      <td>2</td>\n",
       "      <td>0</td>\n",
       "      <td>...</td>\n",
       "      <td>1</td>\n",
       "      <td>0</td>\n",
       "      <td>0</td>\n",
       "      <td>0</td>\n",
       "      <td>0</td>\n",
       "      <td>0</td>\n",
       "      <td>0</td>\n",
       "      <td>0</td>\n",
       "      <td>0</td>\n",
       "      <td>0</td>\n",
       "    </tr>\n",
       "    <tr>\n",
       "      <th>com.dmeautomotive.driverconnect.myjenkinsandwynne_bfc171d98ef3d190462550761b662173</th>\n",
       "      <td>0</td>\n",
       "      <td>0</td>\n",
       "      <td>0</td>\n",
       "      <td>0</td>\n",
       "      <td>0</td>\n",
       "      <td>0</td>\n",
       "      <td>0</td>\n",
       "      <td>0</td>\n",
       "      <td>0</td>\n",
       "      <td>0</td>\n",
       "      <td>...</td>\n",
       "      <td>0</td>\n",
       "      <td>0</td>\n",
       "      <td>0</td>\n",
       "      <td>0</td>\n",
       "      <td>0</td>\n",
       "      <td>0</td>\n",
       "      <td>0</td>\n",
       "      <td>0</td>\n",
       "      <td>0</td>\n",
       "      <td>0</td>\n",
       "    </tr>\n",
       "    <tr>\n",
       "      <th>com.Lottow.newlotto_503d5c24b329e60f835400d2ff594f63</th>\n",
       "      <td>0</td>\n",
       "      <td>0</td>\n",
       "      <td>0</td>\n",
       "      <td>0</td>\n",
       "      <td>0</td>\n",
       "      <td>0</td>\n",
       "      <td>0</td>\n",
       "      <td>0</td>\n",
       "      <td>0</td>\n",
       "      <td>0</td>\n",
       "      <td>...</td>\n",
       "      <td>0</td>\n",
       "      <td>0</td>\n",
       "      <td>0</td>\n",
       "      <td>0</td>\n",
       "      <td>0</td>\n",
       "      <td>0</td>\n",
       "      <td>0</td>\n",
       "      <td>0</td>\n",
       "      <td>0</td>\n",
       "      <td>0</td>\n",
       "    </tr>\n",
       "  </tbody>\n",
       "</table>\n",
       "<p>1000 rows × 1848 columns</p>\n",
       "</div>"
      ],
      "text/plain": [
       "                                                    Landroid/accounts/AbstractAccountAuthenticator;.getAccountRemovalAllowed:(Landroid/accounts/AccountAuthenticatorResponse;Landroid/accounts/Account;)Landroid/os/Bundle;  \\\n",
       "apkname                                                                                                                                                                                                                       \n",
       "com.amazesoft.stylecollage_9E63B0985CAA1981C829...                                                  0                                                                                                                         \n",
       "com.infocrib.HRInterviewQuestions_9522ebf4a99c2...                                                  0                                                                                                                         \n",
       "com.radiogammastereo.radio_3445f51956e912e5e1de...                                                  0                                                                                                                         \n",
       "cl.RingENergy_ec0092c2ee63de3dc8c3bbfb6b3e6401                                                      0                                                                                                                         \n",
       "com.addgames.GreedyFatBear_EN_15aba9f1a0007aebe...                                                  0                                                                                                                         \n",
       "...                                                                                               ...                                                                                                                         \n",
       "com.carroll_3140e1c6f9a03d12e1bdee648c5d7b2c                                                        0                                                                                                                         \n",
       "com.mobile9.messaging_a736f91b55ff9a8a9679aa350...                                                  0                                                                                                                         \n",
       "com.stackexchange.marvin_e37ed317c795116fe62164...                                                  0                                                                                                                         \n",
       "com.dmeautomotive.driverconnect.myjenkinsandwyn...                                                  0                                                                                                                         \n",
       "com.Lottow.newlotto_503d5c24b329e60f835400d2ff5...                                                  0                                                                                                                         \n",
       "\n",
       "                                                    Landroid/accounts/AccountManager;.addAccount:(Ljava/lang/String;Ljava/lang/String;[Ljava/lang/String;Landroid/os/Bundle;Landroid/app/Activity;Landroid/accounts/AccountManagerCallback;Landroid/os/Handler;)Landroid/accounts/AccountManagerFuture;  \\\n",
       "apkname                                                                                                                                                                                                                                                                                                   \n",
       "com.amazesoft.stylecollage_9E63B0985CAA1981C829...                                                  0                                                                                                                                                                                                     \n",
       "com.infocrib.HRInterviewQuestions_9522ebf4a99c2...                                                  0                                                                                                                                                                                                     \n",
       "com.radiogammastereo.radio_3445f51956e912e5e1de...                                                  0                                                                                                                                                                                                     \n",
       "cl.RingENergy_ec0092c2ee63de3dc8c3bbfb6b3e6401                                                      0                                                                                                                                                                                                     \n",
       "com.addgames.GreedyFatBear_EN_15aba9f1a0007aebe...                                                  0                                                                                                                                                                                                     \n",
       "...                                                                                               ...                                                                                                                                                                                                     \n",
       "com.carroll_3140e1c6f9a03d12e1bdee648c5d7b2c                                                        0                                                                                                                                                                                                     \n",
       "com.mobile9.messaging_a736f91b55ff9a8a9679aa350...                                                  0                                                                                                                                                                                                     \n",
       "com.stackexchange.marvin_e37ed317c795116fe62164...                                                  0                                                                                                                                                                                                     \n",
       "com.dmeautomotive.driverconnect.myjenkinsandwyn...                                                  0                                                                                                                                                                                                     \n",
       "com.Lottow.newlotto_503d5c24b329e60f835400d2ff5...                                                  0                                                                                                                                                                                                     \n",
       "\n",
       "                                                    Landroid/accounts/AccountManager;.addAccountExplicitly:(Landroid/accounts/Account;Ljava/lang/String;Landroid/os/Bundle;)Z  \\\n",
       "apkname                                                                                                                                                                         \n",
       "com.amazesoft.stylecollage_9E63B0985CAA1981C829...                                                  0                                                                           \n",
       "com.infocrib.HRInterviewQuestions_9522ebf4a99c2...                                                  0                                                                           \n",
       "com.radiogammastereo.radio_3445f51956e912e5e1de...                                                  0                                                                           \n",
       "cl.RingENergy_ec0092c2ee63de3dc8c3bbfb6b3e6401                                                      0                                                                           \n",
       "com.addgames.GreedyFatBear_EN_15aba9f1a0007aebe...                                                  0                                                                           \n",
       "...                                                                                               ...                                                                           \n",
       "com.carroll_3140e1c6f9a03d12e1bdee648c5d7b2c                                                        0                                                                           \n",
       "com.mobile9.messaging_a736f91b55ff9a8a9679aa350...                                                  0                                                                           \n",
       "com.stackexchange.marvin_e37ed317c795116fe62164...                                                  0                                                                           \n",
       "com.dmeautomotive.driverconnect.myjenkinsandwyn...                                                  0                                                                           \n",
       "com.Lottow.newlotto_503d5c24b329e60f835400d2ff5...                                                  0                                                                           \n",
       "\n",
       "                                                    Landroid/accounts/AccountManager;.addOnAccountsUpdatedListener:(Landroid/accounts/OnAccountsUpdateListener;Landroid/os/Handler;Z)V  \\\n",
       "apkname                                                                                                                                                                                  \n",
       "com.amazesoft.stylecollage_9E63B0985CAA1981C829...                                                  0                                                                                    \n",
       "com.infocrib.HRInterviewQuestions_9522ebf4a99c2...                                                  0                                                                                    \n",
       "com.radiogammastereo.radio_3445f51956e912e5e1de...                                                  0                                                                                    \n",
       "cl.RingENergy_ec0092c2ee63de3dc8c3bbfb6b3e6401                                                      0                                                                                    \n",
       "com.addgames.GreedyFatBear_EN_15aba9f1a0007aebe...                                                  0                                                                                    \n",
       "...                                                                                               ...                                                                                    \n",
       "com.carroll_3140e1c6f9a03d12e1bdee648c5d7b2c                                                        0                                                                                    \n",
       "com.mobile9.messaging_a736f91b55ff9a8a9679aa350...                                                  0                                                                                    \n",
       "com.stackexchange.marvin_e37ed317c795116fe62164...                                                  0                                                                                    \n",
       "com.dmeautomotive.driverconnect.myjenkinsandwyn...                                                  0                                                                                    \n",
       "com.Lottow.newlotto_503d5c24b329e60f835400d2ff5...                                                  0                                                                                    \n",
       "\n",
       "                                                    Landroid/accounts/AccountManager;.blockingGetAuthToken:(Landroid/accounts/Account;Ljava/lang/String;Z)Ljava/lang/String;  \\\n",
       "apkname                                                                                                                                                                        \n",
       "com.amazesoft.stylecollage_9E63B0985CAA1981C829...                                                  0                                                                          \n",
       "com.infocrib.HRInterviewQuestions_9522ebf4a99c2...                                                  0                                                                          \n",
       "com.radiogammastereo.radio_3445f51956e912e5e1de...                                                  0                                                                          \n",
       "cl.RingENergy_ec0092c2ee63de3dc8c3bbfb6b3e6401                                                      0                                                                          \n",
       "com.addgames.GreedyFatBear_EN_15aba9f1a0007aebe...                                                  0                                                                          \n",
       "...                                                                                               ...                                                                          \n",
       "com.carroll_3140e1c6f9a03d12e1bdee648c5d7b2c                                                        0                                                                          \n",
       "com.mobile9.messaging_a736f91b55ff9a8a9679aa350...                                                  0                                                                          \n",
       "com.stackexchange.marvin_e37ed317c795116fe62164...                                                  0                                                                          \n",
       "com.dmeautomotive.driverconnect.myjenkinsandwyn...                                                  0                                                                          \n",
       "com.Lottow.newlotto_503d5c24b329e60f835400d2ff5...                                                  0                                                                          \n",
       "\n",
       "                                                    Landroid/accounts/AccountManager;.clearPassword:(Landroid/accounts/Account;)V  \\\n",
       "apkname                                                                                                                             \n",
       "com.amazesoft.stylecollage_9E63B0985CAA1981C829...                                                  0                               \n",
       "com.infocrib.HRInterviewQuestions_9522ebf4a99c2...                                                  0                               \n",
       "com.radiogammastereo.radio_3445f51956e912e5e1de...                                                  0                               \n",
       "cl.RingENergy_ec0092c2ee63de3dc8c3bbfb6b3e6401                                                      0                               \n",
       "com.addgames.GreedyFatBear_EN_15aba9f1a0007aebe...                                                  0                               \n",
       "...                                                                                               ...                               \n",
       "com.carroll_3140e1c6f9a03d12e1bdee648c5d7b2c                                                        0                               \n",
       "com.mobile9.messaging_a736f91b55ff9a8a9679aa350...                                                  0                               \n",
       "com.stackexchange.marvin_e37ed317c795116fe62164...                                                  0                               \n",
       "com.dmeautomotive.driverconnect.myjenkinsandwyn...                                                  0                               \n",
       "com.Lottow.newlotto_503d5c24b329e60f835400d2ff5...                                                  0                               \n",
       "\n",
       "                                                    Landroid/accounts/AccountManager;.confirmCredentials:(Landroid/accounts/Account;Landroid/os/Bundle;Landroid/app/Activity;Landroid/accounts/AccountManagerCallback;Landroid/os/Handler;)Landroid/accounts/AccountManagerFuture;  \\\n",
       "apkname                                                                                                                                                                                                                                                                              \n",
       "com.amazesoft.stylecollage_9E63B0985CAA1981C829...                                                  0                                                                                                                                                                                \n",
       "com.infocrib.HRInterviewQuestions_9522ebf4a99c2...                                                  0                                                                                                                                                                                \n",
       "com.radiogammastereo.radio_3445f51956e912e5e1de...                                                  0                                                                                                                                                                                \n",
       "cl.RingENergy_ec0092c2ee63de3dc8c3bbfb6b3e6401                                                      0                                                                                                                                                                                \n",
       "com.addgames.GreedyFatBear_EN_15aba9f1a0007aebe...                                                  0                                                                                                                                                                                \n",
       "...                                                                                               ...                                                                                                                                                                                \n",
       "com.carroll_3140e1c6f9a03d12e1bdee648c5d7b2c                                                        0                                                                                                                                                                                \n",
       "com.mobile9.messaging_a736f91b55ff9a8a9679aa350...                                                  0                                                                                                                                                                                \n",
       "com.stackexchange.marvin_e37ed317c795116fe62164...                                                  0                                                                                                                                                                                \n",
       "com.dmeautomotive.driverconnect.myjenkinsandwyn...                                                  0                                                                                                                                                                                \n",
       "com.Lottow.newlotto_503d5c24b329e60f835400d2ff5...                                                  0                                                                                                                                                                                \n",
       "\n",
       "                                                    Landroid/accounts/AccountManager;.getAccounts:()[Landroid/accounts/Account;  \\\n",
       "apkname                                                                                                                           \n",
       "com.amazesoft.stylecollage_9E63B0985CAA1981C829...                                                  0                             \n",
       "com.infocrib.HRInterviewQuestions_9522ebf4a99c2...                                                  0                             \n",
       "com.radiogammastereo.radio_3445f51956e912e5e1de...                                                  0                             \n",
       "cl.RingENergy_ec0092c2ee63de3dc8c3bbfb6b3e6401                                                      0                             \n",
       "com.addgames.GreedyFatBear_EN_15aba9f1a0007aebe...                                                  0                             \n",
       "...                                                                                               ...                             \n",
       "com.carroll_3140e1c6f9a03d12e1bdee648c5d7b2c                                                        0                             \n",
       "com.mobile9.messaging_a736f91b55ff9a8a9679aa350...                                                  0                             \n",
       "com.stackexchange.marvin_e37ed317c795116fe62164...                                                  0                             \n",
       "com.dmeautomotive.driverconnect.myjenkinsandwyn...                                                  0                             \n",
       "com.Lottow.newlotto_503d5c24b329e60f835400d2ff5...                                                  0                             \n",
       "\n",
       "                                                    Landroid/accounts/AccountManager;.getAccountsByType:(Ljava/lang/String;)[Landroid/accounts/Account;  \\\n",
       "apkname                                                                                                                                                   \n",
       "com.amazesoft.stylecollage_9E63B0985CAA1981C829...                                                  0                                                     \n",
       "com.infocrib.HRInterviewQuestions_9522ebf4a99c2...                                                  0                                                     \n",
       "com.radiogammastereo.radio_3445f51956e912e5e1de...                                                  0                                                     \n",
       "cl.RingENergy_ec0092c2ee63de3dc8c3bbfb6b3e6401                                                      0                                                     \n",
       "com.addgames.GreedyFatBear_EN_15aba9f1a0007aebe...                                                  0                                                     \n",
       "...                                                                                               ...                                                     \n",
       "com.carroll_3140e1c6f9a03d12e1bdee648c5d7b2c                                                        0                                                     \n",
       "com.mobile9.messaging_a736f91b55ff9a8a9679aa350...                                                  0                                                     \n",
       "com.stackexchange.marvin_e37ed317c795116fe62164...                                                  2                                                     \n",
       "com.dmeautomotive.driverconnect.myjenkinsandwyn...                                                  0                                                     \n",
       "com.Lottow.newlotto_503d5c24b329e60f835400d2ff5...                                                  0                                                     \n",
       "\n",
       "                                                    Landroid/accounts/AccountManager;.getAccountsByTypeAndFeatures:(Ljava/lang/String;[Ljava/lang/String;Landroid/accounts/AccountManagerCallback;Landroid/os/Handler;)Landroid/accounts/AccountManagerFuture;  \\\n",
       "apkname                                                                                                                                                                                                                                                          \n",
       "com.amazesoft.stylecollage_9E63B0985CAA1981C829...                                                  0                                                                                                                                                            \n",
       "com.infocrib.HRInterviewQuestions_9522ebf4a99c2...                                                  0                                                                                                                                                            \n",
       "com.radiogammastereo.radio_3445f51956e912e5e1de...                                                  0                                                                                                                                                            \n",
       "cl.RingENergy_ec0092c2ee63de3dc8c3bbfb6b3e6401                                                      0                                                                                                                                                            \n",
       "com.addgames.GreedyFatBear_EN_15aba9f1a0007aebe...                                                  0                                                                                                                                                            \n",
       "...                                                                                               ...                                                                                                                                                            \n",
       "com.carroll_3140e1c6f9a03d12e1bdee648c5d7b2c                                                        0                                                                                                                                                            \n",
       "com.mobile9.messaging_a736f91b55ff9a8a9679aa350...                                                  0                                                                                                                                                            \n",
       "com.stackexchange.marvin_e37ed317c795116fe62164...                                                  0                                                                                                                                                            \n",
       "com.dmeautomotive.driverconnect.myjenkinsandwyn...                                                  0                                                                                                                                                            \n",
       "com.Lottow.newlotto_503d5c24b329e60f835400d2ff5...                                                  0                                                                                                                                                            \n",
       "\n",
       "                                                    ...  \\\n",
       "apkname                                             ...   \n",
       "com.amazesoft.stylecollage_9E63B0985CAA1981C829...  ...   \n",
       "com.infocrib.HRInterviewQuestions_9522ebf4a99c2...  ...   \n",
       "com.radiogammastereo.radio_3445f51956e912e5e1de...  ...   \n",
       "cl.RingENergy_ec0092c2ee63de3dc8c3bbfb6b3e6401      ...   \n",
       "com.addgames.GreedyFatBear_EN_15aba9f1a0007aebe...  ...   \n",
       "...                                                 ...   \n",
       "com.carroll_3140e1c6f9a03d12e1bdee648c5d7b2c        ...   \n",
       "com.mobile9.messaging_a736f91b55ff9a8a9679aa350...  ...   \n",
       "com.stackexchange.marvin_e37ed317c795116fe62164...  ...   \n",
       "com.dmeautomotive.driverconnect.myjenkinsandwyn...  ...   \n",
       "com.Lottow.newlotto_503d5c24b329e60f835400d2ff5...  ...   \n",
       "\n",
       "                                                    Ljavax/net/ssl/HttpsURLConnection;.getOutputStream:()Ljava/io/OutputStream;  \\\n",
       "apkname                                                                                                                           \n",
       "com.amazesoft.stylecollage_9E63B0985CAA1981C829...                                                  0                             \n",
       "com.infocrib.HRInterviewQuestions_9522ebf4a99c2...                                                  0                             \n",
       "com.radiogammastereo.radio_3445f51956e912e5e1de...                                                  0                             \n",
       "cl.RingENergy_ec0092c2ee63de3dc8c3bbfb6b3e6401                                                      0                             \n",
       "com.addgames.GreedyFatBear_EN_15aba9f1a0007aebe...                                                  0                             \n",
       "...                                                                                               ...                             \n",
       "com.carroll_3140e1c6f9a03d12e1bdee648c5d7b2c                                                        0                             \n",
       "com.mobile9.messaging_a736f91b55ff9a8a9679aa350...                                                  0                             \n",
       "com.stackexchange.marvin_e37ed317c795116fe62164...                                                  1                             \n",
       "com.dmeautomotive.driverconnect.myjenkinsandwyn...                                                  0                             \n",
       "com.Lottow.newlotto_503d5c24b329e60f835400d2ff5...                                                  0                             \n",
       "\n",
       "                                                    Ljavax/net/ssl/HttpsURLConnection;.setRequestMethod:(Ljava/lang/String;)V  \\\n",
       "apkname                                                                                                                         \n",
       "com.amazesoft.stylecollage_9E63B0985CAA1981C829...                                                  0                           \n",
       "com.infocrib.HRInterviewQuestions_9522ebf4a99c2...                                                  0                           \n",
       "com.radiogammastereo.radio_3445f51956e912e5e1de...                                                  0                           \n",
       "cl.RingENergy_ec0092c2ee63de3dc8c3bbfb6b3e6401                                                      0                           \n",
       "com.addgames.GreedyFatBear_EN_15aba9f1a0007aebe...                                                  0                           \n",
       "...                                                                                               ...                           \n",
       "com.carroll_3140e1c6f9a03d12e1bdee648c5d7b2c                                                        0                           \n",
       "com.mobile9.messaging_a736f91b55ff9a8a9679aa350...                                                  0                           \n",
       "com.stackexchange.marvin_e37ed317c795116fe62164...                                                  0                           \n",
       "com.dmeautomotive.driverconnect.myjenkinsandwyn...                                                  0                           \n",
       "com.Lottow.newlotto_503d5c24b329e60f835400d2ff5...                                                  0                           \n",
       "\n",
       "                                                    Ljavax/net/ssl/SSLSocket;.getInputStream:()Ljava/io/InputStream;  \\\n",
       "apkname                                                                                                                \n",
       "com.amazesoft.stylecollage_9E63B0985CAA1981C829...                                                  0                  \n",
       "com.infocrib.HRInterviewQuestions_9522ebf4a99c2...                                                  0                  \n",
       "com.radiogammastereo.radio_3445f51956e912e5e1de...                                                  0                  \n",
       "cl.RingENergy_ec0092c2ee63de3dc8c3bbfb6b3e6401                                                      0                  \n",
       "com.addgames.GreedyFatBear_EN_15aba9f1a0007aebe...                                                  0                  \n",
       "...                                                                                               ...                  \n",
       "com.carroll_3140e1c6f9a03d12e1bdee648c5d7b2c                                                        0                  \n",
       "com.mobile9.messaging_a736f91b55ff9a8a9679aa350...                                                  0                  \n",
       "com.stackexchange.marvin_e37ed317c795116fe62164...                                                  0                  \n",
       "com.dmeautomotive.driverconnect.myjenkinsandwyn...                                                  0                  \n",
       "com.Lottow.newlotto_503d5c24b329e60f835400d2ff5...                                                  0                  \n",
       "\n",
       "                                                    Ljavax/net/ssl/SSLSocket;.getOutputStream:()Ljava/io/OutputStream;  \\\n",
       "apkname                                                                                                                  \n",
       "com.amazesoft.stylecollage_9E63B0985CAA1981C829...                                                  0                    \n",
       "com.infocrib.HRInterviewQuestions_9522ebf4a99c2...                                                  0                    \n",
       "com.radiogammastereo.radio_3445f51956e912e5e1de...                                                  0                    \n",
       "cl.RingENergy_ec0092c2ee63de3dc8c3bbfb6b3e6401                                                      0                    \n",
       "com.addgames.GreedyFatBear_EN_15aba9f1a0007aebe...                                                  0                    \n",
       "...                                                                                               ...                    \n",
       "com.carroll_3140e1c6f9a03d12e1bdee648c5d7b2c                                                        0                    \n",
       "com.mobile9.messaging_a736f91b55ff9a8a9679aa350...                                                  0                    \n",
       "com.stackexchange.marvin_e37ed317c795116fe62164...                                                  0                    \n",
       "com.dmeautomotive.driverconnect.myjenkinsandwyn...                                                  0                    \n",
       "com.Lottow.newlotto_503d5c24b329e60f835400d2ff5...                                                  0                    \n",
       "\n",
       "                                                    Lorg/w3c/dom/Document;.getDocumentElement:()Lorg/w3c/dom/Element;  \\\n",
       "apkname                                                                                                                 \n",
       "com.amazesoft.stylecollage_9E63B0985CAA1981C829...                                                  0                   \n",
       "com.infocrib.HRInterviewQuestions_9522ebf4a99c2...                                                  0                   \n",
       "com.radiogammastereo.radio_3445f51956e912e5e1de...                                                  2                   \n",
       "cl.RingENergy_ec0092c2ee63de3dc8c3bbfb6b3e6401                                                      4                   \n",
       "com.addgames.GreedyFatBear_EN_15aba9f1a0007aebe...                                                  0                   \n",
       "...                                                                                               ...                   \n",
       "com.carroll_3140e1c6f9a03d12e1bdee648c5d7b2c                                                        0                   \n",
       "com.mobile9.messaging_a736f91b55ff9a8a9679aa350...                                                  1                   \n",
       "com.stackexchange.marvin_e37ed317c795116fe62164...                                                  0                   \n",
       "com.dmeautomotive.driverconnect.myjenkinsandwyn...                                                  0                   \n",
       "com.Lottow.newlotto_503d5c24b329e60f835400d2ff5...                                                  0                   \n",
       "\n",
       "                                                    Lorg/w3c/dom/Document;.getElementsByTagName:(Ljava/lang/String;)Lorg/w3c/dom/NodeList;  \\\n",
       "apkname                                                                                                                                      \n",
       "com.amazesoft.stylecollage_9E63B0985CAA1981C829...                                                  0                                        \n",
       "com.infocrib.HRInterviewQuestions_9522ebf4a99c2...                                                  0                                        \n",
       "com.radiogammastereo.radio_3445f51956e912e5e1de...                                                  0                                        \n",
       "cl.RingENergy_ec0092c2ee63de3dc8c3bbfb6b3e6401                                                      0                                        \n",
       "com.addgames.GreedyFatBear_EN_15aba9f1a0007aebe...                                                  0                                        \n",
       "...                                                                                               ...                                        \n",
       "com.carroll_3140e1c6f9a03d12e1bdee648c5d7b2c                                                        0                                        \n",
       "com.mobile9.messaging_a736f91b55ff9a8a9679aa350...                                                  4                                        \n",
       "com.stackexchange.marvin_e37ed317c795116fe62164...                                                  0                                        \n",
       "com.dmeautomotive.driverconnect.myjenkinsandwyn...                                                  0                                        \n",
       "com.Lottow.newlotto_503d5c24b329e60f835400d2ff5...                                                  0                                        \n",
       "\n",
       "                                                    Lorg/w3c/dom/Document;.getElementsByTagNameNS:(Ljava/lang/String;Ljava/lang/String;)Lorg/w3c/dom/NodeList;  \\\n",
       "apkname                                                                                                                                                          \n",
       "com.amazesoft.stylecollage_9E63B0985CAA1981C829...                                                  0                                                            \n",
       "com.infocrib.HRInterviewQuestions_9522ebf4a99c2...                                                  0                                                            \n",
       "com.radiogammastereo.radio_3445f51956e912e5e1de...                                                  0                                                            \n",
       "cl.RingENergy_ec0092c2ee63de3dc8c3bbfb6b3e6401                                                      0                                                            \n",
       "com.addgames.GreedyFatBear_EN_15aba9f1a0007aebe...                                                  0                                                            \n",
       "...                                                                                               ...                                                            \n",
       "com.carroll_3140e1c6f9a03d12e1bdee648c5d7b2c                                                        0                                                            \n",
       "com.mobile9.messaging_a736f91b55ff9a8a9679aa350...                                                  1                                                            \n",
       "com.stackexchange.marvin_e37ed317c795116fe62164...                                                  0                                                            \n",
       "com.dmeautomotive.driverconnect.myjenkinsandwyn...                                                  0                                                            \n",
       "com.Lottow.newlotto_503d5c24b329e60f835400d2ff5...                                                  0                                                            \n",
       "\n",
       "                                                    Lorg/w3c/dom/Element;.getAttribute:(Ljava/lang/String;)Ljava/lang/String;  \\\n",
       "apkname                                                                                                                         \n",
       "com.amazesoft.stylecollage_9E63B0985CAA1981C829...                                                  0                           \n",
       "com.infocrib.HRInterviewQuestions_9522ebf4a99c2...                                                  0                           \n",
       "com.radiogammastereo.radio_3445f51956e912e5e1de...                                                  3                           \n",
       "cl.RingENergy_ec0092c2ee63de3dc8c3bbfb6b3e6401                                                      2                           \n",
       "com.addgames.GreedyFatBear_EN_15aba9f1a0007aebe...                                                  0                           \n",
       "...                                                                                               ...                           \n",
       "com.carroll_3140e1c6f9a03d12e1bdee648c5d7b2c                                                        0                           \n",
       "com.mobile9.messaging_a736f91b55ff9a8a9679aa350...                                                  1                           \n",
       "com.stackexchange.marvin_e37ed317c795116fe62164...                                                  0                           \n",
       "com.dmeautomotive.driverconnect.myjenkinsandwyn...                                                  0                           \n",
       "com.Lottow.newlotto_503d5c24b329e60f835400d2ff5...                                                  0                           \n",
       "\n",
       "                                                    Lorg/w3c/dom/Element;.getElementsByTagName:(Ljava/lang/String;)Lorg/w3c/dom/NodeList;  \\\n",
       "apkname                                                                                                                                     \n",
       "com.amazesoft.stylecollage_9E63B0985CAA1981C829...                                                  0                                       \n",
       "com.infocrib.HRInterviewQuestions_9522ebf4a99c2...                                                  0                                       \n",
       "com.radiogammastereo.radio_3445f51956e912e5e1de...                                                  5                                       \n",
       "cl.RingENergy_ec0092c2ee63de3dc8c3bbfb6b3e6401                                                      3                                       \n",
       "com.addgames.GreedyFatBear_EN_15aba9f1a0007aebe...                                                  0                                       \n",
       "...                                                                                               ...                                       \n",
       "com.carroll_3140e1c6f9a03d12e1bdee648c5d7b2c                                                        0                                       \n",
       "com.mobile9.messaging_a736f91b55ff9a8a9679aa350...                                                  1                                       \n",
       "com.stackexchange.marvin_e37ed317c795116fe62164...                                                  0                                       \n",
       "com.dmeautomotive.driverconnect.myjenkinsandwyn...                                                  0                                       \n",
       "com.Lottow.newlotto_503d5c24b329e60f835400d2ff5...                                                  0                                       \n",
       "\n",
       "                                                    Lorg/w3c/dom/Element;.getElementsByTagNameNS:(Ljava/lang/String;Ljava/lang/String;)Lorg/w3c/dom/NodeList;  \n",
       "apkname                                                                                                                                                        \n",
       "com.amazesoft.stylecollage_9E63B0985CAA1981C829...                                                  0                                                          \n",
       "com.infocrib.HRInterviewQuestions_9522ebf4a99c2...                                                  0                                                          \n",
       "com.radiogammastereo.radio_3445f51956e912e5e1de...                                                  0                                                          \n",
       "cl.RingENergy_ec0092c2ee63de3dc8c3bbfb6b3e6401                                                      0                                                          \n",
       "com.addgames.GreedyFatBear_EN_15aba9f1a0007aebe...                                                  0                                                          \n",
       "...                                                                                               ...                                                          \n",
       "com.carroll_3140e1c6f9a03d12e1bdee648c5d7b2c                                                        0                                                          \n",
       "com.mobile9.messaging_a736f91b55ff9a8a9679aa350...                                                  1                                                          \n",
       "com.stackexchange.marvin_e37ed317c795116fe62164...                                                  0                                                          \n",
       "com.dmeautomotive.driverconnect.myjenkinsandwyn...                                                  0                                                          \n",
       "com.Lottow.newlotto_503d5c24b329e60f835400d2ff5...                                                  0                                                          \n",
       "\n",
       "[1000 rows x 1848 columns]"
      ]
     },
     "execution_count": 7,
     "metadata": {},
     "output_type": "execute_result"
    }
   ],
   "source": [
    "df_dict['14b'].iloc[1000:2000]"
   ]
  },
  {
   "cell_type": "markdown",
   "id": "fdbbc197",
   "metadata": {},
   "source": [
    "# 연도 예측"
   ]
  },
  {
   "cell_type": "code",
   "execution_count": 8,
   "id": "a4e88c2e",
   "metadata": {
    "ExecuteTime": {
     "end_time": "2023-01-29T18:28:58.674279Z",
     "start_time": "2023-01-29T18:27:42.956400Z"
    },
    "scrolled": true
   },
   "outputs": [
    {
     "name": "stderr",
     "output_type": "stream",
     "text": [
      "100%|██████████| 16/16 [00:31<00:00,  1.99s/it]\n"
     ]
    },
    {
     "name": "stdout",
     "output_type": "stream",
     "text": [
      "accuracy 0.929703125 0.748875\n",
      "\n"
     ]
    }
   ],
   "source": [
    "ytrain  = [14]*8000 + [15]*8000 + [16]*8000 + [17]*8000 + [18]*8000 + [19]*8000 + [20]*8000 + [21]*8000\n",
    "ytest  = [14]*2000 + [15]*2000 + [16]*2000 + [17]*2000 + [18]*2000 + [19]*2000 + [20]*2000 + [21]*2000\n",
    "\n",
    "Xtrain, Xtest=pd.DataFrame(), pd.DataFrame()\n",
    "for key in tqdm(df_dict.keys()):\n",
    "    for step in range(5):\n",
    "        if 0 == step:\n",
    "            Xtest = pd.concat( [Xtest, df_dict[key].iloc[step*1000:(step+1)*1000]])\n",
    "        else:\n",
    "            Xtrain = pd.concat( [Xtrain, df_dict[key].iloc[step*1000:(step+1)*1000]])\n",
    "model = RandomForestClassifier(random_state=42).fit(Xtrain, ytrain)\n",
    "print('accuracy', model.score(Xtrain, ytrain), model.score(Xtest, ytest))\n",
    "#     print('f1score', f1_score(ytrain, eval(f'model{i}').predict(Xtrain)), f1_score(ytest, eval(f'model{i}').predict(Xtest)))\n",
    "print()\n",
    "time.sleep(2)"
   ]
  },
  {
   "cell_type": "code",
   "execution_count": 9,
   "id": "617d8b06",
   "metadata": {
    "ExecuteTime": {
     "end_time": "2023-01-29T18:29:01.749217Z",
     "start_time": "2023-01-29T18:28:58.675522Z"
    }
   },
   "outputs": [],
   "source": [
    "train_result_df = pd.DataFrame()\n",
    "train_result_df = pd.concat([train_result_df, pd.DataFrame([ytrain,model.predict(Xtrain)]).T])\n",
    "train_result_df.columns=['label','train']"
   ]
  },
  {
   "cell_type": "code",
   "execution_count": 10,
   "id": "e8039d2b",
   "metadata": {
    "ExecuteTime": {
     "end_time": "2023-01-29T18:29:02.526992Z",
     "start_time": "2023-01-29T18:29:01.751647Z"
    }
   },
   "outputs": [],
   "source": [
    "test_result_df = pd.DataFrame()\n",
    "test_result_df = pd.concat([test_result_df, pd.DataFrame([ytest,model.predict(Xtest)]).T])\n",
    "test_result_df.columns=['label','test']"
   ]
  },
  {
   "cell_type": "code",
   "execution_count": 11,
   "id": "13dbc6c4",
   "metadata": {
    "ExecuteTime": {
     "end_time": "2023-01-29T18:29:02.531866Z",
     "start_time": "2023-01-29T18:29:02.528175Z"
    }
   },
   "outputs": [
    {
     "data": {
      "text/plain": [
       "((64000, 2), (16000, 2))"
      ]
     },
     "execution_count": 11,
     "metadata": {},
     "output_type": "execute_result"
    }
   ],
   "source": [
    "train_result_df.shape, test_result_df.shape"
   ]
  },
  {
   "cell_type": "code",
   "execution_count": 12,
   "id": "9b171146",
   "metadata": {
    "ExecuteTime": {
     "end_time": "2023-01-29T18:29:02.539244Z",
     "start_time": "2023-01-29T18:29:02.532927Z"
    }
   },
   "outputs": [
    {
     "data": {
      "text/html": [
       "<div>\n",
       "<style scoped>\n",
       "    .dataframe tbody tr th:only-of-type {\n",
       "        vertical-align: middle;\n",
       "    }\n",
       "\n",
       "    .dataframe tbody tr th {\n",
       "        vertical-align: top;\n",
       "    }\n",
       "\n",
       "    .dataframe thead th {\n",
       "        text-align: right;\n",
       "    }\n",
       "</style>\n",
       "<table border=\"1\" class=\"dataframe\">\n",
       "  <thead>\n",
       "    <tr style=\"text-align: right;\">\n",
       "      <th></th>\n",
       "      <th>label</th>\n",
       "      <th>train</th>\n",
       "    </tr>\n",
       "  </thead>\n",
       "  <tbody>\n",
       "    <tr>\n",
       "      <th>0</th>\n",
       "      <td>14</td>\n",
       "      <td>14</td>\n",
       "    </tr>\n",
       "    <tr>\n",
       "      <th>1</th>\n",
       "      <td>14</td>\n",
       "      <td>14</td>\n",
       "    </tr>\n",
       "    <tr>\n",
       "      <th>2</th>\n",
       "      <td>14</td>\n",
       "      <td>14</td>\n",
       "    </tr>\n",
       "    <tr>\n",
       "      <th>3</th>\n",
       "      <td>14</td>\n",
       "      <td>14</td>\n",
       "    </tr>\n",
       "    <tr>\n",
       "      <th>4</th>\n",
       "      <td>14</td>\n",
       "      <td>14</td>\n",
       "    </tr>\n",
       "    <tr>\n",
       "      <th>...</th>\n",
       "      <td>...</td>\n",
       "      <td>...</td>\n",
       "    </tr>\n",
       "    <tr>\n",
       "      <th>63995</th>\n",
       "      <td>21</td>\n",
       "      <td>21</td>\n",
       "    </tr>\n",
       "    <tr>\n",
       "      <th>63996</th>\n",
       "      <td>21</td>\n",
       "      <td>21</td>\n",
       "    </tr>\n",
       "    <tr>\n",
       "      <th>63997</th>\n",
       "      <td>21</td>\n",
       "      <td>21</td>\n",
       "    </tr>\n",
       "    <tr>\n",
       "      <th>63998</th>\n",
       "      <td>21</td>\n",
       "      <td>21</td>\n",
       "    </tr>\n",
       "    <tr>\n",
       "      <th>63999</th>\n",
       "      <td>21</td>\n",
       "      <td>21</td>\n",
       "    </tr>\n",
       "  </tbody>\n",
       "</table>\n",
       "<p>64000 rows × 2 columns</p>\n",
       "</div>"
      ],
      "text/plain": [
       "       label  train\n",
       "0         14     14\n",
       "1         14     14\n",
       "2         14     14\n",
       "3         14     14\n",
       "4         14     14\n",
       "...      ...    ...\n",
       "63995     21     21\n",
       "63996     21     21\n",
       "63997     21     21\n",
       "63998     21     21\n",
       "63999     21     21\n",
       "\n",
       "[64000 rows x 2 columns]"
      ]
     },
     "execution_count": 12,
     "metadata": {},
     "output_type": "execute_result"
    }
   ],
   "source": [
    "train_result_df"
   ]
  },
  {
   "cell_type": "code",
   "execution_count": 13,
   "id": "279da364",
   "metadata": {
    "ExecuteTime": {
     "end_time": "2023-01-29T18:29:02.547754Z",
     "start_time": "2023-01-29T18:29:02.541303Z"
    }
   },
   "outputs": [
    {
     "data": {
      "text/html": [
       "<div>\n",
       "<style scoped>\n",
       "    .dataframe tbody tr th:only-of-type {\n",
       "        vertical-align: middle;\n",
       "    }\n",
       "\n",
       "    .dataframe tbody tr th {\n",
       "        vertical-align: top;\n",
       "    }\n",
       "\n",
       "    .dataframe thead th {\n",
       "        text-align: right;\n",
       "    }\n",
       "</style>\n",
       "<table border=\"1\" class=\"dataframe\">\n",
       "  <thead>\n",
       "    <tr style=\"text-align: right;\">\n",
       "      <th></th>\n",
       "      <th>label</th>\n",
       "      <th>test</th>\n",
       "    </tr>\n",
       "  </thead>\n",
       "  <tbody>\n",
       "    <tr>\n",
       "      <th>0</th>\n",
       "      <td>14</td>\n",
       "      <td>14</td>\n",
       "    </tr>\n",
       "    <tr>\n",
       "      <th>1</th>\n",
       "      <td>14</td>\n",
       "      <td>14</td>\n",
       "    </tr>\n",
       "    <tr>\n",
       "      <th>2</th>\n",
       "      <td>14</td>\n",
       "      <td>14</td>\n",
       "    </tr>\n",
       "    <tr>\n",
       "      <th>3</th>\n",
       "      <td>14</td>\n",
       "      <td>14</td>\n",
       "    </tr>\n",
       "    <tr>\n",
       "      <th>4</th>\n",
       "      <td>14</td>\n",
       "      <td>14</td>\n",
       "    </tr>\n",
       "    <tr>\n",
       "      <th>...</th>\n",
       "      <td>...</td>\n",
       "      <td>...</td>\n",
       "    </tr>\n",
       "    <tr>\n",
       "      <th>15995</th>\n",
       "      <td>21</td>\n",
       "      <td>21</td>\n",
       "    </tr>\n",
       "    <tr>\n",
       "      <th>15996</th>\n",
       "      <td>21</td>\n",
       "      <td>21</td>\n",
       "    </tr>\n",
       "    <tr>\n",
       "      <th>15997</th>\n",
       "      <td>21</td>\n",
       "      <td>21</td>\n",
       "    </tr>\n",
       "    <tr>\n",
       "      <th>15998</th>\n",
       "      <td>21</td>\n",
       "      <td>21</td>\n",
       "    </tr>\n",
       "    <tr>\n",
       "      <th>15999</th>\n",
       "      <td>21</td>\n",
       "      <td>21</td>\n",
       "    </tr>\n",
       "  </tbody>\n",
       "</table>\n",
       "<p>16000 rows × 2 columns</p>\n",
       "</div>"
      ],
      "text/plain": [
       "       label  test\n",
       "0         14    14\n",
       "1         14    14\n",
       "2         14    14\n",
       "3         14    14\n",
       "4         14    14\n",
       "...      ...   ...\n",
       "15995     21    21\n",
       "15996     21    21\n",
       "15997     21    21\n",
       "15998     21    21\n",
       "15999     21    21\n",
       "\n",
       "[16000 rows x 2 columns]"
      ]
     },
     "execution_count": 13,
     "metadata": {},
     "output_type": "execute_result"
    }
   ],
   "source": [
    "test_result_df"
   ]
  },
  {
   "cell_type": "code",
   "execution_count": 14,
   "id": "5c513d5c",
   "metadata": {
    "ExecuteTime": {
     "end_time": "2023-01-29T18:29:02.571576Z",
     "start_time": "2023-01-29T18:29:02.549685Z"
    }
   },
   "outputs": [
    {
     "name": "stdout",
     "output_type": "stream",
     "text": [
      "2014년 Benign\n",
      "14    98.925\n",
      "15     0.825\n",
      "18     0.125\n",
      "16     0.100\n",
      "19     0.025\n",
      "Name: train, dtype: float64\n",
      "\n",
      "2014년 Malware\n",
      "14    99.175\n",
      "15     0.600\n",
      "16     0.150\n",
      "17     0.050\n",
      "18     0.025\n",
      "Name: train, dtype: float64\n",
      "\n",
      "2015년 Benign\n",
      "15    96.600\n",
      "14     1.600\n",
      "16     0.875\n",
      "17     0.750\n",
      "18     0.150\n",
      "19     0.025\n",
      "Name: train, dtype: float64\n",
      "\n",
      "2015년 Malware\n",
      "15    96.30\n",
      "16     3.35\n",
      "14     0.30\n",
      "17     0.05\n",
      "Name: train, dtype: float64\n",
      "\n",
      "2016년 Benign\n",
      "16    95.550\n",
      "17     1.925\n",
      "15     1.550\n",
      "14     0.575\n",
      "18     0.300\n",
      "19     0.100\n",
      "Name: train, dtype: float64\n",
      "\n",
      "2016년 Malware\n",
      "16    89.450\n",
      "15     4.775\n",
      "17     4.750\n",
      "14     0.625\n",
      "18     0.400\n",
      "Name: train, dtype: float64\n",
      "\n",
      "2017년 Benign\n",
      "17    95.975\n",
      "18     2.375\n",
      "16     0.950\n",
      "15     0.500\n",
      "14     0.150\n",
      "19     0.050\n",
      "Name: train, dtype: float64\n",
      "\n",
      "2017년 Malware\n",
      "17    95.100\n",
      "18     4.125\n",
      "15     0.350\n",
      "16     0.225\n",
      "19     0.125\n",
      "21     0.050\n",
      "14     0.025\n",
      "Name: train, dtype: float64\n",
      "\n",
      "2018년 Benign\n",
      "18    93.775\n",
      "17     5.300\n",
      "16     0.400\n",
      "19     0.325\n",
      "15     0.125\n",
      "14     0.075\n",
      "Name: train, dtype: float64\n",
      "\n",
      "2018년 Malware\n",
      "18    83.725\n",
      "17    12.250\n",
      "19     3.450\n",
      "20     0.300\n",
      "16     0.125\n",
      "14     0.125\n",
      "21     0.025\n",
      "Name: train, dtype: float64\n",
      "\n",
      "2019년 Benign\n",
      "19    95.675\n",
      "20     2.800\n",
      "17     0.600\n",
      "14     0.350\n",
      "21     0.175\n",
      "15     0.150\n",
      "16     0.125\n",
      "18     0.125\n",
      "Name: train, dtype: float64\n",
      "\n",
      "2019년 Malware\n",
      "19    78.125\n",
      "20    17.700\n",
      "17     2.800\n",
      "18     1.300\n",
      "21     0.075\n",
      "Name: train, dtype: float64\n",
      "\n",
      "2020년 Benign\n",
      "20    90.750\n",
      "21     6.025\n",
      "19     2.575\n",
      "17     0.450\n",
      "14     0.150\n",
      "18     0.025\n",
      "16     0.025\n",
      "Name: train, dtype: float64\n",
      "\n",
      "2020년 Malware\n",
      "20    81.200\n",
      "21    14.925\n",
      "17     3.725\n",
      "18     0.100\n",
      "14     0.025\n",
      "16     0.025\n",
      "Name: train, dtype: float64\n",
      "\n",
      "2021년 Benign\n",
      "21    97.550\n",
      "20     1.650\n",
      "19     0.425\n",
      "14     0.275\n",
      "17     0.100\n",
      "Name: train, dtype: float64\n",
      "\n",
      "2021년 Malware\n",
      "21    99.65\n",
      "20     0.20\n",
      "17     0.10\n",
      "18     0.05\n",
      "Name: train, dtype: float64\n",
      "\n"
     ]
    }
   ],
   "source": [
    "for i, key in enumerate(df_dict.keys()):\n",
    "    print(name_dict[key])\n",
    "    print(train_result_df['train'].iloc[4000*i:4000*(i+1)].value_counts()/40)\n",
    "    print()"
   ]
  },
  {
   "cell_type": "code",
   "execution_count": 15,
   "id": "9b095811",
   "metadata": {
    "ExecuteTime": {
     "end_time": "2023-01-29T18:29:02.593299Z",
     "start_time": "2023-01-29T18:29:02.572820Z"
    },
    "scrolled": true
   },
   "outputs": [
    {
     "name": "stdout",
     "output_type": "stream",
     "text": [
      "2014년 Benign\n",
      "14    83.6\n",
      "15    13.4\n",
      "16     1.8\n",
      "19     0.5\n",
      "17     0.3\n",
      "18     0.3\n",
      "21     0.1\n",
      "Name: test, dtype: float64\n",
      "\n",
      "2014년 Malware\n",
      "14    92.2\n",
      "15     6.1\n",
      "16     1.7\n",
      "Name: test, dtype: float64\n",
      "\n",
      "2015년 Benign\n",
      "15    61.1\n",
      "14    22.8\n",
      "16    12.3\n",
      "17     2.9\n",
      "18     0.7\n",
      "19     0.2\n",
      "Name: test, dtype: float64\n",
      "\n",
      "2015년 Malware\n",
      "15    74.7\n",
      "16    14.6\n",
      "14    10.5\n",
      "17     0.1\n",
      "19     0.1\n",
      "Name: test, dtype: float64\n",
      "\n",
      "2016년 Benign\n",
      "16    60.0\n",
      "15    17.3\n",
      "17    13.4\n",
      "14     6.7\n",
      "18     2.1\n",
      "19     0.4\n",
      "21     0.1\n",
      "Name: test, dtype: float64\n",
      "\n",
      "2016년 Malware\n",
      "16    68.6\n",
      "15    18.7\n",
      "17     7.0\n",
      "14     4.1\n",
      "19     0.8\n",
      "18     0.5\n",
      "20     0.3\n",
      "Name: test, dtype: float64\n",
      "\n",
      "2017년 Benign\n",
      "17    56.3\n",
      "16    18.7\n",
      "18    12.4\n",
      "15     7.3\n",
      "14     5.0\n",
      "19     0.2\n",
      "21     0.1\n",
      "Name: test, dtype: float64\n",
      "\n",
      "2017년 Malware\n",
      "17    86.5\n",
      "18     5.8\n",
      "16     4.2\n",
      "15     1.8\n",
      "14     0.9\n",
      "19     0.8\n",
      "Name: test, dtype: float64\n",
      "\n",
      "2018년 Benign\n",
      "18    69.0\n",
      "17    17.1\n",
      "16     7.4\n",
      "15     3.2\n",
      "14     2.2\n",
      "19     0.7\n",
      "21     0.3\n",
      "20     0.1\n",
      "Name: test, dtype: float64\n",
      "\n",
      "2018년 Malware\n",
      "18    77.0\n",
      "17    13.4\n",
      "19     6.0\n",
      "16     1.3\n",
      "15     1.1\n",
      "20     0.8\n",
      "14     0.4\n",
      "Name: test, dtype: float64\n",
      "\n",
      "2019년 Benign\n",
      "19    72.5\n",
      "20    10.4\n",
      "18     3.8\n",
      "14     3.6\n",
      "21     3.4\n",
      "16     2.5\n",
      "17     1.9\n",
      "15     1.9\n",
      "Name: test, dtype: float64\n",
      "\n",
      "2019년 Malware\n",
      "19    74.8\n",
      "20    19.3\n",
      "17     2.6\n",
      "18     2.1\n",
      "16     0.5\n",
      "15     0.3\n",
      "14     0.2\n",
      "21     0.2\n",
      "Name: test, dtype: float64\n",
      "\n",
      "2020년 Benign\n",
      "20    64.0\n",
      "21    19.2\n",
      "19    12.7\n",
      "17     1.1\n",
      "15     1.1\n",
      "14     0.8\n",
      "16     0.6\n",
      "18     0.5\n",
      "Name: test, dtype: float64\n",
      "\n",
      "2020년 Malware\n",
      "20    75.8\n",
      "21    17.5\n",
      "17     5.1\n",
      "19     1.2\n",
      "15     0.2\n",
      "14     0.1\n",
      "16     0.1\n",
      "Name: test, dtype: float64\n",
      "\n",
      "2021년 Benign\n",
      "21    83.8\n",
      "20    10.6\n",
      "19     4.3\n",
      "14     0.5\n",
      "16     0.4\n",
      "15     0.2\n",
      "17     0.1\n",
      "18     0.1\n",
      "Name: test, dtype: float64\n",
      "\n",
      "2021년 Malware\n",
      "21    98.3\n",
      "20     1.3\n",
      "19     0.2\n",
      "18     0.1\n",
      "14     0.1\n",
      "Name: test, dtype: float64\n",
      "\n"
     ]
    }
   ],
   "source": [
    "for i, key in enumerate(df_dict.keys()):\n",
    "    print(name_dict[key])\n",
    "    print(test_result_df['test'].iloc[1000*i:1000*(i+1)].value_counts()/10)\n",
    "    print()"
   ]
  },
  {
   "cell_type": "markdown",
   "id": "6f320948",
   "metadata": {},
   "source": [
    "# malware 탐지"
   ]
  },
  {
   "cell_type": "code",
   "execution_count": 16,
   "id": "6e1c5519",
   "metadata": {
    "ExecuteTime": {
     "end_time": "2023-01-29T18:29:22.117280Z",
     "start_time": "2023-01-29T18:29:02.594521Z"
    },
    "scrolled": true
   },
   "outputs": [
    {
     "name": "stdout",
     "output_type": "stream",
     "text": [
      "bmodel_14 14b 14m\n",
      "accuracy 0.99775 0.9785\n",
      "f1score 0.9977539306214125 0.9786812097174021\n",
      "\n",
      "bmodel_15 15b 15m\n",
      "accuracy 0.998375 0.977\n",
      "f1score 0.9983747968496061 0.9771598808341607\n",
      "\n",
      "bmodel_16 16b 16m\n",
      "accuracy 0.997125 0.9775\n",
      "f1score 0.9971296642955197 0.977667493796526\n",
      "\n",
      "bmodel_17 17b 17m\n",
      "accuracy 0.99875 0.987\n",
      "f1score 0.9987506246876561 0.9869215291750503\n",
      "\n",
      "bmodel_18 18b 18m\n",
      "accuracy 0.983625 0.967\n",
      "f1score 0.9837730707295925 0.967098703888335\n",
      "\n",
      "bmodel_19 19b 19m\n",
      "accuracy 0.997375 0.977\n",
      "f1score 0.9973746718339792 0.9767206477732794\n",
      "\n",
      "bmodel_20 20b 20m\n",
      "accuracy 0.9865 0.977\n",
      "f1score 0.9865033741564609 0.9767206477732794\n",
      "\n",
      "bmodel_21 21b 21m\n",
      "accuracy 0.996 0.98\n",
      "f1score 0.9960009997500624 0.9798387096774194\n",
      "\n"
     ]
    }
   ],
   "source": [
    "ytrain  = [0]*4000 + [1]*4000\n",
    "ytest  = [0]*1000 + [1]*1000\n",
    "key_list = list(df_dict.keys())\n",
    "\n",
    "for year_i, year in enumerate(range(14,22)):\n",
    "    key1, key2 = key_list[year_i*2], key_list[year_i*2+1]\n",
    "    Xtrain=pd.concat([df_dict[key1].iloc[1000:], df_dict[key2].iloc[1000:]])\n",
    "    Xtest=pd.concat([df_dict[key1].iloc[:1000], df_dict[key2].iloc[:1000]])\n",
    "    exec(f'bmodel_{year} = RandomForestClassifier(random_state=42).fit(Xtrain, ytrain)')\n",
    "    print(f'bmodel_{year}', key1,key2)\n",
    "    print('accuracy', eval(f'bmodel_{year}').score(Xtrain, ytrain), eval(f'bmodel_{year}').score(Xtest, ytest))\n",
    "    print('f1score', f1_score(ytrain, eval(f'bmodel_{year}').predict(Xtrain)), f1_score(ytest, eval(f'bmodel_{year}').predict(Xtest)))\n",
    "    print()"
   ]
  },
  {
   "cell_type": "markdown",
   "id": "4ab17116",
   "metadata": {},
   "source": [
    "# 전체 성능"
   ]
  },
  {
   "cell_type": "code",
   "execution_count": 34,
   "id": "b5e06697",
   "metadata": {
    "ExecuteTime": {
     "end_time": "2023-01-29T18:45:03.273817Z",
     "start_time": "2023-01-29T18:36:50.697000Z"
    }
   },
   "outputs": [
    {
     "name": "stderr",
     "output_type": "stream",
     "text": [
      "16it [08:04, 30.29s/it]\n"
     ]
    }
   ],
   "source": [
    "all_df = pd.DataFrame()\n",
    "for key in df_dict.keys():\n",
    "    all_df = pd.concat([all_df, df_dict[key].iloc[1000:]])\n",
    "    \n",
    "bresult_df = pd.DataFrame()\n",
    "for year_i,year in tqdm(enumerate(range(28,44))):\n",
    "    for num in range(4000):\n",
    "        pred_year=train_result_df.iloc[num+year_i*4000]['train']\n",
    "        x=list(all_df.iloc[num+year_i*4000])\n",
    "        bresult=[year//2,year_i%2, pred_year, eval(f'bmodel_{pred_year}.predict([x])')[0]]\n",
    "        bresult_df = pd.concat([bresult_df ,pd.DataFrame(bresult).T])\n",
    "bresult_df.columns=['year','label','pred_year','pred_B/M']"
   ]
  },
  {
   "cell_type": "code",
   "execution_count": 35,
   "id": "2d704d88",
   "metadata": {
    "ExecuteTime": {
     "end_time": "2023-01-29T18:45:03.593330Z",
     "start_time": "2023-01-29T18:45:03.587507Z"
    }
   },
   "outputs": [
    {
     "data": {
      "text/html": [
       "<div>\n",
       "<style scoped>\n",
       "    .dataframe tbody tr th:only-of-type {\n",
       "        vertical-align: middle;\n",
       "    }\n",
       "\n",
       "    .dataframe tbody tr th {\n",
       "        vertical-align: top;\n",
       "    }\n",
       "\n",
       "    .dataframe thead th {\n",
       "        text-align: right;\n",
       "    }\n",
       "</style>\n",
       "<table border=\"1\" class=\"dataframe\">\n",
       "  <thead>\n",
       "    <tr style=\"text-align: right;\">\n",
       "      <th></th>\n",
       "      <th>year</th>\n",
       "      <th>label</th>\n",
       "      <th>pred_year</th>\n",
       "      <th>pred_B/M</th>\n",
       "    </tr>\n",
       "  </thead>\n",
       "  <tbody>\n",
       "    <tr>\n",
       "      <th>0</th>\n",
       "      <td>14</td>\n",
       "      <td>0</td>\n",
       "      <td>14</td>\n",
       "      <td>0</td>\n",
       "    </tr>\n",
       "    <tr>\n",
       "      <th>0</th>\n",
       "      <td>14</td>\n",
       "      <td>0</td>\n",
       "      <td>14</td>\n",
       "      <td>0</td>\n",
       "    </tr>\n",
       "    <tr>\n",
       "      <th>0</th>\n",
       "      <td>14</td>\n",
       "      <td>0</td>\n",
       "      <td>14</td>\n",
       "      <td>0</td>\n",
       "    </tr>\n",
       "    <tr>\n",
       "      <th>0</th>\n",
       "      <td>14</td>\n",
       "      <td>0</td>\n",
       "      <td>14</td>\n",
       "      <td>0</td>\n",
       "    </tr>\n",
       "    <tr>\n",
       "      <th>0</th>\n",
       "      <td>14</td>\n",
       "      <td>0</td>\n",
       "      <td>14</td>\n",
       "      <td>0</td>\n",
       "    </tr>\n",
       "    <tr>\n",
       "      <th>...</th>\n",
       "      <td>...</td>\n",
       "      <td>...</td>\n",
       "      <td>...</td>\n",
       "      <td>...</td>\n",
       "    </tr>\n",
       "    <tr>\n",
       "      <th>0</th>\n",
       "      <td>21</td>\n",
       "      <td>1</td>\n",
       "      <td>21</td>\n",
       "      <td>1</td>\n",
       "    </tr>\n",
       "    <tr>\n",
       "      <th>0</th>\n",
       "      <td>21</td>\n",
       "      <td>1</td>\n",
       "      <td>21</td>\n",
       "      <td>1</td>\n",
       "    </tr>\n",
       "    <tr>\n",
       "      <th>0</th>\n",
       "      <td>21</td>\n",
       "      <td>1</td>\n",
       "      <td>21</td>\n",
       "      <td>1</td>\n",
       "    </tr>\n",
       "    <tr>\n",
       "      <th>0</th>\n",
       "      <td>21</td>\n",
       "      <td>1</td>\n",
       "      <td>21</td>\n",
       "      <td>1</td>\n",
       "    </tr>\n",
       "    <tr>\n",
       "      <th>0</th>\n",
       "      <td>21</td>\n",
       "      <td>1</td>\n",
       "      <td>21</td>\n",
       "      <td>1</td>\n",
       "    </tr>\n",
       "  </tbody>\n",
       "</table>\n",
       "<p>64000 rows × 4 columns</p>\n",
       "</div>"
      ],
      "text/plain": [
       "    year  label  pred_year  pred_B/M\n",
       "0     14      0         14         0\n",
       "0     14      0         14         0\n",
       "0     14      0         14         0\n",
       "0     14      0         14         0\n",
       "0     14      0         14         0\n",
       "..   ...    ...        ...       ...\n",
       "0     21      1         21         1\n",
       "0     21      1         21         1\n",
       "0     21      1         21         1\n",
       "0     21      1         21         1\n",
       "0     21      1         21         1\n",
       "\n",
       "[64000 rows x 4 columns]"
      ]
     },
     "execution_count": 35,
     "metadata": {},
     "output_type": "execute_result"
    }
   ],
   "source": [
    "bresult_df"
   ]
  },
  {
   "cell_type": "code",
   "execution_count": 36,
   "id": "75e09c85",
   "metadata": {
    "ExecuteTime": {
     "end_time": "2023-01-29T18:45:03.809691Z",
     "start_time": "2023-01-29T18:45:03.805218Z"
    }
   },
   "outputs": [
    {
     "data": {
      "text/plain": [
       "0.929703125"
      ]
     },
     "execution_count": 36,
     "metadata": {},
     "output_type": "execute_result"
    }
   ],
   "source": [
    "accuracy_score(bresult_df[\"year\"],bresult_df[\"pred_year\"])"
   ]
  },
  {
   "cell_type": "code",
   "execution_count": 37,
   "id": "f1f9a499",
   "metadata": {
    "ExecuteTime": {
     "end_time": "2023-01-29T18:45:04.022039Z",
     "start_time": "2023-01-29T18:45:04.019911Z"
    }
   },
   "outputs": [],
   "source": [
    "# f1_score(bresult_df[\"year\"],bresult_df[\"pred_year\"])"
   ]
  },
  {
   "cell_type": "code",
   "execution_count": 38,
   "id": "201ac1e3",
   "metadata": {
    "ExecuteTime": {
     "end_time": "2023-01-29T18:45:04.234951Z",
     "start_time": "2023-01-29T18:45:04.229853Z"
    }
   },
   "outputs": [
    {
     "data": {
      "text/plain": [
       "0.99259375"
      ]
     },
     "execution_count": 38,
     "metadata": {},
     "output_type": "execute_result"
    }
   ],
   "source": [
    "accuracy_score(bresult_df[\"label\"],bresult_df[\"pred_B/M\"])"
   ]
  },
  {
   "cell_type": "code",
   "execution_count": 39,
   "id": "f0f90ba5",
   "metadata": {
    "ExecuteTime": {
     "end_time": "2023-01-29T18:45:04.468667Z",
     "start_time": "2023-01-29T18:45:04.456106Z"
    }
   },
   "outputs": [
    {
     "data": {
      "text/plain": [
       "0.9926200411035685"
      ]
     },
     "execution_count": 39,
     "metadata": {},
     "output_type": "execute_result"
    }
   ],
   "source": [
    "f1_score(bresult_df[\"label\"],bresult_df[\"pred_B/M\"])"
   ]
  },
  {
   "cell_type": "code",
   "execution_count": null,
   "id": "7d661817",
   "metadata": {},
   "outputs": [],
   "source": []
  },
  {
   "cell_type": "code",
   "execution_count": 25,
   "id": "b73594a9",
   "metadata": {
    "ExecuteTime": {
     "end_time": "2023-01-29T18:32:09.567767Z",
     "start_time": "2023-01-29T18:32:07.615144Z"
    }
   },
   "outputs": [],
   "source": [
    "all_df = pd.DataFrame()\n",
    "for key in df_dict.keys():\n",
    "    all_df = pd.concat([all_df, df_dict[key].iloc[:1000]])"
   ]
  },
  {
   "cell_type": "code",
   "execution_count": 26,
   "id": "9b8cb329",
   "metadata": {
    "ExecuteTime": {
     "end_time": "2023-01-29T18:32:44.734062Z",
     "start_time": "2023-01-29T18:32:44.730246Z"
    }
   },
   "outputs": [
    {
     "data": {
      "text/plain": [
       "(16000, 1848)"
      ]
     },
     "execution_count": 26,
     "metadata": {},
     "output_type": "execute_result"
    }
   ],
   "source": [
    "all_df.shape"
   ]
  },
  {
   "cell_type": "code",
   "execution_count": 27,
   "id": "6d0b2f86",
   "metadata": {
    "ExecuteTime": {
     "end_time": "2023-01-29T18:35:29.918423Z",
     "start_time": "2023-01-29T18:33:31.127899Z"
    }
   },
   "outputs": [
    {
     "name": "stderr",
     "output_type": "stream",
     "text": [
      "16it [01:58,  7.42s/it]\n"
     ]
    }
   ],
   "source": [
    "bresult_df = pd.DataFrame()\n",
    "for year_i,year in tqdm(enumerate(range(28,44))):\n",
    "    for num in range(1000):\n",
    "        pred_year=test_result_df.iloc[num+year_i*1000]['test']\n",
    "        x=list(all_df.iloc[num+year_i*1000])\n",
    "        bresult=[year//2,year_i%2, pred_year, eval(f'bmodel_{pred_year}.predict([x])')[0]]\n",
    "        bresult_df = pd.concat([bresult_df ,pd.DataFrame(bresult).T])\n",
    "bresult_df.columns=['year','label','pred_year','pred_B/M']"
   ]
  },
  {
   "cell_type": "code",
   "execution_count": null,
   "id": "f1719c7b",
   "metadata": {},
   "outputs": [],
   "source": []
  },
  {
   "cell_type": "code",
   "execution_count": 28,
   "id": "a8da28a4",
   "metadata": {
    "ExecuteTime": {
     "end_time": "2023-01-29T18:35:36.448702Z",
     "start_time": "2023-01-29T18:35:36.442416Z"
    }
   },
   "outputs": [
    {
     "data": {
      "text/html": [
       "<div>\n",
       "<style scoped>\n",
       "    .dataframe tbody tr th:only-of-type {\n",
       "        vertical-align: middle;\n",
       "    }\n",
       "\n",
       "    .dataframe tbody tr th {\n",
       "        vertical-align: top;\n",
       "    }\n",
       "\n",
       "    .dataframe thead th {\n",
       "        text-align: right;\n",
       "    }\n",
       "</style>\n",
       "<table border=\"1\" class=\"dataframe\">\n",
       "  <thead>\n",
       "    <tr style=\"text-align: right;\">\n",
       "      <th></th>\n",
       "      <th>year</th>\n",
       "      <th>label</th>\n",
       "      <th>pred_year</th>\n",
       "      <th>pred_B/M</th>\n",
       "    </tr>\n",
       "  </thead>\n",
       "  <tbody>\n",
       "    <tr>\n",
       "      <th>0</th>\n",
       "      <td>14</td>\n",
       "      <td>0</td>\n",
       "      <td>14</td>\n",
       "      <td>0</td>\n",
       "    </tr>\n",
       "    <tr>\n",
       "      <th>0</th>\n",
       "      <td>14</td>\n",
       "      <td>0</td>\n",
       "      <td>14</td>\n",
       "      <td>0</td>\n",
       "    </tr>\n",
       "    <tr>\n",
       "      <th>0</th>\n",
       "      <td>14</td>\n",
       "      <td>0</td>\n",
       "      <td>14</td>\n",
       "      <td>0</td>\n",
       "    </tr>\n",
       "    <tr>\n",
       "      <th>0</th>\n",
       "      <td>14</td>\n",
       "      <td>0</td>\n",
       "      <td>14</td>\n",
       "      <td>0</td>\n",
       "    </tr>\n",
       "    <tr>\n",
       "      <th>0</th>\n",
       "      <td>14</td>\n",
       "      <td>0</td>\n",
       "      <td>14</td>\n",
       "      <td>0</td>\n",
       "    </tr>\n",
       "    <tr>\n",
       "      <th>...</th>\n",
       "      <td>...</td>\n",
       "      <td>...</td>\n",
       "      <td>...</td>\n",
       "      <td>...</td>\n",
       "    </tr>\n",
       "    <tr>\n",
       "      <th>0</th>\n",
       "      <td>21</td>\n",
       "      <td>1</td>\n",
       "      <td>21</td>\n",
       "      <td>1</td>\n",
       "    </tr>\n",
       "    <tr>\n",
       "      <th>0</th>\n",
       "      <td>21</td>\n",
       "      <td>1</td>\n",
       "      <td>21</td>\n",
       "      <td>1</td>\n",
       "    </tr>\n",
       "    <tr>\n",
       "      <th>0</th>\n",
       "      <td>21</td>\n",
       "      <td>1</td>\n",
       "      <td>21</td>\n",
       "      <td>1</td>\n",
       "    </tr>\n",
       "    <tr>\n",
       "      <th>0</th>\n",
       "      <td>21</td>\n",
       "      <td>1</td>\n",
       "      <td>21</td>\n",
       "      <td>1</td>\n",
       "    </tr>\n",
       "    <tr>\n",
       "      <th>0</th>\n",
       "      <td>21</td>\n",
       "      <td>1</td>\n",
       "      <td>21</td>\n",
       "      <td>1</td>\n",
       "    </tr>\n",
       "  </tbody>\n",
       "</table>\n",
       "<p>16000 rows × 4 columns</p>\n",
       "</div>"
      ],
      "text/plain": [
       "    year  label  pred_year  pred_B/M\n",
       "0     14      0         14         0\n",
       "0     14      0         14         0\n",
       "0     14      0         14         0\n",
       "0     14      0         14         0\n",
       "0     14      0         14         0\n",
       "..   ...    ...        ...       ...\n",
       "0     21      1         21         1\n",
       "0     21      1         21         1\n",
       "0     21      1         21         1\n",
       "0     21      1         21         1\n",
       "0     21      1         21         1\n",
       "\n",
       "[16000 rows x 4 columns]"
      ]
     },
     "execution_count": 28,
     "metadata": {},
     "output_type": "execute_result"
    }
   ],
   "source": [
    "bresult_df"
   ]
  },
  {
   "cell_type": "code",
   "execution_count": 29,
   "id": "161b93fe",
   "metadata": {
    "ExecuteTime": {
     "end_time": "2023-01-29T18:35:37.483793Z",
     "start_time": "2023-01-29T18:35:37.477724Z"
    }
   },
   "outputs": [
    {
     "data": {
      "text/plain": [
       "0.748875"
      ]
     },
     "execution_count": 29,
     "metadata": {},
     "output_type": "execute_result"
    }
   ],
   "source": [
    "accuracy_score(bresult_df[\"year\"],bresult_df[\"pred_year\"])"
   ]
  },
  {
   "cell_type": "code",
   "execution_count": 30,
   "id": "311288a0",
   "metadata": {
    "ExecuteTime": {
     "end_time": "2023-01-29T18:35:38.104338Z",
     "start_time": "2023-01-29T18:35:38.102213Z"
    }
   },
   "outputs": [],
   "source": [
    "# f1_score(bresult_df[\"year\"],bresult_df[\"pred_year\"])"
   ]
  },
  {
   "cell_type": "code",
   "execution_count": 31,
   "id": "5851df8e",
   "metadata": {
    "ExecuteTime": {
     "end_time": "2023-01-29T18:35:38.543496Z",
     "start_time": "2023-01-29T18:35:38.538959Z"
    }
   },
   "outputs": [
    {
     "data": {
      "text/plain": [
       "0.9706875"
      ]
     },
     "execution_count": 31,
     "metadata": {},
     "output_type": "execute_result"
    }
   ],
   "source": [
    "accuracy_score(bresult_df[\"label\"],bresult_df[\"pred_B/M\"])"
   ]
  },
  {
   "cell_type": "code",
   "execution_count": 32,
   "id": "f0f90ba5",
   "metadata": {
    "ExecuteTime": {
     "end_time": "2023-01-29T18:35:39.100695Z",
     "start_time": "2023-01-29T18:35:39.094091Z"
    }
   },
   "outputs": [
    {
     "data": {
      "text/plain": [
       "0.970806100217865"
      ]
     },
     "execution_count": 32,
     "metadata": {},
     "output_type": "execute_result"
    }
   ],
   "source": [
    "f1_score(bresult_df[\"label\"],bresult_df[\"pred_B/M\"])"
   ]
  },
  {
   "cell_type": "code",
   "execution_count": null,
   "id": "f8c2b2c7",
   "metadata": {},
   "outputs": [],
   "source": []
  }
 ],
 "metadata": {
  "kernelspec": {
   "display_name": "Python 3 (ipykernel)",
   "language": "python",
   "name": "python3"
  },
  "language_info": {
   "codemirror_mode": {
    "name": "ipython",
    "version": 3
   },
   "file_extension": ".py",
   "mimetype": "text/x-python",
   "name": "python",
   "nbconvert_exporter": "python",
   "pygments_lexer": "ipython3",
   "version": "3.8.10"
  },
  "toc": {
   "base_numbering": 1,
   "nav_menu": {},
   "number_sections": true,
   "sideBar": true,
   "skip_h1_title": false,
   "title_cell": "Table of Contents",
   "title_sidebar": "Contents",
   "toc_cell": false,
   "toc_position": {},
   "toc_section_display": true,
   "toc_window_display": false
  },
  "varInspector": {
   "cols": {
    "lenName": 16,
    "lenType": 16,
    "lenVar": 40
   },
   "kernels_config": {
    "python": {
     "delete_cmd_postfix": "",
     "delete_cmd_prefix": "del ",
     "library": "var_list.py",
     "varRefreshCmd": "print(var_dic_list())"
    },
    "r": {
     "delete_cmd_postfix": ") ",
     "delete_cmd_prefix": "rm(",
     "library": "var_list.r",
     "varRefreshCmd": "cat(var_dic_list()) "
    }
   },
   "types_to_exclude": [
    "module",
    "function",
    "builtin_function_or_method",
    "instance",
    "_Feature"
   ],
   "window_display": false
  }
 },
 "nbformat": 4,
 "nbformat_minor": 5
}
